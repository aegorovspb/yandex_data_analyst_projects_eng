{
 "cells": [
  {
   "cell_type": "markdown",
   "metadata": {},
   "source": [
    "**Project - Book Business**\n",
    "\n",
    "**Objective of the project:**\n",
    "\n",
    "We need to analyze the data. Data structure\n",
    "- book information\n",
    "- information about publishers\n",
    "- information about the authors\n",
    "- custom book reviews\n",
    "\n",
    "**Initial data:**\n",
    "\n",
    "Database containing tables: books, authors, publishers, ratings, and reviews."
   ]
  },
  {
   "cell_type": "markdown",
   "metadata": {},
   "source": [
    "**Tasks**\n",
    "- Count how many books have been published since January 1, 2000;\n",
    "- For each book, count the number of reviews and the average rating;\n",
    "- Determine the publishing house that has released the largest number of books thicker than 50 pages - so you exclude brochures from the analysis;\n",
    "- Identify the author with the highest average book rating - consider only books with 50 or more ratings;\n",
    "- Calculate the average number of reviews from users who have given more than 50 ratings"
   ]
  },
  {
   "cell_type": "markdown",
   "metadata": {},
   "source": [
    "**Note:**\n",
    "\n",
    "The requests were made as part of a training project; connection to the database is possible only from the training environment provided by Yandex.Practice."
   ]
  },
  {
   "cell_type": "markdown",
   "metadata": {},
   "source": [
    "## Explore the tables - print the first rows"
   ]
  },
  {
   "cell_type": "code",
   "execution_count": 1,
   "metadata": {},
   "outputs": [],
   "source": [
    "# импортируем библиотеки\n",
    "import pandas as pd\n",
    "from sqlalchemy import create_engine\n",
    "# устанавливаем параметры\n",
    "db_config = {'user': 'praktikum_student', # имя пользователя\n",
    " 'pwd': 'Sdf4$2;d-d30pp', # пароль\n",
    " 'host': 'rc1b-wcoijxj3yxfsf3fs.mdb.yandexcloud.net',\n",
    " 'port': 6432, # порт подключения\n",
    " 'db': 'data-analyst-final-project-db'} # название базы данных\n",
    "connection_string = 'postgresql://{}:{}@{}:{}/{}'.format(db_config['user'],\n",
    " db_config['pwd'],\n",
    " db_config['host'],\n",
    " db_config['port'],\n",
    " db_config['db'])\n",
    "\n",
    "# сохраняем коннектор\n",
    "engine = create_engine(connection_string, connect_args={'sslmode':'require'}) "
   ]
  },
  {
   "cell_type": "code",
   "execution_count": 2,
   "metadata": {},
   "outputs": [
    {
     "data": {
      "text/html": [
       "<div>\n",
       "<style scoped>\n",
       "    .dataframe tbody tr th:only-of-type {\n",
       "        vertical-align: middle;\n",
       "    }\n",
       "\n",
       "    .dataframe tbody tr th {\n",
       "        vertical-align: top;\n",
       "    }\n",
       "\n",
       "    .dataframe thead th {\n",
       "        text-align: right;\n",
       "    }\n",
       "</style>\n",
       "<table border=\"1\" class=\"dataframe\">\n",
       "  <thead>\n",
       "    <tr style=\"text-align: right;\">\n",
       "      <th></th>\n",
       "      <th>book_id</th>\n",
       "      <th>author_id</th>\n",
       "      <th>title</th>\n",
       "      <th>num_pages</th>\n",
       "      <th>publication_date</th>\n",
       "      <th>publisher_id</th>\n",
       "    </tr>\n",
       "  </thead>\n",
       "  <tbody>\n",
       "    <tr>\n",
       "      <th>0</th>\n",
       "      <td>1</td>\n",
       "      <td>546</td>\n",
       "      <td>'Salem's Lot</td>\n",
       "      <td>594</td>\n",
       "      <td>2005-11-01</td>\n",
       "      <td>93</td>\n",
       "    </tr>\n",
       "    <tr>\n",
       "      <th>1</th>\n",
       "      <td>2</td>\n",
       "      <td>465</td>\n",
       "      <td>1 000 Places to See Before You Die</td>\n",
       "      <td>992</td>\n",
       "      <td>2003-05-22</td>\n",
       "      <td>336</td>\n",
       "    </tr>\n",
       "    <tr>\n",
       "      <th>2</th>\n",
       "      <td>3</td>\n",
       "      <td>407</td>\n",
       "      <td>13 Little Blue Envelopes (Little Blue Envelope...</td>\n",
       "      <td>322</td>\n",
       "      <td>2010-12-21</td>\n",
       "      <td>135</td>\n",
       "    </tr>\n",
       "  </tbody>\n",
       "</table>\n",
       "</div>"
      ],
      "text/plain": [
       "   book_id  author_id                                              title  \\\n",
       "0        1        546                                       'Salem's Lot   \n",
       "1        2        465                 1 000 Places to See Before You Die   \n",
       "2        3        407  13 Little Blue Envelopes (Little Blue Envelope...   \n",
       "\n",
       "   num_pages publication_date  publisher_id  \n",
       "0        594       2005-11-01            93  \n",
       "1        992       2003-05-22           336  \n",
       "2        322       2010-12-21           135  "
      ]
     },
     "execution_count": 2,
     "metadata": {},
     "output_type": "execute_result"
    }
   ],
   "source": [
    "query_1 = '''\n",
    "         SELECT *\n",
    "         FROM books\n",
    "\n",
    "        '''\n",
    "books = pd.io.sql.read_sql(query_1, con = engine)\n",
    "books.head(3)"
   ]
  },
  {
   "cell_type": "code",
   "execution_count": 3,
   "metadata": {},
   "outputs": [
    {
     "name": "stdout",
     "output_type": "stream",
     "text": [
      "<class 'pandas.core.frame.DataFrame'>\n",
      "RangeIndex: 1000 entries, 0 to 999\n",
      "Data columns (total 6 columns):\n",
      " #   Column            Non-Null Count  Dtype \n",
      "---  ------            --------------  ----- \n",
      " 0   book_id           1000 non-null   int64 \n",
      " 1   author_id         1000 non-null   int64 \n",
      " 2   title             1000 non-null   object\n",
      " 3   num_pages         1000 non-null   int64 \n",
      " 4   publication_date  1000 non-null   object\n",
      " 5   publisher_id      1000 non-null   int64 \n",
      "dtypes: int64(4), object(2)\n",
      "memory usage: 47.0+ KB\n"
     ]
    }
   ],
   "source": [
    "books.info()"
   ]
  },
  {
   "cell_type": "code",
   "execution_count": 4,
   "metadata": {},
   "outputs": [
    {
     "data": {
      "text/html": [
       "<div>\n",
       "<style scoped>\n",
       "    .dataframe tbody tr th:only-of-type {\n",
       "        vertical-align: middle;\n",
       "    }\n",
       "\n",
       "    .dataframe tbody tr th {\n",
       "        vertical-align: top;\n",
       "    }\n",
       "\n",
       "    .dataframe thead th {\n",
       "        text-align: right;\n",
       "    }\n",
       "</style>\n",
       "<table border=\"1\" class=\"dataframe\">\n",
       "  <thead>\n",
       "    <tr style=\"text-align: right;\">\n",
       "      <th></th>\n",
       "      <th>author_id</th>\n",
       "      <th>author</th>\n",
       "    </tr>\n",
       "  </thead>\n",
       "  <tbody>\n",
       "    <tr>\n",
       "      <th>0</th>\n",
       "      <td>1</td>\n",
       "      <td>A.S. Byatt</td>\n",
       "    </tr>\n",
       "    <tr>\n",
       "      <th>1</th>\n",
       "      <td>2</td>\n",
       "      <td>Aesop/Laura Harris/Laura Gibbs</td>\n",
       "    </tr>\n",
       "    <tr>\n",
       "      <th>2</th>\n",
       "      <td>3</td>\n",
       "      <td>Agatha Christie</td>\n",
       "    </tr>\n",
       "  </tbody>\n",
       "</table>\n",
       "</div>"
      ],
      "text/plain": [
       "   author_id                          author\n",
       "0          1                      A.S. Byatt\n",
       "1          2  Aesop/Laura Harris/Laura Gibbs\n",
       "2          3                 Agatha Christie"
      ]
     },
     "execution_count": 4,
     "metadata": {},
     "output_type": "execute_result"
    }
   ],
   "source": [
    "query_2 = '''\n",
    "         SELECT *\n",
    "         FROM authors\n",
    "\n",
    "        '''\n",
    "authors = pd.io.sql.read_sql(query_2, con = engine)\n",
    "authors.head(3)"
   ]
  },
  {
   "cell_type": "code",
   "execution_count": 5,
   "metadata": {},
   "outputs": [
    {
     "name": "stdout",
     "output_type": "stream",
     "text": [
      "<class 'pandas.core.frame.DataFrame'>\n",
      "RangeIndex: 636 entries, 0 to 635\n",
      "Data columns (total 2 columns):\n",
      " #   Column     Non-Null Count  Dtype \n",
      "---  ------     --------------  ----- \n",
      " 0   author_id  636 non-null    int64 \n",
      " 1   author     636 non-null    object\n",
      "dtypes: int64(1), object(1)\n",
      "memory usage: 10.1+ KB\n"
     ]
    }
   ],
   "source": [
    "authors.info()"
   ]
  },
  {
   "cell_type": "code",
   "execution_count": 6,
   "metadata": {},
   "outputs": [
    {
     "data": {
      "text/html": [
       "<div>\n",
       "<style scoped>\n",
       "    .dataframe tbody tr th:only-of-type {\n",
       "        vertical-align: middle;\n",
       "    }\n",
       "\n",
       "    .dataframe tbody tr th {\n",
       "        vertical-align: top;\n",
       "    }\n",
       "\n",
       "    .dataframe thead th {\n",
       "        text-align: right;\n",
       "    }\n",
       "</style>\n",
       "<table border=\"1\" class=\"dataframe\">\n",
       "  <thead>\n",
       "    <tr style=\"text-align: right;\">\n",
       "      <th></th>\n",
       "      <th>publisher_id</th>\n",
       "      <th>publisher</th>\n",
       "    </tr>\n",
       "  </thead>\n",
       "  <tbody>\n",
       "    <tr>\n",
       "      <th>0</th>\n",
       "      <td>1</td>\n",
       "      <td>Ace</td>\n",
       "    </tr>\n",
       "    <tr>\n",
       "      <th>1</th>\n",
       "      <td>2</td>\n",
       "      <td>Ace Book</td>\n",
       "    </tr>\n",
       "    <tr>\n",
       "      <th>2</th>\n",
       "      <td>3</td>\n",
       "      <td>Ace Books</td>\n",
       "    </tr>\n",
       "  </tbody>\n",
       "</table>\n",
       "</div>"
      ],
      "text/plain": [
       "   publisher_id  publisher\n",
       "0             1        Ace\n",
       "1             2   Ace Book\n",
       "2             3  Ace Books"
      ]
     },
     "execution_count": 6,
     "metadata": {},
     "output_type": "execute_result"
    }
   ],
   "source": [
    "query_3 = '''\n",
    "         SELECT *\n",
    "         FROM publishers\n",
    "\n",
    "        '''\n",
    "publishers = pd.io.sql.read_sql(query_3, con = engine)\n",
    "publishers.head(3)"
   ]
  },
  {
   "cell_type": "code",
   "execution_count": 7,
   "metadata": {},
   "outputs": [
    {
     "name": "stdout",
     "output_type": "stream",
     "text": [
      "<class 'pandas.core.frame.DataFrame'>\n",
      "RangeIndex: 340 entries, 0 to 339\n",
      "Data columns (total 2 columns):\n",
      " #   Column        Non-Null Count  Dtype \n",
      "---  ------        --------------  ----- \n",
      " 0   publisher_id  340 non-null    int64 \n",
      " 1   publisher     340 non-null    object\n",
      "dtypes: int64(1), object(1)\n",
      "memory usage: 5.4+ KB\n"
     ]
    }
   ],
   "source": [
    "publishers.info()"
   ]
  },
  {
   "cell_type": "code",
   "execution_count": 8,
   "metadata": {},
   "outputs": [
    {
     "data": {
      "text/html": [
       "<div>\n",
       "<style scoped>\n",
       "    .dataframe tbody tr th:only-of-type {\n",
       "        vertical-align: middle;\n",
       "    }\n",
       "\n",
       "    .dataframe tbody tr th {\n",
       "        vertical-align: top;\n",
       "    }\n",
       "\n",
       "    .dataframe thead th {\n",
       "        text-align: right;\n",
       "    }\n",
       "</style>\n",
       "<table border=\"1\" class=\"dataframe\">\n",
       "  <thead>\n",
       "    <tr style=\"text-align: right;\">\n",
       "      <th></th>\n",
       "      <th>rating_id</th>\n",
       "      <th>book_id</th>\n",
       "      <th>username</th>\n",
       "      <th>rating</th>\n",
       "    </tr>\n",
       "  </thead>\n",
       "  <tbody>\n",
       "    <tr>\n",
       "      <th>0</th>\n",
       "      <td>1</td>\n",
       "      <td>1</td>\n",
       "      <td>ryanfranco</td>\n",
       "      <td>4</td>\n",
       "    </tr>\n",
       "    <tr>\n",
       "      <th>1</th>\n",
       "      <td>2</td>\n",
       "      <td>1</td>\n",
       "      <td>grantpatricia</td>\n",
       "      <td>2</td>\n",
       "    </tr>\n",
       "    <tr>\n",
       "      <th>2</th>\n",
       "      <td>3</td>\n",
       "      <td>1</td>\n",
       "      <td>brandtandrea</td>\n",
       "      <td>5</td>\n",
       "    </tr>\n",
       "  </tbody>\n",
       "</table>\n",
       "</div>"
      ],
      "text/plain": [
       "   rating_id  book_id       username  rating\n",
       "0          1        1     ryanfranco       4\n",
       "1          2        1  grantpatricia       2\n",
       "2          3        1   brandtandrea       5"
      ]
     },
     "execution_count": 8,
     "metadata": {},
     "output_type": "execute_result"
    }
   ],
   "source": [
    "query_4 = '''\n",
    "         SELECT *\n",
    "         FROM ratings\n",
    "\n",
    "        '''\n",
    "ratings = pd.io.sql.read_sql(query_4, con = engine)\n",
    "ratings.head(3)"
   ]
  },
  {
   "cell_type": "code",
   "execution_count": 9,
   "metadata": {},
   "outputs": [
    {
     "name": "stdout",
     "output_type": "stream",
     "text": [
      "<class 'pandas.core.frame.DataFrame'>\n",
      "RangeIndex: 6456 entries, 0 to 6455\n",
      "Data columns (total 4 columns):\n",
      " #   Column     Non-Null Count  Dtype \n",
      "---  ------     --------------  ----- \n",
      " 0   rating_id  6456 non-null   int64 \n",
      " 1   book_id    6456 non-null   int64 \n",
      " 2   username   6456 non-null   object\n",
      " 3   rating     6456 non-null   int64 \n",
      "dtypes: int64(3), object(1)\n",
      "memory usage: 201.9+ KB\n"
     ]
    }
   ],
   "source": [
    "ratings.info()"
   ]
  },
  {
   "cell_type": "code",
   "execution_count": 10,
   "metadata": {},
   "outputs": [
    {
     "data": {
      "text/html": [
       "<div>\n",
       "<style scoped>\n",
       "    .dataframe tbody tr th:only-of-type {\n",
       "        vertical-align: middle;\n",
       "    }\n",
       "\n",
       "    .dataframe tbody tr th {\n",
       "        vertical-align: top;\n",
       "    }\n",
       "\n",
       "    .dataframe thead th {\n",
       "        text-align: right;\n",
       "    }\n",
       "</style>\n",
       "<table border=\"1\" class=\"dataframe\">\n",
       "  <thead>\n",
       "    <tr style=\"text-align: right;\">\n",
       "      <th></th>\n",
       "      <th>review_id</th>\n",
       "      <th>book_id</th>\n",
       "      <th>username</th>\n",
       "      <th>text</th>\n",
       "    </tr>\n",
       "  </thead>\n",
       "  <tbody>\n",
       "    <tr>\n",
       "      <th>0</th>\n",
       "      <td>1</td>\n",
       "      <td>1</td>\n",
       "      <td>brandtandrea</td>\n",
       "      <td>Mention society tell send professor analysis. ...</td>\n",
       "    </tr>\n",
       "    <tr>\n",
       "      <th>1</th>\n",
       "      <td>2</td>\n",
       "      <td>1</td>\n",
       "      <td>ryanfranco</td>\n",
       "      <td>Foot glass pretty audience hit themselves. Amo...</td>\n",
       "    </tr>\n",
       "    <tr>\n",
       "      <th>2</th>\n",
       "      <td>3</td>\n",
       "      <td>2</td>\n",
       "      <td>lorichen</td>\n",
       "      <td>Listen treat keep worry. Miss husband tax but ...</td>\n",
       "    </tr>\n",
       "  </tbody>\n",
       "</table>\n",
       "</div>"
      ],
      "text/plain": [
       "   review_id  book_id      username  \\\n",
       "0          1        1  brandtandrea   \n",
       "1          2        1    ryanfranco   \n",
       "2          3        2      lorichen   \n",
       "\n",
       "                                                text  \n",
       "0  Mention society tell send professor analysis. ...  \n",
       "1  Foot glass pretty audience hit themselves. Amo...  \n",
       "2  Listen treat keep worry. Miss husband tax but ...  "
      ]
     },
     "execution_count": 10,
     "metadata": {},
     "output_type": "execute_result"
    }
   ],
   "source": [
    "query_5 = '''\n",
    "         SELECT *\n",
    "         FROM reviews\n",
    "\n",
    "        '''\n",
    "reviews = pd.io.sql.read_sql(query_5, con = engine)\n",
    "reviews.head(3)"
   ]
  },
  {
   "cell_type": "code",
   "execution_count": 11,
   "metadata": {},
   "outputs": [
    {
     "name": "stdout",
     "output_type": "stream",
     "text": [
      "<class 'pandas.core.frame.DataFrame'>\n",
      "RangeIndex: 2793 entries, 0 to 2792\n",
      "Data columns (total 4 columns):\n",
      " #   Column     Non-Null Count  Dtype \n",
      "---  ------     --------------  ----- \n",
      " 0   review_id  2793 non-null   int64 \n",
      " 1   book_id    2793 non-null   int64 \n",
      " 2   username   2793 non-null   object\n",
      " 3   text       2793 non-null   object\n",
      "dtypes: int64(2), object(2)\n",
      "memory usage: 87.4+ KB\n"
     ]
    }
   ],
   "source": [
    "reviews.info()"
   ]
  },
  {
   "cell_type": "markdown",
   "metadata": {},
   "source": [
    "Conclusions:\n",
    "- all data loaded\n",
    "- no data type issues\n",
    "- no passes"
   ]
  },
  {
   "cell_type": "markdown",
   "metadata": {},
   "source": [
    "## Let's make one SQL query to solve each task"
   ]
  },
  {
   "cell_type": "markdown",
   "metadata": {},
   "source": [
    "### Let's count how many books have been published since January 1, 2000"
   ]
  },
  {
   "cell_type": "code",
   "execution_count": 12,
   "metadata": {},
   "outputs": [
    {
     "data": {
      "text/html": [
       "<div>\n",
       "<style scoped>\n",
       "    .dataframe tbody tr th:only-of-type {\n",
       "        vertical-align: middle;\n",
       "    }\n",
       "\n",
       "    .dataframe tbody tr th {\n",
       "        vertical-align: top;\n",
       "    }\n",
       "\n",
       "    .dataframe thead th {\n",
       "        text-align: right;\n",
       "    }\n",
       "</style>\n",
       "<table border=\"1\" class=\"dataframe\">\n",
       "  <thead>\n",
       "    <tr style=\"text-align: right;\">\n",
       "      <th></th>\n",
       "      <th>number_of_books</th>\n",
       "    </tr>\n",
       "  </thead>\n",
       "  <tbody>\n",
       "    <tr>\n",
       "      <th>0</th>\n",
       "      <td>819</td>\n",
       "    </tr>\n",
       "  </tbody>\n",
       "</table>\n",
       "</div>"
      ],
      "text/plain": [
       "   number_of_books\n",
       "0              819"
      ]
     },
     "execution_count": 12,
     "metadata": {},
     "output_type": "execute_result"
    }
   ],
   "source": [
    "query_6 = '''\n",
    "         SELECT COUNT(book_id) AS number_of_books\n",
    "         FROM books\n",
    "         WHERE publication_date > '2000-01-01'\n",
    "        '''\n",
    "number_of_books_after_01_01_2000 = pd.io.sql.read_sql(query_6, con = engine)\n",
    "number_of_books_after_01_01_2000"
   ]
  },
  {
   "cell_type": "markdown",
   "metadata": {},
   "source": [
    "since January 1, 2000, 819 books have been published"
   ]
  },
  {
   "cell_type": "markdown",
   "metadata": {},
   "source": [
    "### Let's count for each book the number of reviews and the average rating"
   ]
  },
  {
   "cell_type": "code",
   "execution_count": 13,
   "metadata": {},
   "outputs": [
    {
     "data": {
      "text/html": [
       "<div>\n",
       "<style scoped>\n",
       "    .dataframe tbody tr th:only-of-type {\n",
       "        vertical-align: middle;\n",
       "    }\n",
       "\n",
       "    .dataframe tbody tr th {\n",
       "        vertical-align: top;\n",
       "    }\n",
       "\n",
       "    .dataframe thead th {\n",
       "        text-align: right;\n",
       "    }\n",
       "</style>\n",
       "<table border=\"1\" class=\"dataframe\">\n",
       "  <thead>\n",
       "    <tr style=\"text-align: right;\">\n",
       "      <th></th>\n",
       "      <th>book_id</th>\n",
       "      <th>title</th>\n",
       "      <th>number_of_reviews</th>\n",
       "      <th>avg_rating</th>\n",
       "    </tr>\n",
       "  </thead>\n",
       "  <tbody>\n",
       "    <tr>\n",
       "      <th>0</th>\n",
       "      <td>17</td>\n",
       "      <td>A Dirty Job (Grim Reaper  #1)</td>\n",
       "      <td>4</td>\n",
       "      <td>5.00</td>\n",
       "    </tr>\n",
       "    <tr>\n",
       "      <th>1</th>\n",
       "      <td>553</td>\n",
       "      <td>School's Out—Forever (Maximum Ride  #2)</td>\n",
       "      <td>3</td>\n",
       "      <td>5.00</td>\n",
       "    </tr>\n",
       "    <tr>\n",
       "      <th>2</th>\n",
       "      <td>444</td>\n",
       "      <td>Moneyball: The Art of Winning an Unfair Game</td>\n",
       "      <td>3</td>\n",
       "      <td>5.00</td>\n",
       "    </tr>\n",
       "    <tr>\n",
       "      <th>3</th>\n",
       "      <td>86</td>\n",
       "      <td>Arrows of the Queen (Heralds of Valdemar  #1)</td>\n",
       "      <td>2</td>\n",
       "      <td>5.00</td>\n",
       "    </tr>\n",
       "    <tr>\n",
       "      <th>4</th>\n",
       "      <td>972</td>\n",
       "      <td>Wherever You Go  There You Are: Mindfulness Me...</td>\n",
       "      <td>2</td>\n",
       "      <td>5.00</td>\n",
       "    </tr>\n",
       "    <tr>\n",
       "      <th>...</th>\n",
       "      <td>...</td>\n",
       "      <td>...</td>\n",
       "      <td>...</td>\n",
       "      <td>...</td>\n",
       "    </tr>\n",
       "    <tr>\n",
       "      <th>995</th>\n",
       "      <td>915</td>\n",
       "      <td>The World Is Flat: A Brief History of the Twen...</td>\n",
       "      <td>3</td>\n",
       "      <td>2.25</td>\n",
       "    </tr>\n",
       "    <tr>\n",
       "      <th>996</th>\n",
       "      <td>202</td>\n",
       "      <td>Drowning Ruth</td>\n",
       "      <td>3</td>\n",
       "      <td>2.00</td>\n",
       "    </tr>\n",
       "    <tr>\n",
       "      <th>997</th>\n",
       "      <td>316</td>\n",
       "      <td>His Excellency: George Washington</td>\n",
       "      <td>2</td>\n",
       "      <td>2.00</td>\n",
       "    </tr>\n",
       "    <tr>\n",
       "      <th>998</th>\n",
       "      <td>371</td>\n",
       "      <td>Junky</td>\n",
       "      <td>2</td>\n",
       "      <td>2.00</td>\n",
       "    </tr>\n",
       "    <tr>\n",
       "      <th>999</th>\n",
       "      <td>303</td>\n",
       "      <td>Harvesting the Heart</td>\n",
       "      <td>2</td>\n",
       "      <td>1.50</td>\n",
       "    </tr>\n",
       "  </tbody>\n",
       "</table>\n",
       "<p>1000 rows × 4 columns</p>\n",
       "</div>"
      ],
      "text/plain": [
       "     book_id                                              title  \\\n",
       "0         17                      A Dirty Job (Grim Reaper  #1)   \n",
       "1        553            School's Out—Forever (Maximum Ride  #2)   \n",
       "2        444       Moneyball: The Art of Winning an Unfair Game   \n",
       "3         86      Arrows of the Queen (Heralds of Valdemar  #1)   \n",
       "4        972  Wherever You Go  There You Are: Mindfulness Me...   \n",
       "..       ...                                                ...   \n",
       "995      915  The World Is Flat: A Brief History of the Twen...   \n",
       "996      202                                      Drowning Ruth   \n",
       "997      316                  His Excellency: George Washington   \n",
       "998      371                                              Junky   \n",
       "999      303                               Harvesting the Heart   \n",
       "\n",
       "     number_of_reviews  avg_rating  \n",
       "0                    4        5.00  \n",
       "1                    3        5.00  \n",
       "2                    3        5.00  \n",
       "3                    2        5.00  \n",
       "4                    2        5.00  \n",
       "..                 ...         ...  \n",
       "995                  3        2.25  \n",
       "996                  3        2.00  \n",
       "997                  2        2.00  \n",
       "998                  2        2.00  \n",
       "999                  2        1.50  \n",
       "\n",
       "[1000 rows x 4 columns]"
      ]
     },
     "execution_count": 13,
     "metadata": {},
     "output_type": "execute_result"
    }
   ],
   "source": [
    "query_7 = '''\n",
    "SELECT \n",
    "    books.book_id, \n",
    "    books.title, \n",
    "    COUNT(DISTINCT review_id) AS number_of_reviews,\n",
    "    AVG (rating) AS avg_rating\n",
    "FROM \n",
    "    books\n",
    "    LEFT JOIN reviews ON reviews.book_id = books.book_id\n",
    "    LEFT JOIN ratings ON ratings.book_id = books.book_id\n",
    "GROUP BY books.book_id\n",
    "         ORDER BY avg_rating DESC, number_of_reviews DESC\n",
    "        '''\n",
    "number_of_reviews_and_rating = pd.io.sql.read_sql(query_7, con = engine)\n",
    "number_of_reviews_and_rating\n"
   ]
  },
  {
   "cell_type": "markdown",
   "metadata": {},
   "source": [
    "Conclusions: The biggest average rating is 5.0"
   ]
  },
  {
   "cell_type": "markdown",
   "metadata": {},
   "source": [
    "### Let's find the publisher that has released the most books that are over 50 pages."
   ]
  },
  {
   "cell_type": "code",
   "execution_count": 14,
   "metadata": {},
   "outputs": [
    {
     "data": {
      "text/html": [
       "<div>\n",
       "<style scoped>\n",
       "    .dataframe tbody tr th:only-of-type {\n",
       "        vertical-align: middle;\n",
       "    }\n",
       "\n",
       "    .dataframe tbody tr th {\n",
       "        vertical-align: top;\n",
       "    }\n",
       "\n",
       "    .dataframe thead th {\n",
       "        text-align: right;\n",
       "    }\n",
       "</style>\n",
       "<table border=\"1\" class=\"dataframe\">\n",
       "  <thead>\n",
       "    <tr style=\"text-align: right;\">\n",
       "      <th></th>\n",
       "      <th>publisher_id</th>\n",
       "      <th>publisher</th>\n",
       "      <th>number_of_books</th>\n",
       "    </tr>\n",
       "  </thead>\n",
       "  <tbody>\n",
       "    <tr>\n",
       "      <th>0</th>\n",
       "      <td>212</td>\n",
       "      <td>Penguin Books</td>\n",
       "      <td>42</td>\n",
       "    </tr>\n",
       "  </tbody>\n",
       "</table>\n",
       "</div>"
      ],
      "text/plain": [
       "   publisher_id      publisher  number_of_books\n",
       "0           212  Penguin Books               42"
      ]
     },
     "execution_count": 14,
     "metadata": {},
     "output_type": "execute_result"
    }
   ],
   "source": [
    "query_8 = '''\n",
    "         SELECT publishers.publisher_id, publishers.publisher, COUNT(books.book_id) as number_of_books\n",
    "         FROM publishers\n",
    "         JOIN books ON publishers.publisher_id = books.publisher_id\n",
    "         WHERE books.num_pages > 50\n",
    "         GROUP BY publishers.publisher_id\n",
    "         ORDER BY number_of_books DESC\n",
    "         LIMIT 1\n",
    "        '''\n",
    "pd.io.sql.read_sql(query_8, con = engine)"
   ]
  },
  {
   "cell_type": "markdown",
   "metadata": {},
   "source": [
    "Conclusion: Penguin Books (publisher_id = 212) has published 42 books, the number of pages is more than 50."
   ]
  },
  {
   "cell_type": "markdown",
   "metadata": {},
   "source": [
    "### Let's find the author with the highest average book rating. For a book with 50 or more ratings"
   ]
  },
  {
   "cell_type": "code",
   "execution_count": 15,
   "metadata": {},
   "outputs": [
    {
     "data": {
      "text/html": [
       "<div>\n",
       "<style scoped>\n",
       "    .dataframe tbody tr th:only-of-type {\n",
       "        vertical-align: middle;\n",
       "    }\n",
       "\n",
       "    .dataframe tbody tr th {\n",
       "        vertical-align: top;\n",
       "    }\n",
       "\n",
       "    .dataframe thead th {\n",
       "        text-align: right;\n",
       "    }\n",
       "</style>\n",
       "<table border=\"1\" class=\"dataframe\">\n",
       "  <thead>\n",
       "    <tr style=\"text-align: right;\">\n",
       "      <th></th>\n",
       "      <th>author_id</th>\n",
       "      <th>author</th>\n",
       "      <th>avg_rating_total</th>\n",
       "    </tr>\n",
       "  </thead>\n",
       "  <tbody>\n",
       "    <tr>\n",
       "      <th>0</th>\n",
       "      <td>236</td>\n",
       "      <td>J.K. Rowling/Mary GrandPré</td>\n",
       "      <td>4.283844</td>\n",
       "    </tr>\n",
       "  </tbody>\n",
       "</table>\n",
       "</div>"
      ],
      "text/plain": [
       "   author_id                      author  avg_rating_total\n",
       "0        236  J.K. Rowling/Mary GrandPré          4.283844"
      ]
     },
     "execution_count": 15,
     "metadata": {},
     "output_type": "execute_result"
    }
   ],
   "source": [
    "query_9 = '''\n",
    "         SELECT authors.author_id, authors.author, AVG(avg_rating) AS avg_rating_total\n",
    "         FROM authors\n",
    "         JOIN books ON books.author_id = authors.author_id\n",
    "         JOIN(\n",
    "             SELECT books.book_id, books.title, COUNT(rating_id) AS number_of_ratings, AVG (rating) AS avg_rating\n",
    "             FROM books\n",
    "             JOIN ratings ON ratings.book_id = books.book_id\n",
    "             GROUP BY books.book_id, books.title) AS subq ON subq.book_id = books.book_id\n",
    "         WHERE number_of_ratings >= 50\n",
    "         GROUP BY authors.author_id, authors.author\n",
    "         ORDER BY avg_rating_total DESC\n",
    "         LIMIT 1\n",
    "        '''\n",
    "pd.io.sql.read_sql(query_9, con = engine)"
   ]
  },
  {
   "cell_type": "markdown",
   "metadata": {},
   "source": [
    "Conclusion: The author with the highest average book rating (among authors with 50 or more ratings) is J.K. Rowling/Mary GrandPré (author_id = 236), her average book rating is 4.28"
   ]
  },
  {
   "cell_type": "markdown",
   "metadata": {},
   "source": [
    "### Let's find the average number of reviews from users who have given more than 50 ratings."
   ]
  },
  {
   "cell_type": "code",
   "execution_count": 16,
   "metadata": {},
   "outputs": [
    {
     "data": {
      "text/html": [
       "<div>\n",
       "<style scoped>\n",
       "    .dataframe tbody tr th:only-of-type {\n",
       "        vertical-align: middle;\n",
       "    }\n",
       "\n",
       "    .dataframe tbody tr th {\n",
       "        vertical-align: top;\n",
       "    }\n",
       "\n",
       "    .dataframe thead th {\n",
       "        text-align: right;\n",
       "    }\n",
       "</style>\n",
       "<table border=\"1\" class=\"dataframe\">\n",
       "  <thead>\n",
       "    <tr style=\"text-align: right;\">\n",
       "      <th></th>\n",
       "      <th>avg</th>\n",
       "    </tr>\n",
       "  </thead>\n",
       "  <tbody>\n",
       "    <tr>\n",
       "      <th>0</th>\n",
       "      <td>24.333333</td>\n",
       "    </tr>\n",
       "  </tbody>\n",
       "</table>\n",
       "</div>"
      ],
      "text/plain": [
       "         avg\n",
       "0  24.333333"
      ]
     },
     "execution_count": 16,
     "metadata": {},
     "output_type": "execute_result"
    }
   ],
   "source": [
    "query_13 = '''\n",
    "     SELECT AVG(count)\n",
    "     FROM (\n",
    "         SELECT reviews.username, COUNT(reviews.review_id)\n",
    "         FROM reviews\n",
    "         JOIN (\n",
    "                 SELECT *\n",
    "         FROM\n",
    "         (SELECT ratings.username, COUNT(ratings.rating_id) as number_of_ratings\n",
    "         FROM ratings\n",
    "         GROUP BY ratings.username\n",
    "         ORDER BY number_of_ratings DESC\n",
    "         ) AS subq\n",
    "         WHERE number_of_ratings > 50\n",
    "         ) AS subq_2 ON subq_2.username = reviews.username\n",
    "         GROUP BY reviews.username\n",
    "         ) AS subq_3\n",
    "     '''\n",
    "pd.io.sql.read_sql(query_13, con = engine)"
   ]
  },
  {
   "cell_type": "markdown",
   "metadata": {},
   "source": [
    "Conclusion: the average number of reviews by users who gave more than 50 ratings is 24.3"
   ]
  },
  {
   "cell_type": "code",
   "execution_count": null,
   "metadata": {},
   "outputs": [],
   "source": []
  }
 ],
 "metadata": {
  "ExecuteTimeLog": [
   {
    "duration": 4,
    "start_time": "2022-08-27T08:37:35.519Z"
   },
   {
    "duration": 73,
    "start_time": "2022-08-27T08:38:05.018Z"
   },
   {
    "duration": 6,
    "start_time": "2022-08-27T08:38:10.807Z"
   },
   {
    "duration": 73,
    "start_time": "2022-08-27T08:38:20.289Z"
   },
   {
    "duration": 12,
    "start_time": "2022-08-27T08:38:29.279Z"
   },
   {
    "duration": 14,
    "start_time": "2022-08-27T08:39:08.198Z"
   },
   {
    "duration": 11,
    "start_time": "2022-08-27T08:39:12.698Z"
   },
   {
    "duration": 11,
    "start_time": "2022-08-27T08:39:20.619Z"
   },
   {
    "duration": 16,
    "start_time": "2022-08-27T08:39:43.378Z"
   },
   {
    "duration": 10,
    "start_time": "2022-08-27T08:39:53.567Z"
   },
   {
    "duration": 21,
    "start_time": "2022-08-27T08:40:14.989Z"
   },
   {
    "duration": 11,
    "start_time": "2022-08-27T08:40:27.938Z"
   },
   {
    "duration": 13,
    "start_time": "2022-08-27T08:40:54.191Z"
   },
   {
    "duration": 11,
    "start_time": "2022-08-27T08:41:01.589Z"
   },
   {
    "duration": 12,
    "start_time": "2022-08-27T08:43:00.866Z"
   },
   {
    "duration": 3,
    "start_time": "2022-08-27T08:44:07.558Z"
   },
   {
    "duration": 31,
    "start_time": "2022-08-27T08:44:31.747Z"
   },
   {
    "duration": 30,
    "start_time": "2022-08-27T08:53:30.730Z"
   },
   {
    "duration": 10,
    "start_time": "2022-08-27T08:53:53.797Z"
   },
   {
    "duration": 111,
    "start_time": "2022-08-27T08:54:10.198Z"
   },
   {
    "duration": 3,
    "start_time": "2022-08-27T08:54:53.588Z"
   },
   {
    "duration": 19,
    "start_time": "2022-08-27T08:58:44.960Z"
   },
   {
    "duration": 11,
    "start_time": "2022-08-27T08:58:49.711Z"
   },
   {
    "duration": 13,
    "start_time": "2022-08-27T08:59:12.361Z"
   },
   {
    "duration": 10,
    "start_time": "2022-08-27T08:59:14.841Z"
   },
   {
    "duration": 12,
    "start_time": "2022-08-27T08:59:23.781Z"
   },
   {
    "duration": 11,
    "start_time": "2022-08-27T08:59:25.871Z"
   },
   {
    "duration": 32,
    "start_time": "2022-08-27T08:59:30.609Z"
   },
   {
    "duration": 24,
    "start_time": "2022-08-27T08:59:36.350Z"
   },
   {
    "duration": 10,
    "start_time": "2022-08-27T08:59:38.845Z"
   },
   {
    "duration": 18,
    "start_time": "2022-08-27T08:59:48.310Z"
   },
   {
    "duration": 11,
    "start_time": "2022-08-27T08:59:50.320Z"
   },
   {
    "duration": 28,
    "start_time": "2022-08-27T09:01:49.519Z"
   },
   {
    "duration": 31,
    "start_time": "2022-08-27T09:02:02.311Z"
   },
   {
    "duration": 28,
    "start_time": "2022-08-27T09:03:48.700Z"
   },
   {
    "duration": 36,
    "start_time": "2022-08-27T09:04:25.061Z"
   },
   {
    "duration": 35,
    "start_time": "2022-08-27T09:04:34.330Z"
   },
   {
    "duration": 31,
    "start_time": "2022-08-27T09:06:03.881Z"
   },
   {
    "duration": 75,
    "start_time": "2022-08-27T09:07:25.009Z"
   },
   {
    "duration": 2,
    "start_time": "2022-08-27T09:07:39.331Z"
   },
   {
    "duration": 27,
    "start_time": "2022-08-27T09:09:37.216Z"
   },
   {
    "duration": 28,
    "start_time": "2022-08-27T09:09:48.289Z"
   },
   {
    "duration": 3,
    "start_time": "2022-08-27T09:10:50.890Z"
   },
   {
    "duration": 27,
    "start_time": "2022-08-27T09:17:03.816Z"
   },
   {
    "duration": 3,
    "start_time": "2022-08-27T09:17:26.647Z"
   },
   {
    "duration": 3,
    "start_time": "2022-08-27T09:17:43.630Z"
   },
   {
    "duration": 13,
    "start_time": "2022-08-27T09:18:33.596Z"
   },
   {
    "duration": 76,
    "start_time": "2022-08-27T09:18:58.455Z"
   },
   {
    "duration": 16,
    "start_time": "2022-08-27T09:19:43.905Z"
   },
   {
    "duration": 14,
    "start_time": "2022-08-27T09:20:58.345Z"
   },
   {
    "duration": 93,
    "start_time": "2022-08-27T09:21:20.514Z"
   },
   {
    "duration": 73,
    "start_time": "2022-08-27T09:22:36.817Z"
   },
   {
    "duration": 27,
    "start_time": "2022-08-27T09:35:53.639Z"
   },
   {
    "duration": 27,
    "start_time": "2022-08-27T09:36:46.966Z"
   },
   {
    "duration": 26,
    "start_time": "2022-08-27T09:36:54.326Z"
   },
   {
    "duration": 52,
    "start_time": "2022-08-27T13:11:00.806Z"
   },
   {
    "duration": 7210,
    "start_time": "2022-08-27T13:11:04.711Z"
   },
   {
    "duration": 265,
    "start_time": "2022-08-27T13:11:11.923Z"
   },
   {
    "duration": 11,
    "start_time": "2022-08-27T13:11:12.190Z"
   },
   {
    "duration": 75,
    "start_time": "2022-08-27T13:11:12.203Z"
   },
   {
    "duration": 10,
    "start_time": "2022-08-27T13:11:12.281Z"
   },
   {
    "duration": 82,
    "start_time": "2022-08-27T13:11:12.293Z"
   },
   {
    "duration": 9,
    "start_time": "2022-08-27T13:11:12.377Z"
   },
   {
    "duration": 109,
    "start_time": "2022-08-27T13:11:12.388Z"
   },
   {
    "duration": 11,
    "start_time": "2022-08-27T13:11:12.498Z"
   },
   {
    "duration": 90,
    "start_time": "2022-08-27T13:11:12.511Z"
   },
   {
    "duration": 10,
    "start_time": "2022-08-27T13:11:12.603Z"
   },
   {
    "duration": 75,
    "start_time": "2022-08-27T13:11:12.615Z"
   },
   {
    "duration": 90,
    "start_time": "2022-08-27T13:11:12.692Z"
   },
   {
    "duration": 3,
    "start_time": "2022-08-27T13:11:12.785Z"
   },
   {
    "duration": 76,
    "start_time": "2022-08-27T13:11:12.791Z"
   },
   {
    "duration": 76,
    "start_time": "2022-08-27T13:11:12.868Z"
   },
   {
    "duration": 74,
    "start_time": "2022-08-27T13:11:12.945Z"
   },
   {
    "duration": 108,
    "start_time": "2022-08-27T13:11:41.223Z"
   },
   {
    "duration": 4,
    "start_time": "2022-08-27T13:13:10.398Z"
   },
   {
    "duration": 116,
    "start_time": "2022-08-27T13:15:10.664Z"
   },
   {
    "duration": 106,
    "start_time": "2022-08-27T13:15:30.897Z"
   },
   {
    "duration": 2,
    "start_time": "2022-08-27T13:16:07.326Z"
   },
   {
    "duration": 3,
    "start_time": "2022-08-27T13:16:37.097Z"
   },
   {
    "duration": 105,
    "start_time": "2022-08-27T13:17:28.116Z"
   },
   {
    "duration": 3,
    "start_time": "2022-08-27T13:17:40.584Z"
   },
   {
    "duration": 107,
    "start_time": "2022-08-27T13:18:24.506Z"
   },
   {
    "duration": 127,
    "start_time": "2022-08-27T13:18:56.126Z"
   },
   {
    "duration": 102,
    "start_time": "2022-08-27T13:20:24.186Z"
   },
   {
    "duration": 108,
    "start_time": "2022-08-27T13:21:40.658Z"
   },
   {
    "duration": 94,
    "start_time": "2022-08-27T13:22:39.714Z"
   },
   {
    "duration": 106,
    "start_time": "2022-08-27T13:22:57.265Z"
   },
   {
    "duration": 106,
    "start_time": "2022-08-27T13:24:24.165Z"
   },
   {
    "duration": 3,
    "start_time": "2022-08-27T13:24:57.962Z"
   },
   {
    "duration": 115,
    "start_time": "2022-08-27T13:29:24.974Z"
   },
   {
    "duration": 107,
    "start_time": "2022-08-27T13:31:38.847Z"
   },
   {
    "duration": 106,
    "start_time": "2022-08-27T13:32:45.744Z"
   },
   {
    "duration": 94,
    "start_time": "2022-08-27T13:33:21.432Z"
   },
   {
    "duration": 96,
    "start_time": "2022-08-27T13:33:30.468Z"
   },
   {
    "duration": 106,
    "start_time": "2022-08-27T13:34:42.068Z"
   },
   {
    "duration": 110,
    "start_time": "2022-08-27T13:35:04.110Z"
   },
   {
    "duration": 101,
    "start_time": "2022-08-27T14:03:35.143Z"
   },
   {
    "duration": 102,
    "start_time": "2022-08-27T14:04:23.627Z"
   },
   {
    "duration": 105,
    "start_time": "2022-08-27T14:05:14.405Z"
   },
   {
    "duration": 108,
    "start_time": "2022-08-27T14:08:08.901Z"
   },
   {
    "duration": 12628,
    "start_time": "2022-08-28T08:43:26.055Z"
   },
   {
    "duration": 80,
    "start_time": "2022-08-28T08:43:38.685Z"
   },
   {
    "duration": 14,
    "start_time": "2022-08-28T08:43:38.767Z"
   },
   {
    "duration": 18,
    "start_time": "2022-08-28T08:43:38.783Z"
   },
   {
    "duration": 13,
    "start_time": "2022-08-28T08:43:38.803Z"
   },
   {
    "duration": 16,
    "start_time": "2022-08-28T08:43:38.818Z"
   },
   {
    "duration": 35,
    "start_time": "2022-08-28T08:43:38.836Z"
   },
   {
    "duration": 29,
    "start_time": "2022-08-28T08:43:38.873Z"
   },
   {
    "duration": 10,
    "start_time": "2022-08-28T08:43:38.904Z"
   },
   {
    "duration": 22,
    "start_time": "2022-08-28T08:43:38.917Z"
   },
   {
    "duration": 31,
    "start_time": "2022-08-28T08:43:38.941Z"
   },
   {
    "duration": 14,
    "start_time": "2022-08-28T08:43:38.974Z"
   },
   {
    "duration": 29,
    "start_time": "2022-08-28T08:43:38.990Z"
   },
   {
    "duration": 14,
    "start_time": "2022-08-28T08:43:39.022Z"
   },
   {
    "duration": 17,
    "start_time": "2022-08-28T08:43:39.038Z"
   },
   {
    "duration": 14,
    "start_time": "2022-08-28T08:43:39.069Z"
   }
  ],
  "kernelspec": {
   "display_name": "Python 3 (ipykernel)",
   "language": "python",
   "name": "python3"
  },
  "language_info": {
   "codemirror_mode": {
    "name": "ipython",
    "version": 3
   },
   "file_extension": ".py",
   "mimetype": "text/x-python",
   "name": "python",
   "nbconvert_exporter": "python",
   "pygments_lexer": "ipython3",
   "version": "3.9.12"
  },
  "toc": {
   "base_numbering": 1,
   "nav_menu": {},
   "number_sections": true,
   "sideBar": true,
   "skip_h1_title": true,
   "title_cell": "Table of Contents",
   "title_sidebar": "Contents",
   "toc_cell": false,
   "toc_position": {
    "height": "calc(100% - 180px)",
    "left": "10px",
    "top": "150px",
    "width": "273.316px"
   },
   "toc_section_display": true,
   "toc_window_display": false
  }
 },
 "nbformat": 4,
 "nbformat_minor": 2
}
