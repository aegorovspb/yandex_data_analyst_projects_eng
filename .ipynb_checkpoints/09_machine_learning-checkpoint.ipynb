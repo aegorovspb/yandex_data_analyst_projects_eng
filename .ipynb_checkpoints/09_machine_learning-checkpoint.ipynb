{
 "cells": [
  {
   "cell_type": "markdown",
   "metadata": {
    "toc": true
   },
   "source": [
    "**Machine learning course project called Bodybuilder Fitness Center.**\n",
    "\n",
    "The purpose of the project: to develop a strategy for interacting with clients in the network of fitness centers \"Kulturist\" based on analytical data.\n",
    "\n",
    "Research steps:\n",
    "* Step 1. Loading data and preparing it for analysis\n",
    "* Step 2. Data Analysis (EDA)\n",
    "* Step 3. Building a churn forecasting model\n",
    "* Step 4: Client Clustering\n",
    "* Step 5. Conclusions and basic recommendations for working with clients\n",
    "\n",
    "\n",
    "**The main goal of the project** is to analyze and develop a strategy (give recommendations) to retain customers."
   ]
  },
  {
   "cell_type": "markdown",
   "metadata": {},
   "source": [
    "\n"
   ]
  },
  {
   "cell_type": "markdown",
   "metadata": {},
   "source": [
    "Check list:\n",
    "- [x] Open data\n",
    "- [x] Look at the dataset: is there missing features in it, examine the means and standard deviations (the describe() method will come in handy);\n",
    "- [x] Look at the average values of features in two groups - those who churned and those who remained (use the groupby () method);\n",
    "- [x] Build bar graphs and feature distributions for those who left (outflow) and those who stayed (did not get into outflow);\n",
    "- [x] Build the correlation matrix and display it."
   ]
  },
  {
   "cell_type": "markdown",
   "metadata": {},
   "source": [
    "Let's build a customer churn forecasting model:\n",
    "- [x] Split the data into training and validation samples using the train_test_split() function.\n",
    "- [x] Train the model on the train sample in two ways:\n",
    "- [x] logistic regression\n",
    "- [x] random forest\n",
    "- [x] Evaluate the accuracy, precision and recall metrics for both models on the validation set. Compare models with them. Which model performed better based on the metrics?\n"
   ]
  },
  {
   "cell_type": "markdown",
   "metadata": {},
   "source": [
    "Let's cluster clients:\n",
    "- [x] Standardize the data.\n",
    "- [x] Build a distance matrix with the linkage() function on a standardized feature matrix and draw a dendrogram. Attention: drawing a dendrogram may take time! Based on the resulting graph, guess how many clusters can be identified.\n",
    "- [x] Train clustering model based on K-Means algorithm and predict customer clusters. We will agree to take n=5 as the number of clusters so that your results can be compared with the results of other students. However, of course, in life no one will tell you the correct answer, and the decision is up to you (based on the study of the graph from the previous paragraph).\n",
    "- [x] Look at the mean values of the features for the clusters. Is it possible to notice something right away?\n",
    "- [x] Plot the feature distributions for the clusters. Can you see something in them?\n",
    "- [x] For each resulting cluster, calculate the churn rate (using the groupby() method). Do they differ in churn rate? Which clusters are prone to churn and which are reliable?"
   ]
  },
  {
   "cell_type": "markdown",
   "metadata": {},
   "source": [
    "## Loading data and preparing for analysis"
   ]
  },
  {
   "cell_type": "code",
   "execution_count": 1,
   "metadata": {},
   "outputs": [],
   "source": [
    "# load the libraries\n",
    "import pandas as pd\n",
    "\n",
    "# charts\n",
    "import seaborn as sns\n",
    "import matplotlib.pyplot as plt\n",
    "\n",
    "\n",
    "# work with data arrays, rounding\n",
    "import numpy as np\n",
    "\n",
    "# logistic regression\n",
    "from sklearn.linear_model import LogisticRegression\n",
    "# random forest\n",
    "from sklearn.ensemble import RandomForestClassifier\n",
    "\n",
    "# model validation\n",
    "from sklearn.model_selection import train_test_split\n",
    "\n",
    "# classification metrics. Working with labels\n",
    "from sklearn.preprocessing import StandardScaler\n",
    "from sklearn.metrics import accuracy_score, precision_score, recall_score, f1_score\n",
    "\n",
    "# standardize data\n",
    "from sklearn.preprocessing import StandardScaler\n",
    "\n",
    "# Unsupervised Learning: K-Means Clustering\n",
    "from sklearn.cluster import KMeans\n",
    "\n",
    "# draw a dendrogram in Python\n",
    "from scipy.cluster.hierarchy import dendrogram, linkage"
   ]
  },
  {
   "cell_type": "code",
   "execution_count": 2,
   "metadata": {},
   "outputs": [
    {
     "name": "stdout",
     "output_type": "stream",
     "text": [
      "File name: gym_churn.csv\n",
      "gym_churn.csv has been downloaded from the server\n",
      "gym_churn.csv has been downloaded from local host\n"
     ]
    }
   ],
   "source": [
    "# getting database file name on load\n",
    "import os\n",
    "\n",
    "# downloading the database from a server or PC\n",
    "# attempt_1 - path and file name to download from the server\n",
    "# attempt_2 - path and file name to download from PC\n",
    "\n",
    "attempt_1 ='https://code.s3.yandex.net/datasets/gym_churn.csv'\n",
    "attempt_2 ='C://yandex_data_sets/09_gym_churn.csv'\n",
    "\n",
    "# get the file name from the specified path\n",
    "name_os_data = os.path.basename(attempt_1)\n",
    "print('File name:',name_os_data)\n",
    "\n",
    "# loading error handling\n",
    "try:\n",
    "    df = pd.read_csv(attempt_1) \n",
    "    print(name_os_data, 'has been downloaded from the server')\n",
    "except:\n",
    "    print('Server error')\n",
    "try:\n",
    "    df = pd.read_csv(attempt_2) \n",
    "    print(name_os_data, 'has been downloaded from local host')\n",
    "except:\n",
    "    print('Local Error')"
   ]
  },
  {
   "cell_type": "code",
   "execution_count": 3,
   "metadata": {},
   "outputs": [
    {
     "data": {
      "text/plain": [
       "(4000, 14)"
      ]
     },
     "metadata": {},
     "output_type": "display_data"
    },
    {
     "data": {
      "text/html": [
       "<div>\n",
       "<style scoped>\n",
       "    .dataframe tbody tr th:only-of-type {\n",
       "        vertical-align: middle;\n",
       "    }\n",
       "\n",
       "    .dataframe tbody tr th {\n",
       "        vertical-align: top;\n",
       "    }\n",
       "\n",
       "    .dataframe thead th {\n",
       "        text-align: right;\n",
       "    }\n",
       "</style>\n",
       "<table border=\"1\" class=\"dataframe\">\n",
       "  <thead>\n",
       "    <tr style=\"text-align: right;\">\n",
       "      <th></th>\n",
       "      <th>gender</th>\n",
       "      <th>Near_Location</th>\n",
       "      <th>Partner</th>\n",
       "      <th>Promo_friends</th>\n",
       "      <th>Phone</th>\n",
       "      <th>Contract_period</th>\n",
       "      <th>Group_visits</th>\n",
       "      <th>Age</th>\n",
       "      <th>Avg_additional_charges_total</th>\n",
       "      <th>Month_to_end_contract</th>\n",
       "      <th>Lifetime</th>\n",
       "      <th>Avg_class_frequency_total</th>\n",
       "      <th>Avg_class_frequency_current_month</th>\n",
       "      <th>Churn</th>\n",
       "    </tr>\n",
       "  </thead>\n",
       "  <tbody>\n",
       "    <tr>\n",
       "      <th>0</th>\n",
       "      <td>1</td>\n",
       "      <td>1</td>\n",
       "      <td>1</td>\n",
       "      <td>1</td>\n",
       "      <td>0</td>\n",
       "      <td>6</td>\n",
       "      <td>1</td>\n",
       "      <td>29</td>\n",
       "      <td>14.227470</td>\n",
       "      <td>5.0</td>\n",
       "      <td>3</td>\n",
       "      <td>0.020398</td>\n",
       "      <td>0.000000</td>\n",
       "      <td>0</td>\n",
       "    </tr>\n",
       "    <tr>\n",
       "      <th>1</th>\n",
       "      <td>0</td>\n",
       "      <td>1</td>\n",
       "      <td>0</td>\n",
       "      <td>0</td>\n",
       "      <td>1</td>\n",
       "      <td>12</td>\n",
       "      <td>1</td>\n",
       "      <td>31</td>\n",
       "      <td>113.202938</td>\n",
       "      <td>12.0</td>\n",
       "      <td>7</td>\n",
       "      <td>1.922936</td>\n",
       "      <td>1.910244</td>\n",
       "      <td>0</td>\n",
       "    </tr>\n",
       "    <tr>\n",
       "      <th>2</th>\n",
       "      <td>0</td>\n",
       "      <td>1</td>\n",
       "      <td>1</td>\n",
       "      <td>0</td>\n",
       "      <td>1</td>\n",
       "      <td>1</td>\n",
       "      <td>0</td>\n",
       "      <td>28</td>\n",
       "      <td>129.448479</td>\n",
       "      <td>1.0</td>\n",
       "      <td>2</td>\n",
       "      <td>1.859098</td>\n",
       "      <td>1.736502</td>\n",
       "      <td>0</td>\n",
       "    </tr>\n",
       "    <tr>\n",
       "      <th>3</th>\n",
       "      <td>0</td>\n",
       "      <td>1</td>\n",
       "      <td>1</td>\n",
       "      <td>1</td>\n",
       "      <td>1</td>\n",
       "      <td>12</td>\n",
       "      <td>1</td>\n",
       "      <td>33</td>\n",
       "      <td>62.669863</td>\n",
       "      <td>12.0</td>\n",
       "      <td>2</td>\n",
       "      <td>3.205633</td>\n",
       "      <td>3.357215</td>\n",
       "      <td>0</td>\n",
       "    </tr>\n",
       "    <tr>\n",
       "      <th>4</th>\n",
       "      <td>1</td>\n",
       "      <td>1</td>\n",
       "      <td>1</td>\n",
       "      <td>1</td>\n",
       "      <td>1</td>\n",
       "      <td>1</td>\n",
       "      <td>0</td>\n",
       "      <td>26</td>\n",
       "      <td>198.362265</td>\n",
       "      <td>1.0</td>\n",
       "      <td>3</td>\n",
       "      <td>1.113884</td>\n",
       "      <td>1.120078</td>\n",
       "      <td>0</td>\n",
       "    </tr>\n",
       "  </tbody>\n",
       "</table>\n",
       "</div>"
      ],
      "text/plain": [
       "   gender  Near_Location  Partner  Promo_friends  Phone  Contract_period  \\\n",
       "0       1              1        1              1      0                6   \n",
       "1       0              1        0              0      1               12   \n",
       "2       0              1        1              0      1                1   \n",
       "3       0              1        1              1      1               12   \n",
       "4       1              1        1              1      1                1   \n",
       "\n",
       "   Group_visits  Age  Avg_additional_charges_total  Month_to_end_contract  \\\n",
       "0             1   29                     14.227470                    5.0   \n",
       "1             1   31                    113.202938                   12.0   \n",
       "2             0   28                    129.448479                    1.0   \n",
       "3             1   33                     62.669863                   12.0   \n",
       "4             0   26                    198.362265                    1.0   \n",
       "\n",
       "   Lifetime  Avg_class_frequency_total  Avg_class_frequency_current_month  \\\n",
       "0         3                   0.020398                           0.000000   \n",
       "1         7                   1.922936                           1.910244   \n",
       "2         2                   1.859098                           1.736502   \n",
       "3         2                   3.205633                           3.357215   \n",
       "4         3                   1.113884                           1.120078   \n",
       "\n",
       "   Churn  \n",
       "0      0  \n",
       "1      0  \n",
       "2      0  \n",
       "3      0  \n",
       "4      0  "
      ]
     },
     "metadata": {},
     "output_type": "display_data"
    },
    {
     "name": "stdout",
     "output_type": "stream",
     "text": [
      "<class 'pandas.core.frame.DataFrame'>\n",
      "RangeIndex: 4000 entries, 0 to 3999\n",
      "Data columns (total 14 columns):\n",
      " #   Column                             Non-Null Count  Dtype  \n",
      "---  ------                             --------------  -----  \n",
      " 0   gender                             4000 non-null   int64  \n",
      " 1   Near_Location                      4000 non-null   int64  \n",
      " 2   Partner                            4000 non-null   int64  \n",
      " 3   Promo_friends                      4000 non-null   int64  \n",
      " 4   Phone                              4000 non-null   int64  \n",
      " 5   Contract_period                    4000 non-null   int64  \n",
      " 6   Group_visits                       4000 non-null   int64  \n",
      " 7   Age                                4000 non-null   int64  \n",
      " 8   Avg_additional_charges_total       4000 non-null   float64\n",
      " 9   Month_to_end_contract              4000 non-null   float64\n",
      " 10  Lifetime                           4000 non-null   int64  \n",
      " 11  Avg_class_frequency_total          4000 non-null   float64\n",
      " 12  Avg_class_frequency_current_month  4000 non-null   float64\n",
      " 13  Churn                              4000 non-null   int64  \n",
      "dtypes: float64(4), int64(10)\n",
      "memory usage: 437.6 KB\n"
     ]
    },
    {
     "data": {
      "text/plain": [
       "None"
      ]
     },
     "metadata": {},
     "output_type": "display_data"
    }
   ],
   "source": [
    "# print the table header and size\n",
    "display(df.shape)\n",
    "display(df.head())\n",
    "\n",
    "# look at the summary\n",
    "display(df.info()) "
   ]
  },
  {
   "cell_type": "markdown",
   "metadata": {},
   "source": [
    "There are no gaps in the data, the data type matches the description.\n",
    "To eliminate errors, change the case of the column names."
   ]
  },
  {
   "cell_type": "code",
   "execution_count": 4,
   "metadata": {},
   "outputs": [
    {
     "data": {
      "text/html": [
       "<div>\n",
       "<style scoped>\n",
       "    .dataframe tbody tr th:only-of-type {\n",
       "        vertical-align: middle;\n",
       "    }\n",
       "\n",
       "    .dataframe tbody tr th {\n",
       "        vertical-align: top;\n",
       "    }\n",
       "\n",
       "    .dataframe thead th {\n",
       "        text-align: right;\n",
       "    }\n",
       "</style>\n",
       "<table border=\"1\" class=\"dataframe\">\n",
       "  <thead>\n",
       "    <tr style=\"text-align: right;\">\n",
       "      <th></th>\n",
       "      <th>gender</th>\n",
       "      <th>near_location</th>\n",
       "      <th>partner</th>\n",
       "      <th>promo_friends</th>\n",
       "      <th>phone</th>\n",
       "      <th>contract_period</th>\n",
       "      <th>group_visits</th>\n",
       "      <th>age</th>\n",
       "      <th>avg_additional_charges_total</th>\n",
       "      <th>month_to_end_contract</th>\n",
       "      <th>lifetime</th>\n",
       "      <th>avg_class_frequency_total</th>\n",
       "      <th>avg_class_frequency_current_month</th>\n",
       "      <th>churn</th>\n",
       "    </tr>\n",
       "  </thead>\n",
       "  <tbody>\n",
       "    <tr>\n",
       "      <th>0</th>\n",
       "      <td>1</td>\n",
       "      <td>1</td>\n",
       "      <td>1</td>\n",
       "      <td>1</td>\n",
       "      <td>0</td>\n",
       "      <td>6</td>\n",
       "      <td>1</td>\n",
       "      <td>29</td>\n",
       "      <td>14.227470</td>\n",
       "      <td>5.0</td>\n",
       "      <td>3</td>\n",
       "      <td>0.020398</td>\n",
       "      <td>0.000000</td>\n",
       "      <td>0</td>\n",
       "    </tr>\n",
       "    <tr>\n",
       "      <th>1</th>\n",
       "      <td>0</td>\n",
       "      <td>1</td>\n",
       "      <td>0</td>\n",
       "      <td>0</td>\n",
       "      <td>1</td>\n",
       "      <td>12</td>\n",
       "      <td>1</td>\n",
       "      <td>31</td>\n",
       "      <td>113.202938</td>\n",
       "      <td>12.0</td>\n",
       "      <td>7</td>\n",
       "      <td>1.922936</td>\n",
       "      <td>1.910244</td>\n",
       "      <td>0</td>\n",
       "    </tr>\n",
       "    <tr>\n",
       "      <th>2</th>\n",
       "      <td>0</td>\n",
       "      <td>1</td>\n",
       "      <td>1</td>\n",
       "      <td>0</td>\n",
       "      <td>1</td>\n",
       "      <td>1</td>\n",
       "      <td>0</td>\n",
       "      <td>28</td>\n",
       "      <td>129.448479</td>\n",
       "      <td>1.0</td>\n",
       "      <td>2</td>\n",
       "      <td>1.859098</td>\n",
       "      <td>1.736502</td>\n",
       "      <td>0</td>\n",
       "    </tr>\n",
       "  </tbody>\n",
       "</table>\n",
       "</div>"
      ],
      "text/plain": [
       "   gender  near_location  partner  promo_friends  phone  contract_period  \\\n",
       "0       1              1        1              1      0                6   \n",
       "1       0              1        0              0      1               12   \n",
       "2       0              1        1              0      1                1   \n",
       "\n",
       "   group_visits  age  avg_additional_charges_total  month_to_end_contract  \\\n",
       "0             1   29                     14.227470                    5.0   \n",
       "1             1   31                    113.202938                   12.0   \n",
       "2             0   28                    129.448479                    1.0   \n",
       "\n",
       "   lifetime  avg_class_frequency_total  avg_class_frequency_current_month  \\\n",
       "0         3                   0.020398                           0.000000   \n",
       "1         7                   1.922936                           1.910244   \n",
       "2         2                   1.859098                           1.736502   \n",
       "\n",
       "   churn  \n",
       "0      0  \n",
       "1      0  \n",
       "2      0  "
      ]
     },
     "execution_count": 4,
     "metadata": {},
     "output_type": "execute_result"
    }
   ],
   "source": [
    "# названия столбцов приводим к нижнему регистру\n",
    "df.columns = df.columns.str.lower()\n",
    "df.head(3)"
   ]
  },
  {
   "cell_type": "markdown",
   "metadata": {},
   "source": [
    "### conclusions on loading data and preparing for analysis"
   ]
  },
  {
   "cell_type": "markdown",
   "metadata": {},
   "source": [
    "- data loaded correctly\n",
    "- no problems or errors found in the data\n",
    "- changed column names"
   ]
  },
  {
   "cell_type": "markdown",
   "metadata": {},
   "source": [
    "## Data analysis (EDA)"
   ]
  },
  {
   "cell_type": "code",
   "execution_count": 5,
   "metadata": {
    "scrolled": true
   },
   "outputs": [
    {
     "data": {
      "text/html": [
       "<div>\n",
       "<style scoped>\n",
       "    .dataframe tbody tr th:only-of-type {\n",
       "        vertical-align: middle;\n",
       "    }\n",
       "\n",
       "    .dataframe tbody tr th {\n",
       "        vertical-align: top;\n",
       "    }\n",
       "\n",
       "    .dataframe thead th {\n",
       "        text-align: right;\n",
       "    }\n",
       "</style>\n",
       "<table border=\"1\" class=\"dataframe\">\n",
       "  <thead>\n",
       "    <tr style=\"text-align: right;\">\n",
       "      <th></th>\n",
       "      <th>gender</th>\n",
       "      <th>near_location</th>\n",
       "      <th>partner</th>\n",
       "      <th>promo_friends</th>\n",
       "      <th>phone</th>\n",
       "      <th>contract_period</th>\n",
       "      <th>group_visits</th>\n",
       "      <th>age</th>\n",
       "      <th>avg_additional_charges_total</th>\n",
       "      <th>month_to_end_contract</th>\n",
       "      <th>lifetime</th>\n",
       "      <th>avg_class_frequency_total</th>\n",
       "      <th>avg_class_frequency_current_month</th>\n",
       "      <th>churn</th>\n",
       "    </tr>\n",
       "  </thead>\n",
       "  <tbody>\n",
       "    <tr>\n",
       "      <th>count</th>\n",
       "      <td>4000.00</td>\n",
       "      <td>4000.00</td>\n",
       "      <td>4000.00</td>\n",
       "      <td>4000.00</td>\n",
       "      <td>4000.0</td>\n",
       "      <td>4000.00</td>\n",
       "      <td>4000.00</td>\n",
       "      <td>4000.00</td>\n",
       "      <td>4000.00</td>\n",
       "      <td>4000.00</td>\n",
       "      <td>4000.00</td>\n",
       "      <td>4000.00</td>\n",
       "      <td>4000.00</td>\n",
       "      <td>4000.00</td>\n",
       "    </tr>\n",
       "    <tr>\n",
       "      <th>mean</th>\n",
       "      <td>0.51</td>\n",
       "      <td>0.85</td>\n",
       "      <td>0.49</td>\n",
       "      <td>0.31</td>\n",
       "      <td>0.9</td>\n",
       "      <td>4.68</td>\n",
       "      <td>0.41</td>\n",
       "      <td>29.18</td>\n",
       "      <td>146.94</td>\n",
       "      <td>4.32</td>\n",
       "      <td>3.72</td>\n",
       "      <td>1.88</td>\n",
       "      <td>1.77</td>\n",
       "      <td>0.27</td>\n",
       "    </tr>\n",
       "    <tr>\n",
       "      <th>std</th>\n",
       "      <td>0.50</td>\n",
       "      <td>0.36</td>\n",
       "      <td>0.50</td>\n",
       "      <td>0.46</td>\n",
       "      <td>0.3</td>\n",
       "      <td>4.55</td>\n",
       "      <td>0.49</td>\n",
       "      <td>3.26</td>\n",
       "      <td>96.36</td>\n",
       "      <td>4.19</td>\n",
       "      <td>3.75</td>\n",
       "      <td>0.97</td>\n",
       "      <td>1.05</td>\n",
       "      <td>0.44</td>\n",
       "    </tr>\n",
       "    <tr>\n",
       "      <th>min</th>\n",
       "      <td>0.00</td>\n",
       "      <td>0.00</td>\n",
       "      <td>0.00</td>\n",
       "      <td>0.00</td>\n",
       "      <td>0.0</td>\n",
       "      <td>1.00</td>\n",
       "      <td>0.00</td>\n",
       "      <td>18.00</td>\n",
       "      <td>0.15</td>\n",
       "      <td>1.00</td>\n",
       "      <td>0.00</td>\n",
       "      <td>0.00</td>\n",
       "      <td>0.00</td>\n",
       "      <td>0.00</td>\n",
       "    </tr>\n",
       "    <tr>\n",
       "      <th>25%</th>\n",
       "      <td>0.00</td>\n",
       "      <td>1.00</td>\n",
       "      <td>0.00</td>\n",
       "      <td>0.00</td>\n",
       "      <td>1.0</td>\n",
       "      <td>1.00</td>\n",
       "      <td>0.00</td>\n",
       "      <td>27.00</td>\n",
       "      <td>68.87</td>\n",
       "      <td>1.00</td>\n",
       "      <td>1.00</td>\n",
       "      <td>1.18</td>\n",
       "      <td>0.96</td>\n",
       "      <td>0.00</td>\n",
       "    </tr>\n",
       "    <tr>\n",
       "      <th>50%</th>\n",
       "      <td>1.00</td>\n",
       "      <td>1.00</td>\n",
       "      <td>0.00</td>\n",
       "      <td>0.00</td>\n",
       "      <td>1.0</td>\n",
       "      <td>1.00</td>\n",
       "      <td>0.00</td>\n",
       "      <td>29.00</td>\n",
       "      <td>136.22</td>\n",
       "      <td>1.00</td>\n",
       "      <td>3.00</td>\n",
       "      <td>1.83</td>\n",
       "      <td>1.72</td>\n",
       "      <td>0.00</td>\n",
       "    </tr>\n",
       "    <tr>\n",
       "      <th>75%</th>\n",
       "      <td>1.00</td>\n",
       "      <td>1.00</td>\n",
       "      <td>1.00</td>\n",
       "      <td>1.00</td>\n",
       "      <td>1.0</td>\n",
       "      <td>6.00</td>\n",
       "      <td>1.00</td>\n",
       "      <td>31.00</td>\n",
       "      <td>210.95</td>\n",
       "      <td>6.00</td>\n",
       "      <td>5.00</td>\n",
       "      <td>2.54</td>\n",
       "      <td>2.51</td>\n",
       "      <td>1.00</td>\n",
       "    </tr>\n",
       "    <tr>\n",
       "      <th>max</th>\n",
       "      <td>1.00</td>\n",
       "      <td>1.00</td>\n",
       "      <td>1.00</td>\n",
       "      <td>1.00</td>\n",
       "      <td>1.0</td>\n",
       "      <td>12.00</td>\n",
       "      <td>1.00</td>\n",
       "      <td>41.00</td>\n",
       "      <td>552.59</td>\n",
       "      <td>12.00</td>\n",
       "      <td>31.00</td>\n",
       "      <td>6.02</td>\n",
       "      <td>6.15</td>\n",
       "      <td>1.00</td>\n",
       "    </tr>\n",
       "  </tbody>\n",
       "</table>\n",
       "</div>"
      ],
      "text/plain": [
       "        gender  near_location  partner  promo_friends   phone  \\\n",
       "count  4000.00        4000.00  4000.00        4000.00  4000.0   \n",
       "mean      0.51           0.85     0.49           0.31     0.9   \n",
       "std       0.50           0.36     0.50           0.46     0.3   \n",
       "min       0.00           0.00     0.00           0.00     0.0   \n",
       "25%       0.00           1.00     0.00           0.00     1.0   \n",
       "50%       1.00           1.00     0.00           0.00     1.0   \n",
       "75%       1.00           1.00     1.00           1.00     1.0   \n",
       "max       1.00           1.00     1.00           1.00     1.0   \n",
       "\n",
       "       contract_period  group_visits      age  avg_additional_charges_total  \\\n",
       "count          4000.00       4000.00  4000.00                       4000.00   \n",
       "mean              4.68          0.41    29.18                        146.94   \n",
       "std               4.55          0.49     3.26                         96.36   \n",
       "min               1.00          0.00    18.00                          0.15   \n",
       "25%               1.00          0.00    27.00                         68.87   \n",
       "50%               1.00          0.00    29.00                        136.22   \n",
       "75%               6.00          1.00    31.00                        210.95   \n",
       "max              12.00          1.00    41.00                        552.59   \n",
       "\n",
       "       month_to_end_contract  lifetime  avg_class_frequency_total  \\\n",
       "count                4000.00   4000.00                    4000.00   \n",
       "mean                    4.32      3.72                       1.88   \n",
       "std                     4.19      3.75                       0.97   \n",
       "min                     1.00      0.00                       0.00   \n",
       "25%                     1.00      1.00                       1.18   \n",
       "50%                     1.00      3.00                       1.83   \n",
       "75%                     6.00      5.00                       2.54   \n",
       "max                    12.00     31.00                       6.02   \n",
       "\n",
       "       avg_class_frequency_current_month    churn  \n",
       "count                            4000.00  4000.00  \n",
       "mean                                1.77     0.27  \n",
       "std                                 1.05     0.44  \n",
       "min                                 0.00     0.00  \n",
       "25%                                 0.96     0.00  \n",
       "50%                                 1.72     0.00  \n",
       "75%                                 2.51     1.00  \n",
       "max                                 6.15     1.00  "
      ]
     },
     "metadata": {},
     "output_type": "display_data"
    }
   ],
   "source": [
    "# round the data for a better overview\n",
    "pd.set_option('display.precision',2)\n",
    "\n",
    "display(df.describe())"
   ]
  },
  {
   "cell_type": "markdown",
   "metadata": {},
   "source": [
    "### Conclusions on averages"
   ]
  },
  {
   "cell_type": "markdown",
   "metadata": {},
   "source": [
    "Findings:\n",
    "- genre (sex) - Men and women are approximately equal.\n",
    "- near_ (accommodation nearby) - Mostly customers live nearby\n",
    "- partner (company employee) - Approximately half of the clients are from collaborating companies\n",
    "- promo_fr (promo code from a friend) - 31% came from a promo code from a friend\n",
    "- phone (phone) - 90% specified phone\n",
    "- contract (subscription duration) - on average 4.68 months, less than 6\n",
    "- group (classes) - 41% attend\n",
    "- age (age) - 29 years on average\n",
    "- avg_add (amount of revenue from other services) - 147 rubles on average\n",
    "- month_to_end (term until the end of the term) - until the end of the subscription 4.32 months on average\n",
    "- lifetime (time from the first call) - 3.72 months\n",
    "- avg_class_total (average total visits) - 1.88 visits per month for a year, oddly less than two visits per month.\n",
    "- avg_class_month (average visit per month) - 1.77 average visit last month\n",
    "- churn (churn fact in the current month) - 27% moved to the churn group\n",
    "\n",
    "Main remarks: the churn rate of 27% is quite high. if customers leave the club in such numbers, then it is necessary to attract new customers in the same number."
   ]
  },
  {
   "cell_type": "markdown",
   "metadata": {},
   "source": [
    "Consider the average values of features in two groups"
   ]
  },
  {
   "cell_type": "code",
   "execution_count": 6,
   "metadata": {},
   "outputs": [
    {
     "data": {
      "text/html": [
       "<div>\n",
       "<style scoped>\n",
       "    .dataframe tbody tr th:only-of-type {\n",
       "        vertical-align: middle;\n",
       "    }\n",
       "\n",
       "    .dataframe tbody tr th {\n",
       "        vertical-align: top;\n",
       "    }\n",
       "\n",
       "    .dataframe thead th {\n",
       "        text-align: right;\n",
       "    }\n",
       "</style>\n",
       "<table border=\"1\" class=\"dataframe\">\n",
       "  <thead>\n",
       "    <tr style=\"text-align: right;\">\n",
       "      <th></th>\n",
       "      <th>gender</th>\n",
       "      <th>near_location</th>\n",
       "      <th>partner</th>\n",
       "      <th>promo_friends</th>\n",
       "      <th>phone</th>\n",
       "      <th>contract_period</th>\n",
       "      <th>group_visits</th>\n",
       "      <th>age</th>\n",
       "      <th>avg_additional_charges_total</th>\n",
       "      <th>month_to_end_contract</th>\n",
       "      <th>lifetime</th>\n",
       "      <th>avg_class_frequency_total</th>\n",
       "      <th>avg_class_frequency_current_month</th>\n",
       "    </tr>\n",
       "    <tr>\n",
       "      <th>churn</th>\n",
       "      <th></th>\n",
       "      <th></th>\n",
       "      <th></th>\n",
       "      <th></th>\n",
       "      <th></th>\n",
       "      <th></th>\n",
       "      <th></th>\n",
       "      <th></th>\n",
       "      <th></th>\n",
       "      <th></th>\n",
       "      <th></th>\n",
       "      <th></th>\n",
       "      <th></th>\n",
       "    </tr>\n",
       "  </thead>\n",
       "  <tbody>\n",
       "    <tr>\n",
       "      <th>0</th>\n",
       "      <td>2939</td>\n",
       "      <td>2939</td>\n",
       "      <td>2939</td>\n",
       "      <td>2939</td>\n",
       "      <td>2939</td>\n",
       "      <td>2939</td>\n",
       "      <td>2939</td>\n",
       "      <td>2939</td>\n",
       "      <td>2939</td>\n",
       "      <td>2939</td>\n",
       "      <td>2939</td>\n",
       "      <td>2939</td>\n",
       "      <td>2939</td>\n",
       "    </tr>\n",
       "    <tr>\n",
       "      <th>1</th>\n",
       "      <td>1061</td>\n",
       "      <td>1061</td>\n",
       "      <td>1061</td>\n",
       "      <td>1061</td>\n",
       "      <td>1061</td>\n",
       "      <td>1061</td>\n",
       "      <td>1061</td>\n",
       "      <td>1061</td>\n",
       "      <td>1061</td>\n",
       "      <td>1061</td>\n",
       "      <td>1061</td>\n",
       "      <td>1061</td>\n",
       "      <td>1061</td>\n",
       "    </tr>\n",
       "  </tbody>\n",
       "</table>\n",
       "</div>"
      ],
      "text/plain": [
       "       gender  near_location  partner  promo_friends  phone  contract_period  \\\n",
       "churn                                                                          \n",
       "0        2939           2939     2939           2939   2939             2939   \n",
       "1        1061           1061     1061           1061   1061             1061   \n",
       "\n",
       "       group_visits   age  avg_additional_charges_total  \\\n",
       "churn                                                     \n",
       "0              2939  2939                          2939   \n",
       "1              1061  1061                          1061   \n",
       "\n",
       "       month_to_end_contract  lifetime  avg_class_frequency_total  \\\n",
       "churn                                                               \n",
       "0                       2939      2939                       2939   \n",
       "1                       1061      1061                       1061   \n",
       "\n",
       "       avg_class_frequency_current_month  \n",
       "churn                                     \n",
       "0                                   2939  \n",
       "1                                   1061  "
      ]
     },
     "execution_count": 6,
     "metadata": {},
     "output_type": "execute_result"
    }
   ],
   "source": [
    "# absolute indicators\n",
    "df.groupby('churn').count()"
   ]
  },
  {
   "cell_type": "code",
   "execution_count": 7,
   "metadata": {
    "scrolled": true
   },
   "outputs": [
    {
     "data": {
      "text/html": [
       "<div>\n",
       "<style scoped>\n",
       "    .dataframe tbody tr th:only-of-type {\n",
       "        vertical-align: middle;\n",
       "    }\n",
       "\n",
       "    .dataframe tbody tr th {\n",
       "        vertical-align: top;\n",
       "    }\n",
       "\n",
       "    .dataframe thead th {\n",
       "        text-align: right;\n",
       "    }\n",
       "</style>\n",
       "<table border=\"1\" class=\"dataframe\">\n",
       "  <thead>\n",
       "    <tr style=\"text-align: right;\">\n",
       "      <th></th>\n",
       "      <th>gender</th>\n",
       "      <th>near_location</th>\n",
       "      <th>partner</th>\n",
       "      <th>promo_friends</th>\n",
       "      <th>phone</th>\n",
       "      <th>contract_period</th>\n",
       "      <th>group_visits</th>\n",
       "      <th>age</th>\n",
       "      <th>avg_additional_charges_total</th>\n",
       "      <th>month_to_end_contract</th>\n",
       "      <th>lifetime</th>\n",
       "      <th>avg_class_frequency_total</th>\n",
       "      <th>avg_class_frequency_current_month</th>\n",
       "    </tr>\n",
       "    <tr>\n",
       "      <th>churn</th>\n",
       "      <th></th>\n",
       "      <th></th>\n",
       "      <th></th>\n",
       "      <th></th>\n",
       "      <th></th>\n",
       "      <th></th>\n",
       "      <th></th>\n",
       "      <th></th>\n",
       "      <th></th>\n",
       "      <th></th>\n",
       "      <th></th>\n",
       "      <th></th>\n",
       "      <th></th>\n",
       "    </tr>\n",
       "  </thead>\n",
       "  <tbody>\n",
       "    <tr>\n",
       "      <th>0</th>\n",
       "      <td>0.51</td>\n",
       "      <td>0.87</td>\n",
       "      <td>0.53</td>\n",
       "      <td>0.35</td>\n",
       "      <td>0.9</td>\n",
       "      <td>5.75</td>\n",
       "      <td>0.46</td>\n",
       "      <td>29.98</td>\n",
       "      <td>158.45</td>\n",
       "      <td>5.28</td>\n",
       "      <td>4.71</td>\n",
       "      <td>2.02</td>\n",
       "      <td>2.03</td>\n",
       "    </tr>\n",
       "    <tr>\n",
       "      <th>1</th>\n",
       "      <td>0.51</td>\n",
       "      <td>0.77</td>\n",
       "      <td>0.36</td>\n",
       "      <td>0.18</td>\n",
       "      <td>0.9</td>\n",
       "      <td>1.73</td>\n",
       "      <td>0.27</td>\n",
       "      <td>26.99</td>\n",
       "      <td>115.08</td>\n",
       "      <td>1.66</td>\n",
       "      <td>0.99</td>\n",
       "      <td>1.47</td>\n",
       "      <td>1.04</td>\n",
       "    </tr>\n",
       "  </tbody>\n",
       "</table>\n",
       "</div>"
      ],
      "text/plain": [
       "       gender  near_location  partner  promo_friends  phone  contract_period  \\\n",
       "churn                                                                          \n",
       "0        0.51           0.87     0.53           0.35    0.9             5.75   \n",
       "1        0.51           0.77     0.36           0.18    0.9             1.73   \n",
       "\n",
       "       group_visits    age  avg_additional_charges_total  \\\n",
       "churn                                                      \n",
       "0              0.46  29.98                        158.45   \n",
       "1              0.27  26.99                        115.08   \n",
       "\n",
       "       month_to_end_contract  lifetime  avg_class_frequency_total  \\\n",
       "churn                                                               \n",
       "0                       5.28      4.71                       2.02   \n",
       "1                       1.66      0.99                       1.47   \n",
       "\n",
       "       avg_class_frequency_current_month  \n",
       "churn                                     \n",
       "0                                   2.03  \n",
       "1                                   1.04  "
      ]
     },
     "execution_count": 7,
     "metadata": {},
     "output_type": "execute_result"
    }
   ],
   "source": [
    "# relative performance\n",
    "df.groupby('churn').mean()"
   ]
  },
  {
   "cell_type": "markdown",
   "metadata": {},
   "source": [
    "### Findings for averages by churn / stayed"
   ]
  },
  {
   "cell_type": "markdown",
   "metadata": {},
   "source": [
    "Conclusions for averages:\n",
    "- genre - indicators are approximately equal\n",
    "- near_ (accommodation nearby) - in the outflow there are more of those who live far away, it is logical\n",
    "- partner (company member) - stay more often\n",
    "- promo_fr (promo code from a friend) - stay more often\n",
    "- phone  - 90% here and there\n",
    "- contract (subscription duration) -  outflow - a short contract, it is logical people with a short contract predict their departure in advance\n",
    "- group (group lessons) - those who attend group classes stay more often\n",
    "- age - outflow - those who are younger, 27 vs 30\n",
    "- avg_add (amount of revenue from other services) - outflow slightly less 115 vs 158\n",
    "- month_to_end (time until the end of the current subscription) - on the average  1.66 vs 5.28, there is a strong correlation\n",
    "- lifetime (time from first call) -  1 vs 4.7, there is a strong correlation\n",
    "- avg_class_total (average visits total) - 1.47 vs 2.02, there is no a strong correlation\n",
    "- avg_class_month (average visits per month) - 1.04 vs 2.02, who walks more often, he falls into the outflow less often\n",
    "- churn - fact of outflow in the current month\n",
    "\n",
    "Сonclusions:\n",
    " - time until the end of the current subscription - there is a strong correlation. A person who takes a subscription for a month is likely to leave the club.\n",
    "\n",
    "- promo code from a friend - there is a strong correlation. This is logical. No friends, high chance of leaving the club.\n",
    "\n",
    "- Other obvious relationships, such as gender, phone, age, were not found."
   ]
  },
  {
   "cell_type": "markdown",
   "metadata": {},
   "source": [
    "### Let's build bar charts:"
   ]
  },
  {
   "cell_type": "code",
   "execution_count": 9,
   "metadata": {},
   "outputs": [
    {
     "name": "stdout",
     "output_type": "stream",
     "text": [
      "Index(['gender', 'near_location', 'partner', 'promo_friends', 'phone',\n",
      "       'contract_period', 'group_visits', 'age',\n",
      "       'avg_additional_charges_total', 'month_to_end_contract', 'lifetime',\n",
      "       'avg_class_frequency_total', 'avg_class_frequency_current_month',\n",
      "       'churn'],\n",
      "      dtype='object')\n"
     ]
    }
   ],
   "source": [
    "# set a list of columns\n",
    "df_columns = df.columns\n",
    "print(df_columns)"
   ]
  },
  {
   "cell_type": "markdown",
   "metadata": {},
   "source": [
    "### Let's build distribution graphs"
   ]
  },
  {
   "cell_type": "code",
   "execution_count": 10,
   "metadata": {
    "scrolled": true
   },
   "outputs": [
    {
     "data": {
      "image/png": "[encoded data removed]",
      "text/plain": [
       "<Figure size 360x360 with 1 Axes>"
      ]
     },
     "metadata": {
      "needs_background": "light"
     },
     "output_type": "display_data"
    },
    {
     "data": {
      "image/png": "[encoded data removed]",
      "text/plain": [
       "<Figure size 360x360 with 1 Axes>"
      ]
     },
     "metadata": {
      "needs_background": "light"
     },
     "output_type": "display_data"
    },
    {
     "data": {
      "image/png": "[encoded data removed]",
      "text/plain": [
       "<Figure size 360x360 with 1 Axes>"
      ]
     },
     "metadata": {
      "needs_background": "light"
     },
     "output_type": "display_data"
    },
    {
     "data": {
      "image/png": "[encoded data removed]",
      "text/plain": [
       "<Figure size 360x360 with 1 Axes>"
      ]
     },
     "metadata": {
      "needs_background": "light"
     },
     "output_type": "display_data"
    },
    {
     "data": {
      "image/png": "[encoded data removed]",
      "text/plain": [
       "<Figure size 360x360 with 1 Axes>"
      ]
     },
     "metadata": {
      "needs_background": "light"
     },
     "output_type": "display_data"
    },
    {
     "data": {
      "image/png": "[encoded data removed]",
      "text/plain": [
       "<Figure size 360x360 with 1 Axes>"
      ]
     },
     "metadata": {
      "needs_background": "light"
     },
     "output_type": "display_data"
    },
    {
     "data": {
      "image/png": "[encoded data removed]",
      "text/plain": [
       "<Figure size 360x360 with 1 Axes>"
      ]
     },
     "metadata": {
      "needs_background": "light"
     },
     "output_type": "display_data"
    },
    {
     "data": {
      "image/png": "[encoded data removed]",
      "text/plain": [
       "<Figure size 360x360 with 1 Axes>"
      ]
     },
     "metadata": {
      "needs_background": "light"
     },
     "output_type": "display_data"
    },
    {
     "data": {
      "image/png": "[encoded data removed]",
      "text/plain": [
       "<Figure size 360x360 with 1 Axes>"
      ]
     },
     "metadata": {
      "needs_background": "light"
     },
     "output_type": "display_data"
    },
    {
     "data": {
      "image/png": "[encoded data removed]",
      "text/plain": [
       "<Figure size 360x360 with 1 Axes>"
      ]
     },
     "metadata": {
      "needs_background": "light"
     },
     "output_type": "display_data"
    },
    {
     "data": {
      "image/png": "[encoded data removed]",
      "text/plain": [
       "<Figure size 360x360 with 1 Axes>"
      ]
     },
     "metadata": {
      "needs_background": "light"
     },
     "output_type": "display_data"
    },
    {
     "data": {
      "image/png": "[encoded data removed]",
      "text/plain": [
       "<Figure size 360x360 with 1 Axes>"
      ]
     },
     "metadata": {
      "needs_background": "light"
     },
     "output_type": "display_data"
    },
    {
     "data": {
      "image/png": "[encoded data removed]",
      "text/plain": [
       "<Figure size 360x360 with 1 Axes>"
      ]
     },
     "metadata": {
      "needs_background": "light"
     },
     "output_type": "display_data"
    },
    {
     "data": {
      "image/png": "[encoded data removed]",
      "text/plain": [
       "<Figure size 360x360 with 1 Axes>"
      ]
     },
     "metadata": {
      "needs_background": "light"
     },
     "output_type": "display_data"
    }
   ],
   "source": [
    "for index in df_columns:\n",
    "    plt.figure(figsize=(5, 5))\n",
    "    sns.boxplot(x = 'churn', y = df[index], data = df)\n",
    "    plt.show()"
   ]
  },
  {
   "cell_type": "markdown",
   "metadata": {},
   "source": [
    "### Graph Conclusions"
   ]
  },
  {
   "cell_type": "markdown",
   "metadata": {},
   "source": [
    "Сonclusions on the graph confirm the observations on the average values for the two groups."
   ]
  },
  {
   "cell_type": "markdown",
   "metadata": {},
   "source": [
    "### Correlation matrix"
   ]
  },
  {
   "cell_type": "code",
   "execution_count": 11,
   "metadata": {},
   "outputs": [
    {
     "data": {
      "image/png": "[encoded data removed]",
      "text/plain": [
       "<Figure size 1080x720 with 2 Axes>"
      ]
     },
     "metadata": {
      "needs_background": "light"
     },
     "output_type": "display_data"
    }
   ],
   "source": [
    "cm = df.corr()\n",
    "plt.figure(figsize=(15, 10))\n",
    "sns.heatmap(cm, annot = True)\n",
    "plt.show()"
   ]
  },
  {
   "cell_type": "markdown",
   "metadata": {},
   "source": [
    "### Conclusions on the correlation matrix"
   ]
  },
  {
   "cell_type": "markdown",
   "metadata": {},
   "source": [
    "In general, the conclusions repeat what was said earlier, very high correlation: \n",
    " - month to the end & contract period\n",
    " - avg class frequency current month & avg class frequency total"
   ]
  },
  {
   "cell_type": "markdown",
   "metadata": {},
   "source": [
    "## General conclusions on EDA"
   ]
  },
  {
   "cell_type": "markdown",
   "metadata": {},
   "source": [
    "In the course of the analysis, average values were considered, distribution graphs and a bar chart were constructed, and a correlation matrix was constructed. Correlations between different features were found."
   ]
  },
  {
   "cell_type": "markdown",
   "metadata": {},
   "source": [
    "## Churn Prediction Model"
   ]
  },
  {
   "cell_type": "markdown",
   "metadata": {},
   "source": [
    "Build a binary classification model of customers, where the target feature is the fact that a customer churns in the next month"
   ]
  },
  {
   "cell_type": "markdown",
   "metadata": {},
   "source": [
    "Divide the data into training and validation sets, use the function\n",
    "\n",
    "train_test_split()."
   ]
  },
  {
   "cell_type": "markdown",
   "metadata": {},
   "source": [
    "### Logistic regression"
   ]
  },
  {
   "cell_type": "code",
   "execution_count": 12,
   "metadata": {},
   "outputs": [],
   "source": [
    "# standardize data\n",
    "sc = StandardScaler()\n",
    "#X_sc = sc.fit_transform(df)"
   ]
  },
  {
   "cell_type": "code",
   "execution_count": 13,
   "metadata": {},
   "outputs": [],
   "source": [
    "X = df.drop('churn', axis = 1)\n",
    "y = df['churn']"
   ]
  },
  {
   "cell_type": "code",
   "execution_count": 14,
   "metadata": {},
   "outputs": [],
   "source": [
    "X_train, X_test, y_train, y_test = train_test_split(X, y, test_size=0.2, random_state=0)"
   ]
  },
  {
   "cell_type": "code",
   "execution_count": 15,
   "metadata": {},
   "outputs": [],
   "source": [
    "model = LogisticRegression(solver='liblinear')"
   ]
  },
  {
   "cell_type": "code",
   "execution_count": 16,
   "metadata": {},
   "outputs": [
    {
     "data": {
      "text/plain": [
       "LogisticRegression(solver='liblinear')"
      ]
     },
     "execution_count": 16,
     "metadata": {},
     "output_type": "execute_result"
    }
   ],
   "source": [
    "model.fit(X_train, y_train)"
   ]
  },
  {
   "cell_type": "code",
   "execution_count": 17,
   "metadata": {},
   "outputs": [],
   "source": [
    "predictions = model.predict(X_test)\n",
    "probabilities =  model.predict_proba(X_test)[:,1]"
   ]
  },
  {
   "cell_type": "code",
   "execution_count": null,
   "metadata": {},
   "outputs": [],
   "source": [
    "# выведите значения predictions и probabilities на экран\n",
    "#print(predictions)\n",
    "#print(probabilities)"
   ]
  },
  {
   "cell_type": "code",
   "execution_count": null,
   "metadata": {},
   "outputs": [],
   "source": []
  },
  {
   "cell_type": "code",
   "execution_count": 18,
   "metadata": {},
   "outputs": [
    {
     "name": "stdout",
     "output_type": "stream",
     "text": [
      "Percentage of correct answers (accuracy): 0.93\n",
      "Accuracy (precision): 0.86\n",
      "Completeness (recall): 0.83\n",
      "F1_score: 0.85\n"
     ]
    }
   ],
   "source": [
    "# we derive all the studied metrics for the resulting forecast\n",
    "print('Percentage of correct answers (accuracy): {:.2f}'.format(accuracy_score(y_test, predictions)))\n",
    "print('Accuracy (precision): {:.2f}'.format(precision_score(y_test, predictions)))\n",
    "print('Completeness (recall): {:.2f}'.format(recall_score(y_test, predictions)))\n",
    "print('F1_score: {:.2f}'.format(f1_score(y_test, predictions)))"
   ]
  },
  {
   "cell_type": "markdown",
   "metadata": {},
   "source": [
    "### Random forest"
   ]
  },
  {
   "cell_type": "code",
   "execution_count": 20,
   "metadata": {},
   "outputs": [],
   "source": [
    "scaler = StandardScaler()\n",
    "scaler.fit(X_train)\n",
    "X_train_st = scaler.transform(X_train)\n",
    "X_test_st = scaler.transform(X_test)\n",
    "\n",
    "rf_model = RandomForestClassifier(n_estimators = 100, random_state = 0) \n",
    "rf_model.fit(X_train_st, y_train)\n",
    "rf_predictions = rf_model.predict(X_test_st) \n",
    "rf_probabilities = rf_model.predict_proba(X_test_st)[:,1]"
   ]
  },
  {
   "cell_type": "markdown",
   "metadata": {},
   "source": [
    "We derive all the studied metrics for the forecast Random Foest"
   ]
  },
  {
   "cell_type": "code",
   "execution_count": 21,
   "metadata": {},
   "outputs": [
    {
     "name": "stdout",
     "output_type": "stream",
     "text": [
      "Percentage of correct answers (accuracy): 0.92\n",
      "Accuracy (precision): 0.84\n",
      "Completeness (recall): 0.81\n",
      "F1_score: 0.83\n"
     ]
    }
   ],
   "source": [
    "print('Percentage of correct answers (accuracy): {:.2f}'.format(accuracy_score(y_test, rf_predictions)))\n",
    "print('Accuracy (precision): {:.2f}'.format(precision_score(y_test, rf_predictions)))\n",
    "print('Completeness (recall): {:.2f}'.format(recall_score(y_test, rf_predictions)))\n",
    "print('F1_score: {:.2f}'.format(f1_score(y_test, rf_predictions)))"
   ]
  },
  {
   "cell_type": "markdown",
   "metadata": {},
   "source": [
    "### Conclusion compared models"
   ]
  },
  {
   "cell_type": "markdown",
   "metadata": {},
   "source": [
    "Logistic regression on the received parameters is slightly better"
   ]
  },
  {
   "cell_type": "markdown",
   "metadata": {},
   "source": [
    "## Let's do client clustering"
   ]
  },
  {
   "cell_type": "code",
   "execution_count": 22,
   "metadata": {},
   "outputs": [],
   "source": [
    "# remove the churn\n",
    "df_no_c = df.drop(['churn'], axis=1)\n",
    "\n",
    "# list of column \n",
    "df_columns_list_no_c = df_no_c.columns\n",
    "\n",
    "# standardize data\n",
    "sc = StandardScaler()\n",
    "X_sc = sc.fit_transform(df_no_c)"
   ]
  },
  {
   "cell_type": "code",
   "execution_count": 23,
   "metadata": {},
   "outputs": [],
   "source": [
    "# apply the ward method\n",
    "linked = linkage(df_no_c, method = 'ward')"
   ]
  },
  {
   "cell_type": "code",
   "execution_count": 24,
   "metadata": {
    "scrolled": true
   },
   "outputs": [
    {
     "data": {
      "image/png": "[encoded data removed]",
      "text/plain": [
       "<Figure size 1080x720 with 1 Axes>"
      ]
     },
     "metadata": {
      "needs_background": "light"
     },
     "output_type": "display_data"
    }
   ],
   "source": [
    "# after that, we will standardize and pass the resulting standardized\n",
    "# a table as a parameter to the linkage() function. To make the chart more representative, it is better to pass the value 'ward' to the method parameter:\n",
    "# The linked variable contains a table of \"links\" between objects. It can be visualized as a dendrogram:\n",
    "\n",
    "linked = linkage(X_sc, method = 'ward') \n",
    "plt.figure(figsize=(15, 10))  \n",
    "dendrogram(linked, orientation='top')\n",
    "plt.title('Client Dendogram')\n",
    "plt.show() "
   ]
  },
  {
   "cell_type": "markdown",
   "metadata": {},
   "source": [
    "###  Conclusions according to the Dendogram"
   ]
  },
  {
   "cell_type": "markdown",
   "metadata": {},
   "source": [
    "Based on the dendogram, we take the number of clusters equal to 5"
   ]
  },
  {
   "cell_type": "code",
   "execution_count": 25,
   "metadata": {},
   "outputs": [],
   "source": [
    "km = KMeans(n_clusters=5, random_state=0)\n",
    "# set the number of clusters to 5\n",
    "# fix the value of random_state for the reproducibility of the result\n",
    "\n",
    "# apply the algorithm to the data and form a vector of clusters\n",
    "labels = km.fit_predict(X_sc)\n",
    "\n"
   ]
  },
  {
   "cell_type": "code",
   "execution_count": 26,
   "metadata": {},
   "outputs": [],
   "source": [
    "# save the cluster labels in the field of our dataset\n",
    "df['cluster_km'] = labels"
   ]
  },
  {
   "cell_type": "markdown",
   "metadata": {},
   "source": [
    "### Plot the feature distributions for the clusters. Can you see something in them?"
   ]
  },
  {
   "cell_type": "code",
   "execution_count": 27,
   "metadata": {},
   "outputs": [
    {
     "data": {
      "text/plain": [
       "cluster_km\n",
       "0    1010\n",
       "1     385\n",
       "2     505\n",
       "3    1262\n",
       "4     838\n",
       "Name: gender, dtype: int64"
      ]
     },
     "execution_count": 27,
     "metadata": {},
     "output_type": "execute_result"
    }
   ],
   "source": [
    "# let's see the absolute numbers by clusters\n",
    "df.groupby(['cluster_km'])['gender'].count()"
   ]
  },
  {
   "cell_type": "code",
   "execution_count": 29,
   "metadata": {
    "scrolled": false
   },
   "outputs": [
    {
     "data": {
      "text/html": [
       "<div>\n",
       "<style scoped>\n",
       "    .dataframe tbody tr th:only-of-type {\n",
       "        vertical-align: middle;\n",
       "    }\n",
       "\n",
       "    .dataframe tbody tr th {\n",
       "        vertical-align: top;\n",
       "    }\n",
       "\n",
       "    .dataframe thead th {\n",
       "        text-align: right;\n",
       "    }\n",
       "</style>\n",
       "<table border=\"1\" class=\"dataframe\">\n",
       "  <thead>\n",
       "    <tr style=\"text-align: right;\">\n",
       "      <th>cluster_km</th>\n",
       "      <th>0</th>\n",
       "      <th>1</th>\n",
       "      <th>2</th>\n",
       "      <th>3</th>\n",
       "      <th>4</th>\n",
       "    </tr>\n",
       "  </thead>\n",
       "  <tbody>\n",
       "    <tr>\n",
       "      <th>gender</th>\n",
       "      <td>1010</td>\n",
       "      <td>385</td>\n",
       "      <td>505</td>\n",
       "      <td>1262</td>\n",
       "      <td>838</td>\n",
       "    </tr>\n",
       "    <tr>\n",
       "      <th>near_location</th>\n",
       "      <td>1010</td>\n",
       "      <td>385</td>\n",
       "      <td>505</td>\n",
       "      <td>1262</td>\n",
       "      <td>838</td>\n",
       "    </tr>\n",
       "    <tr>\n",
       "      <th>partner</th>\n",
       "      <td>1010</td>\n",
       "      <td>385</td>\n",
       "      <td>505</td>\n",
       "      <td>1262</td>\n",
       "      <td>838</td>\n",
       "    </tr>\n",
       "    <tr>\n",
       "      <th>promo_friends</th>\n",
       "      <td>1010</td>\n",
       "      <td>385</td>\n",
       "      <td>505</td>\n",
       "      <td>1262</td>\n",
       "      <td>838</td>\n",
       "    </tr>\n",
       "    <tr>\n",
       "      <th>phone</th>\n",
       "      <td>1010</td>\n",
       "      <td>385</td>\n",
       "      <td>505</td>\n",
       "      <td>1262</td>\n",
       "      <td>838</td>\n",
       "    </tr>\n",
       "    <tr>\n",
       "      <th>contract_period</th>\n",
       "      <td>1010</td>\n",
       "      <td>385</td>\n",
       "      <td>505</td>\n",
       "      <td>1262</td>\n",
       "      <td>838</td>\n",
       "    </tr>\n",
       "    <tr>\n",
       "      <th>group_visits</th>\n",
       "      <td>1010</td>\n",
       "      <td>385</td>\n",
       "      <td>505</td>\n",
       "      <td>1262</td>\n",
       "      <td>838</td>\n",
       "    </tr>\n",
       "    <tr>\n",
       "      <th>age</th>\n",
       "      <td>1010</td>\n",
       "      <td>385</td>\n",
       "      <td>505</td>\n",
       "      <td>1262</td>\n",
       "      <td>838</td>\n",
       "    </tr>\n",
       "    <tr>\n",
       "      <th>avg_additional_charges_total</th>\n",
       "      <td>1010</td>\n",
       "      <td>385</td>\n",
       "      <td>505</td>\n",
       "      <td>1262</td>\n",
       "      <td>838</td>\n",
       "    </tr>\n",
       "    <tr>\n",
       "      <th>month_to_end_contract</th>\n",
       "      <td>1010</td>\n",
       "      <td>385</td>\n",
       "      <td>505</td>\n",
       "      <td>1262</td>\n",
       "      <td>838</td>\n",
       "    </tr>\n",
       "    <tr>\n",
       "      <th>lifetime</th>\n",
       "      <td>1010</td>\n",
       "      <td>385</td>\n",
       "      <td>505</td>\n",
       "      <td>1262</td>\n",
       "      <td>838</td>\n",
       "    </tr>\n",
       "    <tr>\n",
       "      <th>avg_class_frequency_total</th>\n",
       "      <td>1010</td>\n",
       "      <td>385</td>\n",
       "      <td>505</td>\n",
       "      <td>1262</td>\n",
       "      <td>838</td>\n",
       "    </tr>\n",
       "    <tr>\n",
       "      <th>avg_class_frequency_current_month</th>\n",
       "      <td>1010</td>\n",
       "      <td>385</td>\n",
       "      <td>505</td>\n",
       "      <td>1262</td>\n",
       "      <td>838</td>\n",
       "    </tr>\n",
       "    <tr>\n",
       "      <th>churn</th>\n",
       "      <td>1010</td>\n",
       "      <td>385</td>\n",
       "      <td>505</td>\n",
       "      <td>1262</td>\n",
       "      <td>838</td>\n",
       "    </tr>\n",
       "  </tbody>\n",
       "</table>\n",
       "</div>"
      ],
      "text/plain": [
       "cluster_km                            0    1    2     3    4\n",
       "gender                             1010  385  505  1262  838\n",
       "near_location                      1010  385  505  1262  838\n",
       "partner                            1010  385  505  1262  838\n",
       "promo_friends                      1010  385  505  1262  838\n",
       "phone                              1010  385  505  1262  838\n",
       "contract_period                    1010  385  505  1262  838\n",
       "group_visits                       1010  385  505  1262  838\n",
       "age                                1010  385  505  1262  838\n",
       "avg_additional_charges_total       1010  385  505  1262  838\n",
       "month_to_end_contract              1010  385  505  1262  838\n",
       "lifetime                           1010  385  505  1262  838\n",
       "avg_class_frequency_total          1010  385  505  1262  838\n",
       "avg_class_frequency_current_month  1010  385  505  1262  838\n",
       "churn                              1010  385  505  1262  838"
      ]
     },
     "execution_count": 29,
     "metadata": {},
     "output_type": "execute_result"
    }
   ],
   "source": [
    "# let's see the absolute numbers by clusters\n",
    "# rotate the data\n",
    "df.groupby(['cluster_km']).count().T"
   ]
  },
  {
   "cell_type": "code",
   "execution_count": 30,
   "metadata": {},
   "outputs": [
    {
     "data": {
      "text/html": [
       "<div>\n",
       "<style scoped>\n",
       "    .dataframe tbody tr th:only-of-type {\n",
       "        vertical-align: middle;\n",
       "    }\n",
       "\n",
       "    .dataframe tbody tr th {\n",
       "        vertical-align: top;\n",
       "    }\n",
       "\n",
       "    .dataframe thead th {\n",
       "        text-align: right;\n",
       "    }\n",
       "</style>\n",
       "<table border=\"1\" class=\"dataframe\">\n",
       "  <thead>\n",
       "    <tr style=\"text-align: right;\">\n",
       "      <th>cluster_km</th>\n",
       "      <th>0</th>\n",
       "      <th>1</th>\n",
       "      <th>2</th>\n",
       "      <th>3</th>\n",
       "      <th>4</th>\n",
       "    </tr>\n",
       "  </thead>\n",
       "  <tbody>\n",
       "    <tr>\n",
       "      <th>gender</th>\n",
       "      <td>0.50</td>\n",
       "      <td>0.52</td>\n",
       "      <td>0.50</td>\n",
       "      <td>0.49</td>\n",
       "      <td>0.56</td>\n",
       "    </tr>\n",
       "    <tr>\n",
       "      <th>near_location</th>\n",
       "      <td>0.96</td>\n",
       "      <td>0.86</td>\n",
       "      <td>0.00</td>\n",
       "      <td>1.00</td>\n",
       "      <td>0.98</td>\n",
       "    </tr>\n",
       "    <tr>\n",
       "      <th>partner</th>\n",
       "      <td>0.78</td>\n",
       "      <td>0.47</td>\n",
       "      <td>0.46</td>\n",
       "      <td>0.35</td>\n",
       "      <td>0.36</td>\n",
       "    </tr>\n",
       "    <tr>\n",
       "      <th>promo_friends</th>\n",
       "      <td>0.57</td>\n",
       "      <td>0.31</td>\n",
       "      <td>0.08</td>\n",
       "      <td>0.24</td>\n",
       "      <td>0.23</td>\n",
       "    </tr>\n",
       "    <tr>\n",
       "      <th>phone</th>\n",
       "      <td>1.00</td>\n",
       "      <td>0.00</td>\n",
       "      <td>1.00</td>\n",
       "      <td>1.00</td>\n",
       "      <td>1.00</td>\n",
       "    </tr>\n",
       "    <tr>\n",
       "      <th>contract_period</th>\n",
       "      <td>10.89</td>\n",
       "      <td>4.79</td>\n",
       "      <td>2.35</td>\n",
       "      <td>1.95</td>\n",
       "      <td>2.67</td>\n",
       "    </tr>\n",
       "    <tr>\n",
       "      <th>group_visits</th>\n",
       "      <td>0.54</td>\n",
       "      <td>0.43</td>\n",
       "      <td>0.22</td>\n",
       "      <td>0.34</td>\n",
       "      <td>0.47</td>\n",
       "    </tr>\n",
       "    <tr>\n",
       "      <th>age</th>\n",
       "      <td>29.98</td>\n",
       "      <td>29.30</td>\n",
       "      <td>28.48</td>\n",
       "      <td>28.17</td>\n",
       "      <td>30.13</td>\n",
       "    </tr>\n",
       "    <tr>\n",
       "      <th>avg_additional_charges_total</th>\n",
       "      <td>160.76</td>\n",
       "      <td>143.96</td>\n",
       "      <td>135.46</td>\n",
       "      <td>131.62</td>\n",
       "      <td>161.66</td>\n",
       "    </tr>\n",
       "    <tr>\n",
       "      <th>month_to_end_contract</th>\n",
       "      <td>9.95</td>\n",
       "      <td>4.48</td>\n",
       "      <td>2.20</td>\n",
       "      <td>1.86</td>\n",
       "      <td>2.46</td>\n",
       "    </tr>\n",
       "    <tr>\n",
       "      <th>lifetime</th>\n",
       "      <td>4.74</td>\n",
       "      <td>3.92</td>\n",
       "      <td>2.81</td>\n",
       "      <td>2.44</td>\n",
       "      <td>4.90</td>\n",
       "    </tr>\n",
       "    <tr>\n",
       "      <th>avg_class_frequency_total</th>\n",
       "      <td>1.98</td>\n",
       "      <td>1.85</td>\n",
       "      <td>1.66</td>\n",
       "      <td>1.25</td>\n",
       "      <td>2.85</td>\n",
       "    </tr>\n",
       "    <tr>\n",
       "      <th>avg_class_frequency_current_month</th>\n",
       "      <td>1.97</td>\n",
       "      <td>1.72</td>\n",
       "      <td>1.48</td>\n",
       "      <td>1.01</td>\n",
       "      <td>2.85</td>\n",
       "    </tr>\n",
       "    <tr>\n",
       "      <th>churn</th>\n",
       "      <td>0.03</td>\n",
       "      <td>0.27</td>\n",
       "      <td>0.44</td>\n",
       "      <td>0.51</td>\n",
       "      <td>0.07</td>\n",
       "    </tr>\n",
       "  </tbody>\n",
       "</table>\n",
       "</div>"
      ],
      "text/plain": [
       "cluster_km                              0       1       2       3       4\n",
       "gender                               0.50    0.52    0.50    0.49    0.56\n",
       "near_location                        0.96    0.86    0.00    1.00    0.98\n",
       "partner                              0.78    0.47    0.46    0.35    0.36\n",
       "promo_friends                        0.57    0.31    0.08    0.24    0.23\n",
       "phone                                1.00    0.00    1.00    1.00    1.00\n",
       "contract_period                     10.89    4.79    2.35    1.95    2.67\n",
       "group_visits                         0.54    0.43    0.22    0.34    0.47\n",
       "age                                 29.98   29.30   28.48   28.17   30.13\n",
       "avg_additional_charges_total       160.76  143.96  135.46  131.62  161.66\n",
       "month_to_end_contract                9.95    4.48    2.20    1.86    2.46\n",
       "lifetime                             4.74    3.92    2.81    2.44    4.90\n",
       "avg_class_frequency_total            1.98    1.85    1.66    1.25    2.85\n",
       "avg_class_frequency_current_month    1.97    1.72    1.48    1.01    2.85\n",
       "churn                                0.03    0.27    0.44    0.51    0.07"
      ]
     },
     "metadata": {},
     "output_type": "display_data"
    }
   ],
   "source": [
    "# we derive statistics on the average values of our features for the cluster\n",
    "clusters = df.groupby(['cluster_km']).mean().T\n",
    "display(clusters)"
   ]
  },
  {
   "cell_type": "markdown",
   "metadata": {},
   "source": [
    "###  Conclusions according to the Cluster"
   ]
  },
  {
   "cell_type": "markdown",
   "metadata": {},
   "source": [
    "- the gender of all clusters was distributed approximately equally\n",
    "- the most significant groups 0 and 4 with the lowest churn, 2 and 3 with the highest churn\n",
    "- in cluster 4, the highest amount of revenue from other services is 161.66 in third place, but with a small gap from the first two (160.76 and 143.96)\n",
    "- in the 3rd cluster, the shortest month until the end of the contract: 1.25 there is also the highest outflow\n",
    "- high lifetime 4.90 in group 4, there is also one of the lowest outflows, this is also confirmed by group 0, long lifetime low probability of churning.\n",
    "- for groups 0 and 4, the highest income from the sale of other services\n",
    "- Clusters 2 and 3 have the highest outflow, while they have diametrically different indicators for near_location, it can be assumed that the location is not directly related to the outflow, this can be seen in the correlation matrix\n",
    "- in group 0 with the lowest churn, a high indicator of belonging to the partner company and the promo_friends program\n",
    "- there is a relationship between the frequency of visits per week and the outflow, the more often they visit the club, the less likely it is to get into the outflow"
   ]
  },
  {
   "cell_type": "markdown",
   "metadata": {},
   "source": [
    "### Let's build distribution graphs taking into account clusters"
   ]
  },
  {
   "cell_type": "markdown",
   "metadata": {},
   "source": [
    "- groups 0 and 4 with low churn\n",
    "- groups 2 and 3 with high churn"
   ]
  },
  {
   "cell_type": "code",
   "execution_count": 31,
   "metadata": {},
   "outputs": [
    {
     "data": {
      "image/png": "[encoded data removed]",
      "text/plain": [
       "<Figure size 360x360 with 1 Axes>"
      ]
     },
     "metadata": {
      "needs_background": "light"
     },
     "output_type": "display_data"
    },
    {
     "data": {
      "image/png": "[encoded data removed]",
      "text/plain": [
       "<Figure size 360x360 with 1 Axes>"
      ]
     },
     "metadata": {
      "needs_background": "light"
     },
     "output_type": "display_data"
    },
    {
     "data": {
      "image/png": "[encoded data removed]",
      "text/plain": [
       "<Figure size 360x360 with 1 Axes>"
      ]
     },
     "metadata": {
      "needs_background": "light"
     },
     "output_type": "display_data"
    },
    {
     "data": {
      "image/png": "[encoded data removed]",
      "text/plain": [
       "<Figure size 360x360 with 1 Axes>"
      ]
     },
     "metadata": {
      "needs_background": "light"
     },
     "output_type": "display_data"
    },
    {
     "data": {
      "image/png": "[encoded data removed]",
      "text/plain": [
       "<Figure size 360x360 with 1 Axes>"
      ]
     },
     "metadata": {
      "needs_background": "light"
     },
     "output_type": "display_data"
    },
    {
     "data": {
      "image/png": "[encoded data removed]",
      "text/plain": [
       "<Figure size 360x360 with 1 Axes>"
      ]
     },
     "metadata": {
      "needs_background": "light"
     },
     "output_type": "display_data"
    },
    {
     "data": {
      "image/png": "[encoded data removed]",
      "text/plain": [
       "<Figure size 360x360 with 1 Axes>"
      ]
     },
     "metadata": {
      "needs_background": "light"
     },
     "output_type": "display_data"
    },
    {
     "data": {
      "image/png": "[encoded data removed]",
      "text/plain": [
       "<Figure size 360x360 with 1 Axes>"
      ]
     },
     "metadata": {
      "needs_background": "light"
     },
     "output_type": "display_data"
    },
    {
     "data": {
      "image/png": "[encoded data removed]",
      "text/plain": [
       "<Figure size 360x360 with 1 Axes>"
      ]
     },
     "metadata": {
      "needs_background": "light"
     },
     "output_type": "display_data"
    },
    {
     "data": {
      "image/png": "[encoded data removed]",
      "text/plain": [
       "<Figure size 360x360 with 1 Axes>"
      ]
     },
     "metadata": {
      "needs_background": "light"
     },
     "output_type": "display_data"
    },
    {
     "data": {
      "image/png": "[encoded data removed]",
      "text/plain": [
       "<Figure size 360x360 with 1 Axes>"
      ]
     },
     "metadata": {
      "needs_background": "light"
     },
     "output_type": "display_data"
    },
    {
     "data": {
      "image/png": "[encoded data removed]",
      "text/plain": [
       "<Figure size 360x360 with 1 Axes>"
      ]
     },
     "metadata": {
      "needs_background": "light"
     },
     "output_type": "display_data"
    },
    {
     "data": {
      "image/png": "[encoded data removed]",
      "text/plain": [
       "<Figure size 360x360 with 1 Axes>"
      ]
     },
     "metadata": {
      "needs_background": "light"
     },
     "output_type": "display_data"
    },
    {
     "data": {
      "image/png": "[encoded data removed]",
      "text/plain": [
       "<Figure size 360x360 with 1 Axes>"
      ]
     },
     "metadata": {
      "needs_background": "light"
     },
     "output_type": "display_data"
    }
   ],
   "source": [
    "for index in df_columns:\n",
    "    plt.figure(figsize=(5, 5))\n",
    "    sns.boxplot(x = 'cluster_km', y = df[index], data = df)\n",
    "    plt.show()"
   ]
  },
  {
   "cell_type": "markdown",
   "metadata": {},
   "source": [
    "### build bar charts taking into account clusters"
   ]
  },
  {
   "cell_type": "markdown",
   "metadata": {},
   "source": [
    "- groups 0 and 4 with low churn\n",
    "- groups 2 and 3 with high churn"
   ]
  },
  {
   "cell_type": "code",
   "execution_count": 32,
   "metadata": {},
   "outputs": [
    {
     "data": {
      "image/png": "[encoded data removed]",
      "text/plain": [
       "<Figure size 360x360 with 1 Axes>"
      ]
     },
     "metadata": {
      "needs_background": "light"
     },
     "output_type": "display_data"
    },
    {
     "data": {
      "image/png": "[encoded data removed]",
      "text/plain": [
       "<Figure size 360x360 with 1 Axes>"
      ]
     },
     "metadata": {
      "needs_background": "light"
     },
     "output_type": "display_data"
    },
    {
     "data": {
      "image/png": "[encoded data removed]",
      "text/plain": [
       "<Figure size 360x360 with 1 Axes>"
      ]
     },
     "metadata": {
      "needs_background": "light"
     },
     "output_type": "display_data"
    },
    {
     "data": {
      "image/png": "[encoded data removed]",
      "text/plain": [
       "<Figure size 360x360 with 1 Axes>"
      ]
     },
     "metadata": {
      "needs_background": "light"
     },
     "output_type": "display_data"
    },
    {
     "data": {
      "image/png": "[encoded data removed]",
      "text/plain": [
       "<Figure size 360x360 with 1 Axes>"
      ]
     },
     "metadata": {
      "needs_background": "light"
     },
     "output_type": "display_data"
    },
    {
     "data": {
      "image/png": "[encoded data removed]",
      "text/plain": [
       "<Figure size 360x360 with 1 Axes>"
      ]
     },
     "metadata": {
      "needs_background": "light"
     },
     "output_type": "display_data"
    },
    {
     "data": {
      "image/png": "[encoded data removed]",
      "text/plain": [
       "<Figure size 360x360 with 1 Axes>"
      ]
     },
     "metadata": {
      "needs_background": "light"
     },
     "output_type": "display_data"
    },
    {
     "data": {
      "image/png": "[encoded data removed]",
      "text/plain": [
       "<Figure size 360x360 with 1 Axes>"
      ]
     },
     "metadata": {
      "needs_background": "light"
     },
     "output_type": "display_data"
    },
    {
     "data": {
      "image/png": "[encoded data removed]",
      "text/plain": [
       "<Figure size 360x360 with 1 Axes>"
      ]
     },
     "metadata": {
      "needs_background": "light"
     },
     "output_type": "display_data"
    },
    {
     "data": {
      "image/png": "[encoded data removed]",
      "text/plain": [
       "<Figure size 360x360 with 1 Axes>"
      ]
     },
     "metadata": {
      "needs_background": "light"
     },
     "output_type": "display_data"
    },
    {
     "data": {
      "image/png": "[encoded data removed]",
      "text/plain": [
       "<Figure size 360x360 with 1 Axes>"
      ]
     },
     "metadata": {
      "needs_background": "light"
     },
     "output_type": "display_data"
    },
    {
     "data": {
      "image/png": "[encoded data removed]",
      "text/plain": [
       "<Figure size 360x360 with 1 Axes>"
      ]
     },
     "metadata": {
      "needs_background": "light"
     },
     "output_type": "display_data"
    },
    {
     "data": {
      "image/png": "[encoded data removed]",
      "text/plain": [
       "<Figure size 360x360 with 1 Axes>"
      ]
     },
     "metadata": {
      "needs_background": "light"
     },
     "output_type": "display_data"
    },
    {
     "data": {
      "image/png": "[encoded data removed]",
      "text/plain": [
       "<Figure size 360x360 with 1 Axes>"
      ]
     },
     "metadata": {
      "needs_background": "light"
     },
     "output_type": "display_data"
    }
   ],
   "source": [
    " for index in df_columns:\n",
    "    plt.figure(figsize=(5, 5))\n",
    "    sns.countplot(x = df[index], hue='cluster_km', data=df)\n",
    "    plt.title(index)\n",
    "    plt.show()"
   ]
  },
  {
   "cell_type": "markdown",
   "metadata": {},
   "source": [
    "We use countplot for more information, remove non-informative graphs."
   ]
  },
  {
   "cell_type": "code",
   "execution_count": 34,
   "metadata": {
    "scrolled": true
   },
   "outputs": [
    {
     "data": {
      "image/png": "[encoded data removed]",
      "text/plain": [
       "<Figure size 864x288 with 1 Axes>"
      ]
     },
     "metadata": {
      "needs_background": "light"
     },
     "output_type": "display_data"
    },
    {
     "data": {
      "image/png": "[encoded data removed]",
      "text/plain": [
       "<Figure size 864x288 with 1 Axes>"
      ]
     },
     "metadata": {
      "needs_background": "light"
     },
     "output_type": "display_data"
    },
    {
     "data": {
      "image/png": "[encoded data removed]",
      "text/plain": [
       "<Figure size 864x288 with 1 Axes>"
      ]
     },
     "metadata": {
      "needs_background": "light"
     },
     "output_type": "display_data"
    },
    {
     "data": {
      "image/png": "[encoded data removed]",
      "text/plain": [
       "<Figure size 864x288 with 1 Axes>"
      ]
     },
     "metadata": {
      "needs_background": "light"
     },
     "output_type": "display_data"
    },
    {
     "data": {
      "image/png": "[encoded data removed]",
      "text/plain": [
       "<Figure size 864x288 with 1 Axes>"
      ]
     },
     "metadata": {
      "needs_background": "light"
     },
     "output_type": "display_data"
    },
    {
     "data": {
      "image/png": "[encoded data removed]",
      "text/plain": [
       "<Figure size 864x288 with 1 Axes>"
      ]
     },
     "metadata": {
      "needs_background": "light"
     },
     "output_type": "display_data"
    }
   ],
   "source": [
    "# use countplot for more information,\n",
    "# remove non-informative graphics\n",
    "\n",
    "numeric_columns = ['age', 'avg_additional_charges_total', 'month_to_end_contract', 'lifetime',\n",
    "                   'avg_class_frequency_total', 'avg_class_frequency_current_month']\n",
    "for column in numeric_columns:\n",
    "    plt.figure(figsize=(12, 4))\n",
    "    sns.histplot(x=column, hue=\"cluster_km\", data=df, kde=True, palette=\"bright\", element=\"step\")\n",
    "    plt.title(column)\n",
    "    plt.show()"
   ]
  },
  {
   "cell_type": "markdown",
   "metadata": {},
   "source": [
    "## Conclusions and basic recommendations"
   ]
  },
  {
   "cell_type": "markdown",
   "metadata": {},
   "source": [
    "- graphs by clusters confirm the main hypothesis that people with a short subscription most often fall into the outflow\n",
    "- there is no direct relationship between outflow and location\n",
    "- there is no direct relationship between partner companies and coming with a friend\n",
    "- there is a relationship, the longer the client goes to the club, the lower the likelihood that he will fall into the outflow"
   ]
  },
  {
   "cell_type": "markdown",
   "metadata": {},
   "source": [
    "General recommendations:\n",
    "- pay special attention to customers with a short subscription\n",
    "- increase the number of average visits for customers with a short subscription\n",
    "- there is no high correlation between group attendance and churn. But there is a correlation between a high churn of 0.44 and a low group attendance of 0.22. Clients with short subscriptions can be offered additional promotions for attending group classes\n",
    "- no direct relationship was found between the remoteness of clients from the club and getting into the outflow, it is necessary to pay equal attention to clients, regardless of their location"
   ]
  },
  {
   "cell_type": "code",
   "execution_count": null,
   "metadata": {},
   "outputs": [],
   "source": []
  }
 ],
 "metadata": {
  "ExecuteTimeLog": [
   {
    "duration": 450,
    "start_time": "2022-07-29T07:12:30.085Z"
   },
   {
    "duration": 159,
    "start_time": "2022-07-29T07:13:08.834Z"
   },
   {
    "duration": 81,
    "start_time": "2022-07-29T07:13:48.203Z"
   },
   {
    "duration": 67,
    "start_time": "2022-07-29T07:17:13.908Z"
   },
   {
    "duration": 6,
    "start_time": "2022-07-29T07:17:54.854Z"
   },
   {
    "duration": 77,
    "start_time": "2022-07-29T07:19:51.680Z"
   },
   {
    "duration": 17,
    "start_time": "2022-07-29T07:20:45.265Z"
   },
   {
    "duration": 14,
    "start_time": "2022-07-29T07:21:07.453Z"
   },
   {
    "duration": 16,
    "start_time": "2022-07-29T07:21:24.736Z"
   },
   {
    "duration": 72,
    "start_time": "2022-07-29T07:21:29.496Z"
   },
   {
    "duration": 5,
    "start_time": "2022-07-29T07:22:11.236Z"
   },
   {
    "duration": 68,
    "start_time": "2022-07-29T07:22:21.743Z"
   },
   {
    "duration": 13,
    "start_time": "2022-07-29T07:23:18.700Z"
   },
   {
    "duration": 8,
    "start_time": "2022-07-29T07:28:01.773Z"
   },
   {
    "duration": 4,
    "start_time": "2022-07-29T07:28:04.714Z"
   },
   {
    "duration": 57,
    "start_time": "2022-07-29T07:28:04.736Z"
   },
   {
    "duration": 3,
    "start_time": "2022-07-29T07:28:04.795Z"
   },
   {
    "duration": 53,
    "start_time": "2022-07-29T07:28:04.800Z"
   },
   {
    "duration": 13,
    "start_time": "2022-07-29T07:28:08.961Z"
   },
   {
    "duration": 4,
    "start_time": "2022-07-29T08:19:37.920Z"
   },
   {
    "duration": 3,
    "start_time": "2022-07-29T08:19:48.920Z"
   },
   {
    "duration": 66,
    "start_time": "2022-07-29T08:19:48.927Z"
   },
   {
    "duration": 20,
    "start_time": "2022-07-29T08:19:48.999Z"
   },
   {
    "duration": 72,
    "start_time": "2022-07-29T08:19:49.021Z"
   },
   {
    "duration": 5,
    "start_time": "2022-07-29T08:19:49.095Z"
   },
   {
    "duration": 21,
    "start_time": "2022-07-29T08:20:18.317Z"
   },
   {
    "duration": 12,
    "start_time": "2022-07-29T08:21:58.780Z"
   },
   {
    "duration": 59,
    "start_time": "2022-07-29T10:59:50.370Z"
   },
   {
    "duration": 103,
    "start_time": "2022-07-29T11:12:41.846Z"
   },
   {
    "duration": 12,
    "start_time": "2022-07-29T11:37:40.449Z"
   },
   {
    "duration": 3,
    "start_time": "2022-07-29T11:38:19.471Z"
   },
   {
    "duration": 10,
    "start_time": "2022-07-29T11:39:14.962Z"
   },
   {
    "duration": 539,
    "start_time": "2022-07-29T11:40:05.855Z"
   },
   {
    "duration": 26,
    "start_time": "2022-07-29T11:40:41.018Z"
   },
   {
    "duration": 3,
    "start_time": "2022-07-29T11:40:45.398Z"
   },
   {
    "duration": 80,
    "start_time": "2022-07-29T11:40:45.423Z"
   },
   {
    "duration": 14,
    "start_time": "2022-07-29T11:40:45.506Z"
   },
   {
    "duration": 107,
    "start_time": "2022-07-29T11:40:45.522Z"
   },
   {
    "duration": 16,
    "start_time": "2022-07-29T11:40:45.632Z"
   },
   {
    "duration": 24,
    "start_time": "2022-07-29T11:40:45.650Z"
   },
   {
    "duration": 3,
    "start_time": "2022-07-29T11:40:45.676Z"
   },
   {
    "duration": 12,
    "start_time": "2022-07-29T11:40:45.705Z"
   },
   {
    "duration": 615,
    "start_time": "2022-07-29T11:41:43.854Z"
   },
   {
    "duration": 277285,
    "start_time": "2022-07-29T11:41:48.021Z"
   },
   {
    "duration": 1841,
    "start_time": "2022-07-29T11:49:43.960Z"
   },
   {
    "duration": 1794,
    "start_time": "2022-07-29T11:55:11.468Z"
   },
   {
    "duration": 1714,
    "start_time": "2022-07-29T11:55:26.880Z"
   },
   {
    "duration": 122,
    "start_time": "2022-07-29T12:03:05.322Z"
   },
   {
    "duration": 60,
    "start_time": "2022-08-01T07:02:22.151Z"
   },
   {
    "duration": 1372,
    "start_time": "2022-08-01T07:02:25.415Z"
   },
   {
    "duration": 92,
    "start_time": "2022-08-01T07:02:26.790Z"
   },
   {
    "duration": 10,
    "start_time": "2022-08-01T07:02:26.884Z"
   },
   {
    "duration": 56,
    "start_time": "2022-08-01T07:02:26.896Z"
   },
   {
    "duration": 11,
    "start_time": "2022-08-01T07:02:26.953Z"
   },
   {
    "duration": 13,
    "start_time": "2022-08-01T07:02:26.966Z"
   },
   {
    "duration": 3,
    "start_time": "2022-08-01T07:02:26.981Z"
   },
   {
    "duration": 3,
    "start_time": "2022-08-01T07:06:33.476Z"
   },
   {
    "duration": 75,
    "start_time": "2022-08-01T07:06:33.481Z"
   },
   {
    "duration": 12,
    "start_time": "2022-08-01T07:06:33.557Z"
   },
   {
    "duration": 59,
    "start_time": "2022-08-01T07:06:33.571Z"
   },
   {
    "duration": 13,
    "start_time": "2022-08-01T07:06:33.632Z"
   },
   {
    "duration": 15,
    "start_time": "2022-08-01T07:06:33.646Z"
   },
   {
    "duration": 4,
    "start_time": "2022-08-01T07:06:33.662Z"
   },
   {
    "duration": 236796,
    "start_time": "2022-08-01T07:06:33.667Z"
   },
   {
    "duration": 1510,
    "start_time": "2022-08-01T07:10:30.465Z"
   },
   {
    "duration": 1438,
    "start_time": "2022-08-01T07:10:31.977Z"
   },
   {
    "duration": 5,
    "start_time": "2022-08-01T07:10:33.417Z"
   },
   {
    "duration": 97,
    "start_time": "2022-08-01T07:10:33.424Z"
   },
   {
    "duration": 0,
    "start_time": "2022-08-01T07:10:33.523Z"
   },
   {
    "duration": 8,
    "start_time": "2022-08-01T07:12:54.830Z"
   },
   {
    "duration": 448,
    "start_time": "2022-08-01T07:20:02.489Z"
   },
   {
    "duration": 3,
    "start_time": "2022-08-01T07:20:06.696Z"
   },
   {
    "duration": 55,
    "start_time": "2022-08-01T07:20:06.701Z"
   },
   {
    "duration": 10,
    "start_time": "2022-08-01T07:20:06.758Z"
   },
   {
    "duration": 43,
    "start_time": "2022-08-01T07:20:06.770Z"
   },
   {
    "duration": 10,
    "start_time": "2022-08-01T07:20:06.815Z"
   },
   {
    "duration": 27,
    "start_time": "2022-08-01T07:20:06.827Z"
   },
   {
    "duration": 3,
    "start_time": "2022-08-01T07:20:06.855Z"
   },
   {
    "duration": 227975,
    "start_time": "2022-08-01T07:20:06.860Z"
   },
   {
    "duration": 1440,
    "start_time": "2022-08-01T07:23:54.837Z"
   },
   {
    "duration": 1363,
    "start_time": "2022-08-01T07:23:56.278Z"
   },
   {
    "duration": 4,
    "start_time": "2022-08-01T07:23:57.642Z"
   },
   {
    "duration": 33,
    "start_time": "2022-08-01T07:23:57.647Z"
   },
   {
    "duration": 0,
    "start_time": "2022-08-01T07:23:57.683Z"
   },
   {
    "duration": 0,
    "start_time": "2022-08-01T07:23:57.684Z"
   },
   {
    "duration": 0,
    "start_time": "2022-08-01T07:23:57.685Z"
   },
   {
    "duration": 0,
    "start_time": "2022-08-01T07:23:57.686Z"
   },
   {
    "duration": 3,
    "start_time": "2022-08-01T07:27:50.589Z"
   },
   {
    "duration": 3,
    "start_time": "2022-08-01T07:28:49.037Z"
   },
   {
    "duration": 63,
    "start_time": "2022-08-01T07:28:49.048Z"
   },
   {
    "duration": 11,
    "start_time": "2022-08-01T07:28:49.113Z"
   },
   {
    "duration": 57,
    "start_time": "2022-08-01T07:28:49.125Z"
   },
   {
    "duration": 17,
    "start_time": "2022-08-01T07:28:49.184Z"
   },
   {
    "duration": 14,
    "start_time": "2022-08-01T07:28:49.203Z"
   },
   {
    "duration": 17,
    "start_time": "2022-08-01T07:28:49.219Z"
   },
   {
    "duration": 1312,
    "start_time": "2022-08-01T07:31:01.147Z"
   },
   {
    "duration": 60,
    "start_time": "2022-08-01T07:31:02.460Z"
   },
   {
    "duration": 12,
    "start_time": "2022-08-01T07:31:02.521Z"
   },
   {
    "duration": 65,
    "start_time": "2022-08-01T07:31:02.535Z"
   },
   {
    "duration": 11,
    "start_time": "2022-08-01T07:31:02.602Z"
   },
   {
    "duration": 13,
    "start_time": "2022-08-01T07:31:02.615Z"
   },
   {
    "duration": 4,
    "start_time": "2022-08-01T07:31:02.629Z"
   },
   {
    "duration": 0,
    "start_time": "2022-08-01T07:34:54.142Z"
   },
   {
    "duration": 0,
    "start_time": "2022-08-01T07:34:54.143Z"
   },
   {
    "duration": 0,
    "start_time": "2022-08-01T07:34:54.144Z"
   },
   {
    "duration": 0,
    "start_time": "2022-08-01T07:34:54.145Z"
   },
   {
    "duration": 0,
    "start_time": "2022-08-01T07:34:54.146Z"
   },
   {
    "duration": 0,
    "start_time": "2022-08-01T07:34:54.147Z"
   },
   {
    "duration": 0,
    "start_time": "2022-08-01T07:34:54.149Z"
   },
   {
    "duration": 0,
    "start_time": "2022-08-01T07:34:54.150Z"
   },
   {
    "duration": 0,
    "start_time": "2022-08-01T07:34:54.151Z"
   },
   {
    "duration": 0,
    "start_time": "2022-08-01T07:34:54.152Z"
   },
   {
    "duration": 0,
    "start_time": "2022-08-01T07:34:54.152Z"
   },
   {
    "duration": 0,
    "start_time": "2022-08-01T07:34:54.153Z"
   },
   {
    "duration": 0,
    "start_time": "2022-08-01T07:34:54.154Z"
   },
   {
    "duration": 0,
    "start_time": "2022-08-01T07:34:54.155Z"
   },
   {
    "duration": 0,
    "start_time": "2022-08-01T07:34:54.156Z"
   },
   {
    "duration": 0,
    "start_time": "2022-08-01T07:34:54.157Z"
   },
   {
    "duration": 3,
    "start_time": "2022-08-01T07:35:39.100Z"
   },
   {
    "duration": 3,
    "start_time": "2022-08-01T07:35:52.854Z"
   },
   {
    "duration": 58,
    "start_time": "2022-08-01T07:35:52.859Z"
   },
   {
    "duration": 13,
    "start_time": "2022-08-01T07:35:52.918Z"
   },
   {
    "duration": 66,
    "start_time": "2022-08-01T07:35:52.933Z"
   },
   {
    "duration": 11,
    "start_time": "2022-08-01T07:35:53.001Z"
   },
   {
    "duration": 14,
    "start_time": "2022-08-01T07:35:53.013Z"
   },
   {
    "duration": 3,
    "start_time": "2022-08-01T07:35:53.029Z"
   },
   {
    "duration": 11,
    "start_time": "2022-08-01T07:35:53.033Z"
   },
   {
    "duration": 1553,
    "start_time": "2022-08-01T07:35:53.045Z"
   },
   {
    "duration": 1416,
    "start_time": "2022-08-01T07:35:54.600Z"
   },
   {
    "duration": 4,
    "start_time": "2022-08-01T07:35:56.017Z"
   },
   {
    "duration": 16,
    "start_time": "2022-08-01T07:35:56.024Z"
   },
   {
    "duration": 0,
    "start_time": "2022-08-01T07:35:56.042Z"
   },
   {
    "duration": 0,
    "start_time": "2022-08-01T07:35:56.043Z"
   },
   {
    "duration": 0,
    "start_time": "2022-08-01T07:35:56.045Z"
   },
   {
    "duration": 0,
    "start_time": "2022-08-01T07:35:56.046Z"
   },
   {
    "duration": 4,
    "start_time": "2022-08-01T07:40:32.363Z"
   },
   {
    "duration": 73,
    "start_time": "2022-08-01T07:40:32.369Z"
   },
   {
    "duration": 13,
    "start_time": "2022-08-01T07:40:32.444Z"
   },
   {
    "duration": 57,
    "start_time": "2022-08-01T07:40:32.460Z"
   },
   {
    "duration": 11,
    "start_time": "2022-08-01T07:40:32.518Z"
   },
   {
    "duration": 17,
    "start_time": "2022-08-01T07:40:32.531Z"
   },
   {
    "duration": 4,
    "start_time": "2022-08-01T07:40:32.550Z"
   },
   {
    "duration": 6,
    "start_time": "2022-08-01T07:40:32.555Z"
   },
   {
    "duration": 1487,
    "start_time": "2022-08-01T07:40:32.563Z"
   },
   {
    "duration": 1427,
    "start_time": "2022-08-01T07:40:34.052Z"
   },
   {
    "duration": 5,
    "start_time": "2022-08-01T07:40:35.480Z"
   },
   {
    "duration": 19,
    "start_time": "2022-08-01T07:40:35.486Z"
   },
   {
    "duration": 8,
    "start_time": "2022-08-01T07:40:35.507Z"
   },
   {
    "duration": 30,
    "start_time": "2022-08-01T07:40:35.517Z"
   },
   {
    "duration": 55,
    "start_time": "2022-08-01T07:40:35.548Z"
   },
   {
    "duration": 117,
    "start_time": "2022-08-01T07:40:35.605Z"
   },
   {
    "duration": 8,
    "start_time": "2022-08-01T07:42:08.414Z"
   },
   {
    "duration": 10,
    "start_time": "2022-08-01T07:43:08.302Z"
   },
   {
    "duration": 9,
    "start_time": "2022-08-01T07:43:30.841Z"
   },
   {
    "duration": 22,
    "start_time": "2022-08-01T07:45:16.682Z"
   },
   {
    "duration": 39,
    "start_time": "2022-08-01T07:46:13.492Z"
   },
   {
    "duration": 397,
    "start_time": "2022-08-01T07:46:17.594Z"
   },
   {
    "duration": 12,
    "start_time": "2022-08-01T07:48:14.644Z"
   },
   {
    "duration": 64,
    "start_time": "2022-08-01T07:52:38.264Z"
   },
   {
    "duration": 109,
    "start_time": "2022-08-01T07:56:54.585Z"
   },
   {
    "duration": 3,
    "start_time": "2022-08-01T08:03:09.204Z"
   },
   {
    "duration": 20,
    "start_time": "2022-08-01T08:04:52.884Z"
   },
   {
    "duration": 8,
    "start_time": "2022-08-01T09:22:38.091Z"
   },
   {
    "duration": 565,
    "start_time": "2022-08-01T09:23:33.841Z"
   },
   {
    "duration": 16,
    "start_time": "2022-08-01T09:23:56.390Z"
   },
   {
    "duration": 794,
    "start_time": "2022-08-01T09:24:08.770Z"
   },
   {
    "duration": 3,
    "start_time": "2022-08-01T09:25:48.134Z"
   },
   {
    "duration": 9,
    "start_time": "2022-08-01T09:27:30.583Z"
   },
   {
    "duration": 3,
    "start_time": "2022-08-01T09:27:50.361Z"
   },
   {
    "duration": 3,
    "start_time": "2022-08-01T09:28:17.553Z"
   },
   {
    "duration": 3,
    "start_time": "2022-08-01T09:28:39.823Z"
   },
   {
    "duration": 15,
    "start_time": "2022-08-01T09:29:31.201Z"
   },
   {
    "duration": 1346,
    "start_time": "2022-08-01T09:30:21.352Z"
   },
   {
    "duration": 3,
    "start_time": "2022-08-01T09:30:23.861Z"
   },
   {
    "duration": 11,
    "start_time": "2022-08-01T09:30:26.773Z"
   },
   {
    "duration": 4,
    "start_time": "2022-08-01T09:34:34.052Z"
   },
   {
    "duration": 10,
    "start_time": "2022-08-01T09:37:03.102Z"
   },
   {
    "duration": 4,
    "start_time": "2022-08-01T09:37:13.214Z"
   },
   {
    "duration": 54,
    "start_time": "2022-08-01T09:37:13.230Z"
   },
   {
    "duration": 12,
    "start_time": "2022-08-01T09:37:13.286Z"
   },
   {
    "duration": 56,
    "start_time": "2022-08-01T09:37:13.300Z"
   },
   {
    "duration": 11,
    "start_time": "2022-08-01T09:37:13.358Z"
   },
   {
    "duration": 27,
    "start_time": "2022-08-01T09:37:13.371Z"
   },
   {
    "duration": 4,
    "start_time": "2022-08-01T09:37:13.399Z"
   },
   {
    "duration": 17,
    "start_time": "2022-08-01T09:37:13.405Z"
   },
   {
    "duration": 1499,
    "start_time": "2022-08-01T09:37:13.424Z"
   },
   {
    "duration": 1321,
    "start_time": "2022-08-01T09:37:14.924Z"
   },
   {
    "duration": 4,
    "start_time": "2022-08-01T09:37:16.247Z"
   },
   {
    "duration": 8,
    "start_time": "2022-08-01T09:37:16.254Z"
   },
   {
    "duration": 5,
    "start_time": "2022-08-01T09:37:16.264Z"
   },
   {
    "duration": 46,
    "start_time": "2022-08-01T09:37:16.270Z"
   },
   {
    "duration": 8,
    "start_time": "2022-08-01T09:37:16.319Z"
   },
   {
    "duration": 173,
    "start_time": "2022-08-01T09:37:16.329Z"
   },
   {
    "duration": 18,
    "start_time": "2022-08-01T09:37:16.504Z"
   },
   {
    "duration": 402,
    "start_time": "2022-08-01T09:37:16.524Z"
   },
   {
    "duration": 9,
    "start_time": "2022-08-01T09:37:16.927Z"
   },
   {
    "duration": 7,
    "start_time": "2022-08-01T09:37:16.938Z"
   },
   {
    "duration": 10,
    "start_time": "2022-08-01T09:37:16.946Z"
   },
   {
    "duration": 0,
    "start_time": "2022-08-01T09:37:16.957Z"
   },
   {
    "duration": 0,
    "start_time": "2022-08-01T09:37:16.958Z"
   },
   {
    "duration": 0,
    "start_time": "2022-08-01T09:37:16.959Z"
   },
   {
    "duration": 9,
    "start_time": "2022-08-01T09:37:51.304Z"
   },
   {
    "duration": 5,
    "start_time": "2022-08-01T09:38:04.455Z"
   },
   {
    "duration": 80,
    "start_time": "2022-08-01T09:38:04.462Z"
   },
   {
    "duration": 15,
    "start_time": "2022-08-01T09:38:04.544Z"
   },
   {
    "duration": 74,
    "start_time": "2022-08-01T09:38:04.561Z"
   },
   {
    "duration": 13,
    "start_time": "2022-08-01T09:38:04.637Z"
   },
   {
    "duration": 16,
    "start_time": "2022-08-01T09:38:04.651Z"
   },
   {
    "duration": 29,
    "start_time": "2022-08-01T09:38:04.669Z"
   },
   {
    "duration": 5,
    "start_time": "2022-08-01T09:38:04.700Z"
   },
   {
    "duration": 2386,
    "start_time": "2022-08-01T09:38:04.706Z"
   },
   {
    "duration": 1403,
    "start_time": "2022-08-01T09:38:07.098Z"
   },
   {
    "duration": 5,
    "start_time": "2022-08-01T09:38:08.503Z"
   },
   {
    "duration": 10,
    "start_time": "2022-08-01T09:38:08.510Z"
   },
   {
    "duration": 2,
    "start_time": "2022-08-01T09:38:08.523Z"
   },
   {
    "duration": 24,
    "start_time": "2022-08-01T09:38:08.529Z"
   },
   {
    "duration": 145,
    "start_time": "2022-08-01T09:38:08.556Z"
   },
   {
    "duration": 102,
    "start_time": "2022-08-01T09:38:08.703Z"
   },
   {
    "duration": 11,
    "start_time": "2022-08-01T09:38:08.807Z"
   },
   {
    "duration": 491,
    "start_time": "2022-08-01T09:38:08.820Z"
   },
   {
    "duration": 9,
    "start_time": "2022-08-01T09:38:09.313Z"
   },
   {
    "duration": 8,
    "start_time": "2022-08-01T09:38:09.324Z"
   },
   {
    "duration": 4,
    "start_time": "2022-08-01T09:39:50.827Z"
   },
   {
    "duration": 60,
    "start_time": "2022-08-01T09:39:50.833Z"
   },
   {
    "duration": 11,
    "start_time": "2022-08-01T09:39:50.894Z"
   },
   {
    "duration": 44,
    "start_time": "2022-08-01T09:39:50.907Z"
   },
   {
    "duration": 11,
    "start_time": "2022-08-01T09:39:50.953Z"
   },
   {
    "duration": 34,
    "start_time": "2022-08-01T09:39:50.965Z"
   },
   {
    "duration": 4,
    "start_time": "2022-08-01T09:39:51.000Z"
   },
   {
    "duration": 6,
    "start_time": "2022-08-01T09:39:51.005Z"
   },
   {
    "duration": 1721,
    "start_time": "2022-08-01T09:39:51.013Z"
   },
   {
    "duration": 1439,
    "start_time": "2022-08-01T09:39:52.736Z"
   },
   {
    "duration": 4,
    "start_time": "2022-08-01T09:39:54.177Z"
   },
   {
    "duration": 19,
    "start_time": "2022-08-01T09:39:54.183Z"
   },
   {
    "duration": 3,
    "start_time": "2022-08-01T09:39:54.204Z"
   },
   {
    "duration": 29,
    "start_time": "2022-08-01T09:39:54.208Z"
   },
   {
    "duration": 60,
    "start_time": "2022-08-01T09:39:54.238Z"
   },
   {
    "duration": 120,
    "start_time": "2022-08-01T09:39:54.300Z"
   },
   {
    "duration": 24,
    "start_time": "2022-08-01T09:39:54.422Z"
   },
   {
    "duration": 475,
    "start_time": "2022-08-01T09:39:54.448Z"
   },
   {
    "duration": 8,
    "start_time": "2022-08-01T09:39:54.925Z"
   },
   {
    "duration": 7,
    "start_time": "2022-08-01T09:39:54.935Z"
   },
   {
    "duration": 101934,
    "start_time": "2022-08-01T09:39:54.943Z"
   },
   {
    "duration": 931,
    "start_time": "2022-08-01T09:41:36.879Z"
   },
   {
    "duration": 86,
    "start_time": "2022-08-01T09:41:37.812Z"
   },
   {
    "duration": 105,
    "start_time": "2022-08-01T09:41:37.900Z"
   },
   {
    "duration": 16,
    "start_time": "2022-08-01T10:00:55.300Z"
   },
   {
    "duration": 3,
    "start_time": "2022-08-01T10:02:27.522Z"
   },
   {
    "duration": 12,
    "start_time": "2022-08-01T10:03:41.535Z"
   },
   {
    "duration": 13,
    "start_time": "2022-08-01T10:04:18.034Z"
   },
   {
    "duration": 2,
    "start_time": "2022-08-01T10:05:16.992Z"
   },
   {
    "duration": 15,
    "start_time": "2022-08-01T10:05:19.401Z"
   },
   {
    "duration": 3,
    "start_time": "2022-08-01T10:06:45.183Z"
   },
   {
    "duration": 4,
    "start_time": "2022-08-01T10:09:25.375Z"
   },
   {
    "duration": 54,
    "start_time": "2022-08-01T10:09:25.381Z"
   },
   {
    "duration": 11,
    "start_time": "2022-08-01T10:09:25.436Z"
   },
   {
    "duration": 50,
    "start_time": "2022-08-01T10:09:25.449Z"
   },
   {
    "duration": 11,
    "start_time": "2022-08-01T10:09:25.501Z"
   },
   {
    "duration": 19,
    "start_time": "2022-08-01T10:09:25.513Z"
   },
   {
    "duration": 3,
    "start_time": "2022-08-01T10:09:25.534Z"
   },
   {
    "duration": 12,
    "start_time": "2022-08-01T10:09:25.539Z"
   },
   {
    "duration": 1632,
    "start_time": "2022-08-01T10:09:25.553Z"
   },
   {
    "duration": 1423,
    "start_time": "2022-08-01T10:09:27.186Z"
   },
   {
    "duration": 4,
    "start_time": "2022-08-01T10:09:28.610Z"
   },
   {
    "duration": 14,
    "start_time": "2022-08-01T10:09:28.615Z"
   },
   {
    "duration": 2,
    "start_time": "2022-08-01T10:09:28.631Z"
   },
   {
    "duration": 23,
    "start_time": "2022-08-01T10:09:28.636Z"
   },
   {
    "duration": 40,
    "start_time": "2022-08-01T10:09:28.661Z"
   },
   {
    "duration": 195,
    "start_time": "2022-08-01T10:09:28.703Z"
   },
   {
    "duration": 9,
    "start_time": "2022-08-01T10:09:28.899Z"
   },
   {
    "duration": 418,
    "start_time": "2022-08-01T10:09:28.910Z"
   },
   {
    "duration": 9,
    "start_time": "2022-08-01T10:09:29.330Z"
   },
   {
    "duration": 11,
    "start_time": "2022-08-01T10:09:29.341Z"
   },
   {
    "duration": 1471,
    "start_time": "2022-08-01T10:10:54.135Z"
   },
   {
    "duration": 59,
    "start_time": "2022-08-01T10:10:55.608Z"
   },
   {
    "duration": 12,
    "start_time": "2022-08-01T10:10:55.669Z"
   },
   {
    "duration": 49,
    "start_time": "2022-08-01T10:10:55.684Z"
   },
   {
    "duration": 12,
    "start_time": "2022-08-01T10:10:55.735Z"
   },
   {
    "duration": 49,
    "start_time": "2022-08-01T10:10:55.749Z"
   },
   {
    "duration": 4,
    "start_time": "2022-08-01T10:10:55.799Z"
   },
   {
    "duration": 5,
    "start_time": "2022-08-01T10:10:55.804Z"
   },
   {
    "duration": 1529,
    "start_time": "2022-08-01T10:10:55.810Z"
   },
   {
    "duration": 1413,
    "start_time": "2022-08-01T10:10:57.342Z"
   },
   {
    "duration": 4,
    "start_time": "2022-08-01T10:10:58.756Z"
   },
   {
    "duration": 6,
    "start_time": "2022-08-01T10:10:58.762Z"
   },
   {
    "duration": 3,
    "start_time": "2022-08-01T10:10:58.770Z"
   },
   {
    "duration": 22,
    "start_time": "2022-08-01T10:10:58.797Z"
   },
   {
    "duration": 8,
    "start_time": "2022-08-01T10:10:58.821Z"
   },
   {
    "duration": 80,
    "start_time": "2022-08-01T10:10:58.830Z"
   },
   {
    "duration": 10,
    "start_time": "2022-08-01T10:10:58.997Z"
   },
   {
    "duration": 429,
    "start_time": "2022-08-01T10:10:59.008Z"
   },
   {
    "duration": 8,
    "start_time": "2022-08-01T10:10:59.439Z"
   },
   {
    "duration": 9,
    "start_time": "2022-08-01T10:10:59.449Z"
   },
   {
    "duration": 6,
    "start_time": "2022-08-01T10:10:59.460Z"
   },
   {
    "duration": 1330,
    "start_time": "2022-08-01T10:10:59.468Z"
   },
   {
    "duration": 4,
    "start_time": "2022-08-01T10:11:00.800Z"
   },
   {
    "duration": 101,
    "start_time": "2022-08-01T10:11:00.806Z"
   },
   {
    "duration": 11,
    "start_time": "2022-08-01T10:11:00.908Z"
   },
   {
    "duration": 32,
    "start_time": "2022-08-01T10:11:00.921Z"
   },
   {
    "duration": 1418,
    "start_time": "2022-08-01T10:13:26.599Z"
   },
   {
    "duration": 55,
    "start_time": "2022-08-01T10:13:28.019Z"
   },
   {
    "duration": 11,
    "start_time": "2022-08-01T10:13:28.076Z"
   },
   {
    "duration": 46,
    "start_time": "2022-08-01T10:13:28.089Z"
   },
   {
    "duration": 11,
    "start_time": "2022-08-01T10:13:28.138Z"
   },
   {
    "duration": 15,
    "start_time": "2022-08-01T10:13:28.151Z"
   },
   {
    "duration": 30,
    "start_time": "2022-08-01T10:13:28.168Z"
   },
   {
    "duration": 6,
    "start_time": "2022-08-01T10:13:28.200Z"
   },
   {
    "duration": 1591,
    "start_time": "2022-08-01T10:13:28.208Z"
   },
   {
    "duration": 1466,
    "start_time": "2022-08-01T10:13:29.801Z"
   },
   {
    "duration": 4,
    "start_time": "2022-08-01T10:13:31.269Z"
   },
   {
    "duration": 26,
    "start_time": "2022-08-01T10:13:31.274Z"
   },
   {
    "duration": 3,
    "start_time": "2022-08-01T10:13:31.301Z"
   },
   {
    "duration": 34,
    "start_time": "2022-08-01T10:13:31.307Z"
   },
   {
    "duration": 7,
    "start_time": "2022-08-01T10:13:31.343Z"
   },
   {
    "duration": 13,
    "start_time": "2022-08-01T10:13:31.398Z"
   },
   {
    "duration": 107,
    "start_time": "2022-08-01T10:13:31.413Z"
   },
   {
    "duration": 414,
    "start_time": "2022-08-01T10:13:31.522Z"
   },
   {
    "duration": 11,
    "start_time": "2022-08-01T10:13:31.938Z"
   },
   {
    "duration": 20,
    "start_time": "2022-08-01T10:13:31.951Z"
   },
   {
    "duration": 137,
    "start_time": "2022-08-01T10:13:31.973Z"
   },
   {
    "duration": 0,
    "start_time": "2022-08-01T10:13:32.112Z"
   },
   {
    "duration": 0,
    "start_time": "2022-08-01T10:13:32.113Z"
   },
   {
    "duration": 0,
    "start_time": "2022-08-01T10:13:32.115Z"
   },
   {
    "duration": 0,
    "start_time": "2022-08-01T10:13:32.116Z"
   },
   {
    "duration": 0,
    "start_time": "2022-08-01T10:13:32.117Z"
   },
   {
    "duration": 0,
    "start_time": "2022-08-01T10:13:32.119Z"
   },
   {
    "duration": 503,
    "start_time": "2022-08-01T10:14:52.141Z"
   },
   {
    "duration": 100586,
    "start_time": "2022-08-01T10:14:56.439Z"
   },
   {
    "duration": 974,
    "start_time": "2022-08-01T10:16:50.237Z"
   },
   {
    "duration": 4,
    "start_time": "2022-08-01T10:16:53.237Z"
   },
   {
    "duration": 12,
    "start_time": "2022-08-01T10:16:56.596Z"
   },
   {
    "duration": 3,
    "start_time": "2022-08-01T10:16:59.303Z"
   },
   {
    "duration": 15,
    "start_time": "2022-08-01T10:17:01.439Z"
   },
   {
    "duration": 17,
    "start_time": "2022-08-01T10:18:46.799Z"
   },
   {
    "duration": 14,
    "start_time": "2022-08-01T10:19:44.705Z"
   },
   {
    "duration": 19,
    "start_time": "2022-08-01T10:19:53.299Z"
   },
   {
    "duration": 13,
    "start_time": "2022-08-01T10:22:44.776Z"
   },
   {
    "duration": 17,
    "start_time": "2022-08-01T10:22:52.833Z"
   },
   {
    "duration": 7,
    "start_time": "2022-08-01T10:26:59.503Z"
   },
   {
    "duration": 4,
    "start_time": "2022-08-01T10:27:07.930Z"
   },
   {
    "duration": 59,
    "start_time": "2022-08-01T10:27:07.936Z"
   },
   {
    "duration": 11,
    "start_time": "2022-08-01T10:27:07.997Z"
   },
   {
    "duration": 49,
    "start_time": "2022-08-01T10:27:08.009Z"
   },
   {
    "duration": 10,
    "start_time": "2022-08-01T10:27:08.060Z"
   },
   {
    "duration": 35,
    "start_time": "2022-08-01T10:27:08.072Z"
   },
   {
    "duration": 3,
    "start_time": "2022-08-01T10:27:08.109Z"
   },
   {
    "duration": 5,
    "start_time": "2022-08-01T10:27:08.114Z"
   },
   {
    "duration": 1699,
    "start_time": "2022-08-01T10:27:08.121Z"
   },
   {
    "duration": 1367,
    "start_time": "2022-08-01T10:27:09.822Z"
   },
   {
    "duration": 12,
    "start_time": "2022-08-01T10:27:11.190Z"
   },
   {
    "duration": 15,
    "start_time": "2022-08-01T10:27:11.203Z"
   },
   {
    "duration": 8,
    "start_time": "2022-08-01T10:27:11.220Z"
   },
   {
    "duration": 2,
    "start_time": "2022-08-01T10:27:11.231Z"
   },
   {
    "duration": 25,
    "start_time": "2022-08-01T10:27:11.235Z"
   },
   {
    "duration": 36,
    "start_time": "2022-08-01T10:27:11.262Z"
   },
   {
    "duration": 107,
    "start_time": "2022-08-01T10:27:11.300Z"
   },
   {
    "duration": 94,
    "start_time": "2022-08-01T10:27:11.409Z"
   },
   {
    "duration": 411,
    "start_time": "2022-08-01T10:27:11.505Z"
   },
   {
    "duration": 9,
    "start_time": "2022-08-01T10:27:11.917Z"
   },
   {
    "duration": 30,
    "start_time": "2022-08-01T10:27:11.927Z"
   },
   {
    "duration": 457,
    "start_time": "2022-08-01T10:27:11.959Z"
   },
   {
    "duration": 101497,
    "start_time": "2022-08-01T10:27:12.418Z"
   },
   {
    "duration": 1386,
    "start_time": "2022-08-01T10:28:53.916Z"
   },
   {
    "duration": 3,
    "start_time": "2022-08-01T10:28:55.304Z"
   },
   {
    "duration": 18,
    "start_time": "2022-08-01T10:28:55.399Z"
   },
   {
    "duration": 2,
    "start_time": "2022-08-01T10:28:55.420Z"
   },
   {
    "duration": 23,
    "start_time": "2022-08-01T10:28:55.424Z"
   },
   {
    "duration": 6,
    "start_time": "2022-08-01T10:42:10.708Z"
   },
   {
    "duration": 3,
    "start_time": "2022-08-01T10:42:27.257Z"
   },
   {
    "duration": 17,
    "start_time": "2022-08-01T10:42:28.260Z"
   },
   {
    "duration": 1451,
    "start_time": "2022-08-01T10:54:44.915Z"
   },
   {
    "duration": 2245,
    "start_time": "2022-08-01T10:55:40.070Z"
   },
   {
    "duration": 305903,
    "start_time": "2022-08-01T10:57:37.608Z"
   },
   {
    "duration": 72,
    "start_time": "2022-08-02T10:18:59.748Z"
   },
   {
    "duration": 1787,
    "start_time": "2022-08-02T10:19:04.906Z"
   },
   {
    "duration": 95,
    "start_time": "2022-08-02T10:19:06.696Z"
   },
   {
    "duration": 14,
    "start_time": "2022-08-02T10:19:06.792Z"
   },
   {
    "duration": 50,
    "start_time": "2022-08-02T10:19:06.808Z"
   },
   {
    "duration": 12,
    "start_time": "2022-08-02T10:19:06.860Z"
   },
   {
    "duration": 17,
    "start_time": "2022-08-02T10:19:06.904Z"
   },
   {
    "duration": 4,
    "start_time": "2022-08-02T10:19:06.923Z"
   },
   {
    "duration": 15,
    "start_time": "2022-08-02T10:19:06.928Z"
   },
   {
    "duration": 1793,
    "start_time": "2022-08-02T10:19:06.944Z"
   },
   {
    "duration": 1738,
    "start_time": "2022-08-02T10:19:08.740Z"
   },
   {
    "duration": 9,
    "start_time": "2022-08-02T10:19:10.479Z"
   },
   {
    "duration": 5,
    "start_time": "2022-08-02T10:19:10.502Z"
   },
   {
    "duration": 15,
    "start_time": "2022-08-02T10:19:10.509Z"
   },
   {
    "duration": 4,
    "start_time": "2022-08-02T10:19:10.526Z"
   },
   {
    "duration": 26,
    "start_time": "2022-08-02T10:19:10.532Z"
   },
   {
    "duration": 45,
    "start_time": "2022-08-02T10:19:10.560Z"
   },
   {
    "duration": 95,
    "start_time": "2022-08-02T10:19:10.608Z"
   },
   {
    "duration": 101,
    "start_time": "2022-08-02T10:19:10.706Z"
   },
   {
    "duration": 397,
    "start_time": "2022-08-02T10:19:10.808Z"
   },
   {
    "duration": 10,
    "start_time": "2022-08-02T10:19:11.206Z"
   },
   {
    "duration": 11,
    "start_time": "2022-08-02T10:19:11.218Z"
   },
   {
    "duration": 640,
    "start_time": "2022-08-02T10:19:11.231Z"
   },
   {
    "duration": 126831,
    "start_time": "2022-08-02T10:19:11.872Z"
   },
   {
    "duration": 1698,
    "start_time": "2022-08-02T10:21:18.705Z"
   },
   {
    "duration": 3,
    "start_time": "2022-08-02T10:21:20.405Z"
   },
   {
    "duration": 115,
    "start_time": "2022-08-02T10:21:20.410Z"
   },
   {
    "duration": 29,
    "start_time": "2022-08-02T10:21:20.527Z"
   },
   {
    "duration": 3068,
    "start_time": "2022-08-02T10:21:20.561Z"
   },
   {
    "duration": 366391,
    "start_time": "2022-08-02T10:21:23.631Z"
   },
   {
    "duration": 17,
    "start_time": "2022-08-02T11:55:26.187Z"
   },
   {
    "duration": 19,
    "start_time": "2022-08-02T11:55:47.958Z"
   },
   {
    "duration": 16,
    "start_time": "2022-08-02T11:55:59.414Z"
   },
   {
    "duration": 19,
    "start_time": "2022-08-02T11:58:36.707Z"
   },
   {
    "duration": 6,
    "start_time": "2022-08-02T11:58:46.148Z"
   },
   {
    "duration": 12,
    "start_time": "2022-08-02T11:59:00.547Z"
   },
   {
    "duration": 13,
    "start_time": "2022-08-02T11:59:22.959Z"
   },
   {
    "duration": 89,
    "start_time": "2022-08-02T11:59:34.185Z"
   },
   {
    "duration": 11,
    "start_time": "2022-08-02T11:59:37.940Z"
   },
   {
    "duration": 12,
    "start_time": "2022-08-02T12:00:02.040Z"
   },
   {
    "duration": 63,
    "start_time": "2022-08-02T12:44:57.141Z"
   },
   {
    "duration": 1663,
    "start_time": "2022-08-02T12:45:16.393Z"
   },
   {
    "duration": 57,
    "start_time": "2022-08-02T12:45:18.059Z"
   },
   {
    "duration": 12,
    "start_time": "2022-08-02T12:45:18.118Z"
   },
   {
    "duration": 77,
    "start_time": "2022-08-02T12:45:18.133Z"
   },
   {
    "duration": 12,
    "start_time": "2022-08-02T12:45:18.211Z"
   },
   {
    "duration": 17,
    "start_time": "2022-08-02T12:45:18.224Z"
   },
   {
    "duration": 3,
    "start_time": "2022-08-02T12:45:18.243Z"
   },
   {
    "duration": 7,
    "start_time": "2022-08-02T12:45:18.248Z"
   },
   {
    "duration": 1957,
    "start_time": "2022-08-02T12:45:18.257Z"
   },
   {
    "duration": 1749,
    "start_time": "2022-08-02T12:45:20.216Z"
   },
   {
    "duration": 11,
    "start_time": "2022-08-02T12:45:21.967Z"
   },
   {
    "duration": 24,
    "start_time": "2022-08-02T12:45:21.979Z"
   },
   {
    "duration": 11,
    "start_time": "2022-08-02T12:45:22.005Z"
   },
   {
    "duration": 7,
    "start_time": "2022-08-02T12:45:22.017Z"
   },
   {
    "duration": 28,
    "start_time": "2022-08-02T12:45:22.026Z"
   },
   {
    "duration": 52,
    "start_time": "2022-08-02T12:45:22.056Z"
   },
   {
    "duration": 193,
    "start_time": "2022-08-02T12:45:22.110Z"
   },
   {
    "duration": 15,
    "start_time": "2022-08-02T12:45:22.306Z"
   },
   {
    "duration": 464,
    "start_time": "2022-08-02T12:45:22.324Z"
   },
   {
    "duration": 21,
    "start_time": "2022-08-02T12:45:22.791Z"
   },
   {
    "duration": 9,
    "start_time": "2022-08-02T12:45:22.815Z"
   },
   {
    "duration": 617,
    "start_time": "2022-08-02T12:45:22.826Z"
   },
   {
    "duration": 121612,
    "start_time": "2022-08-02T12:45:23.445Z"
   },
   {
    "duration": 1358,
    "start_time": "2022-08-02T12:47:25.058Z"
   },
   {
    "duration": 87,
    "start_time": "2022-08-02T12:47:26.418Z"
   },
   {
    "duration": 26,
    "start_time": "2022-08-02T12:47:26.507Z"
   },
   {
    "duration": 11,
    "start_time": "2022-08-02T12:47:26.535Z"
   },
   {
    "duration": 19,
    "start_time": "2022-08-02T12:47:26.551Z"
   },
   {
    "duration": 2713,
    "start_time": "2022-08-02T12:47:26.602Z"
   },
   {
    "duration": 44,
    "start_time": "2022-08-02T12:53:34.966Z"
   },
   {
    "duration": 44,
    "start_time": "2022-08-03T16:04:47.423Z"
   },
   {
    "duration": 1709,
    "start_time": "2022-08-03T16:04:51.022Z"
   },
   {
    "duration": 100,
    "start_time": "2022-08-03T16:04:52.733Z"
   },
   {
    "duration": 14,
    "start_time": "2022-08-03T16:04:52.835Z"
   },
   {
    "duration": 63,
    "start_time": "2022-08-03T16:04:52.851Z"
   },
   {
    "duration": 12,
    "start_time": "2022-08-03T16:04:52.916Z"
   },
   {
    "duration": 24,
    "start_time": "2022-08-03T16:04:52.930Z"
   },
   {
    "duration": 4,
    "start_time": "2022-08-03T16:04:52.956Z"
   },
   {
    "duration": 11,
    "start_time": "2022-08-03T16:04:52.962Z"
   },
   {
    "duration": 1696,
    "start_time": "2022-08-03T16:04:52.975Z"
   },
   {
    "duration": 1513,
    "start_time": "2022-08-03T16:04:54.674Z"
   },
   {
    "duration": 9,
    "start_time": "2022-08-03T16:04:56.189Z"
   },
   {
    "duration": 12,
    "start_time": "2022-08-03T16:04:56.200Z"
   },
   {
    "duration": 34,
    "start_time": "2022-08-03T16:04:56.214Z"
   },
   {
    "duration": 18,
    "start_time": "2022-08-03T16:04:56.249Z"
   },
   {
    "duration": 46,
    "start_time": "2022-08-03T16:04:56.269Z"
   },
   {
    "duration": 83,
    "start_time": "2022-08-03T16:04:56.317Z"
   },
   {
    "duration": 111,
    "start_time": "2022-08-03T16:04:56.402Z"
   },
   {
    "duration": 24,
    "start_time": "2022-08-03T16:04:56.514Z"
   },
   {
    "duration": 374,
    "start_time": "2022-08-03T16:04:56.540Z"
   },
   {
    "duration": 10,
    "start_time": "2022-08-03T16:04:56.916Z"
   },
   {
    "duration": 43,
    "start_time": "2022-08-03T16:04:56.927Z"
   },
   {
    "duration": 631,
    "start_time": "2022-08-03T16:04:56.971Z"
   },
   {
    "duration": 99597,
    "start_time": "2022-08-03T16:04:57.604Z"
   },
   {
    "duration": 1497,
    "start_time": "2022-08-03T16:06:37.203Z"
   },
   {
    "duration": 4,
    "start_time": "2022-08-03T16:06:38.702Z"
   },
   {
    "duration": 27,
    "start_time": "2022-08-03T16:06:38.707Z"
   },
   {
    "duration": 12,
    "start_time": "2022-08-03T16:06:38.736Z"
   },
   {
    "duration": 49,
    "start_time": "2022-08-03T16:06:38.751Z"
   },
   {
    "duration": 2158,
    "start_time": "2022-08-03T16:06:38.802Z"
   },
   {
    "duration": 300844,
    "start_time": "2022-08-03T16:06:40.961Z"
   },
   {
    "duration": 3,
    "start_time": "2022-08-03T16:21:02.240Z"
   },
   {
    "duration": 1344,
    "start_time": "2022-08-03T16:21:33.451Z"
   },
   {
    "duration": 3,
    "start_time": "2022-08-03T16:22:33.785Z"
   },
   {
    "duration": 9,
    "start_time": "2022-08-03T16:23:24.373Z"
   },
   {
    "duration": 600,
    "start_time": "2022-08-03T16:23:33.131Z"
   },
   {
    "duration": 102640,
    "start_time": "2022-08-03T16:23:51.792Z"
   },
   {
    "duration": 48,
    "start_time": "2022-08-03T16:25:34.435Z"
   },
   {
    "duration": 1424,
    "start_time": "2022-08-03T16:25:58.140Z"
   },
   {
    "duration": 9,
    "start_time": "2022-08-03T16:26:32.181Z"
   },
   {
    "duration": 53,
    "start_time": "2022-08-03T16:27:11.593Z"
   },
   {
    "duration": 9,
    "start_time": "2022-08-03T16:27:22.412Z"
   },
   {
    "duration": 3,
    "start_time": "2022-08-03T16:28:18.410Z"
   },
   {
    "duration": 12,
    "start_time": "2022-08-03T16:28:27.676Z"
   },
   {
    "duration": 10,
    "start_time": "2022-08-03T16:28:35.581Z"
   },
   {
    "duration": 14,
    "start_time": "2022-08-03T16:28:52.577Z"
   },
   {
    "duration": 43,
    "start_time": "2022-08-03T16:29:48.882Z"
   },
   {
    "duration": 4,
    "start_time": "2022-08-03T16:29:52.222Z"
   },
   {
    "duration": 61,
    "start_time": "2022-08-03T16:29:52.228Z"
   },
   {
    "duration": 11,
    "start_time": "2022-08-03T16:29:52.290Z"
   },
   {
    "duration": 48,
    "start_time": "2022-08-03T16:29:52.303Z"
   },
   {
    "duration": 10,
    "start_time": "2022-08-03T16:29:52.352Z"
   },
   {
    "duration": 14,
    "start_time": "2022-08-03T16:29:52.364Z"
   },
   {
    "duration": 21,
    "start_time": "2022-08-03T16:29:52.379Z"
   },
   {
    "duration": 7,
    "start_time": "2022-08-03T16:29:52.401Z"
   },
   {
    "duration": 1348,
    "start_time": "2022-08-03T16:29:52.409Z"
   },
   {
    "duration": 1571,
    "start_time": "2022-08-03T16:29:53.760Z"
   },
   {
    "duration": 2,
    "start_time": "2022-08-03T16:29:55.333Z"
   },
   {
    "duration": 16,
    "start_time": "2022-08-03T16:29:55.336Z"
   },
   {
    "duration": 9,
    "start_time": "2022-08-03T16:29:55.353Z"
   },
   {
    "duration": 7,
    "start_time": "2022-08-03T16:29:55.375Z"
   },
   {
    "duration": 33,
    "start_time": "2022-08-03T16:29:55.383Z"
   },
   {
    "duration": 7,
    "start_time": "2022-08-03T16:29:55.418Z"
   },
   {
    "duration": 73,
    "start_time": "2022-08-03T16:29:55.427Z"
   },
   {
    "duration": 11,
    "start_time": "2022-08-03T16:29:55.502Z"
   },
   {
    "duration": 430,
    "start_time": "2022-08-03T16:29:55.514Z"
   },
   {
    "duration": 7,
    "start_time": "2022-08-03T16:29:55.946Z"
   },
   {
    "duration": 9,
    "start_time": "2022-08-03T16:29:55.955Z"
   },
   {
    "duration": 564,
    "start_time": "2022-08-03T16:29:55.966Z"
   },
   {
    "duration": 97689,
    "start_time": "2022-08-03T16:29:56.531Z"
   },
   {
    "duration": 1080,
    "start_time": "2022-08-03T16:31:34.222Z"
   },
   {
    "duration": 4,
    "start_time": "2022-08-03T16:31:35.303Z"
   },
   {
    "duration": 110,
    "start_time": "2022-08-03T16:31:35.308Z"
   },
   {
    "duration": 9,
    "start_time": "2022-08-03T16:31:35.420Z"
   },
   {
    "duration": 12,
    "start_time": "2022-08-03T16:31:35.431Z"
   },
   {
    "duration": 87,
    "start_time": "2022-08-03T16:31:35.444Z"
   },
   {
    "duration": 0,
    "start_time": "2022-08-03T16:31:35.532Z"
   },
   {
    "duration": 10,
    "start_time": "2022-08-03T16:33:50.270Z"
   },
   {
    "duration": 13,
    "start_time": "2022-08-03T16:35:03.690Z"
   },
   {
    "duration": 12,
    "start_time": "2022-08-03T16:35:14.230Z"
   },
   {
    "duration": 1285,
    "start_time": "2022-08-03T16:35:28.063Z"
   },
   {
    "duration": 53,
    "start_time": "2022-08-03T16:35:29.350Z"
   },
   {
    "duration": 10,
    "start_time": "2022-08-03T16:35:29.404Z"
   },
   {
    "duration": 51,
    "start_time": "2022-08-03T16:35:29.416Z"
   },
   {
    "duration": 14,
    "start_time": "2022-08-03T16:35:29.468Z"
   },
   {
    "duration": 29,
    "start_time": "2022-08-03T16:35:29.484Z"
   },
   {
    "duration": 3,
    "start_time": "2022-08-03T16:35:29.515Z"
   },
   {
    "duration": 5,
    "start_time": "2022-08-03T16:35:29.519Z"
   },
   {
    "duration": 1416,
    "start_time": "2022-08-03T16:35:29.526Z"
   },
   {
    "duration": 1474,
    "start_time": "2022-08-03T16:35:30.944Z"
   },
   {
    "duration": 3,
    "start_time": "2022-08-03T16:35:32.420Z"
   },
   {
    "duration": 7,
    "start_time": "2022-08-03T16:35:32.424Z"
   },
   {
    "duration": 7,
    "start_time": "2022-08-03T16:35:32.432Z"
   },
   {
    "duration": 4,
    "start_time": "2022-08-03T16:35:32.441Z"
   },
   {
    "duration": 25,
    "start_time": "2022-08-03T16:35:32.446Z"
   },
   {
    "duration": 28,
    "start_time": "2022-08-03T16:35:32.473Z"
   },
   {
    "duration": 99,
    "start_time": "2022-08-03T16:35:32.502Z"
   },
   {
    "duration": 9,
    "start_time": "2022-08-03T16:35:32.604Z"
   },
   {
    "duration": 427,
    "start_time": "2022-08-03T16:35:32.615Z"
   },
   {
    "duration": 8,
    "start_time": "2022-08-03T16:35:33.043Z"
   },
   {
    "duration": 16,
    "start_time": "2022-08-03T16:35:33.052Z"
   },
   {
    "duration": 567,
    "start_time": "2022-08-03T16:35:33.070Z"
   },
   {
    "duration": 98620,
    "start_time": "2022-08-03T16:35:33.639Z"
   },
   {
    "duration": 1046,
    "start_time": "2022-08-03T16:37:12.261Z"
   },
   {
    "duration": 92,
    "start_time": "2022-08-03T16:37:13.309Z"
   },
   {
    "duration": 11,
    "start_time": "2022-08-03T16:37:13.402Z"
   },
   {
    "duration": 10,
    "start_time": "2022-08-03T16:37:13.415Z"
   },
   {
    "duration": 12,
    "start_time": "2022-08-03T16:37:13.427Z"
   },
   {
    "duration": 130,
    "start_time": "2022-08-03T16:37:13.440Z"
   },
   {
    "duration": 0,
    "start_time": "2022-08-03T16:37:13.571Z"
   },
   {
    "duration": 18,
    "start_time": "2022-08-03T16:41:02.204Z"
   },
   {
    "duration": 18,
    "start_time": "2022-08-03T16:41:17.760Z"
   },
   {
    "duration": 1926,
    "start_time": "2022-08-03T16:41:52.415Z"
   },
   {
    "duration": 1403,
    "start_time": "2022-08-03T16:45:48.074Z"
   },
   {
    "duration": 52,
    "start_time": "2022-08-03T16:45:49.479Z"
   },
   {
    "duration": 9,
    "start_time": "2022-08-03T16:45:49.534Z"
   },
   {
    "duration": 44,
    "start_time": "2022-08-03T16:45:49.545Z"
   },
   {
    "duration": 11,
    "start_time": "2022-08-03T16:45:49.600Z"
   },
   {
    "duration": 18,
    "start_time": "2022-08-03T16:45:49.612Z"
   },
   {
    "duration": 4,
    "start_time": "2022-08-03T16:45:49.631Z"
   },
   {
    "duration": 13,
    "start_time": "2022-08-03T16:45:49.636Z"
   },
   {
    "duration": 1460,
    "start_time": "2022-08-03T16:45:49.651Z"
   },
   {
    "duration": 1512,
    "start_time": "2022-08-03T16:45:51.115Z"
   },
   {
    "duration": 3,
    "start_time": "2022-08-03T16:45:52.629Z"
   },
   {
    "duration": 15,
    "start_time": "2022-08-03T16:45:52.633Z"
   },
   {
    "duration": 8,
    "start_time": "2022-08-03T16:45:52.650Z"
   },
   {
    "duration": 5,
    "start_time": "2022-08-03T16:45:52.660Z"
   },
   {
    "duration": 32,
    "start_time": "2022-08-03T16:45:52.667Z"
   },
   {
    "duration": 18,
    "start_time": "2022-08-03T16:45:52.701Z"
   },
   {
    "duration": 3,
    "start_time": "2022-08-03T16:45:52.800Z"
   },
   {
    "duration": 106,
    "start_time": "2022-08-03T16:45:52.805Z"
   },
   {
    "duration": 342,
    "start_time": "2022-08-03T16:45:52.913Z"
   },
   {
    "duration": 8,
    "start_time": "2022-08-03T16:45:53.257Z"
   },
   {
    "duration": 9,
    "start_time": "2022-08-03T16:45:53.267Z"
   },
   {
    "duration": 590,
    "start_time": "2022-08-03T16:45:53.278Z"
   },
   {
    "duration": 98893,
    "start_time": "2022-08-03T16:45:53.870Z"
   },
   {
    "duration": 1135,
    "start_time": "2022-08-03T16:47:32.765Z"
   },
   {
    "duration": 6,
    "start_time": "2022-08-03T16:47:33.902Z"
   },
   {
    "duration": 26,
    "start_time": "2022-08-03T16:47:33.909Z"
   },
   {
    "duration": 13,
    "start_time": "2022-08-03T16:47:33.937Z"
   },
   {
    "duration": 12,
    "start_time": "2022-08-03T16:47:33.953Z"
   },
   {
    "duration": 2057,
    "start_time": "2022-08-03T16:47:33.967Z"
   },
   {
    "duration": 299547,
    "start_time": "2022-08-03T16:47:36.026Z"
   },
   {
    "duration": 769,
    "start_time": "2022-08-03T16:52:35.575Z"
   },
   {
    "duration": 2189,
    "start_time": "2022-08-03T16:57:28.040Z"
   },
   {
    "duration": 2097,
    "start_time": "2022-08-03T16:58:38.736Z"
   },
   {
    "duration": 95,
    "start_time": "2022-08-03T16:59:45.832Z"
   },
   {
    "duration": 95,
    "start_time": "2022-08-03T17:00:25.880Z"
   },
   {
    "duration": 151,
    "start_time": "2022-08-03T17:02:16.658Z"
   },
   {
    "duration": 15,
    "start_time": "2022-08-03T17:03:11.799Z"
   },
   {
    "duration": 156,
    "start_time": "2022-08-03T17:03:36.953Z"
   },
   {
    "duration": 215,
    "start_time": "2022-08-03T17:04:14.191Z"
   },
   {
    "duration": 20,
    "start_time": "2022-08-03T17:07:41.941Z"
   },
   {
    "duration": 19,
    "start_time": "2022-08-03T17:08:52.999Z"
   },
   {
    "duration": 15,
    "start_time": "2022-08-03T17:09:21.741Z"
   },
   {
    "duration": 16,
    "start_time": "2022-08-03T17:09:46.799Z"
   },
   {
    "duration": 14,
    "start_time": "2022-08-03T17:09:52.872Z"
   },
   {
    "duration": 14,
    "start_time": "2022-08-03T17:10:03.990Z"
   },
   {
    "duration": 12,
    "start_time": "2022-08-03T17:11:04.340Z"
   },
   {
    "duration": 13,
    "start_time": "2022-08-03T17:11:52.612Z"
   },
   {
    "duration": 3,
    "start_time": "2022-08-03T17:14:01.091Z"
   },
   {
    "duration": 145,
    "start_time": "2022-08-03T17:14:34.312Z"
   },
   {
    "duration": 315,
    "start_time": "2022-08-03T17:16:33.151Z"
   },
   {
    "duration": 6552,
    "start_time": "2022-08-03T17:17:49.496Z"
   },
   {
    "duration": 332,
    "start_time": "2022-08-03T17:20:12.855Z"
   },
   {
    "duration": 341,
    "start_time": "2022-08-03T17:22:04.994Z"
   },
   {
    "duration": 334,
    "start_time": "2022-08-03T17:22:26.171Z"
   },
   {
    "duration": 570,
    "start_time": "2022-08-03T17:22:53.659Z"
   },
   {
    "duration": 396,
    "start_time": "2022-08-03T17:23:18.993Z"
   },
   {
    "duration": 335,
    "start_time": "2022-08-03T17:23:46.100Z"
   },
   {
    "duration": 521,
    "start_time": "2022-08-03T17:24:08.213Z"
   },
   {
    "duration": 542,
    "start_time": "2022-08-03T17:24:39.030Z"
   },
   {
    "duration": 331,
    "start_time": "2022-08-03T17:25:02.864Z"
   },
   {
    "duration": 639,
    "start_time": "2022-08-03T17:25:43.801Z"
   },
   {
    "duration": 453,
    "start_time": "2022-08-03T17:26:09.371Z"
   },
   {
    "duration": 704,
    "start_time": "2022-08-03T17:26:31.079Z"
   },
   {
    "duration": 54,
    "start_time": "2022-08-04T07:41:00.633Z"
   },
   {
    "duration": 1607,
    "start_time": "2022-08-04T07:41:04.559Z"
   },
   {
    "duration": 96,
    "start_time": "2022-08-04T07:41:06.168Z"
   },
   {
    "duration": 11,
    "start_time": "2022-08-04T07:41:06.265Z"
   },
   {
    "duration": 48,
    "start_time": "2022-08-04T07:41:06.278Z"
   },
   {
    "duration": 10,
    "start_time": "2022-08-04T07:41:06.328Z"
   },
   {
    "duration": 14,
    "start_time": "2022-08-04T07:41:06.339Z"
   },
   {
    "duration": 3,
    "start_time": "2022-08-04T07:41:06.355Z"
   },
   {
    "duration": 5,
    "start_time": "2022-08-04T07:41:06.360Z"
   },
   {
    "duration": 1561,
    "start_time": "2022-08-04T07:41:06.366Z"
   },
   {
    "duration": 1508,
    "start_time": "2022-08-04T07:41:07.930Z"
   },
   {
    "duration": 3,
    "start_time": "2022-08-04T07:41:09.440Z"
   },
   {
    "duration": 7,
    "start_time": "2022-08-04T07:41:09.445Z"
   },
   {
    "duration": 20,
    "start_time": "2022-08-04T07:41:09.454Z"
   },
   {
    "duration": 6,
    "start_time": "2022-08-04T07:41:09.476Z"
   },
   {
    "duration": 42,
    "start_time": "2022-08-04T07:41:09.484Z"
   },
   {
    "duration": 9,
    "start_time": "2022-08-04T07:41:09.528Z"
   },
   {
    "duration": 112,
    "start_time": "2022-08-04T07:41:09.598Z"
   },
   {
    "duration": 13,
    "start_time": "2022-08-04T07:41:09.711Z"
   },
   {
    "duration": 415,
    "start_time": "2022-08-04T07:41:09.725Z"
   },
   {
    "duration": 10,
    "start_time": "2022-08-04T07:41:10.142Z"
   },
   {
    "duration": 16,
    "start_time": "2022-08-04T07:41:10.154Z"
   },
   {
    "duration": 543,
    "start_time": "2022-08-04T07:41:10.172Z"
   },
   {
    "duration": 103434,
    "start_time": "2022-08-04T07:41:10.716Z"
   },
   {
    "duration": 857,
    "start_time": "2022-08-04T07:42:54.152Z"
   },
   {
    "duration": 90,
    "start_time": "2022-08-04T07:42:55.014Z"
   },
   {
    "duration": 19,
    "start_time": "2022-08-04T07:42:55.105Z"
   },
   {
    "duration": 21,
    "start_time": "2022-08-04T07:42:55.125Z"
   },
   {
    "duration": 13,
    "start_time": "2022-08-04T07:42:55.151Z"
   },
   {
    "duration": 2114,
    "start_time": "2022-08-04T07:42:55.166Z"
   },
   {
    "duration": 316812,
    "start_time": "2022-08-04T07:42:57.282Z"
   },
   {
    "duration": 13,
    "start_time": "2022-08-04T07:48:14.095Z"
   },
   {
    "duration": 381,
    "start_time": "2022-08-04T07:48:14.110Z"
   },
   {
    "duration": 411,
    "start_time": "2022-08-04T07:48:14.499Z"
   },
   {
    "duration": 384,
    "start_time": "2022-08-04T07:48:14.912Z"
   },
   {
    "duration": 324,
    "start_time": "2022-08-04T07:48:15.298Z"
   },
   {
    "duration": 428,
    "start_time": "2022-08-04T07:48:15.623Z"
   },
   {
    "duration": 380,
    "start_time": "2022-08-04T07:48:16.053Z"
   },
   {
    "duration": 578,
    "start_time": "2022-08-04T07:48:16.434Z"
   },
   {
    "duration": 443,
    "start_time": "2022-08-04T07:48:17.014Z"
   },
   {
    "duration": 374,
    "start_time": "2022-08-04T07:48:17.459Z"
   },
   {
    "duration": 685,
    "start_time": "2022-08-04T07:48:17.835Z"
   },
   {
    "duration": 504,
    "start_time": "2022-08-04T07:48:18.521Z"
   },
   {
    "duration": 481,
    "start_time": "2022-08-04T07:48:19.027Z"
   },
   {
    "duration": 9,
    "start_time": "2022-08-04T07:48:19.512Z"
   },
   {
    "duration": 3,
    "start_time": "2022-08-04T07:48:22.563Z"
   },
   {
    "duration": 7,
    "start_time": "2022-08-04T07:48:31.883Z"
   },
   {
    "duration": 22,
    "start_time": "2022-08-04T07:48:40.988Z"
   },
   {
    "duration": 15,
    "start_time": "2022-08-04T07:48:52.615Z"
   },
   {
    "duration": 2032,
    "start_time": "2022-08-04T08:02:16.792Z"
   },
   {
    "duration": 1435,
    "start_time": "2022-08-04T08:07:36.514Z"
   },
   {
    "duration": 61,
    "start_time": "2022-08-04T08:07:37.951Z"
   },
   {
    "duration": 11,
    "start_time": "2022-08-04T08:07:38.018Z"
   },
   {
    "duration": 42,
    "start_time": "2022-08-04T08:07:38.031Z"
   },
   {
    "duration": 35,
    "start_time": "2022-08-04T08:07:38.075Z"
   },
   {
    "duration": 15,
    "start_time": "2022-08-04T08:07:38.112Z"
   },
   {
    "duration": 4,
    "start_time": "2022-08-04T08:07:38.129Z"
   },
   {
    "duration": 7,
    "start_time": "2022-08-04T08:07:38.135Z"
   },
   {
    "duration": 1602,
    "start_time": "2022-08-04T08:07:38.144Z"
   },
   {
    "duration": 1518,
    "start_time": "2022-08-04T08:07:39.749Z"
   },
   {
    "duration": 3,
    "start_time": "2022-08-04T08:07:41.268Z"
   },
   {
    "duration": 7,
    "start_time": "2022-08-04T08:07:41.272Z"
   },
   {
    "duration": 17,
    "start_time": "2022-08-04T08:07:41.281Z"
   },
   {
    "duration": 19,
    "start_time": "2022-08-04T08:07:41.300Z"
   },
   {
    "duration": 30,
    "start_time": "2022-08-04T08:07:41.320Z"
   },
   {
    "duration": 7,
    "start_time": "2022-08-04T08:07:41.351Z"
   },
   {
    "duration": 60,
    "start_time": "2022-08-04T08:07:41.360Z"
   },
   {
    "duration": 13,
    "start_time": "2022-08-04T08:07:41.506Z"
   },
   {
    "duration": 420,
    "start_time": "2022-08-04T08:07:41.521Z"
   },
   {
    "duration": 13,
    "start_time": "2022-08-04T08:07:41.943Z"
   },
   {
    "duration": 32,
    "start_time": "2022-08-04T08:07:41.959Z"
   },
   {
    "duration": 533,
    "start_time": "2022-08-04T08:07:41.992Z"
   },
   {
    "duration": 104086,
    "start_time": "2022-08-04T08:07:42.526Z"
   },
   {
    "duration": 1099,
    "start_time": "2022-08-04T08:09:26.614Z"
   },
   {
    "duration": 4,
    "start_time": "2022-08-04T08:09:27.715Z"
   },
   {
    "duration": 94,
    "start_time": "2022-08-04T08:09:27.721Z"
   },
   {
    "duration": 45,
    "start_time": "2022-08-04T08:09:27.817Z"
   },
   {
    "duration": 13,
    "start_time": "2022-08-04T08:09:27.865Z"
   },
   {
    "duration": 2176,
    "start_time": "2022-08-04T08:09:27.880Z"
   },
   {
    "duration": 1528,
    "start_time": "2022-08-04T08:11:13.427Z"
   },
   {
    "duration": 64,
    "start_time": "2022-08-04T08:11:14.958Z"
   },
   {
    "duration": 13,
    "start_time": "2022-08-04T08:11:15.023Z"
   },
   {
    "duration": 67,
    "start_time": "2022-08-04T08:11:15.038Z"
   },
   {
    "duration": 12,
    "start_time": "2022-08-04T08:11:15.112Z"
   },
   {
    "duration": 14,
    "start_time": "2022-08-04T08:11:15.126Z"
   },
   {
    "duration": 4,
    "start_time": "2022-08-04T08:11:15.142Z"
   },
   {
    "duration": 12,
    "start_time": "2022-08-04T08:11:15.147Z"
   },
   {
    "duration": 1680,
    "start_time": "2022-08-04T08:11:15.161Z"
   },
   {
    "duration": 1509,
    "start_time": "2022-08-04T08:11:16.844Z"
   },
   {
    "duration": 3,
    "start_time": "2022-08-04T08:11:18.355Z"
   },
   {
    "duration": 7,
    "start_time": "2022-08-04T08:11:18.359Z"
   },
   {
    "duration": 10,
    "start_time": "2022-08-04T08:11:18.367Z"
   },
   {
    "duration": 26,
    "start_time": "2022-08-04T08:11:18.378Z"
   },
   {
    "duration": 29,
    "start_time": "2022-08-04T08:11:18.413Z"
   },
   {
    "duration": 9,
    "start_time": "2022-08-04T08:11:18.444Z"
   },
   {
    "duration": 114,
    "start_time": "2022-08-04T08:11:18.498Z"
   },
   {
    "duration": 10,
    "start_time": "2022-08-04T08:11:18.614Z"
   },
   {
    "duration": 414,
    "start_time": "2022-08-04T08:11:18.625Z"
   },
   {
    "duration": 7,
    "start_time": "2022-08-04T08:11:19.041Z"
   },
   {
    "duration": 9,
    "start_time": "2022-08-04T08:11:19.050Z"
   },
   {
    "duration": 546,
    "start_time": "2022-08-04T08:11:19.061Z"
   },
   {
    "duration": 104612,
    "start_time": "2022-08-04T08:11:19.608Z"
   },
   {
    "duration": 1081,
    "start_time": "2022-08-04T08:13:04.221Z"
   },
   {
    "duration": 9,
    "start_time": "2022-08-04T08:13:05.308Z"
   },
   {
    "duration": 81,
    "start_time": "2022-08-04T08:13:05.319Z"
   },
   {
    "duration": 14,
    "start_time": "2022-08-04T08:13:05.402Z"
   },
   {
    "duration": 13,
    "start_time": "2022-08-04T08:13:05.420Z"
   },
   {
    "duration": 2228,
    "start_time": "2022-08-04T08:13:05.435Z"
   },
   {
    "duration": 319948,
    "start_time": "2022-08-04T08:13:07.665Z"
   },
   {
    "duration": 348,
    "start_time": "2022-08-04T08:18:27.615Z"
   },
   {
    "duration": 366,
    "start_time": "2022-08-04T08:18:27.965Z"
   },
   {
    "duration": 357,
    "start_time": "2022-08-04T08:18:28.332Z"
   },
   {
    "duration": 336,
    "start_time": "2022-08-04T08:18:28.691Z"
   },
   {
    "duration": 406,
    "start_time": "2022-08-04T08:18:29.029Z"
   },
   {
    "duration": 372,
    "start_time": "2022-08-04T08:18:29.437Z"
   },
   {
    "duration": 567,
    "start_time": "2022-08-04T08:18:29.811Z"
   },
   {
    "duration": 470,
    "start_time": "2022-08-04T08:18:30.380Z"
   },
   {
    "duration": 365,
    "start_time": "2022-08-04T08:18:30.852Z"
   },
   {
    "duration": 663,
    "start_time": "2022-08-04T08:18:31.218Z"
   },
   {
    "duration": 506,
    "start_time": "2022-08-04T08:18:31.883Z"
   },
   {
    "duration": 494,
    "start_time": "2022-08-04T08:18:32.391Z"
   },
   {
    "duration": 74,
    "start_time": "2022-08-04T08:33:52.664Z"
   },
   {
    "duration": 83,
    "start_time": "2022-08-04T08:38:46.279Z"
   },
   {
    "duration": 61,
    "start_time": "2022-08-04T08:47:01.533Z"
   },
   {
    "duration": 2013,
    "start_time": "2022-08-04T16:55:28.325Z"
   },
   {
    "duration": 64,
    "start_time": "2022-08-04T16:55:30.340Z"
   },
   {
    "duration": 14,
    "start_time": "2022-08-04T16:55:30.406Z"
   },
   {
    "duration": 78,
    "start_time": "2022-08-04T16:55:30.421Z"
   },
   {
    "duration": 14,
    "start_time": "2022-08-04T16:55:30.502Z"
   },
   {
    "duration": 31,
    "start_time": "2022-08-04T16:55:30.518Z"
   },
   {
    "duration": 5,
    "start_time": "2022-08-04T16:55:30.550Z"
   },
   {
    "duration": 26,
    "start_time": "2022-08-04T16:55:30.556Z"
   },
   {
    "duration": 1931,
    "start_time": "2022-08-04T16:55:30.584Z"
   },
   {
    "duration": 1742,
    "start_time": "2022-08-04T16:55:32.517Z"
   },
   {
    "duration": 3,
    "start_time": "2022-08-04T16:55:34.261Z"
   },
   {
    "duration": 17,
    "start_time": "2022-08-04T16:55:34.266Z"
   },
   {
    "duration": 8,
    "start_time": "2022-08-04T16:55:34.285Z"
   },
   {
    "duration": 7,
    "start_time": "2022-08-04T16:55:34.297Z"
   },
   {
    "duration": 32,
    "start_time": "2022-08-04T16:55:34.305Z"
   },
   {
    "duration": 12,
    "start_time": "2022-08-04T16:55:34.339Z"
   },
   {
    "duration": 99,
    "start_time": "2022-08-04T16:55:34.393Z"
   },
   {
    "duration": 15,
    "start_time": "2022-08-04T16:55:34.494Z"
   },
   {
    "duration": 461,
    "start_time": "2022-08-04T16:55:34.511Z"
   },
   {
    "duration": 19,
    "start_time": "2022-08-04T16:55:34.973Z"
   },
   {
    "duration": 10,
    "start_time": "2022-08-04T16:55:34.994Z"
   },
   {
    "duration": 648,
    "start_time": "2022-08-04T16:55:35.006Z"
   },
   {
    "duration": 122953,
    "start_time": "2022-08-04T16:55:35.656Z"
   },
   {
    "duration": 1488,
    "start_time": "2022-08-04T16:57:38.611Z"
   },
   {
    "duration": 91,
    "start_time": "2022-08-04T16:57:40.103Z"
   },
   {
    "duration": 14,
    "start_time": "2022-08-04T16:57:40.196Z"
   },
   {
    "duration": 19,
    "start_time": "2022-08-04T16:57:40.211Z"
   },
   {
    "duration": 17,
    "start_time": "2022-08-04T16:57:40.231Z"
   },
   {
    "duration": 2519,
    "start_time": "2022-08-04T16:57:40.249Z"
   },
   {
    "duration": 367212,
    "start_time": "2022-08-04T16:57:42.769Z"
   },
   {
    "duration": 432,
    "start_time": "2022-08-04T17:03:49.983Z"
   },
   {
    "duration": 435,
    "start_time": "2022-08-04T17:03:50.416Z"
   },
   {
    "duration": 434,
    "start_time": "2022-08-04T17:03:50.853Z"
   },
   {
    "duration": 366,
    "start_time": "2022-08-04T17:03:51.291Z"
   },
   {
    "duration": 587,
    "start_time": "2022-08-04T17:03:51.659Z"
   },
   {
    "duration": 427,
    "start_time": "2022-08-04T17:03:52.248Z"
   },
   {
    "duration": 689,
    "start_time": "2022-08-04T17:03:52.677Z"
   },
   {
    "duration": 557,
    "start_time": "2022-08-04T17:03:53.368Z"
   },
   {
    "duration": 439,
    "start_time": "2022-08-04T17:03:53.927Z"
   },
   {
    "duration": 868,
    "start_time": "2022-08-04T17:03:54.368Z"
   },
   {
    "duration": 601,
    "start_time": "2022-08-04T17:03:55.241Z"
   },
   {
    "duration": 573,
    "start_time": "2022-08-04T17:03:55.844Z"
   },
   {
    "duration": 1473,
    "start_time": "2022-08-04T22:21:54.997Z"
   },
   {
    "duration": 1448,
    "start_time": "2022-08-04T22:22:46.329Z"
   }
  ],
  "kernelspec": {
   "display_name": "Python 3 (ipykernel)",
   "language": "python",
   "name": "python3"
  },
  "language_info": {
   "codemirror_mode": {
    "name": "ipython",
    "version": 3
   },
   "file_extension": ".py",
   "mimetype": "text/x-python",
   "name": "python",
   "nbconvert_exporter": "python",
   "pygments_lexer": "ipython3",
   "version": "3.9.12"
  },
  "toc": {
   "base_numbering": 1,
   "nav_menu": {},
   "number_sections": true,
   "sideBar": true,
   "skip_h1_title": true,
   "title_cell": "Структура проекта",
   "title_sidebar": "Contents",
   "toc_cell": true,
   "toc_position": {
    "height": "calc(100% - 180px)",
    "left": "10px",
    "top": "150px",
    "width": "254.398px"
   },
   "toc_section_display": true,
   "toc_window_display": true
  },
  "widgets": {
   "application/vnd.jupyter.widget-state+json": {
    "state": {},
    "version_major": 2,
    "version_minor": 0
   }
  }
 },
 "nbformat": 4,
 "nbformat_minor": 2
}
