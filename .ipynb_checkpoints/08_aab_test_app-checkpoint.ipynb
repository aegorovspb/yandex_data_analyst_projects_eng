{
 "cells": [
  {
   "cell_type": "markdown",
   "metadata": {},
   "source": [
    "**Project \"APP 'Products'\". Analysis of A/A/B test results**\n",
    "\n",
    "We have data on the user behavior of the mobile app of a startup that sells food. Based on the available data, we will study user behavior.\n",
    "\n",
    "Let's study the sales funnel. Find out how users reach a purchase. How many users reach the purchase, and how many “remain” in the previous steps? Which ones exactly?\n",
    "\n",
    "\n",
    "**The main goal of the project** is to rate the sales funnel based on A/A/B tests. We need to find out which of the tested fonts increases sales. During the analysis, we must find additional parameters for evaluating the effectiveness of fonts.\n",
    "\n",
    "Input data:\n",
    "\n",
    "ExpId is the number of the experiment: \n",
    "- 246 and 247 are the control groups\n",
    "- 248 is the experimental group\n",
    "\n",
    "Events under study: Main Screen, Offer Screen, Payment Screen, Payment Confirmation, Tuttorial\n",
    "\n",
    "\n",
    "**Project structure:**\n",
    "\n",
    "1. Download data\n",
    "2. Data preparation\n",
    "3. Examining and validating data\n",
    "4. Studying the sales funnel (events)\n",
    "5. Sales Funnel Charts (Events)\n",
    "6. Studying the results of the experiment\n",
    "7. General results"
   ]
  },
  {
   "cell_type": "markdown",
   "metadata": {},
   "source": [
    "### 1. Download data"
   ]
  },
  {
   "cell_type": "code",
   "execution_count": 1,
   "metadata": {},
   "outputs": [],
   "source": [
    "# download libraries\n",
    "\n",
    "import pandas as pd\n",
    "import datetime as dt\n",
    "import numpy as np\n",
    "import matplotlib.pyplot as plt\n",
    "import seaborn as sns\n",
    "import string as str\n",
    "from collections import Counter\n",
    "from scipy import stats as st\n",
    "import scipy.stats as stats\n",
    "\n",
    "import math as mth\n",
    "from statsmodels.stats.multitest import multipletests\n",
    "\n",
    "import warnings\n",
    "warnings.filterwarnings(\"ignore\")\n",
    "\n",
    "# sales funnel charts\n",
    "from plotly import graph_objects as go\n"
   ]
  },
  {
   "cell_type": "code",
   "execution_count": 2,
   "metadata": {},
   "outputs": [
    {
     "name": "stdout",
     "output_type": "stream",
     "text": [
      "File name: logs_exp.csv\n",
      "logs_exp.csv has been downloaded from the server\n",
      "logs_exp.csv has been downloaded from local host\n"
     ]
    }
   ],
   "source": [
    "# getting name of DF file after download\n",
    "import os\n",
    "\n",
    "# download data, using separator\n",
    "\n",
    "# download data from server or local host\n",
    "# attempt_1 - the way and the mane of the file for download from server \n",
    "# attempt_2 - the way and the mane of the file for download from local\n",
    "\n",
    "attempt_1 ='https://code.s3.yandex.net/datasets/logs_exp.csv'\n",
    "attempt_2 ='C://yandex_data_sets/08_logs_exp.csv'\n",
    "\n",
    "# getting name of the file\n",
    "name_os_data = os.path.basename(attempt_1)\n",
    "print('File name:',name_os_data)\n",
    "\n",
    "# error processing when you uploading a file\n",
    "try:\n",
    "    data = pd.read_csv(attempt_1, sep='\\t') \n",
    "    print(name_os_data, 'has been downloaded from the server')\n",
    "except:\n",
    "    print('Server error')\n",
    "try:\n",
    "    data = pd.read_csv(attempt_2, sep='\\t') \n",
    "    print(name_os_data, 'has been downloaded from local host')\n",
    "except:\n",
    "    print('Local Error')\n",
    "\n"
   ]
  },
  {
   "cell_type": "code",
   "execution_count": 3,
   "metadata": {},
   "outputs": [
    {
     "data": {
      "text/html": [
       "<div>\n",
       "<style scoped>\n",
       "    .dataframe tbody tr th:only-of-type {\n",
       "        vertical-align: middle;\n",
       "    }\n",
       "\n",
       "    .dataframe tbody tr th {\n",
       "        vertical-align: top;\n",
       "    }\n",
       "\n",
       "    .dataframe thead th {\n",
       "        text-align: right;\n",
       "    }\n",
       "</style>\n",
       "<table border=\"1\" class=\"dataframe\">\n",
       "  <thead>\n",
       "    <tr style=\"text-align: right;\">\n",
       "      <th></th>\n",
       "      <th>EventName</th>\n",
       "      <th>DeviceIDHash</th>\n",
       "      <th>EventTimestamp</th>\n",
       "      <th>ExpId</th>\n",
       "    </tr>\n",
       "  </thead>\n",
       "  <tbody>\n",
       "    <tr>\n",
       "      <th>0</th>\n",
       "      <td>MainScreenAppear</td>\n",
       "      <td>4575588528974610257</td>\n",
       "      <td>1564029816</td>\n",
       "      <td>246</td>\n",
       "    </tr>\n",
       "    <tr>\n",
       "      <th>1</th>\n",
       "      <td>MainScreenAppear</td>\n",
       "      <td>7416695313311560658</td>\n",
       "      <td>1564053102</td>\n",
       "      <td>246</td>\n",
       "    </tr>\n",
       "    <tr>\n",
       "      <th>2</th>\n",
       "      <td>PaymentScreenSuccessful</td>\n",
       "      <td>3518123091307005509</td>\n",
       "      <td>1564054127</td>\n",
       "      <td>248</td>\n",
       "    </tr>\n",
       "  </tbody>\n",
       "</table>\n",
       "</div>"
      ],
      "text/plain": [
       "                 EventName         DeviceIDHash  EventTimestamp  ExpId\n",
       "0         MainScreenAppear  4575588528974610257      1564029816    246\n",
       "1         MainScreenAppear  7416695313311560658      1564053102    246\n",
       "2  PaymentScreenSuccessful  3518123091307005509      1564054127    248"
      ]
     },
     "metadata": {},
     "output_type": "display_data"
    },
    {
     "name": "stdout",
     "output_type": "stream",
     "text": [
      "<class 'pandas.core.frame.DataFrame'>\n",
      "RangeIndex: 244126 entries, 0 to 244125\n",
      "Data columns (total 4 columns):\n",
      " #   Column          Non-Null Count   Dtype \n",
      "---  ------          --------------   ----- \n",
      " 0   EventName       244126 non-null  object\n",
      " 1   DeviceIDHash    244126 non-null  int64 \n",
      " 2   EventTimestamp  244126 non-null  int64 \n",
      " 3   ExpId           244126 non-null  int64 \n",
      "dtypes: int64(3), object(1)\n",
      "memory usage: 7.5+ MB\n"
     ]
    }
   ],
   "source": [
    "# look at the data\n",
    "\n",
    "display(data.head(3))\n",
    "data.describe()\n",
    "data.info()"
   ]
  },
  {
   "cell_type": "markdown",
   "metadata": {},
   "source": [
    "## 2. Data preparation"
   ]
  },
  {
   "cell_type": "code",
   "execution_count": 4,
   "metadata": {},
   "outputs": [],
   "source": [
    "# change forma of datetime\n",
    "\n",
    "data['EventTimestamp'] = pd.to_datetime(data['EventTimestamp'], unit='s')"
   ]
  },
  {
   "cell_type": "code",
   "execution_count": 5,
   "metadata": {},
   "outputs": [
    {
     "data": {
      "text/html": [
       "<div>\n",
       "<style scoped>\n",
       "    .dataframe tbody tr th:only-of-type {\n",
       "        vertical-align: middle;\n",
       "    }\n",
       "\n",
       "    .dataframe tbody tr th {\n",
       "        vertical-align: top;\n",
       "    }\n",
       "\n",
       "    .dataframe thead th {\n",
       "        text-align: right;\n",
       "    }\n",
       "</style>\n",
       "<table border=\"1\" class=\"dataframe\">\n",
       "  <thead>\n",
       "    <tr style=\"text-align: right;\">\n",
       "      <th></th>\n",
       "      <th>EventName</th>\n",
       "      <th>DeviceIDHash</th>\n",
       "      <th>EventTimestamp</th>\n",
       "      <th>ExpId</th>\n",
       "    </tr>\n",
       "  </thead>\n",
       "  <tbody>\n",
       "    <tr>\n",
       "      <th>0</th>\n",
       "      <td>MainScreenAppear</td>\n",
       "      <td>4575588528974610257</td>\n",
       "      <td>2019-07-25 04:43:36</td>\n",
       "      <td>246</td>\n",
       "    </tr>\n",
       "    <tr>\n",
       "      <th>1</th>\n",
       "      <td>MainScreenAppear</td>\n",
       "      <td>7416695313311560658</td>\n",
       "      <td>2019-07-25 11:11:42</td>\n",
       "      <td>246</td>\n",
       "    </tr>\n",
       "    <tr>\n",
       "      <th>2</th>\n",
       "      <td>PaymentScreenSuccessful</td>\n",
       "      <td>3518123091307005509</td>\n",
       "      <td>2019-07-25 11:28:47</td>\n",
       "      <td>248</td>\n",
       "    </tr>\n",
       "  </tbody>\n",
       "</table>\n",
       "</div>"
      ],
      "text/plain": [
       "                 EventName         DeviceIDHash      EventTimestamp  ExpId\n",
       "0         MainScreenAppear  4575588528974610257 2019-07-25 04:43:36    246\n",
       "1         MainScreenAppear  7416695313311560658 2019-07-25 11:11:42    246\n",
       "2  PaymentScreenSuccessful  3518123091307005509 2019-07-25 11:28:47    248"
      ]
     },
     "metadata": {},
     "output_type": "display_data"
    }
   ],
   "source": [
    "display(data.head(3))"
   ]
  },
  {
   "cell_type": "code",
   "execution_count": 6,
   "metadata": {},
   "outputs": [],
   "source": [
    "# change titles\n",
    "\n",
    "data.rename(columns = {'EventName':'event_name','DeviceIDHash':'device_id','ExpId':'exp_id'}, inplace = True)"
   ]
  },
  {
   "cell_type": "code",
   "execution_count": 7,
   "metadata": {},
   "outputs": [
    {
     "data": {
      "text/plain": [
       "array(['event_name', 'device_id', 'EventTimestamp', 'exp_id'],\n",
       "      dtype=object)"
      ]
     },
     "execution_count": 7,
     "metadata": {},
     "output_type": "execute_result"
    }
   ],
   "source": [
    "# check titles\n",
    "data.columns.values"
   ]
  },
  {
   "cell_type": "code",
   "execution_count": 8,
   "metadata": {},
   "outputs": [
    {
     "data": {
      "text/html": [
       "<div>\n",
       "<style scoped>\n",
       "    .dataframe tbody tr th:only-of-type {\n",
       "        vertical-align: middle;\n",
       "    }\n",
       "\n",
       "    .dataframe tbody tr th {\n",
       "        vertical-align: top;\n",
       "    }\n",
       "\n",
       "    .dataframe thead th {\n",
       "        text-align: right;\n",
       "    }\n",
       "</style>\n",
       "<table border=\"1\" class=\"dataframe\">\n",
       "  <thead>\n",
       "    <tr style=\"text-align: right;\">\n",
       "      <th></th>\n",
       "      <th>event_name</th>\n",
       "      <th>device_id</th>\n",
       "      <th>EventTimestamp</th>\n",
       "      <th>exp_id</th>\n",
       "      <th>event_date</th>\n",
       "    </tr>\n",
       "  </thead>\n",
       "  <tbody>\n",
       "    <tr>\n",
       "      <th>0</th>\n",
       "      <td>MainScreenAppear</td>\n",
       "      <td>4575588528974610257</td>\n",
       "      <td>2019-07-25 04:43:36</td>\n",
       "      <td>246</td>\n",
       "      <td>2019-07-25</td>\n",
       "    </tr>\n",
       "    <tr>\n",
       "      <th>1</th>\n",
       "      <td>MainScreenAppear</td>\n",
       "      <td>7416695313311560658</td>\n",
       "      <td>2019-07-25 11:11:42</td>\n",
       "      <td>246</td>\n",
       "      <td>2019-07-25</td>\n",
       "    </tr>\n",
       "    <tr>\n",
       "      <th>2</th>\n",
       "      <td>PaymentScreenSuccessful</td>\n",
       "      <td>3518123091307005509</td>\n",
       "      <td>2019-07-25 11:28:47</td>\n",
       "      <td>248</td>\n",
       "      <td>2019-07-25</td>\n",
       "    </tr>\n",
       "  </tbody>\n",
       "</table>\n",
       "</div>"
      ],
      "text/plain": [
       "                event_name            device_id      EventTimestamp  exp_id  \\\n",
       "0         MainScreenAppear  4575588528974610257 2019-07-25 04:43:36     246   \n",
       "1         MainScreenAppear  7416695313311560658 2019-07-25 11:11:42     246   \n",
       "2  PaymentScreenSuccessful  3518123091307005509 2019-07-25 11:28:47     248   \n",
       "\n",
       "   event_date  \n",
       "0  2019-07-25  \n",
       "1  2019-07-25  \n",
       "2  2019-07-25  "
      ]
     },
     "metadata": {},
     "output_type": "display_data"
    }
   ],
   "source": [
    "# add a new column event_date with out time\n",
    "data['event_date']=data['EventTimestamp'].dt.strftime('%Y-%m-%d')\n",
    "display(data.head(3))"
   ]
  },
  {
   "cell_type": "code",
   "execution_count": 9,
   "metadata": {},
   "outputs": [
    {
     "name": "stdout",
     "output_type": "stream",
     "text": [
      "Duplicates data 413\n"
     ]
    }
   ],
   "source": [
    "# count the duplicates\n",
    "print('Duplicates data', data.duplicated().sum())"
   ]
  },
  {
   "cell_type": "code",
   "execution_count": 10,
   "metadata": {},
   "outputs": [
    {
     "data": {
      "text/html": [
       "<div>\n",
       "<style scoped>\n",
       "    .dataframe tbody tr th:only-of-type {\n",
       "        vertical-align: middle;\n",
       "    }\n",
       "\n",
       "    .dataframe tbody tr th {\n",
       "        vertical-align: top;\n",
       "    }\n",
       "\n",
       "    .dataframe thead th {\n",
       "        text-align: right;\n",
       "    }\n",
       "</style>\n",
       "<table border=\"1\" class=\"dataframe\">\n",
       "  <thead>\n",
       "    <tr style=\"text-align: right;\">\n",
       "      <th></th>\n",
       "      <th>event_name</th>\n",
       "      <th>device_id</th>\n",
       "      <th>EventTimestamp</th>\n",
       "      <th>exp_id</th>\n",
       "      <th>event_date</th>\n",
       "    </tr>\n",
       "  </thead>\n",
       "  <tbody>\n",
       "    <tr>\n",
       "      <th>453</th>\n",
       "      <td>MainScreenAppear</td>\n",
       "      <td>5613408041324010552</td>\n",
       "      <td>2019-07-30 08:19:44</td>\n",
       "      <td>248</td>\n",
       "      <td>2019-07-30</td>\n",
       "    </tr>\n",
       "    <tr>\n",
       "      <th>2350</th>\n",
       "      <td>CartScreenAppear</td>\n",
       "      <td>1694940645335807244</td>\n",
       "      <td>2019-07-31 21:51:39</td>\n",
       "      <td>248</td>\n",
       "      <td>2019-07-31</td>\n",
       "    </tr>\n",
       "    <tr>\n",
       "      <th>3573</th>\n",
       "      <td>MainScreenAppear</td>\n",
       "      <td>434103746454591587</td>\n",
       "      <td>2019-08-01 02:59:37</td>\n",
       "      <td>248</td>\n",
       "      <td>2019-08-01</td>\n",
       "    </tr>\n",
       "    <tr>\n",
       "      <th>4076</th>\n",
       "      <td>MainScreenAppear</td>\n",
       "      <td>3761373764179762633</td>\n",
       "      <td>2019-08-01 03:47:46</td>\n",
       "      <td>247</td>\n",
       "      <td>2019-08-01</td>\n",
       "    </tr>\n",
       "    <tr>\n",
       "      <th>4803</th>\n",
       "      <td>MainScreenAppear</td>\n",
       "      <td>2835328739789306622</td>\n",
       "      <td>2019-08-01 04:44:01</td>\n",
       "      <td>248</td>\n",
       "      <td>2019-08-01</td>\n",
       "    </tr>\n",
       "    <tr>\n",
       "      <th>...</th>\n",
       "      <td>...</td>\n",
       "      <td>...</td>\n",
       "      <td>...</td>\n",
       "      <td>...</td>\n",
       "      <td>...</td>\n",
       "    </tr>\n",
       "    <tr>\n",
       "      <th>242329</th>\n",
       "      <td>MainScreenAppear</td>\n",
       "      <td>8870358373313968633</td>\n",
       "      <td>2019-08-07 19:26:44</td>\n",
       "      <td>247</td>\n",
       "      <td>2019-08-07</td>\n",
       "    </tr>\n",
       "    <tr>\n",
       "      <th>242332</th>\n",
       "      <td>PaymentScreenSuccessful</td>\n",
       "      <td>4718002964983105693</td>\n",
       "      <td>2019-08-07 19:26:45</td>\n",
       "      <td>247</td>\n",
       "      <td>2019-08-07</td>\n",
       "    </tr>\n",
       "    <tr>\n",
       "      <th>242360</th>\n",
       "      <td>PaymentScreenSuccessful</td>\n",
       "      <td>2382591782303281935</td>\n",
       "      <td>2019-08-07 19:27:29</td>\n",
       "      <td>246</td>\n",
       "      <td>2019-08-07</td>\n",
       "    </tr>\n",
       "    <tr>\n",
       "      <th>242362</th>\n",
       "      <td>CartScreenAppear</td>\n",
       "      <td>2382591782303281935</td>\n",
       "      <td>2019-08-07 19:27:29</td>\n",
       "      <td>246</td>\n",
       "      <td>2019-08-07</td>\n",
       "    </tr>\n",
       "    <tr>\n",
       "      <th>242635</th>\n",
       "      <td>MainScreenAppear</td>\n",
       "      <td>4097782667445790512</td>\n",
       "      <td>2019-08-07 19:36:58</td>\n",
       "      <td>246</td>\n",
       "      <td>2019-08-07</td>\n",
       "    </tr>\n",
       "  </tbody>\n",
       "</table>\n",
       "<p>413 rows × 5 columns</p>\n",
       "</div>"
      ],
      "text/plain": [
       "                     event_name            device_id      EventTimestamp  \\\n",
       "453            MainScreenAppear  5613408041324010552 2019-07-30 08:19:44   \n",
       "2350           CartScreenAppear  1694940645335807244 2019-07-31 21:51:39   \n",
       "3573           MainScreenAppear   434103746454591587 2019-08-01 02:59:37   \n",
       "4076           MainScreenAppear  3761373764179762633 2019-08-01 03:47:46   \n",
       "4803           MainScreenAppear  2835328739789306622 2019-08-01 04:44:01   \n",
       "...                         ...                  ...                 ...   \n",
       "242329         MainScreenAppear  8870358373313968633 2019-08-07 19:26:44   \n",
       "242332  PaymentScreenSuccessful  4718002964983105693 2019-08-07 19:26:45   \n",
       "242360  PaymentScreenSuccessful  2382591782303281935 2019-08-07 19:27:29   \n",
       "242362         CartScreenAppear  2382591782303281935 2019-08-07 19:27:29   \n",
       "242635         MainScreenAppear  4097782667445790512 2019-08-07 19:36:58   \n",
       "\n",
       "        exp_id  event_date  \n",
       "453        248  2019-07-30  \n",
       "2350       248  2019-07-31  \n",
       "3573       248  2019-08-01  \n",
       "4076       247  2019-08-01  \n",
       "4803       248  2019-08-01  \n",
       "...        ...         ...  \n",
       "242329     247  2019-08-07  \n",
       "242332     247  2019-08-07  \n",
       "242360     246  2019-08-07  \n",
       "242362     246  2019-08-07  \n",
       "242635     246  2019-08-07  \n",
       "\n",
       "[413 rows x 5 columns]"
      ]
     },
     "metadata": {},
     "output_type": "display_data"
    }
   ],
   "source": [
    "# looking at duplicates\n",
    "dubble = data[data.duplicated()]\n",
    "display(dubble)"
   ]
  },
  {
   "cell_type": "markdown",
   "metadata": {},
   "source": [
    "Without additional verification, it is difficult to understand what these duplicates are and the reasons for their appearance, because duplicates less than 1% will remove them"
   ]
  },
  {
   "cell_type": "code",
   "execution_count": 11,
   "metadata": {},
   "outputs": [],
   "source": [
    "# delete duplicates\n",
    "# with out drop=True the old column will remain index, will be dubble\n",
    "\n",
    "data=data.drop_duplicates().reset_index(drop=True)"
   ]
  },
  {
   "cell_type": "code",
   "execution_count": 12,
   "metadata": {},
   "outputs": [
    {
     "name": "stdout",
     "output_type": "stream",
     "text": [
      "Duplicates data 0\n"
     ]
    }
   ],
   "source": [
    "# count the duplicates\n",
    "print('Duplicates data', data.duplicated().sum())"
   ]
  },
  {
   "cell_type": "markdown",
   "metadata": {},
   "source": [
    "**Conclusions on loading and preparing data:**\n",
    "\n",
    "- changed date type\n",
    "- removed duplicates"
   ]
  },
  {
   "cell_type": "markdown",
   "metadata": {},
   "source": [
    "## Examining and validating data"
   ]
  },
  {
   "cell_type": "markdown",
   "metadata": {},
   "source": [
    "### Events in log"
   ]
  },
  {
   "cell_type": "code",
   "execution_count": 13,
   "metadata": {},
   "outputs": [
    {
     "data": {
      "text/plain": [
       "array(['MainScreenAppear', 'PaymentScreenSuccessful', 'CartScreenAppear',\n",
       "       'OffersScreenAppear', 'Tutorial'], dtype=object)"
      ]
     },
     "metadata": {},
     "output_type": "display_data"
    }
   ],
   "source": [
    "# looking at events\n",
    "\n",
    "display(data['event_name'].unique())"
   ]
  },
  {
   "cell_type": "markdown",
   "metadata": {},
   "source": [
    "### Users in log"
   ]
  },
  {
   "cell_type": "code",
   "execution_count": 14,
   "metadata": {},
   "outputs": [
    {
     "data": {
      "text/plain": [
       "7551"
      ]
     },
     "metadata": {},
     "output_type": "display_data"
    }
   ],
   "source": [
    "# looking at users\n",
    "\n",
    "display(len(data['device_id'].unique()))"
   ]
  },
  {
   "cell_type": "markdown",
   "metadata": {},
   "source": [
    "### How many events for per user on average?"
   ]
  },
  {
   "cell_type": "code",
   "execution_count": 15,
   "metadata": {},
   "outputs": [
    {
     "data": {
      "text/html": [
       "<div>\n",
       "<style scoped>\n",
       "    .dataframe tbody tr th:only-of-type {\n",
       "        vertical-align: middle;\n",
       "    }\n",
       "\n",
       "    .dataframe tbody tr th {\n",
       "        vertical-align: top;\n",
       "    }\n",
       "\n",
       "    .dataframe thead th {\n",
       "        text-align: right;\n",
       "    }\n",
       "</style>\n",
       "<table border=\"1\" class=\"dataframe\">\n",
       "  <thead>\n",
       "    <tr style=\"text-align: right;\">\n",
       "      <th></th>\n",
       "      <th>device_id</th>\n",
       "      <th>event_name</th>\n",
       "    </tr>\n",
       "  </thead>\n",
       "  <tbody>\n",
       "    <tr>\n",
       "      <th>0</th>\n",
       "      <td>6888746892508752</td>\n",
       "      <td>1</td>\n",
       "    </tr>\n",
       "    <tr>\n",
       "      <th>1</th>\n",
       "      <td>6909561520679493</td>\n",
       "      <td>5</td>\n",
       "    </tr>\n",
       "    <tr>\n",
       "      <th>2</th>\n",
       "      <td>6922444491712477</td>\n",
       "      <td>47</td>\n",
       "    </tr>\n",
       "  </tbody>\n",
       "</table>\n",
       "</div>"
      ],
      "text/plain": [
       "          device_id  event_name\n",
       "0  6888746892508752           1\n",
       "1  6909561520679493           5\n",
       "2  6922444491712477          47"
      ]
     },
     "execution_count": 15,
     "metadata": {},
     "output_type": "execute_result"
    }
   ],
   "source": [
    "mean_users = data.pivot_table(index=['device_id'], values='event_name', aggfunc='count').reset_index()\n",
    "mean_users.head(3)"
   ]
  },
  {
   "cell_type": "code",
   "execution_count": 16,
   "metadata": {},
   "outputs": [
    {
     "data": {
      "text/html": [
       "<div>\n",
       "<style scoped>\n",
       "    .dataframe tbody tr th:only-of-type {\n",
       "        vertical-align: middle;\n",
       "    }\n",
       "\n",
       "    .dataframe tbody tr th {\n",
       "        vertical-align: top;\n",
       "    }\n",
       "\n",
       "    .dataframe thead th {\n",
       "        text-align: right;\n",
       "    }\n",
       "</style>\n",
       "<table border=\"1\" class=\"dataframe\">\n",
       "  <thead>\n",
       "    <tr style=\"text-align: right;\">\n",
       "      <th></th>\n",
       "      <th>device_id</th>\n",
       "      <th>event_name</th>\n",
       "    </tr>\n",
       "  </thead>\n",
       "  <tbody>\n",
       "    <tr>\n",
       "      <th>count</th>\n",
       "      <td>7.551000e+03</td>\n",
       "      <td>7551.000000</td>\n",
       "    </tr>\n",
       "    <tr>\n",
       "      <th>mean</th>\n",
       "      <td>4.677319e+18</td>\n",
       "      <td>32.275593</td>\n",
       "    </tr>\n",
       "    <tr>\n",
       "      <th>std</th>\n",
       "      <td>2.655343e+18</td>\n",
       "      <td>65.154219</td>\n",
       "    </tr>\n",
       "    <tr>\n",
       "      <th>min</th>\n",
       "      <td>6.888747e+15</td>\n",
       "      <td>1.000000</td>\n",
       "    </tr>\n",
       "    <tr>\n",
       "      <th>25%</th>\n",
       "      <td>2.397700e+18</td>\n",
       "      <td>9.000000</td>\n",
       "    </tr>\n",
       "    <tr>\n",
       "      <th>50%</th>\n",
       "      <td>4.688022e+18</td>\n",
       "      <td>20.000000</td>\n",
       "    </tr>\n",
       "    <tr>\n",
       "      <th>75%</th>\n",
       "      <td>7.007353e+18</td>\n",
       "      <td>37.000000</td>\n",
       "    </tr>\n",
       "    <tr>\n",
       "      <th>max</th>\n",
       "      <td>9.222603e+18</td>\n",
       "      <td>2307.000000</td>\n",
       "    </tr>\n",
       "  </tbody>\n",
       "</table>\n",
       "</div>"
      ],
      "text/plain": [
       "          device_id   event_name\n",
       "count  7.551000e+03  7551.000000\n",
       "mean   4.677319e+18    32.275593\n",
       "std    2.655343e+18    65.154219\n",
       "min    6.888747e+15     1.000000\n",
       "25%    2.397700e+18     9.000000\n",
       "50%    4.688022e+18    20.000000\n",
       "75%    7.007353e+18    37.000000\n",
       "max    9.222603e+18  2307.000000"
      ]
     },
     "execution_count": 16,
     "metadata": {},
     "output_type": "execute_result"
    }
   ],
   "source": [
    "mean_users.describe()"
   ]
  },
  {
   "cell_type": "markdown",
   "metadata": {},
   "source": [
    "On average, there are 32 events per user. Median 20. There are outliers. Maximum 2307"
   ]
  },
  {
   "cell_type": "code",
   "execution_count": 17,
   "metadata": {},
   "outputs": [
    {
     "data": {
      "image/png": "[encoded data removed]",
      "text/plain": [
       "<Figure size 1080x144 with 1 Axes>"
      ]
     },
     "metadata": {
      "needs_background": "light"
     },
     "output_type": "display_data"
    }
   ],
   "source": [
    "plt.figure(figsize=(15,2))\n",
    "# set df and color\n",
    "sns.boxplot(mean_users['event_name'], palette=\"Set1\")\n",
    "\n",
    "plt.title('Outliers: default scale', fontsize=22)\n",
    "plt.show()"
   ]
  },
  {
   "cell_type": "code",
   "execution_count": 18,
   "metadata": {},
   "outputs": [
    {
     "data": {
      "image/png": "[encoded data removed]",
      "text/plain": [
       "<Figure size 1080x144 with 1 Axes>"
      ]
     },
     "metadata": {
      "needs_background": "light"
     },
     "output_type": "display_data"
    }
   ],
   "source": [
    "plt.figure(figsize=(15,2))\n",
    "# set df and color\n",
    "sns.boxplot(mean_users['event_name'], palette=\"Set1\")\n",
    "# set a limit\n",
    "plt.xlim((0,100))\n",
    "plt.title('Outliers: approximation up to 100 events', fontsize=22)\n",
    "plt.show()"
   ]
  },
  {
   "cell_type": "markdown",
   "metadata": {},
   "source": [
    "Based on the graph, it is possible to estimate the emissions from 80 events, consider the number of emissions"
   ]
  },
  {
   "cell_type": "code",
   "execution_count": 19,
   "metadata": {},
   "outputs": [
    {
     "data": {
      "text/plain": [
       "494"
      ]
     },
     "execution_count": 19,
     "metadata": {},
     "output_type": "execute_result"
    }
   ],
   "source": [
    "users_with_event_bigger_80 = mean_users.query('event_name >= 80')\n",
    "len(users_with_event_bigger_80.query('event_name >= 80'))"
   ]
  },
  {
   "cell_type": "markdown",
   "metadata": {},
   "source": [
    "There are 7555 users in total across all groups, outliers account for 494 users, they greatly change the picture, the average event, they should be removed, but this can greatly affect the realism of A / A groups. When analyzing the conversion, the removal of outliers is ineffective, because we do not count the number of events, but the fact of the occurrence of the event.\n",
    "\n",
    "Let's leave the data as it is. However, for comparison, let's make a sales funnel with emissions of more than 80 events per user and without them."
   ]
  },
  {
   "cell_type": "markdown",
   "metadata": {},
   "source": [
    "### What period do we have data for?"
   ]
  },
  {
   "cell_type": "code",
   "execution_count": 20,
   "metadata": {},
   "outputs": [
    {
     "name": "stdout",
     "output_type": "stream",
     "text": [
      "Maximum date 2019-08-07\n",
      "Minimum date 2019-07-25\n"
     ]
    }
   ],
   "source": [
    "print('Maximum date', data['event_date'].max())\n",
    "print('Minimum date', data['event_date'].min())"
   ]
  },
  {
   "cell_type": "code",
   "execution_count": 21,
   "metadata": {},
   "outputs": [
    {
     "data": {
      "text/html": [
       "<div>\n",
       "<style scoped>\n",
       "    .dataframe tbody tr th:only-of-type {\n",
       "        vertical-align: middle;\n",
       "    }\n",
       "\n",
       "    .dataframe tbody tr th {\n",
       "        vertical-align: top;\n",
       "    }\n",
       "\n",
       "    .dataframe thead th {\n",
       "        text-align: right;\n",
       "    }\n",
       "</style>\n",
       "<table border=\"1\" class=\"dataframe\">\n",
       "  <thead>\n",
       "    <tr style=\"text-align: right;\">\n",
       "      <th></th>\n",
       "      <th>event_name</th>\n",
       "      <th>device_id</th>\n",
       "      <th>EventTimestamp</th>\n",
       "      <th>exp_id</th>\n",
       "      <th>event_date</th>\n",
       "    </tr>\n",
       "  </thead>\n",
       "  <tbody>\n",
       "    <tr>\n",
       "      <th>0</th>\n",
       "      <td>MainScreenAppear</td>\n",
       "      <td>4575588528974610257</td>\n",
       "      <td>2019-07-25 04:43:36</td>\n",
       "      <td>246</td>\n",
       "      <td>2019-07-25</td>\n",
       "    </tr>\n",
       "    <tr>\n",
       "      <th>1</th>\n",
       "      <td>MainScreenAppear</td>\n",
       "      <td>7416695313311560658</td>\n",
       "      <td>2019-07-25 11:11:42</td>\n",
       "      <td>246</td>\n",
       "      <td>2019-07-25</td>\n",
       "    </tr>\n",
       "    <tr>\n",
       "      <th>2</th>\n",
       "      <td>PaymentScreenSuccessful</td>\n",
       "      <td>3518123091307005509</td>\n",
       "      <td>2019-07-25 11:28:47</td>\n",
       "      <td>248</td>\n",
       "      <td>2019-07-25</td>\n",
       "    </tr>\n",
       "  </tbody>\n",
       "</table>\n",
       "</div>"
      ],
      "text/plain": [
       "                event_name            device_id      EventTimestamp  exp_id  \\\n",
       "0         MainScreenAppear  4575588528974610257 2019-07-25 04:43:36     246   \n",
       "1         MainScreenAppear  7416695313311560658 2019-07-25 11:11:42     246   \n",
       "2  PaymentScreenSuccessful  3518123091307005509 2019-07-25 11:28:47     248   \n",
       "\n",
       "   event_date  \n",
       "0  2019-07-25  \n",
       "1  2019-07-25  \n",
       "2  2019-07-25  "
      ]
     },
     "metadata": {},
     "output_type": "display_data"
    }
   ],
   "source": [
    "display(data.head(3))"
   ]
  },
  {
   "cell_type": "markdown",
   "metadata": {},
   "source": [
    "### Build a histogram by date and time. "
   ]
  },
  {
   "cell_type": "code",
   "execution_count": 22,
   "metadata": {},
   "outputs": [
    {
     "data": {
      "image/png": "[encoded data removed]",
      "text/plain": [
       "<Figure size 1080x360 with 1 Axes>"
      ]
     },
     "metadata": {
      "needs_background": "light"
     },
     "output_type": "display_data"
    }
   ],
   "source": [
    "# the period when we started collecting logs and their distribution\n",
    "\n",
    "date_users = data['EventTimestamp']\n",
    "\n",
    "fig = plt.figure(figsize=(15, 5))\n",
    "plt.hist(date_users, color='maroon', bins=7*24, width=0.1)\n",
    "plt.ylabel('Number of users')\n",
    "# plt.xlabel('Date')\n",
    "plt.title('for the entire period')\n",
    "plt.xticks(rotation = 35)\n",
    "plt.show()\n"
   ]
  },
  {
   "cell_type": "markdown",
   "metadata": {},
   "source": [
    "The graph shows that since 2019-08-01 there has been a sharp jump in the number of users. this is a startup, then most likely this is due to the launch of the product, before that it was most likely pre-production."
   ]
  },
  {
   "cell_type": "markdown",
   "metadata": {},
   "source": [
    "#### Determine from what point the data is complete and discard the older ones."
   ]
  },
  {
   "cell_type": "code",
   "execution_count": 23,
   "metadata": {},
   "outputs": [
    {
     "data": {
      "text/plain": [
       "array(['MainScreenAppear', 'PaymentScreenSuccessful', 'CartScreenAppear',\n",
       "       'OffersScreenAppear', 'Tutorial'], dtype=object)"
      ]
     },
     "execution_count": 23,
     "metadata": {},
     "output_type": "execute_result"
    }
   ],
   "source": [
    "# looking at events\n",
    "\n",
    "befor_2019_08_01=data.query('event_date < \"2019-08-01\"')\n",
    "befor_2019_08_01['event_name'].unique()"
   ]
  },
  {
   "cell_type": "markdown",
   "metadata": {},
   "source": [
    "The list of events is the same as in all data, the events are complete."
   ]
  },
  {
   "cell_type": "code",
   "execution_count": 24,
   "metadata": {},
   "outputs": [
    {
     "name": "stdout",
     "output_type": "stream",
     "text": [
      "Count of users 1451\n"
     ]
    }
   ],
   "source": [
    "# count of users\n",
    "# use the length of the list of unique users\n",
    "print('Count of users', len(befor_2019_08_01['device_id'].unique()))"
   ]
  },
  {
   "cell_type": "code",
   "execution_count": 25,
   "metadata": {},
   "outputs": [
    {
     "data": {
      "text/plain": [
       "array([246, 248, 247], dtype=int64)"
      ]
     },
     "execution_count": 25,
     "metadata": {},
     "output_type": "execute_result"
    }
   ],
   "source": [
    "# testing groups\n",
    "befor_2019_08_01['exp_id'].unique()"
   ]
  },
  {
   "cell_type": "markdown",
   "metadata": {},
   "source": [
    "We see that there are all three groups"
   ]
  },
  {
   "cell_type": "markdown",
   "metadata": {},
   "source": [
    "#### Determine from what point the data is complete and discard the old ones."
   ]
  },
  {
   "cell_type": "markdown",
   "metadata": {},
   "source": [
    "Obviously, the data is complete: there are events, there are unique users, but since this period can be considered a test period, it is logical to assume that user behavior could differ greatly due to the operation of the application itself. Therefore, we will take the data from the moment the application was fully launched - 2019-08-01\n",
    "    "
   ]
  },
  {
   "cell_type": "code",
   "execution_count": 26,
   "metadata": {},
   "outputs": [],
   "source": [
    "# use filter\n",
    "data_after = data.query('event_date >= \"2019-08-01\"')"
   ]
  },
  {
   "cell_type": "code",
   "execution_count": 27,
   "metadata": {},
   "outputs": [
    {
     "data": {
      "image/png": "[encoded data removed]",
      "text/plain": [
       "<Figure size 1080x360 with 1 Axes>"
      ]
     },
     "metadata": {
      "needs_background": "light"
     },
     "output_type": "display_data"
    }
   ],
   "source": [
    "# events after filtering by date\n",
    "date_users = data_after['EventTimestamp']\n",
    "\n",
    "fig = plt.figure(figsize=(15, 5))\n",
    "plt.hist(date_users, color='#CB3335', bins=7*24, width=0.1)\n",
    "plt.ylabel('Number of users')\n",
    "# plt.xlabel('Date')\n",
    "plt.title('Histogram date from 2019-08-01')\n",
    "plt.xticks(rotation = 35)\n",
    "# turn on the grid\n",
    "plt.grid(which='major')\n",
    "plt.show()"
   ]
  },
  {
   "cell_type": "markdown",
   "metadata": {},
   "source": [
    "#### What time period do we actually have data for?"
   ]
  },
  {
   "cell_type": "code",
   "execution_count": 28,
   "metadata": {},
   "outputs": [
    {
     "name": "stdout",
     "output_type": "stream",
     "text": [
      "Maximum date after filtering 2019-08-07\n",
      "Minimum date after filtering 2019-08-01\n"
     ]
    }
   ],
   "source": [
    "print('Maximum date after filtering', data_after['event_date'].max())\n",
    "print('Minimum date after filtering', data_after['event_date'].min())"
   ]
  },
  {
   "cell_type": "markdown",
   "metadata": {},
   "source": [
    "We have a sample for 7 days. This is also clearly visible on the graph."
   ]
  },
  {
   "cell_type": "markdown",
   "metadata": {},
   "source": [
    "#### How many events and users have we lost by discarding old data?"
   ]
  },
  {
   "cell_type": "code",
   "execution_count": 29,
   "metadata": {},
   "outputs": [
    {
     "name": "stdout",
     "output_type": "stream",
     "text": [
      "All events 243713\n",
      "All users 7551\n",
      "All group 3\n",
      "\n",
      "Events in 7 days 240887\n",
      "Users in 7 days 7534\n",
      "Groups in 7 days 3\n",
      "Data loss:\n",
      "Events: 2826 this is 1.16%\n",
      "Users: 17 this is 0.23%\n",
      "Groups: 0 this is 0.00%\n"
     ]
    }
   ],
   "source": [
    "# consider the amount of data before and after filtering\n",
    "# use the length of the unique data\n",
    "\n",
    "all_event = len(data['event_name'])\n",
    "all_users = len(data['device_id'].unique())\n",
    "all_group = len(data['exp_id'].unique())\n",
    "all_event_after = len(data_after['event_name'])\n",
    "all_users_after = len(data_after['device_id'].unique())\n",
    "all_group_after = len(data_after['exp_id'].unique())\n",
    "\n",
    "\n",
    "print('All events', all_event)\n",
    "print('All users', all_users)\n",
    "print('All group', all_group)\n",
    "print()\n",
    "print('Events in 7 days', all_event_after)\n",
    "print('Users in 7 days', all_users_after)\n",
    "print('Groups in 7 days', all_group_after)\n",
    "print('Data loss:')\n",
    "print('Events:', all_event - all_event_after, 'this is', f'{(all_event - all_event_after) /all_event :.2%}' )\n",
    "print('Users:', all_users - all_users_after, 'this is', f'{(all_users - all_users_after) /all_users :.2%}' )\n",
    "print('Groups:', all_group - all_group_after, 'this is', f'{(all_group - all_group_after) /all_group :.2%}' )"
   ]
  },
  {
   "cell_type": "markdown",
   "metadata": {},
   "source": [
    "#### Let's check that we have users from all three experimental groups."
   ]
  },
  {
   "cell_type": "code",
   "execution_count": 30,
   "metadata": {},
   "outputs": [
    {
     "data": {
      "text/html": [
       "<div>\n",
       "<style scoped>\n",
       "    .dataframe tbody tr th:only-of-type {\n",
       "        vertical-align: middle;\n",
       "    }\n",
       "\n",
       "    .dataframe tbody tr th {\n",
       "        vertical-align: top;\n",
       "    }\n",
       "\n",
       "    .dataframe thead th {\n",
       "        text-align: right;\n",
       "    }\n",
       "</style>\n",
       "<table border=\"1\" class=\"dataframe\">\n",
       "  <thead>\n",
       "    <tr style=\"text-align: right;\">\n",
       "      <th></th>\n",
       "      <th>exp_id</th>\n",
       "      <th>device_id</th>\n",
       "    </tr>\n",
       "  </thead>\n",
       "  <tbody>\n",
       "    <tr>\n",
       "      <th>2</th>\n",
       "      <td>248</td>\n",
       "      <td>2542</td>\n",
       "    </tr>\n",
       "    <tr>\n",
       "      <th>1</th>\n",
       "      <td>247</td>\n",
       "      <td>2520</td>\n",
       "    </tr>\n",
       "    <tr>\n",
       "      <th>0</th>\n",
       "      <td>246</td>\n",
       "      <td>2489</td>\n",
       "    </tr>\n",
       "  </tbody>\n",
       "</table>\n",
       "</div>"
      ],
      "text/plain": [
       "   exp_id  device_id\n",
       "2     248       2542\n",
       "1     247       2520\n",
       "0     246       2489"
      ]
     },
     "metadata": {},
     "output_type": "display_data"
    }
   ],
   "source": [
    "# lets group exp_id (groups) and device_id (users)\n",
    "\n",
    "users = data.pivot_table(index=['exp_id'], values='device_id', aggfunc='nunique').reset_index().sort_values(by='device_id', ascending=False)\n",
    "display(users)"
   ]
  },
  {
   "cell_type": "code",
   "execution_count": 31,
   "metadata": {},
   "outputs": [
    {
     "data": {
      "text/html": [
       "<div>\n",
       "<style scoped>\n",
       "    .dataframe tbody tr th:only-of-type {\n",
       "        vertical-align: middle;\n",
       "    }\n",
       "\n",
       "    .dataframe tbody tr th {\n",
       "        vertical-align: top;\n",
       "    }\n",
       "\n",
       "    .dataframe thead th {\n",
       "        text-align: right;\n",
       "    }\n",
       "</style>\n",
       "<table border=\"1\" class=\"dataframe\">\n",
       "  <thead>\n",
       "    <tr style=\"text-align: right;\">\n",
       "      <th></th>\n",
       "      <th>exp_id</th>\n",
       "      <th>device_id</th>\n",
       "    </tr>\n",
       "  </thead>\n",
       "  <tbody>\n",
       "    <tr>\n",
       "      <th>2</th>\n",
       "      <td>248</td>\n",
       "      <td>2537</td>\n",
       "    </tr>\n",
       "    <tr>\n",
       "      <th>1</th>\n",
       "      <td>247</td>\n",
       "      <td>2513</td>\n",
       "    </tr>\n",
       "    <tr>\n",
       "      <th>0</th>\n",
       "      <td>246</td>\n",
       "      <td>2484</td>\n",
       "    </tr>\n",
       "  </tbody>\n",
       "</table>\n",
       "</div>"
      ],
      "text/plain": [
       "   exp_id  device_id\n",
       "2     248       2537\n",
       "1     247       2513\n",
       "0     246       2484"
      ]
     },
     "metadata": {},
     "output_type": "display_data"
    }
   ],
   "source": [
    "# lets group exp_id (groups) and device_id (users)\n",
    "# after 2019-08-01\n",
    "display(data_after.pivot_table(index=['exp_id'], values='device_id', aggfunc='nunique').reset_index().sort_values(by='device_id', ascending=False))"
   ]
  },
  {
   "cell_type": "code",
   "execution_count": 32,
   "metadata": {},
   "outputs": [
    {
     "data": {
      "text/html": [
       "<div>\n",
       "<style scoped>\n",
       "    .dataframe tbody tr th:only-of-type {\n",
       "        vertical-align: middle;\n",
       "    }\n",
       "\n",
       "    .dataframe tbody tr th {\n",
       "        vertical-align: top;\n",
       "    }\n",
       "\n",
       "    .dataframe thead th {\n",
       "        text-align: right;\n",
       "    }\n",
       "</style>\n",
       "<table border=\"1\" class=\"dataframe\">\n",
       "  <thead>\n",
       "    <tr style=\"text-align: right;\">\n",
       "      <th></th>\n",
       "      <th>exp_id</th>\n",
       "      <th>device_id</th>\n",
       "    </tr>\n",
       "  </thead>\n",
       "  <tbody>\n",
       "    <tr>\n",
       "      <th>2</th>\n",
       "      <td>248</td>\n",
       "      <td>508</td>\n",
       "    </tr>\n",
       "    <tr>\n",
       "      <th>1</th>\n",
       "      <td>247</td>\n",
       "      <td>484</td>\n",
       "    </tr>\n",
       "    <tr>\n",
       "      <th>0</th>\n",
       "      <td>246</td>\n",
       "      <td>459</td>\n",
       "    </tr>\n",
       "  </tbody>\n",
       "</table>\n",
       "</div>"
      ],
      "text/plain": [
       "   exp_id  device_id\n",
       "2     248        508\n",
       "1     247        484\n",
       "0     246        459"
      ]
     },
     "metadata": {},
     "output_type": "display_data"
    }
   ],
   "source": [
    "# lets group exp_id (groups) and device_id (users)\n",
    "# befor 2019-08-01\n",
    "users_3 = befor_2019_08_01.pivot_table(index=['exp_id'], values='device_id', aggfunc='nunique').reset_index().sort_values(by='device_id', ascending=False)\n",
    "display(users_3)"
   ]
  },
  {
   "cell_type": "markdown",
   "metadata": {},
   "source": [
    "We have users in all three groups and for all periods."
   ]
  },
  {
   "cell_type": "markdown",
   "metadata": {},
   "source": [
    "### Remove users with more than 80 events."
   ]
  },
  {
   "cell_type": "code",
   "execution_count": 33,
   "metadata": {},
   "outputs": [
    {
     "data": {
      "text/html": [
       "<div>\n",
       "<style scoped>\n",
       "    .dataframe tbody tr th:only-of-type {\n",
       "        vertical-align: middle;\n",
       "    }\n",
       "\n",
       "    .dataframe tbody tr th {\n",
       "        vertical-align: top;\n",
       "    }\n",
       "\n",
       "    .dataframe thead th {\n",
       "        text-align: right;\n",
       "    }\n",
       "</style>\n",
       "<table border=\"1\" class=\"dataframe\">\n",
       "  <thead>\n",
       "    <tr style=\"text-align: right;\">\n",
       "      <th></th>\n",
       "      <th>device_id</th>\n",
       "      <th>event_name</th>\n",
       "    </tr>\n",
       "  </thead>\n",
       "  <tbody>\n",
       "    <tr>\n",
       "      <th>4</th>\n",
       "      <td>7702139951469979</td>\n",
       "      <td>137</td>\n",
       "    </tr>\n",
       "    <tr>\n",
       "      <th>9</th>\n",
       "      <td>15708180189885246</td>\n",
       "      <td>126</td>\n",
       "    </tr>\n",
       "    <tr>\n",
       "      <th>58</th>\n",
       "      <td>77364241990273403</td>\n",
       "      <td>98</td>\n",
       "    </tr>\n",
       "  </tbody>\n",
       "</table>\n",
       "</div>"
      ],
      "text/plain": [
       "            device_id  event_name\n",
       "4    7702139951469979         137\n",
       "9   15708180189885246         126\n",
       "58  77364241990273403          98"
      ]
     },
     "metadata": {},
     "output_type": "display_data"
    }
   ],
   "source": [
    "# users with more than 80 events\n",
    "display(users_with_event_bigger_80.head(3))"
   ]
  },
  {
   "cell_type": "code",
   "execution_count": 34,
   "metadata": {},
   "outputs": [
    {
     "name": "stdout",
     "output_type": "stream",
     "text": [
      "494\n"
     ]
    }
   ],
   "source": [
    "# create a table where the indexes will be the user ids that need to be deleted\n",
    "good_ids = users_with_event_bigger_80.pivot_table(index='device_id', values='event_name')\n",
    "print(len(good_ids))"
   ]
  },
  {
   "cell_type": "code",
   "execution_count": 35,
   "metadata": {},
   "outputs": [
    {
     "name": "stdout",
     "output_type": "stream",
     "text": [
      "The ratio of filtered data to the remaining 0.657\n"
     ]
    }
   ],
   "source": [
    "# filter by values matching id in good_ids\n",
    "data_users_bigger_80 = data_after.query('device_id not in @good_ids.index')\n",
    "print('The ratio of filtered data to the remaining', round(len(data_users_bigger_80) / len(data), 3))"
   ]
  },
  {
   "cell_type": "code",
   "execution_count": 36,
   "metadata": {},
   "outputs": [
    {
     "data": {
      "image/png": "[encoded data removed]",
      "text/plain": [
       "<Figure size 1080x360 with 1 Axes>"
      ]
     },
     "metadata": {
      "needs_background": "light"
     },
     "output_type": "display_data"
    }
   ],
   "source": [
    "# events after filtering by date and events over 80\n",
    "date_users = data_users_bigger_80['EventTimestamp']\n",
    "\n",
    "fig = plt.figure(figsize=(15, 5))\n",
    "plt.hist(date_users, color='#CB3335', bins=7*24, width=0.1)\n",
    "plt.ylabel('Number of users')\n",
    "# plt.xlabel('Date')\n",
    "plt.title('Histogram date from 2019-08-01 and event filter more than 80')\n",
    "\n",
    "# add a 35 degree rotation\n",
    "plt.xticks(rotation = 35)\n",
    "\n",
    "# turn on the grid\n",
    "plt.grid(which='major')\n",
    "\n",
    "plt.show()"
   ]
  },
  {
   "cell_type": "code",
   "execution_count": 37,
   "metadata": {},
   "outputs": [
    {
     "data": {
      "image/png": "[encoded data removed]",
      "text/plain": [
       "<Figure size 1080x216 with 1 Axes>"
      ]
     },
     "metadata": {
      "needs_background": "light"
     },
     "output_type": "display_data"
    }
   ],
   "source": [
    "mean_users_bigger_80 = data_users_bigger_80.pivot_table(index=['device_id'], values='event_name', aggfunc='count').reset_index()\n",
    "\n",
    "# emissions after filtration\n",
    "plt.figure(figsize=(15,3))\n",
    "sns.boxplot(mean_users_bigger_80['event_name'], palette=\"Set1\");"
   ]
  },
  {
   "cell_type": "code",
   "execution_count": 38,
   "metadata": {},
   "outputs": [
    {
     "data": {
      "text/html": [
       "<div>\n",
       "<style scoped>\n",
       "    .dataframe tbody tr th:only-of-type {\n",
       "        vertical-align: middle;\n",
       "    }\n",
       "\n",
       "    .dataframe tbody tr th {\n",
       "        vertical-align: top;\n",
       "    }\n",
       "\n",
       "    .dataframe thead th {\n",
       "        text-align: right;\n",
       "    }\n",
       "</style>\n",
       "<table border=\"1\" class=\"dataframe\">\n",
       "  <thead>\n",
       "    <tr style=\"text-align: right;\">\n",
       "      <th></th>\n",
       "      <th>device_id</th>\n",
       "      <th>event_name</th>\n",
       "    </tr>\n",
       "  </thead>\n",
       "  <tbody>\n",
       "    <tr>\n",
       "      <th>count</th>\n",
       "      <td>7.040000e+03</td>\n",
       "      <td>7040.000000</td>\n",
       "    </tr>\n",
       "    <tr>\n",
       "      <th>mean</th>\n",
       "      <td>4.678303e+18</td>\n",
       "      <td>22.746023</td>\n",
       "    </tr>\n",
       "    <tr>\n",
       "      <th>std</th>\n",
       "      <td>2.658259e+18</td>\n",
       "      <td>17.774470</td>\n",
       "    </tr>\n",
       "    <tr>\n",
       "      <th>min</th>\n",
       "      <td>6.888747e+15</td>\n",
       "      <td>1.000000</td>\n",
       "    </tr>\n",
       "    <tr>\n",
       "      <th>25%</th>\n",
       "      <td>2.393722e+18</td>\n",
       "      <td>9.000000</td>\n",
       "    </tr>\n",
       "    <tr>\n",
       "      <th>50%</th>\n",
       "      <td>4.692496e+18</td>\n",
       "      <td>18.000000</td>\n",
       "    </tr>\n",
       "    <tr>\n",
       "      <th>75%</th>\n",
       "      <td>7.020374e+18</td>\n",
       "      <td>32.000000</td>\n",
       "    </tr>\n",
       "    <tr>\n",
       "      <th>max</th>\n",
       "      <td>9.222603e+18</td>\n",
       "      <td>79.000000</td>\n",
       "    </tr>\n",
       "  </tbody>\n",
       "</table>\n",
       "</div>"
      ],
      "text/plain": [
       "          device_id   event_name\n",
       "count  7.040000e+03  7040.000000\n",
       "mean   4.678303e+18    22.746023\n",
       "std    2.658259e+18    17.774470\n",
       "min    6.888747e+15     1.000000\n",
       "25%    2.393722e+18     9.000000\n",
       "50%    4.692496e+18    18.000000\n",
       "75%    7.020374e+18    32.000000\n",
       "max    9.222603e+18    79.000000"
      ]
     },
     "execution_count": 38,
     "metadata": {},
     "output_type": "execute_result"
    }
   ],
   "source": [
    "# data after filtering by 80 events\n",
    "mean_users_bigger_80.describe()"
   ]
  },
  {
   "cell_type": "markdown",
   "metadata": {},
   "source": [
    "#### Conclusions on data preparation."
   ]
  },
  {
   "cell_type": "markdown",
   "metadata": {},
   "source": [
    "- left data for 7 days\n",
    "- the number of users in the remaining groups is approximately the same\n",
    "- less than 1% data is lost as a result of sampling by date\n",
    "- according to the boxplot graph, it is clearly seen that after removing the outliers, there was a general averaging of the data: the outliers decreased, the mean and median approached the same value\n",
    "- the number of users after filtering by 80 events has decreased, which is expected, it also visually reduced the maximum peaks, but in general the picture remained the same"
   ]
  },
  {
   "cell_type": "markdown",
   "metadata": {},
   "source": [
    "### Exploring the sales funnel."
   ]
  },
  {
   "cell_type": "markdown",
   "metadata": {},
   "source": [
    "### Let's see what events are in the logs, how often they occur."
   ]
  },
  {
   "cell_type": "code",
   "execution_count": 39,
   "metadata": {},
   "outputs": [
    {
     "data": {
      "image/png": "[encoded data removed]",
      "text/plain": [
       "<Figure size 1296x360 with 1 Axes>"
      ]
     },
     "metadata": {
      "needs_background": "light"
     },
     "output_type": "display_data"
    }
   ],
   "source": [
    "#create a pivot table with event_name as index\n",
    "events_users = data_after.pivot_table(index=['event_name'], values='device_id', aggfunc='count').reset_index().sort_values(by='device_id', ascending=False)\n",
    "plt.figure(figsize=(18, 5))\n",
    "sns.barplot(data = events_users, x='event_name', y='device_id')\n",
    "plt.ylabel('Users')\n",
    "plt.xlabel('Events')\n",
    "plt.title('What events are in the logs')\n",
    "#plt.xticks(rotation = 90)\n",
    "plt.show()"
   ]
  },
  {
   "cell_type": "markdown",
   "metadata": {},
   "source": [
    "The graph shows that the events are arranged according to the classic sales funnel:\n",
    "- main screen\n",
    "- offer, less than 2 times\n",
    "- card payment, slight delay\n",
    "- payment completed successfully, slight backlog\n",
    "- tutorial, it fits into the general scheme, although the tutorial is not directly related to other events, it can not be considered."
   ]
  },
  {
   "cell_type": "markdown",
   "metadata": {},
   "source": [
    "### Consider unique users and the ratio of their actions"
   ]
  },
  {
   "cell_type": "code",
   "execution_count": 40,
   "metadata": {},
   "outputs": [],
   "source": [
    "# create pivot table event / user\n",
    "event_unique=data_after.groupby('event_name')['device_id'].nunique().reset_index().sort_values(by='device_id', ascending=False)\n"
   ]
  },
  {
   "cell_type": "code",
   "execution_count": 41,
   "metadata": {},
   "outputs": [
    {
     "name": "stdout",
     "output_type": "stream",
     "text": [
      "Count of unique users 7534\n"
     ]
    }
   ],
   "source": [
    "# calculate the total number of unique users\n",
    "count_of_customders = len(data_after['device_id'].unique())\n",
    "print('Count of unique users', count_of_customders)"
   ]
  },
  {
   "cell_type": "code",
   "execution_count": 42,
   "metadata": {},
   "outputs": [
    {
     "data": {
      "text/html": [
       "<style type=\"text/css\">\n",
       "</style>\n",
       "<table id=\"T_b6606\">\n",
       "  <thead>\n",
       "    <tr>\n",
       "      <th class=\"blank level0\" >&nbsp;</th>\n",
       "      <th id=\"T_b6606_level0_col0\" class=\"col_heading level0 col0\" >event_name</th>\n",
       "      <th id=\"T_b6606_level0_col1\" class=\"col_heading level0 col1\" >device_id</th>\n",
       "      <th id=\"T_b6606_level0_col2\" class=\"col_heading level0 col2\" >ratio</th>\n",
       "    </tr>\n",
       "  </thead>\n",
       "  <tbody>\n",
       "    <tr>\n",
       "      <th id=\"T_b6606_level0_row0\" class=\"row_heading level0 row0\" >1</th>\n",
       "      <td id=\"T_b6606_row0_col0\" class=\"data row0 col0\" >MainScreenAppear</td>\n",
       "      <td id=\"T_b6606_row0_col1\" class=\"data row0 col1\" >7419</td>\n",
       "      <td id=\"T_b6606_row0_col2\" class=\"data row0 col2\" >98.47%</td>\n",
       "    </tr>\n",
       "    <tr>\n",
       "      <th id=\"T_b6606_level0_row1\" class=\"row_heading level0 row1\" >2</th>\n",
       "      <td id=\"T_b6606_row1_col0\" class=\"data row1 col0\" >OffersScreenAppear</td>\n",
       "      <td id=\"T_b6606_row1_col1\" class=\"data row1 col1\" >4593</td>\n",
       "      <td id=\"T_b6606_row1_col2\" class=\"data row1 col2\" >60.96%</td>\n",
       "    </tr>\n",
       "    <tr>\n",
       "      <th id=\"T_b6606_level0_row2\" class=\"row_heading level0 row2\" >0</th>\n",
       "      <td id=\"T_b6606_row2_col0\" class=\"data row2 col0\" >CartScreenAppear</td>\n",
       "      <td id=\"T_b6606_row2_col1\" class=\"data row2 col1\" >3734</td>\n",
       "      <td id=\"T_b6606_row2_col2\" class=\"data row2 col2\" >49.56%</td>\n",
       "    </tr>\n",
       "    <tr>\n",
       "      <th id=\"T_b6606_level0_row3\" class=\"row_heading level0 row3\" >3</th>\n",
       "      <td id=\"T_b6606_row3_col0\" class=\"data row3 col0\" >PaymentScreenSuccessful</td>\n",
       "      <td id=\"T_b6606_row3_col1\" class=\"data row3 col1\" >3539</td>\n",
       "      <td id=\"T_b6606_row3_col2\" class=\"data row3 col2\" >46.97%</td>\n",
       "    </tr>\n",
       "    <tr>\n",
       "      <th id=\"T_b6606_level0_row4\" class=\"row_heading level0 row4\" >4</th>\n",
       "      <td id=\"T_b6606_row4_col0\" class=\"data row4 col0\" >Tutorial</td>\n",
       "      <td id=\"T_b6606_row4_col1\" class=\"data row4 col1\" >840</td>\n",
       "      <td id=\"T_b6606_row4_col2\" class=\"data row4 col2\" >11.15%</td>\n",
       "    </tr>\n",
       "  </tbody>\n",
       "</table>\n"
      ],
      "text/plain": [
       "<pandas.io.formats.style.Styler at 0x20382f1d820>"
      ]
     },
     "execution_count": 42,
     "metadata": {},
     "output_type": "execute_result"
    }
   ],
   "source": [
    "# ratio\n",
    "event_unique['ratio']=(event_unique['device_id']/count_of_customders)*100\n",
    "\n",
    "event_unique.style.format({'ratio': '{:.2f}%'})"
   ]
  },
  {
   "cell_type": "markdown",
   "metadata": {},
   "source": [
    "### In what order do events take place?"
   ]
  },
  {
   "cell_type": "markdown",
   "metadata": {},
   "source": [
    "- main screen\n",
    "- offer, less than 2 times\n",
    "- card payment, slight delay\n",
    "- payment completed successfully, slight backlog\n",
    "\n",
    "The sequence of events then stops.\n",
    "- tutorial, it fits into the general scheme, although the tutorial is not directly related to other events, it can not be considered. The last table shows that less than 5% of all users look at the tutorial."
   ]
  },
  {
   "cell_type": "markdown",
   "metadata": {},
   "source": [
    "### Sales funnel charts."
   ]
  },
  {
   "cell_type": "markdown",
   "metadata": {},
   "source": [
    "Let's look at data on users from all test groups"
   ]
  },
  {
   "cell_type": "code",
   "execution_count": 43,
   "metadata": {
    "scrolled": true
   },
   "outputs": [
    {
     "data": {
      "text/html": [
       "<style type=\"text/css\">\n",
       "</style>\n",
       "<table id=\"T_b7148\">\n",
       "  <thead>\n",
       "    <tr>\n",
       "      <th class=\"blank level0\" >&nbsp;</th>\n",
       "      <th id=\"T_b7148_level0_col0\" class=\"col_heading level0 col0\" >event_name</th>\n",
       "      <th id=\"T_b7148_level0_col1\" class=\"col_heading level0 col1\" >device_id</th>\n",
       "      <th id=\"T_b7148_level0_col2\" class=\"col_heading level0 col2\" >ratio</th>\n",
       "      <th id=\"T_b7148_level0_col3\" class=\"col_heading level0 col3\" >relations</th>\n",
       "    </tr>\n",
       "  </thead>\n",
       "  <tbody>\n",
       "    <tr>\n",
       "      <th id=\"T_b7148_level0_row0\" class=\"row_heading level0 row0\" >1</th>\n",
       "      <td id=\"T_b7148_row0_col0\" class=\"data row0 col0\" >MainScreenAppear</td>\n",
       "      <td id=\"T_b7148_row0_col1\" class=\"data row0 col1\" >7419</td>\n",
       "      <td id=\"T_b7148_row0_col2\" class=\"data row0 col2\" >98.473586</td>\n",
       "      <td id=\"T_b7148_row0_col3\" class=\"data row0 col3\" >nan%</td>\n",
       "    </tr>\n",
       "    <tr>\n",
       "      <th id=\"T_b7148_level0_row1\" class=\"row_heading level0 row1\" >2</th>\n",
       "      <td id=\"T_b7148_row1_col0\" class=\"data row1 col0\" >OffersScreenAppear</td>\n",
       "      <td id=\"T_b7148_row1_col1\" class=\"data row1 col1\" >4593</td>\n",
       "      <td id=\"T_b7148_row1_col2\" class=\"data row1 col2\" >60.963632</td>\n",
       "      <td id=\"T_b7148_row1_col3\" class=\"data row1 col3\" >61.91%</td>\n",
       "    </tr>\n",
       "    <tr>\n",
       "      <th id=\"T_b7148_level0_row2\" class=\"row_heading level0 row2\" >0</th>\n",
       "      <td id=\"T_b7148_row2_col0\" class=\"data row2 col0\" >CartScreenAppear</td>\n",
       "      <td id=\"T_b7148_row2_col1\" class=\"data row2 col1\" >3734</td>\n",
       "      <td id=\"T_b7148_row2_col2\" class=\"data row2 col2\" >49.561986</td>\n",
       "      <td id=\"T_b7148_row2_col3\" class=\"data row2 col3\" >81.30%</td>\n",
       "    </tr>\n",
       "    <tr>\n",
       "      <th id=\"T_b7148_level0_row3\" class=\"row_heading level0 row3\" >3</th>\n",
       "      <td id=\"T_b7148_row3_col0\" class=\"data row3 col0\" >PaymentScreenSuccessful</td>\n",
       "      <td id=\"T_b7148_row3_col1\" class=\"data row3 col1\" >3539</td>\n",
       "      <td id=\"T_b7148_row3_col2\" class=\"data row3 col2\" >46.973719</td>\n",
       "      <td id=\"T_b7148_row3_col3\" class=\"data row3 col3\" >94.78%</td>\n",
       "    </tr>\n",
       "  </tbody>\n",
       "</table>\n"
      ],
      "text/plain": [
       "<pandas.io.formats.style.Styler at 0x20384ba92b0>"
      ]
     },
     "metadata": {},
     "output_type": "display_data"
    }
   ],
   "source": [
    "# calculate the ratio of the previous to the next use the shift() function\n",
    "# what proportion of users go to the next step\n",
    "event_unique['relations'] = event_unique['device_id']/event_unique['device_id'].shift()*100\n",
    "\n",
    "# delete row at index 4 (Tutorial)\n",
    "event_unique = event_unique.drop(index=[4])\n",
    "display(event_unique.style.format({'share': '{:.2f}%',\n",
    "                         'relations': '{:.2f}%'})\n",
    "       )"
   ]
  },
  {
   "cell_type": "code",
   "execution_count": 44,
   "metadata": {},
   "outputs": [
    {
     "data": {
      "text/html": [
       "<div>\n",
       "<style scoped>\n",
       "    .dataframe tbody tr th:only-of-type {\n",
       "        vertical-align: middle;\n",
       "    }\n",
       "\n",
       "    .dataframe tbody tr th {\n",
       "        vertical-align: top;\n",
       "    }\n",
       "\n",
       "    .dataframe thead th {\n",
       "        text-align: right;\n",
       "    }\n",
       "</style>\n",
       "<table border=\"1\" class=\"dataframe\">\n",
       "  <thead>\n",
       "    <tr style=\"text-align: right;\">\n",
       "      <th></th>\n",
       "      <th>event_name</th>\n",
       "      <th>device_id</th>\n",
       "    </tr>\n",
       "  </thead>\n",
       "  <tbody>\n",
       "    <tr>\n",
       "      <th>1</th>\n",
       "      <td>MainScreenAppear</td>\n",
       "      <td>6930</td>\n",
       "    </tr>\n",
       "    <tr>\n",
       "      <th>2</th>\n",
       "      <td>OffersScreenAppear</td>\n",
       "      <td>4121</td>\n",
       "    </tr>\n",
       "    <tr>\n",
       "      <th>0</th>\n",
       "      <td>CartScreenAppear</td>\n",
       "      <td>3277</td>\n",
       "    </tr>\n",
       "    <tr>\n",
       "      <th>3</th>\n",
       "      <td>PaymentScreenSuccessful</td>\n",
       "      <td>3090</td>\n",
       "    </tr>\n",
       "  </tbody>\n",
       "</table>\n",
       "</div>"
      ],
      "text/plain": [
       "                event_name  device_id\n",
       "1         MainScreenAppear       6930\n",
       "2       OffersScreenAppear       4121\n",
       "0         CartScreenAppear       3277\n",
       "3  PaymentScreenSuccessful       3090"
      ]
     },
     "execution_count": 44,
     "metadata": {},
     "output_type": "execute_result"
    }
   ],
   "source": [
    "# prepare data for the sales funnel, filtered data is more than 80 events\n",
    "event_unique_bigger_80=data_users_bigger_80.groupby('event_name')['device_id'].nunique().reset_index().sort_values(by='device_id', ascending=False).drop(index=[4])\n",
    "event_unique_bigger_80"
   ]
  },
  {
   "cell_type": "code",
   "execution_count": 45,
   "metadata": {
    "scrolled": true
   },
   "outputs": [],
   "source": [
    "# prepare data for test groups: 246,247,248\n",
    "\n",
    "event_unique_246=data_after.query('exp_id == 246').groupby('event_name')['device_id'].nunique().reset_index().sort_values(by='device_id', ascending=False).drop(index=[4])\n",
    "event_unique_247=data_after.query('exp_id == 247').groupby('event_name')['device_id'].nunique().reset_index().sort_values(by='device_id', ascending=False).drop(index=[4])\n",
    "event_unique_248=data_after.query('exp_id == 248').groupby('event_name')['device_id'].nunique().reset_index().sort_values(by='device_id', ascending=False).drop(index=[4])\n",
    "#display(event_unique_246)\n",
    "\n",
    "# prepare data for test groups: 246,247,248\n",
    "# filtered data by users with more than 80 events\n",
    "event_unique_246_bigger_80=data_users_bigger_80.query('exp_id == 246').groupby('event_name')['device_id'].nunique().reset_index().sort_values(by='device_id', ascending=False).drop(index=[4])\n",
    "event_unique_247_bigger_80=data_users_bigger_80.query('exp_id == 247').groupby('event_name')['device_id'].nunique().reset_index().sort_values(by='device_id', ascending=False).drop(index=[4])\n",
    "event_unique_248_bigger_80=data_users_bigger_80.query('exp_id == 248').groupby('event_name')['device_id'].nunique().reset_index().sort_values(by='device_id', ascending=False).drop(index=[4])\n",
    "#display(event_unique_246_bigger_80)"
   ]
  },
  {
   "cell_type": "code",
   "execution_count": 77,
   "metadata": {},
   "outputs": [
    {
     "data": {
      "application/vnd.plotly.v1+json": {
       "config": {
        "plotlyServerURL": "https://plot.ly"
       },
       "data": [
        {
         "marker": {
          "color": "#FF1B2B"
         },
         "name": "G_246",
         "textinfo": "value+percent initial",
         "type": "funnel",
         "x": [
          2450,
          1542,
          1266,
          1200
         ],
         "y": [
          "Main Screen",
          "Offer Screen",
          "Payment Screen",
          "Payment Confirmed"
         ]
        },
        {
         "marker": {
          "color": "#000000"
         },
         "name": "G_247",
         "textinfo": "value+percent initial",
         "type": "funnel",
         "x": [
          2476,
          1520,
          1238,
          1158
         ],
         "y": [
          "Main Screen",
          "Offer Screen",
          "Payment Screen",
          "Payment Confirmed"
         ]
        },
        {
         "marker": {
          "color": "#D59645"
         },
         "name": "G_248",
         "textinfo": "value+percent initial",
         "type": "funnel",
         "x": [
          2493,
          1531,
          1230,
          1181
         ],
         "y": [
          "Main Screen",
          "Offer Screen",
          "Payment Screen",
          "Payment Confirmed"
         ]
        }
       ],
       "layout": {
        "template": {
         "data": {
          "bar": [
           {
            "error_x": {
             "color": "#2a3f5f"
            },
            "error_y": {
             "color": "#2a3f5f"
            },
            "marker": {
             "line": {
              "color": "#E5ECF6",
              "width": 0.5
             },
             "pattern": {
              "fillmode": "overlay",
              "size": 10,
              "solidity": 0.2
             }
            },
            "type": "bar"
           }
          ],
          "barpolar": [
           {
            "marker": {
             "line": {
              "color": "#E5ECF6",
              "width": 0.5
             },
             "pattern": {
              "fillmode": "overlay",
              "size": 10,
              "solidity": 0.2
             }
            },
            "type": "barpolar"
           }
          ],
          "carpet": [
           {
            "aaxis": {
             "endlinecolor": "#2a3f5f",
             "gridcolor": "white",
             "linecolor": "white",
             "minorgridcolor": "white",
             "startlinecolor": "#2a3f5f"
            },
            "baxis": {
             "endlinecolor": "#2a3f5f",
             "gridcolor": "white",
             "linecolor": "white",
             "minorgridcolor": "white",
             "startlinecolor": "#2a3f5f"
            },
            "type": "carpet"
           }
          ],
          "choropleth": [
           {
            "colorbar": {
             "outlinewidth": 0,
             "ticks": ""
            },
            "type": "choropleth"
           }
          ],
          "contour": [
           {
            "colorbar": {
             "outlinewidth": 0,
             "ticks": ""
            },
            "colorscale": [
             [
              0,
              "#0d0887"
             ],
             [
              0.1111111111111111,
              "#46039f"
             ],
             [
              0.2222222222222222,
              "#7201a8"
             ],
             [
              0.3333333333333333,
              "#9c179e"
             ],
             [
              0.4444444444444444,
              "#bd3786"
             ],
             [
              0.5555555555555556,
              "#d8576b"
             ],
             [
              0.6666666666666666,
              "#ed7953"
             ],
             [
              0.7777777777777778,
              "#fb9f3a"
             ],
             [
              0.8888888888888888,
              "#fdca26"
             ],
             [
              1,
              "#f0f921"
             ]
            ],
            "type": "contour"
           }
          ],
          "contourcarpet": [
           {
            "colorbar": {
             "outlinewidth": 0,
             "ticks": ""
            },
            "type": "contourcarpet"
           }
          ],
          "heatmap": [
           {
            "colorbar": {
             "outlinewidth": 0,
             "ticks": ""
            },
            "colorscale": [
             [
              0,
              "#0d0887"
             ],
             [
              0.1111111111111111,
              "#46039f"
             ],
             [
              0.2222222222222222,
              "#7201a8"
             ],
             [
              0.3333333333333333,
              "#9c179e"
             ],
             [
              0.4444444444444444,
              "#bd3786"
             ],
             [
              0.5555555555555556,
              "#d8576b"
             ],
             [
              0.6666666666666666,
              "#ed7953"
             ],
             [
              0.7777777777777778,
              "#fb9f3a"
             ],
             [
              0.8888888888888888,
              "#fdca26"
             ],
             [
              1,
              "#f0f921"
             ]
            ],
            "type": "heatmap"
           }
          ],
          "heatmapgl": [
           {
            "colorbar": {
             "outlinewidth": 0,
             "ticks": ""
            },
            "colorscale": [
             [
              0,
              "#0d0887"
             ],
             [
              0.1111111111111111,
              "#46039f"
             ],
             [
              0.2222222222222222,
              "#7201a8"
             ],
             [
              0.3333333333333333,
              "#9c179e"
             ],
             [
              0.4444444444444444,
              "#bd3786"
             ],
             [
              0.5555555555555556,
              "#d8576b"
             ],
             [
              0.6666666666666666,
              "#ed7953"
             ],
             [
              0.7777777777777778,
              "#fb9f3a"
             ],
             [
              0.8888888888888888,
              "#fdca26"
             ],
             [
              1,
              "#f0f921"
             ]
            ],
            "type": "heatmapgl"
           }
          ],
          "histogram": [
           {
            "marker": {
             "pattern": {
              "fillmode": "overlay",
              "size": 10,
              "solidity": 0.2
             }
            },
            "type": "histogram"
           }
          ],
          "histogram2d": [
           {
            "colorbar": {
             "outlinewidth": 0,
             "ticks": ""
            },
            "colorscale": [
             [
              0,
              "#0d0887"
             ],
             [
              0.1111111111111111,
              "#46039f"
             ],
             [
              0.2222222222222222,
              "#7201a8"
             ],
             [
              0.3333333333333333,
              "#9c179e"
             ],
             [
              0.4444444444444444,
              "#bd3786"
             ],
             [
              0.5555555555555556,
              "#d8576b"
             ],
             [
              0.6666666666666666,
              "#ed7953"
             ],
             [
              0.7777777777777778,
              "#fb9f3a"
             ],
             [
              0.8888888888888888,
              "#fdca26"
             ],
             [
              1,
              "#f0f921"
             ]
            ],
            "type": "histogram2d"
           }
          ],
          "histogram2dcontour": [
           {
            "colorbar": {
             "outlinewidth": 0,
             "ticks": ""
            },
            "colorscale": [
             [
              0,
              "#0d0887"
             ],
             [
              0.1111111111111111,
              "#46039f"
             ],
             [
              0.2222222222222222,
              "#7201a8"
             ],
             [
              0.3333333333333333,
              "#9c179e"
             ],
             [
              0.4444444444444444,
              "#bd3786"
             ],
             [
              0.5555555555555556,
              "#d8576b"
             ],
             [
              0.6666666666666666,
              "#ed7953"
             ],
             [
              0.7777777777777778,
              "#fb9f3a"
             ],
             [
              0.8888888888888888,
              "#fdca26"
             ],
             [
              1,
              "#f0f921"
             ]
            ],
            "type": "histogram2dcontour"
           }
          ],
          "mesh3d": [
           {
            "colorbar": {
             "outlinewidth": 0,
             "ticks": ""
            },
            "type": "mesh3d"
           }
          ],
          "parcoords": [
           {
            "line": {
             "colorbar": {
              "outlinewidth": 0,
              "ticks": ""
             }
            },
            "type": "parcoords"
           }
          ],
          "pie": [
           {
            "automargin": true,
            "type": "pie"
           }
          ],
          "scatter": [
           {
            "marker": {
             "colorbar": {
              "outlinewidth": 0,
              "ticks": ""
             }
            },
            "type": "scatter"
           }
          ],
          "scatter3d": [
           {
            "line": {
             "colorbar": {
              "outlinewidth": 0,
              "ticks": ""
             }
            },
            "marker": {
             "colorbar": {
              "outlinewidth": 0,
              "ticks": ""
             }
            },
            "type": "scatter3d"
           }
          ],
          "scattercarpet": [
           {
            "marker": {
             "colorbar": {
              "outlinewidth": 0,
              "ticks": ""
             }
            },
            "type": "scattercarpet"
           }
          ],
          "scattergeo": [
           {
            "marker": {
             "colorbar": {
              "outlinewidth": 0,
              "ticks": ""
             }
            },
            "type": "scattergeo"
           }
          ],
          "scattergl": [
           {
            "marker": {
             "colorbar": {
              "outlinewidth": 0,
              "ticks": ""
             }
            },
            "type": "scattergl"
           }
          ],
          "scattermapbox": [
           {
            "marker": {
             "colorbar": {
              "outlinewidth": 0,
              "ticks": ""
             }
            },
            "type": "scattermapbox"
           }
          ],
          "scatterpolar": [
           {
            "marker": {
             "colorbar": {
              "outlinewidth": 0,
              "ticks": ""
             }
            },
            "type": "scatterpolar"
           }
          ],
          "scatterpolargl": [
           {
            "marker": {
             "colorbar": {
              "outlinewidth": 0,
              "ticks": ""
             }
            },
            "type": "scatterpolargl"
           }
          ],
          "scatterternary": [
           {
            "marker": {
             "colorbar": {
              "outlinewidth": 0,
              "ticks": ""
             }
            },
            "type": "scatterternary"
           }
          ],
          "surface": [
           {
            "colorbar": {
             "outlinewidth": 0,
             "ticks": ""
            },
            "colorscale": [
             [
              0,
              "#0d0887"
             ],
             [
              0.1111111111111111,
              "#46039f"
             ],
             [
              0.2222222222222222,
              "#7201a8"
             ],
             [
              0.3333333333333333,
              "#9c179e"
             ],
             [
              0.4444444444444444,
              "#bd3786"
             ],
             [
              0.5555555555555556,
              "#d8576b"
             ],
             [
              0.6666666666666666,
              "#ed7953"
             ],
             [
              0.7777777777777778,
              "#fb9f3a"
             ],
             [
              0.8888888888888888,
              "#fdca26"
             ],
             [
              1,
              "#f0f921"
             ]
            ],
            "type": "surface"
           }
          ],
          "table": [
           {
            "cells": {
             "fill": {
              "color": "#EBF0F8"
             },
             "line": {
              "color": "white"
             }
            },
            "header": {
             "fill": {
              "color": "#C8D4E3"
             },
             "line": {
              "color": "white"
             }
            },
            "type": "table"
           }
          ]
         },
         "layout": {
          "annotationdefaults": {
           "arrowcolor": "#2a3f5f",
           "arrowhead": 0,
           "arrowwidth": 1
          },
          "autotypenumbers": "strict",
          "coloraxis": {
           "colorbar": {
            "outlinewidth": 0,
            "ticks": ""
           }
          },
          "colorscale": {
           "diverging": [
            [
             0,
             "#8e0152"
            ],
            [
             0.1,
             "#c51b7d"
            ],
            [
             0.2,
             "#de77ae"
            ],
            [
             0.3,
             "#f1b6da"
            ],
            [
             0.4,
             "#fde0ef"
            ],
            [
             0.5,
             "#f7f7f7"
            ],
            [
             0.6,
             "#e6f5d0"
            ],
            [
             0.7,
             "#b8e186"
            ],
            [
             0.8,
             "#7fbc41"
            ],
            [
             0.9,
             "#4d9221"
            ],
            [
             1,
             "#276419"
            ]
           ],
           "sequential": [
            [
             0,
             "#0d0887"
            ],
            [
             0.1111111111111111,
             "#46039f"
            ],
            [
             0.2222222222222222,
             "#7201a8"
            ],
            [
             0.3333333333333333,
             "#9c179e"
            ],
            [
             0.4444444444444444,
             "#bd3786"
            ],
            [
             0.5555555555555556,
             "#d8576b"
            ],
            [
             0.6666666666666666,
             "#ed7953"
            ],
            [
             0.7777777777777778,
             "#fb9f3a"
            ],
            [
             0.8888888888888888,
             "#fdca26"
            ],
            [
             1,
             "#f0f921"
            ]
           ],
           "sequentialminus": [
            [
             0,
             "#0d0887"
            ],
            [
             0.1111111111111111,
             "#46039f"
            ],
            [
             0.2222222222222222,
             "#7201a8"
            ],
            [
             0.3333333333333333,
             "#9c179e"
            ],
            [
             0.4444444444444444,
             "#bd3786"
            ],
            [
             0.5555555555555556,
             "#d8576b"
            ],
            [
             0.6666666666666666,
             "#ed7953"
            ],
            [
             0.7777777777777778,
             "#fb9f3a"
            ],
            [
             0.8888888888888888,
             "#fdca26"
            ],
            [
             1,
             "#f0f921"
            ]
           ]
          },
          "colorway": [
           "#636efa",
           "#EF553B",
           "#00cc96",
           "#ab63fa",
           "#FFA15A",
           "#19d3f3",
           "#FF6692",
           "#B6E880",
           "#FF97FF",
           "#FECB52"
          ],
          "font": {
           "color": "#2a3f5f"
          },
          "geo": {
           "bgcolor": "white",
           "lakecolor": "white",
           "landcolor": "#E5ECF6",
           "showlakes": true,
           "showland": true,
           "subunitcolor": "white"
          },
          "hoverlabel": {
           "align": "left"
          },
          "hovermode": "closest",
          "mapbox": {
           "style": "light"
          },
          "paper_bgcolor": "white",
          "plot_bgcolor": "#E5ECF6",
          "polar": {
           "angularaxis": {
            "gridcolor": "white",
            "linecolor": "white",
            "ticks": ""
           },
           "bgcolor": "#E5ECF6",
           "radialaxis": {
            "gridcolor": "white",
            "linecolor": "white",
            "ticks": ""
           }
          },
          "scene": {
           "xaxis": {
            "backgroundcolor": "#E5ECF6",
            "gridcolor": "white",
            "gridwidth": 2,
            "linecolor": "white",
            "showbackground": true,
            "ticks": "",
            "zerolinecolor": "white"
           },
           "yaxis": {
            "backgroundcolor": "#E5ECF6",
            "gridcolor": "white",
            "gridwidth": 2,
            "linecolor": "white",
            "showbackground": true,
            "ticks": "",
            "zerolinecolor": "white"
           },
           "zaxis": {
            "backgroundcolor": "#E5ECF6",
            "gridcolor": "white",
            "gridwidth": 2,
            "linecolor": "white",
            "showbackground": true,
            "ticks": "",
            "zerolinecolor": "white"
           }
          },
          "shapedefaults": {
           "line": {
            "color": "#2a3f5f"
           }
          },
          "ternary": {
           "aaxis": {
            "gridcolor": "white",
            "linecolor": "white",
            "ticks": ""
           },
           "baxis": {
            "gridcolor": "white",
            "linecolor": "white",
            "ticks": ""
           },
           "bgcolor": "#E5ECF6",
           "caxis": {
            "gridcolor": "white",
            "linecolor": "white",
            "ticks": ""
           }
          },
          "title": {
           "x": 0.05
          },
          "xaxis": {
           "automargin": true,
           "gridcolor": "white",
           "linecolor": "white",
           "ticks": "",
           "title": {
            "standoff": 15
           },
           "zerolinecolor": "white",
           "zerolinewidth": 2
          },
          "yaxis": {
           "automargin": true,
           "gridcolor": "white",
           "linecolor": "white",
           "ticks": "",
           "title": {
            "standoff": 15
           },
           "zerolinecolor": "white",
           "zerolinewidth": 2
          }
         }
        },
        "title": {
         "text": "Sales funnel by groups",
         "x": 0,
         "xref": "paper"
        }
       }
      },
      "text/html": [
       "<div>                            <div id=\"a5dc6fbb-544d-44e8-8cd1-40f25e561d82\" class=\"plotly-graph-div\" style=\"height:525px; width:100%;\"></div>            <script type=\"text/javascript\">                require([\"plotly\"], function(Plotly) {                    window.PLOTLYENV=window.PLOTLYENV || {};                                    if (document.getElementById(\"a5dc6fbb-544d-44e8-8cd1-40f25e561d82\")) {                    Plotly.newPlot(                        \"a5dc6fbb-544d-44e8-8cd1-40f25e561d82\",                        [{\"marker\":{\"color\":\"#FF1B2B\"},\"name\":\"G_246\",\"textinfo\":\"value+percent initial\",\"x\":[2450,1542,1266,1200],\"y\":[\"Main Screen\",\"Offer Screen\",\"Payment Screen\",\"Payment Confirmed\"],\"type\":\"funnel\"},{\"marker\":{\"color\":\"#000000\"},\"name\":\"G_247\",\"textinfo\":\"value+percent initial\",\"x\":[2476,1520,1238,1158],\"y\":[\"Main Screen\",\"Offer Screen\",\"Payment Screen\",\"Payment Confirmed\"],\"type\":\"funnel\"},{\"marker\":{\"color\":\"#D59645\"},\"name\":\"G_248\",\"textinfo\":\"value+percent initial\",\"x\":[2493,1531,1230,1181],\"y\":[\"Main Screen\",\"Offer Screen\",\"Payment Screen\",\"Payment Confirmed\"],\"type\":\"funnel\"}],                        {\"template\":{\"data\":{\"bar\":[{\"error_x\":{\"color\":\"#2a3f5f\"},\"error_y\":{\"color\":\"#2a3f5f\"},\"marker\":{\"line\":{\"color\":\"#E5ECF6\",\"width\":0.5},\"pattern\":{\"fillmode\":\"overlay\",\"size\":10,\"solidity\":0.2}},\"type\":\"bar\"}],\"barpolar\":[{\"marker\":{\"line\":{\"color\":\"#E5ECF6\",\"width\":0.5},\"pattern\":{\"fillmode\":\"overlay\",\"size\":10,\"solidity\":0.2}},\"type\":\"barpolar\"}],\"carpet\":[{\"aaxis\":{\"endlinecolor\":\"#2a3f5f\",\"gridcolor\":\"white\",\"linecolor\":\"white\",\"minorgridcolor\":\"white\",\"startlinecolor\":\"#2a3f5f\"},\"baxis\":{\"endlinecolor\":\"#2a3f5f\",\"gridcolor\":\"white\",\"linecolor\":\"white\",\"minorgridcolor\":\"white\",\"startlinecolor\":\"#2a3f5f\"},\"type\":\"carpet\"}],\"choropleth\":[{\"colorbar\":{\"outlinewidth\":0,\"ticks\":\"\"},\"type\":\"choropleth\"}],\"contour\":[{\"colorbar\":{\"outlinewidth\":0,\"ticks\":\"\"},\"colorscale\":[[0.0,\"#0d0887\"],[0.1111111111111111,\"#46039f\"],[0.2222222222222222,\"#7201a8\"],[0.3333333333333333,\"#9c179e\"],[0.4444444444444444,\"#bd3786\"],[0.5555555555555556,\"#d8576b\"],[0.6666666666666666,\"#ed7953\"],[0.7777777777777778,\"#fb9f3a\"],[0.8888888888888888,\"#fdca26\"],[1.0,\"#f0f921\"]],\"type\":\"contour\"}],\"contourcarpet\":[{\"colorbar\":{\"outlinewidth\":0,\"ticks\":\"\"},\"type\":\"contourcarpet\"}],\"heatmap\":[{\"colorbar\":{\"outlinewidth\":0,\"ticks\":\"\"},\"colorscale\":[[0.0,\"#0d0887\"],[0.1111111111111111,\"#46039f\"],[0.2222222222222222,\"#7201a8\"],[0.3333333333333333,\"#9c179e\"],[0.4444444444444444,\"#bd3786\"],[0.5555555555555556,\"#d8576b\"],[0.6666666666666666,\"#ed7953\"],[0.7777777777777778,\"#fb9f3a\"],[0.8888888888888888,\"#fdca26\"],[1.0,\"#f0f921\"]],\"type\":\"heatmap\"}],\"heatmapgl\":[{\"colorbar\":{\"outlinewidth\":0,\"ticks\":\"\"},\"colorscale\":[[0.0,\"#0d0887\"],[0.1111111111111111,\"#46039f\"],[0.2222222222222222,\"#7201a8\"],[0.3333333333333333,\"#9c179e\"],[0.4444444444444444,\"#bd3786\"],[0.5555555555555556,\"#d8576b\"],[0.6666666666666666,\"#ed7953\"],[0.7777777777777778,\"#fb9f3a\"],[0.8888888888888888,\"#fdca26\"],[1.0,\"#f0f921\"]],\"type\":\"heatmapgl\"}],\"histogram\":[{\"marker\":{\"pattern\":{\"fillmode\":\"overlay\",\"size\":10,\"solidity\":0.2}},\"type\":\"histogram\"}],\"histogram2d\":[{\"colorbar\":{\"outlinewidth\":0,\"ticks\":\"\"},\"colorscale\":[[0.0,\"#0d0887\"],[0.1111111111111111,\"#46039f\"],[0.2222222222222222,\"#7201a8\"],[0.3333333333333333,\"#9c179e\"],[0.4444444444444444,\"#bd3786\"],[0.5555555555555556,\"#d8576b\"],[0.6666666666666666,\"#ed7953\"],[0.7777777777777778,\"#fb9f3a\"],[0.8888888888888888,\"#fdca26\"],[1.0,\"#f0f921\"]],\"type\":\"histogram2d\"}],\"histogram2dcontour\":[{\"colorbar\":{\"outlinewidth\":0,\"ticks\":\"\"},\"colorscale\":[[0.0,\"#0d0887\"],[0.1111111111111111,\"#46039f\"],[0.2222222222222222,\"#7201a8\"],[0.3333333333333333,\"#9c179e\"],[0.4444444444444444,\"#bd3786\"],[0.5555555555555556,\"#d8576b\"],[0.6666666666666666,\"#ed7953\"],[0.7777777777777778,\"#fb9f3a\"],[0.8888888888888888,\"#fdca26\"],[1.0,\"#f0f921\"]],\"type\":\"histogram2dcontour\"}],\"mesh3d\":[{\"colorbar\":{\"outlinewidth\":0,\"ticks\":\"\"},\"type\":\"mesh3d\"}],\"parcoords\":[{\"line\":{\"colorbar\":{\"outlinewidth\":0,\"ticks\":\"\"}},\"type\":\"parcoords\"}],\"pie\":[{\"automargin\":true,\"type\":\"pie\"}],\"scatter\":[{\"marker\":{\"colorbar\":{\"outlinewidth\":0,\"ticks\":\"\"}},\"type\":\"scatter\"}],\"scatter3d\":[{\"line\":{\"colorbar\":{\"outlinewidth\":0,\"ticks\":\"\"}},\"marker\":{\"colorbar\":{\"outlinewidth\":0,\"ticks\":\"\"}},\"type\":\"scatter3d\"}],\"scattercarpet\":[{\"marker\":{\"colorbar\":{\"outlinewidth\":0,\"ticks\":\"\"}},\"type\":\"scattercarpet\"}],\"scattergeo\":[{\"marker\":{\"colorbar\":{\"outlinewidth\":0,\"ticks\":\"\"}},\"type\":\"scattergeo\"}],\"scattergl\":[{\"marker\":{\"colorbar\":{\"outlinewidth\":0,\"ticks\":\"\"}},\"type\":\"scattergl\"}],\"scattermapbox\":[{\"marker\":{\"colorbar\":{\"outlinewidth\":0,\"ticks\":\"\"}},\"type\":\"scattermapbox\"}],\"scatterpolar\":[{\"marker\":{\"colorbar\":{\"outlinewidth\":0,\"ticks\":\"\"}},\"type\":\"scatterpolar\"}],\"scatterpolargl\":[{\"marker\":{\"colorbar\":{\"outlinewidth\":0,\"ticks\":\"\"}},\"type\":\"scatterpolargl\"}],\"scatterternary\":[{\"marker\":{\"colorbar\":{\"outlinewidth\":0,\"ticks\":\"\"}},\"type\":\"scatterternary\"}],\"surface\":[{\"colorbar\":{\"outlinewidth\":0,\"ticks\":\"\"},\"colorscale\":[[0.0,\"#0d0887\"],[0.1111111111111111,\"#46039f\"],[0.2222222222222222,\"#7201a8\"],[0.3333333333333333,\"#9c179e\"],[0.4444444444444444,\"#bd3786\"],[0.5555555555555556,\"#d8576b\"],[0.6666666666666666,\"#ed7953\"],[0.7777777777777778,\"#fb9f3a\"],[0.8888888888888888,\"#fdca26\"],[1.0,\"#f0f921\"]],\"type\":\"surface\"}],\"table\":[{\"cells\":{\"fill\":{\"color\":\"#EBF0F8\"},\"line\":{\"color\":\"white\"}},\"header\":{\"fill\":{\"color\":\"#C8D4E3\"},\"line\":{\"color\":\"white\"}},\"type\":\"table\"}]},\"layout\":{\"annotationdefaults\":{\"arrowcolor\":\"#2a3f5f\",\"arrowhead\":0,\"arrowwidth\":1},\"autotypenumbers\":\"strict\",\"coloraxis\":{\"colorbar\":{\"outlinewidth\":0,\"ticks\":\"\"}},\"colorscale\":{\"diverging\":[[0,\"#8e0152\"],[0.1,\"#c51b7d\"],[0.2,\"#de77ae\"],[0.3,\"#f1b6da\"],[0.4,\"#fde0ef\"],[0.5,\"#f7f7f7\"],[0.6,\"#e6f5d0\"],[0.7,\"#b8e186\"],[0.8,\"#7fbc41\"],[0.9,\"#4d9221\"],[1,\"#276419\"]],\"sequential\":[[0.0,\"#0d0887\"],[0.1111111111111111,\"#46039f\"],[0.2222222222222222,\"#7201a8\"],[0.3333333333333333,\"#9c179e\"],[0.4444444444444444,\"#bd3786\"],[0.5555555555555556,\"#d8576b\"],[0.6666666666666666,\"#ed7953\"],[0.7777777777777778,\"#fb9f3a\"],[0.8888888888888888,\"#fdca26\"],[1.0,\"#f0f921\"]],\"sequentialminus\":[[0.0,\"#0d0887\"],[0.1111111111111111,\"#46039f\"],[0.2222222222222222,\"#7201a8\"],[0.3333333333333333,\"#9c179e\"],[0.4444444444444444,\"#bd3786\"],[0.5555555555555556,\"#d8576b\"],[0.6666666666666666,\"#ed7953\"],[0.7777777777777778,\"#fb9f3a\"],[0.8888888888888888,\"#fdca26\"],[1.0,\"#f0f921\"]]},\"colorway\":[\"#636efa\",\"#EF553B\",\"#00cc96\",\"#ab63fa\",\"#FFA15A\",\"#19d3f3\",\"#FF6692\",\"#B6E880\",\"#FF97FF\",\"#FECB52\"],\"font\":{\"color\":\"#2a3f5f\"},\"geo\":{\"bgcolor\":\"white\",\"lakecolor\":\"white\",\"landcolor\":\"#E5ECF6\",\"showlakes\":true,\"showland\":true,\"subunitcolor\":\"white\"},\"hoverlabel\":{\"align\":\"left\"},\"hovermode\":\"closest\",\"mapbox\":{\"style\":\"light\"},\"paper_bgcolor\":\"white\",\"plot_bgcolor\":\"#E5ECF6\",\"polar\":{\"angularaxis\":{\"gridcolor\":\"white\",\"linecolor\":\"white\",\"ticks\":\"\"},\"bgcolor\":\"#E5ECF6\",\"radialaxis\":{\"gridcolor\":\"white\",\"linecolor\":\"white\",\"ticks\":\"\"}},\"scene\":{\"xaxis\":{\"backgroundcolor\":\"#E5ECF6\",\"gridcolor\":\"white\",\"gridwidth\":2,\"linecolor\":\"white\",\"showbackground\":true,\"ticks\":\"\",\"zerolinecolor\":\"white\"},\"yaxis\":{\"backgroundcolor\":\"#E5ECF6\",\"gridcolor\":\"white\",\"gridwidth\":2,\"linecolor\":\"white\",\"showbackground\":true,\"ticks\":\"\",\"zerolinecolor\":\"white\"},\"zaxis\":{\"backgroundcolor\":\"#E5ECF6\",\"gridcolor\":\"white\",\"gridwidth\":2,\"linecolor\":\"white\",\"showbackground\":true,\"ticks\":\"\",\"zerolinecolor\":\"white\"}},\"shapedefaults\":{\"line\":{\"color\":\"#2a3f5f\"}},\"ternary\":{\"aaxis\":{\"gridcolor\":\"white\",\"linecolor\":\"white\",\"ticks\":\"\"},\"baxis\":{\"gridcolor\":\"white\",\"linecolor\":\"white\",\"ticks\":\"\"},\"bgcolor\":\"#E5ECF6\",\"caxis\":{\"gridcolor\":\"white\",\"linecolor\":\"white\",\"ticks\":\"\"}},\"title\":{\"x\":0.05},\"xaxis\":{\"automargin\":true,\"gridcolor\":\"white\",\"linecolor\":\"white\",\"ticks\":\"\",\"title\":{\"standoff\":15},\"zerolinecolor\":\"white\",\"zerolinewidth\":2},\"yaxis\":{\"automargin\":true,\"gridcolor\":\"white\",\"linecolor\":\"white\",\"ticks\":\"\",\"title\":{\"standoff\":15},\"zerolinecolor\":\"white\",\"zerolinewidth\":2}}},\"title\":{\"text\":\"Sales funnel by groups\",\"x\":0,\"xref\":\"paper\"}},                        {\"responsive\": true}                    ).then(function(){\n",
       "                            \n",
       "var gd = document.getElementById('a5dc6fbb-544d-44e8-8cd1-40f25e561d82');\n",
       "var x = new MutationObserver(function (mutations, observer) {{\n",
       "        var display = window.getComputedStyle(gd).display;\n",
       "        if (!display || display === 'none') {{\n",
       "            console.log([gd, 'removed!']);\n",
       "            Plotly.purge(gd);\n",
       "            observer.disconnect();\n",
       "        }}\n",
       "}});\n",
       "\n",
       "// Listen for the removal of the full notebook cells\n",
       "var notebookContainer = gd.closest('#notebook-container');\n",
       "if (notebookContainer) {{\n",
       "    x.observe(notebookContainer, {childList: true});\n",
       "}}\n",
       "\n",
       "// Listen for the clearing of the current output cell\n",
       "var outputEl = gd.closest('.output');\n",
       "if (outputEl) {{\n",
       "    x.observe(outputEl, {childList: true});\n",
       "}}\n",
       "\n",
       "                        })                };                });            </script>        </div>"
      ]
     },
     "metadata": {},
     "output_type": "display_data"
    },
    {
     "data": {
      "application/vnd.plotly.v1+json": {
       "config": {
        "plotlyServerURL": "https://plot.ly"
       },
       "data": [
        {
         "marker": {
          "color": "#FF1B2B"
         },
         "name": "G_246_less_80",
         "textinfo": "value+percent initial",
         "type": "funnel",
         "x": [
          2294,
          1390,
          1118,
          1054
         ],
         "y": [
          "Main Screen",
          "Offer Screen",
          "Payment Screen",
          "Payment Confirmed"
         ]
        },
        {
         "marker": {
          "color": "#000000"
         },
         "name": "G_247_less_80",
         "textinfo": "value+percent initial",
         "type": "funnel",
         "x": [
          2316,
          1364,
          1089,
          1012
         ],
         "y": [
          "Main Screen",
          "Offer Screen",
          "Payment Screen",
          "Payment Confirmed"
         ]
        },
        {
         "marker": {
          "color": "#D59645"
         },
         "name": "G_248_less_80",
         "textinfo": "value+percent initial",
         "type": "funnel",
         "x": [
          2320,
          1367,
          1070,
          1024
         ],
         "y": [
          "Main Screen",
          "Offer Screen",
          "Payment Screen",
          "Payment Confirmed"
         ]
        }
       ],
       "layout": {
        "template": {
         "data": {
          "bar": [
           {
            "error_x": {
             "color": "#2a3f5f"
            },
            "error_y": {
             "color": "#2a3f5f"
            },
            "marker": {
             "line": {
              "color": "#E5ECF6",
              "width": 0.5
             },
             "pattern": {
              "fillmode": "overlay",
              "size": 10,
              "solidity": 0.2
             }
            },
            "type": "bar"
           }
          ],
          "barpolar": [
           {
            "marker": {
             "line": {
              "color": "#E5ECF6",
              "width": 0.5
             },
             "pattern": {
              "fillmode": "overlay",
              "size": 10,
              "solidity": 0.2
             }
            },
            "type": "barpolar"
           }
          ],
          "carpet": [
           {
            "aaxis": {
             "endlinecolor": "#2a3f5f",
             "gridcolor": "white",
             "linecolor": "white",
             "minorgridcolor": "white",
             "startlinecolor": "#2a3f5f"
            },
            "baxis": {
             "endlinecolor": "#2a3f5f",
             "gridcolor": "white",
             "linecolor": "white",
             "minorgridcolor": "white",
             "startlinecolor": "#2a3f5f"
            },
            "type": "carpet"
           }
          ],
          "choropleth": [
           {
            "colorbar": {
             "outlinewidth": 0,
             "ticks": ""
            },
            "type": "choropleth"
           }
          ],
          "contour": [
           {
            "colorbar": {
             "outlinewidth": 0,
             "ticks": ""
            },
            "colorscale": [
             [
              0,
              "#0d0887"
             ],
             [
              0.1111111111111111,
              "#46039f"
             ],
             [
              0.2222222222222222,
              "#7201a8"
             ],
             [
              0.3333333333333333,
              "#9c179e"
             ],
             [
              0.4444444444444444,
              "#bd3786"
             ],
             [
              0.5555555555555556,
              "#d8576b"
             ],
             [
              0.6666666666666666,
              "#ed7953"
             ],
             [
              0.7777777777777778,
              "#fb9f3a"
             ],
             [
              0.8888888888888888,
              "#fdca26"
             ],
             [
              1,
              "#f0f921"
             ]
            ],
            "type": "contour"
           }
          ],
          "contourcarpet": [
           {
            "colorbar": {
             "outlinewidth": 0,
             "ticks": ""
            },
            "type": "contourcarpet"
           }
          ],
          "heatmap": [
           {
            "colorbar": {
             "outlinewidth": 0,
             "ticks": ""
            },
            "colorscale": [
             [
              0,
              "#0d0887"
             ],
             [
              0.1111111111111111,
              "#46039f"
             ],
             [
              0.2222222222222222,
              "#7201a8"
             ],
             [
              0.3333333333333333,
              "#9c179e"
             ],
             [
              0.4444444444444444,
              "#bd3786"
             ],
             [
              0.5555555555555556,
              "#d8576b"
             ],
             [
              0.6666666666666666,
              "#ed7953"
             ],
             [
              0.7777777777777778,
              "#fb9f3a"
             ],
             [
              0.8888888888888888,
              "#fdca26"
             ],
             [
              1,
              "#f0f921"
             ]
            ],
            "type": "heatmap"
           }
          ],
          "heatmapgl": [
           {
            "colorbar": {
             "outlinewidth": 0,
             "ticks": ""
            },
            "colorscale": [
             [
              0,
              "#0d0887"
             ],
             [
              0.1111111111111111,
              "#46039f"
             ],
             [
              0.2222222222222222,
              "#7201a8"
             ],
             [
              0.3333333333333333,
              "#9c179e"
             ],
             [
              0.4444444444444444,
              "#bd3786"
             ],
             [
              0.5555555555555556,
              "#d8576b"
             ],
             [
              0.6666666666666666,
              "#ed7953"
             ],
             [
              0.7777777777777778,
              "#fb9f3a"
             ],
             [
              0.8888888888888888,
              "#fdca26"
             ],
             [
              1,
              "#f0f921"
             ]
            ],
            "type": "heatmapgl"
           }
          ],
          "histogram": [
           {
            "marker": {
             "pattern": {
              "fillmode": "overlay",
              "size": 10,
              "solidity": 0.2
             }
            },
            "type": "histogram"
           }
          ],
          "histogram2d": [
           {
            "colorbar": {
             "outlinewidth": 0,
             "ticks": ""
            },
            "colorscale": [
             [
              0,
              "#0d0887"
             ],
             [
              0.1111111111111111,
              "#46039f"
             ],
             [
              0.2222222222222222,
              "#7201a8"
             ],
             [
              0.3333333333333333,
              "#9c179e"
             ],
             [
              0.4444444444444444,
              "#bd3786"
             ],
             [
              0.5555555555555556,
              "#d8576b"
             ],
             [
              0.6666666666666666,
              "#ed7953"
             ],
             [
              0.7777777777777778,
              "#fb9f3a"
             ],
             [
              0.8888888888888888,
              "#fdca26"
             ],
             [
              1,
              "#f0f921"
             ]
            ],
            "type": "histogram2d"
           }
          ],
          "histogram2dcontour": [
           {
            "colorbar": {
             "outlinewidth": 0,
             "ticks": ""
            },
            "colorscale": [
             [
              0,
              "#0d0887"
             ],
             [
              0.1111111111111111,
              "#46039f"
             ],
             [
              0.2222222222222222,
              "#7201a8"
             ],
             [
              0.3333333333333333,
              "#9c179e"
             ],
             [
              0.4444444444444444,
              "#bd3786"
             ],
             [
              0.5555555555555556,
              "#d8576b"
             ],
             [
              0.6666666666666666,
              "#ed7953"
             ],
             [
              0.7777777777777778,
              "#fb9f3a"
             ],
             [
              0.8888888888888888,
              "#fdca26"
             ],
             [
              1,
              "#f0f921"
             ]
            ],
            "type": "histogram2dcontour"
           }
          ],
          "mesh3d": [
           {
            "colorbar": {
             "outlinewidth": 0,
             "ticks": ""
            },
            "type": "mesh3d"
           }
          ],
          "parcoords": [
           {
            "line": {
             "colorbar": {
              "outlinewidth": 0,
              "ticks": ""
             }
            },
            "type": "parcoords"
           }
          ],
          "pie": [
           {
            "automargin": true,
            "type": "pie"
           }
          ],
          "scatter": [
           {
            "marker": {
             "colorbar": {
              "outlinewidth": 0,
              "ticks": ""
             }
            },
            "type": "scatter"
           }
          ],
          "scatter3d": [
           {
            "line": {
             "colorbar": {
              "outlinewidth": 0,
              "ticks": ""
             }
            },
            "marker": {
             "colorbar": {
              "outlinewidth": 0,
              "ticks": ""
             }
            },
            "type": "scatter3d"
           }
          ],
          "scattercarpet": [
           {
            "marker": {
             "colorbar": {
              "outlinewidth": 0,
              "ticks": ""
             }
            },
            "type": "scattercarpet"
           }
          ],
          "scattergeo": [
           {
            "marker": {
             "colorbar": {
              "outlinewidth": 0,
              "ticks": ""
             }
            },
            "type": "scattergeo"
           }
          ],
          "scattergl": [
           {
            "marker": {
             "colorbar": {
              "outlinewidth": 0,
              "ticks": ""
             }
            },
            "type": "scattergl"
           }
          ],
          "scattermapbox": [
           {
            "marker": {
             "colorbar": {
              "outlinewidth": 0,
              "ticks": ""
             }
            },
            "type": "scattermapbox"
           }
          ],
          "scatterpolar": [
           {
            "marker": {
             "colorbar": {
              "outlinewidth": 0,
              "ticks": ""
             }
            },
            "type": "scatterpolar"
           }
          ],
          "scatterpolargl": [
           {
            "marker": {
             "colorbar": {
              "outlinewidth": 0,
              "ticks": ""
             }
            },
            "type": "scatterpolargl"
           }
          ],
          "scatterternary": [
           {
            "marker": {
             "colorbar": {
              "outlinewidth": 0,
              "ticks": ""
             }
            },
            "type": "scatterternary"
           }
          ],
          "surface": [
           {
            "colorbar": {
             "outlinewidth": 0,
             "ticks": ""
            },
            "colorscale": [
             [
              0,
              "#0d0887"
             ],
             [
              0.1111111111111111,
              "#46039f"
             ],
             [
              0.2222222222222222,
              "#7201a8"
             ],
             [
              0.3333333333333333,
              "#9c179e"
             ],
             [
              0.4444444444444444,
              "#bd3786"
             ],
             [
              0.5555555555555556,
              "#d8576b"
             ],
             [
              0.6666666666666666,
              "#ed7953"
             ],
             [
              0.7777777777777778,
              "#fb9f3a"
             ],
             [
              0.8888888888888888,
              "#fdca26"
             ],
             [
              1,
              "#f0f921"
             ]
            ],
            "type": "surface"
           }
          ],
          "table": [
           {
            "cells": {
             "fill": {
              "color": "#EBF0F8"
             },
             "line": {
              "color": "white"
             }
            },
            "header": {
             "fill": {
              "color": "#C8D4E3"
             },
             "line": {
              "color": "white"
             }
            },
            "type": "table"
           }
          ]
         },
         "layout": {
          "annotationdefaults": {
           "arrowcolor": "#2a3f5f",
           "arrowhead": 0,
           "arrowwidth": 1
          },
          "autotypenumbers": "strict",
          "coloraxis": {
           "colorbar": {
            "outlinewidth": 0,
            "ticks": ""
           }
          },
          "colorscale": {
           "diverging": [
            [
             0,
             "#8e0152"
            ],
            [
             0.1,
             "#c51b7d"
            ],
            [
             0.2,
             "#de77ae"
            ],
            [
             0.3,
             "#f1b6da"
            ],
            [
             0.4,
             "#fde0ef"
            ],
            [
             0.5,
             "#f7f7f7"
            ],
            [
             0.6,
             "#e6f5d0"
            ],
            [
             0.7,
             "#b8e186"
            ],
            [
             0.8,
             "#7fbc41"
            ],
            [
             0.9,
             "#4d9221"
            ],
            [
             1,
             "#276419"
            ]
           ],
           "sequential": [
            [
             0,
             "#0d0887"
            ],
            [
             0.1111111111111111,
             "#46039f"
            ],
            [
             0.2222222222222222,
             "#7201a8"
            ],
            [
             0.3333333333333333,
             "#9c179e"
            ],
            [
             0.4444444444444444,
             "#bd3786"
            ],
            [
             0.5555555555555556,
             "#d8576b"
            ],
            [
             0.6666666666666666,
             "#ed7953"
            ],
            [
             0.7777777777777778,
             "#fb9f3a"
            ],
            [
             0.8888888888888888,
             "#fdca26"
            ],
            [
             1,
             "#f0f921"
            ]
           ],
           "sequentialminus": [
            [
             0,
             "#0d0887"
            ],
            [
             0.1111111111111111,
             "#46039f"
            ],
            [
             0.2222222222222222,
             "#7201a8"
            ],
            [
             0.3333333333333333,
             "#9c179e"
            ],
            [
             0.4444444444444444,
             "#bd3786"
            ],
            [
             0.5555555555555556,
             "#d8576b"
            ],
            [
             0.6666666666666666,
             "#ed7953"
            ],
            [
             0.7777777777777778,
             "#fb9f3a"
            ],
            [
             0.8888888888888888,
             "#fdca26"
            ],
            [
             1,
             "#f0f921"
            ]
           ]
          },
          "colorway": [
           "#636efa",
           "#EF553B",
           "#00cc96",
           "#ab63fa",
           "#FFA15A",
           "#19d3f3",
           "#FF6692",
           "#B6E880",
           "#FF97FF",
           "#FECB52"
          ],
          "font": {
           "color": "#2a3f5f"
          },
          "geo": {
           "bgcolor": "white",
           "lakecolor": "white",
           "landcolor": "#E5ECF6",
           "showlakes": true,
           "showland": true,
           "subunitcolor": "white"
          },
          "hoverlabel": {
           "align": "left"
          },
          "hovermode": "closest",
          "mapbox": {
           "style": "light"
          },
          "paper_bgcolor": "white",
          "plot_bgcolor": "#E5ECF6",
          "polar": {
           "angularaxis": {
            "gridcolor": "white",
            "linecolor": "white",
            "ticks": ""
           },
           "bgcolor": "#E5ECF6",
           "radialaxis": {
            "gridcolor": "white",
            "linecolor": "white",
            "ticks": ""
           }
          },
          "scene": {
           "xaxis": {
            "backgroundcolor": "#E5ECF6",
            "gridcolor": "white",
            "gridwidth": 2,
            "linecolor": "white",
            "showbackground": true,
            "ticks": "",
            "zerolinecolor": "white"
           },
           "yaxis": {
            "backgroundcolor": "#E5ECF6",
            "gridcolor": "white",
            "gridwidth": 2,
            "linecolor": "white",
            "showbackground": true,
            "ticks": "",
            "zerolinecolor": "white"
           },
           "zaxis": {
            "backgroundcolor": "#E5ECF6",
            "gridcolor": "white",
            "gridwidth": 2,
            "linecolor": "white",
            "showbackground": true,
            "ticks": "",
            "zerolinecolor": "white"
           }
          },
          "shapedefaults": {
           "line": {
            "color": "#2a3f5f"
           }
          },
          "ternary": {
           "aaxis": {
            "gridcolor": "white",
            "linecolor": "white",
            "ticks": ""
           },
           "baxis": {
            "gridcolor": "white",
            "linecolor": "white",
            "ticks": ""
           },
           "bgcolor": "#E5ECF6",
           "caxis": {
            "gridcolor": "white",
            "linecolor": "white",
            "ticks": ""
           }
          },
          "title": {
           "x": 0.05
          },
          "xaxis": {
           "automargin": true,
           "gridcolor": "white",
           "linecolor": "white",
           "ticks": "",
           "title": {
            "standoff": 15
           },
           "zerolinecolor": "white",
           "zerolinewidth": 2
          },
          "yaxis": {
           "automargin": true,
           "gridcolor": "white",
           "linecolor": "white",
           "ticks": "",
           "title": {
            "standoff": 15
           },
           "zerolinecolor": "white",
           "zerolinewidth": 2
          }
         }
        },
        "title": {
         "text": "Sales funnel by groups. Less than 80 events.",
         "x": 0,
         "xref": "paper"
        }
       }
      },
      "text/html": [
       "<div>                            <div id=\"9dd34cc7-487e-4cf0-aca3-1c83464134e3\" class=\"plotly-graph-div\" style=\"height:525px; width:100%;\"></div>            <script type=\"text/javascript\">                require([\"plotly\"], function(Plotly) {                    window.PLOTLYENV=window.PLOTLYENV || {};                                    if (document.getElementById(\"9dd34cc7-487e-4cf0-aca3-1c83464134e3\")) {                    Plotly.newPlot(                        \"9dd34cc7-487e-4cf0-aca3-1c83464134e3\",                        [{\"marker\":{\"color\":\"#FF1B2B\"},\"name\":\"G_246_less_80\",\"textinfo\":\"value+percent initial\",\"x\":[2294,1390,1118,1054],\"y\":[\"Main Screen\",\"Offer Screen\",\"Payment Screen\",\"Payment Confirmed\"],\"type\":\"funnel\"},{\"marker\":{\"color\":\"#000000\"},\"name\":\"G_247_less_80\",\"textinfo\":\"value+percent initial\",\"x\":[2316,1364,1089,1012],\"y\":[\"Main Screen\",\"Offer Screen\",\"Payment Screen\",\"Payment Confirmed\"],\"type\":\"funnel\"},{\"marker\":{\"color\":\"#D59645\"},\"name\":\"G_248_less_80\",\"textinfo\":\"value+percent initial\",\"x\":[2320,1367,1070,1024],\"y\":[\"Main Screen\",\"Offer Screen\",\"Payment Screen\",\"Payment Confirmed\"],\"type\":\"funnel\"}],                        {\"template\":{\"data\":{\"bar\":[{\"error_x\":{\"color\":\"#2a3f5f\"},\"error_y\":{\"color\":\"#2a3f5f\"},\"marker\":{\"line\":{\"color\":\"#E5ECF6\",\"width\":0.5},\"pattern\":{\"fillmode\":\"overlay\",\"size\":10,\"solidity\":0.2}},\"type\":\"bar\"}],\"barpolar\":[{\"marker\":{\"line\":{\"color\":\"#E5ECF6\",\"width\":0.5},\"pattern\":{\"fillmode\":\"overlay\",\"size\":10,\"solidity\":0.2}},\"type\":\"barpolar\"}],\"carpet\":[{\"aaxis\":{\"endlinecolor\":\"#2a3f5f\",\"gridcolor\":\"white\",\"linecolor\":\"white\",\"minorgridcolor\":\"white\",\"startlinecolor\":\"#2a3f5f\"},\"baxis\":{\"endlinecolor\":\"#2a3f5f\",\"gridcolor\":\"white\",\"linecolor\":\"white\",\"minorgridcolor\":\"white\",\"startlinecolor\":\"#2a3f5f\"},\"type\":\"carpet\"}],\"choropleth\":[{\"colorbar\":{\"outlinewidth\":0,\"ticks\":\"\"},\"type\":\"choropleth\"}],\"contour\":[{\"colorbar\":{\"outlinewidth\":0,\"ticks\":\"\"},\"colorscale\":[[0.0,\"#0d0887\"],[0.1111111111111111,\"#46039f\"],[0.2222222222222222,\"#7201a8\"],[0.3333333333333333,\"#9c179e\"],[0.4444444444444444,\"#bd3786\"],[0.5555555555555556,\"#d8576b\"],[0.6666666666666666,\"#ed7953\"],[0.7777777777777778,\"#fb9f3a\"],[0.8888888888888888,\"#fdca26\"],[1.0,\"#f0f921\"]],\"type\":\"contour\"}],\"contourcarpet\":[{\"colorbar\":{\"outlinewidth\":0,\"ticks\":\"\"},\"type\":\"contourcarpet\"}],\"heatmap\":[{\"colorbar\":{\"outlinewidth\":0,\"ticks\":\"\"},\"colorscale\":[[0.0,\"#0d0887\"],[0.1111111111111111,\"#46039f\"],[0.2222222222222222,\"#7201a8\"],[0.3333333333333333,\"#9c179e\"],[0.4444444444444444,\"#bd3786\"],[0.5555555555555556,\"#d8576b\"],[0.6666666666666666,\"#ed7953\"],[0.7777777777777778,\"#fb9f3a\"],[0.8888888888888888,\"#fdca26\"],[1.0,\"#f0f921\"]],\"type\":\"heatmap\"}],\"heatmapgl\":[{\"colorbar\":{\"outlinewidth\":0,\"ticks\":\"\"},\"colorscale\":[[0.0,\"#0d0887\"],[0.1111111111111111,\"#46039f\"],[0.2222222222222222,\"#7201a8\"],[0.3333333333333333,\"#9c179e\"],[0.4444444444444444,\"#bd3786\"],[0.5555555555555556,\"#d8576b\"],[0.6666666666666666,\"#ed7953\"],[0.7777777777777778,\"#fb9f3a\"],[0.8888888888888888,\"#fdca26\"],[1.0,\"#f0f921\"]],\"type\":\"heatmapgl\"}],\"histogram\":[{\"marker\":{\"pattern\":{\"fillmode\":\"overlay\",\"size\":10,\"solidity\":0.2}},\"type\":\"histogram\"}],\"histogram2d\":[{\"colorbar\":{\"outlinewidth\":0,\"ticks\":\"\"},\"colorscale\":[[0.0,\"#0d0887\"],[0.1111111111111111,\"#46039f\"],[0.2222222222222222,\"#7201a8\"],[0.3333333333333333,\"#9c179e\"],[0.4444444444444444,\"#bd3786\"],[0.5555555555555556,\"#d8576b\"],[0.6666666666666666,\"#ed7953\"],[0.7777777777777778,\"#fb9f3a\"],[0.8888888888888888,\"#fdca26\"],[1.0,\"#f0f921\"]],\"type\":\"histogram2d\"}],\"histogram2dcontour\":[{\"colorbar\":{\"outlinewidth\":0,\"ticks\":\"\"},\"colorscale\":[[0.0,\"#0d0887\"],[0.1111111111111111,\"#46039f\"],[0.2222222222222222,\"#7201a8\"],[0.3333333333333333,\"#9c179e\"],[0.4444444444444444,\"#bd3786\"],[0.5555555555555556,\"#d8576b\"],[0.6666666666666666,\"#ed7953\"],[0.7777777777777778,\"#fb9f3a\"],[0.8888888888888888,\"#fdca26\"],[1.0,\"#f0f921\"]],\"type\":\"histogram2dcontour\"}],\"mesh3d\":[{\"colorbar\":{\"outlinewidth\":0,\"ticks\":\"\"},\"type\":\"mesh3d\"}],\"parcoords\":[{\"line\":{\"colorbar\":{\"outlinewidth\":0,\"ticks\":\"\"}},\"type\":\"parcoords\"}],\"pie\":[{\"automargin\":true,\"type\":\"pie\"}],\"scatter\":[{\"marker\":{\"colorbar\":{\"outlinewidth\":0,\"ticks\":\"\"}},\"type\":\"scatter\"}],\"scatter3d\":[{\"line\":{\"colorbar\":{\"outlinewidth\":0,\"ticks\":\"\"}},\"marker\":{\"colorbar\":{\"outlinewidth\":0,\"ticks\":\"\"}},\"type\":\"scatter3d\"}],\"scattercarpet\":[{\"marker\":{\"colorbar\":{\"outlinewidth\":0,\"ticks\":\"\"}},\"type\":\"scattercarpet\"}],\"scattergeo\":[{\"marker\":{\"colorbar\":{\"outlinewidth\":0,\"ticks\":\"\"}},\"type\":\"scattergeo\"}],\"scattergl\":[{\"marker\":{\"colorbar\":{\"outlinewidth\":0,\"ticks\":\"\"}},\"type\":\"scattergl\"}],\"scattermapbox\":[{\"marker\":{\"colorbar\":{\"outlinewidth\":0,\"ticks\":\"\"}},\"type\":\"scattermapbox\"}],\"scatterpolar\":[{\"marker\":{\"colorbar\":{\"outlinewidth\":0,\"ticks\":\"\"}},\"type\":\"scatterpolar\"}],\"scatterpolargl\":[{\"marker\":{\"colorbar\":{\"outlinewidth\":0,\"ticks\":\"\"}},\"type\":\"scatterpolargl\"}],\"scatterternary\":[{\"marker\":{\"colorbar\":{\"outlinewidth\":0,\"ticks\":\"\"}},\"type\":\"scatterternary\"}],\"surface\":[{\"colorbar\":{\"outlinewidth\":0,\"ticks\":\"\"},\"colorscale\":[[0.0,\"#0d0887\"],[0.1111111111111111,\"#46039f\"],[0.2222222222222222,\"#7201a8\"],[0.3333333333333333,\"#9c179e\"],[0.4444444444444444,\"#bd3786\"],[0.5555555555555556,\"#d8576b\"],[0.6666666666666666,\"#ed7953\"],[0.7777777777777778,\"#fb9f3a\"],[0.8888888888888888,\"#fdca26\"],[1.0,\"#f0f921\"]],\"type\":\"surface\"}],\"table\":[{\"cells\":{\"fill\":{\"color\":\"#EBF0F8\"},\"line\":{\"color\":\"white\"}},\"header\":{\"fill\":{\"color\":\"#C8D4E3\"},\"line\":{\"color\":\"white\"}},\"type\":\"table\"}]},\"layout\":{\"annotationdefaults\":{\"arrowcolor\":\"#2a3f5f\",\"arrowhead\":0,\"arrowwidth\":1},\"autotypenumbers\":\"strict\",\"coloraxis\":{\"colorbar\":{\"outlinewidth\":0,\"ticks\":\"\"}},\"colorscale\":{\"diverging\":[[0,\"#8e0152\"],[0.1,\"#c51b7d\"],[0.2,\"#de77ae\"],[0.3,\"#f1b6da\"],[0.4,\"#fde0ef\"],[0.5,\"#f7f7f7\"],[0.6,\"#e6f5d0\"],[0.7,\"#b8e186\"],[0.8,\"#7fbc41\"],[0.9,\"#4d9221\"],[1,\"#276419\"]],\"sequential\":[[0.0,\"#0d0887\"],[0.1111111111111111,\"#46039f\"],[0.2222222222222222,\"#7201a8\"],[0.3333333333333333,\"#9c179e\"],[0.4444444444444444,\"#bd3786\"],[0.5555555555555556,\"#d8576b\"],[0.6666666666666666,\"#ed7953\"],[0.7777777777777778,\"#fb9f3a\"],[0.8888888888888888,\"#fdca26\"],[1.0,\"#f0f921\"]],\"sequentialminus\":[[0.0,\"#0d0887\"],[0.1111111111111111,\"#46039f\"],[0.2222222222222222,\"#7201a8\"],[0.3333333333333333,\"#9c179e\"],[0.4444444444444444,\"#bd3786\"],[0.5555555555555556,\"#d8576b\"],[0.6666666666666666,\"#ed7953\"],[0.7777777777777778,\"#fb9f3a\"],[0.8888888888888888,\"#fdca26\"],[1.0,\"#f0f921\"]]},\"colorway\":[\"#636efa\",\"#EF553B\",\"#00cc96\",\"#ab63fa\",\"#FFA15A\",\"#19d3f3\",\"#FF6692\",\"#B6E880\",\"#FF97FF\",\"#FECB52\"],\"font\":{\"color\":\"#2a3f5f\"},\"geo\":{\"bgcolor\":\"white\",\"lakecolor\":\"white\",\"landcolor\":\"#E5ECF6\",\"showlakes\":true,\"showland\":true,\"subunitcolor\":\"white\"},\"hoverlabel\":{\"align\":\"left\"},\"hovermode\":\"closest\",\"mapbox\":{\"style\":\"light\"},\"paper_bgcolor\":\"white\",\"plot_bgcolor\":\"#E5ECF6\",\"polar\":{\"angularaxis\":{\"gridcolor\":\"white\",\"linecolor\":\"white\",\"ticks\":\"\"},\"bgcolor\":\"#E5ECF6\",\"radialaxis\":{\"gridcolor\":\"white\",\"linecolor\":\"white\",\"ticks\":\"\"}},\"scene\":{\"xaxis\":{\"backgroundcolor\":\"#E5ECF6\",\"gridcolor\":\"white\",\"gridwidth\":2,\"linecolor\":\"white\",\"showbackground\":true,\"ticks\":\"\",\"zerolinecolor\":\"white\"},\"yaxis\":{\"backgroundcolor\":\"#E5ECF6\",\"gridcolor\":\"white\",\"gridwidth\":2,\"linecolor\":\"white\",\"showbackground\":true,\"ticks\":\"\",\"zerolinecolor\":\"white\"},\"zaxis\":{\"backgroundcolor\":\"#E5ECF6\",\"gridcolor\":\"white\",\"gridwidth\":2,\"linecolor\":\"white\",\"showbackground\":true,\"ticks\":\"\",\"zerolinecolor\":\"white\"}},\"shapedefaults\":{\"line\":{\"color\":\"#2a3f5f\"}},\"ternary\":{\"aaxis\":{\"gridcolor\":\"white\",\"linecolor\":\"white\",\"ticks\":\"\"},\"baxis\":{\"gridcolor\":\"white\",\"linecolor\":\"white\",\"ticks\":\"\"},\"bgcolor\":\"#E5ECF6\",\"caxis\":{\"gridcolor\":\"white\",\"linecolor\":\"white\",\"ticks\":\"\"}},\"title\":{\"x\":0.05},\"xaxis\":{\"automargin\":true,\"gridcolor\":\"white\",\"linecolor\":\"white\",\"ticks\":\"\",\"title\":{\"standoff\":15},\"zerolinecolor\":\"white\",\"zerolinewidth\":2},\"yaxis\":{\"automargin\":true,\"gridcolor\":\"white\",\"linecolor\":\"white\",\"ticks\":\"\",\"title\":{\"standoff\":15},\"zerolinecolor\":\"white\",\"zerolinewidth\":2}}},\"title\":{\"text\":\"Sales funnel by groups. Less than 80 events.\",\"x\":0,\"xref\":\"paper\"}},                        {\"responsive\": true}                    ).then(function(){\n",
       "                            \n",
       "var gd = document.getElementById('9dd34cc7-487e-4cf0-aca3-1c83464134e3');\n",
       "var x = new MutationObserver(function (mutations, observer) {{\n",
       "        var display = window.getComputedStyle(gd).display;\n",
       "        if (!display || display === 'none') {{\n",
       "            console.log([gd, 'removed!']);\n",
       "            Plotly.purge(gd);\n",
       "            observer.disconnect();\n",
       "        }}\n",
       "}});\n",
       "\n",
       "// Listen for the removal of the full notebook cells\n",
       "var notebookContainer = gd.closest('#notebook-container');\n",
       "if (notebookContainer) {{\n",
       "    x.observe(notebookContainer, {childList: true});\n",
       "}}\n",
       "\n",
       "// Listen for the clearing of the current output cell\n",
       "var outputEl = gd.closest('.output');\n",
       "if (outputEl) {{\n",
       "    x.observe(outputEl, {childList: true});\n",
       "}}\n",
       "\n",
       "                        })                };                });            </script>        </div>"
      ]
     },
     "metadata": {},
     "output_type": "display_data"
    }
   ],
   "source": [
    "# build a sales funnel broken down into 3 groups\n",
    "# date after 2019-08-01\n",
    "# https://habr.com/ru/company/otus/blog/588190/\n",
    "\n",
    "fig = go.Figure()\n",
    "\n",
    "# first group\n",
    "fig.add_trace(go.Funnel(\n",
    "    name = 'G_246',\n",
    "    y = [\"Main Screen\", \"Offer Screen\", \"Payment Screen\", \"Payment Confirmed\"],\n",
    "    x = event_unique_246['device_id'],\n",
    "    marker = {\"color\" : \"#FF1B2B\"},\n",
    "    textinfo = \"value+percent initial\"))\n",
    "# second group\n",
    "fig.add_trace(go.Funnel(\n",
    "    name = 'G_247',\n",
    "    y = [\"Main Screen\", \"Offer Screen\", \"Payment Screen\", \"Payment Confirmed\"],\n",
    "    x = event_unique_247['device_id'],\n",
    "    marker = {\"color\" : \"#000000\"},\n",
    "    textinfo = \"value+percent initial\"))\n",
    "# third group\n",
    "fig.add_trace(go.Funnel(\n",
    "    name = 'G_248',\n",
    "    y = [\"Main Screen\", \"Offer Screen\", \"Payment Screen\", \"Payment Confirmed\"],\n",
    "    x = event_unique_248['device_id'],\n",
    "    marker = {\"color\" : \"#D59645\"},\n",
    "    textinfo = \"value+percent initial\"))\n",
    "# header\n",
    "fig.update_layout(\n",
    "    title=go.layout.Title(\n",
    "        text=\"Sales funnel by groups\",\n",
    "        xref=\"paper\",\n",
    "        x=0\n",
    "    )),\n",
    "\n",
    "fig.show()\n",
    "\n",
    "# build a sales funnel broken down into 3 groups\n",
    "# date after 2019-08-01 and events less than 80\n",
    "fig = go.Figure()\n",
    "\n",
    "# first group\n",
    "fig.add_trace(go.Funnel(\n",
    "    name = 'G_246_less_80',\n",
    "    y = [\"Main Screen\", \"Offer Screen\", \"Payment Screen\", \"Payment Confirmed\"],\n",
    "    x = event_unique_246_bigger_80['device_id'],\n",
    "    marker = {\"color\" : \"#FF1B2B\"},\n",
    "    textinfo = \"value+percent initial\"))\n",
    "# second group\n",
    "fig.add_trace(go.Funnel(\n",
    "    name = 'G_247_less_80',\n",
    "    y = [\"Main Screen\", \"Offer Screen\", \"Payment Screen\", \"Payment Confirmed\"],\n",
    "    x = event_unique_247_bigger_80['device_id'],\n",
    "    marker = {\"color\" : \"#000000\"},\n",
    "    textinfo = \"value+percent initial\"))\n",
    "# third group\n",
    "fig.add_trace(go.Funnel(\n",
    "    name = 'G_248_less_80',\n",
    "    y = [\"Main Screen\", \"Offer Screen\", \"Payment Screen\", \"Payment Confirmed\"],\n",
    "    x = event_unique_248_bigger_80['device_id'],\n",
    "    marker = {\"color\" : \"#D59645\"},\n",
    "    textinfo = \"value+percent initial\"))\n",
    "# header\n",
    "fig.update_layout(\n",
    "    title=go.layout.Title(\n",
    "        text=\"Sales funnel by groups. Less than 80 events.\",\n",
    "        xref=\"paper\",\n",
    "        x=0\n",
    "    )),\n",
    "\n",
    "fig.show()"
   ]
  },
  {
   "cell_type": "markdown",
   "metadata": {},
   "source": [
    "We will build a sales funnel for all data and data with a filter of less than 80 events."
   ]
  },
  {
   "cell_type": "code",
   "execution_count": 59,
   "metadata": {},
   "outputs": [
    {
     "data": {
      "application/vnd.plotly.v1+json": {
       "config": {
        "plotlyServerURL": "https://plot.ly"
       },
       "data": [
        {
         "marker": {
          "color": "#F20819"
         },
         "textinfo": "value+percent initial",
         "textposition": "inside",
         "type": "funnel",
         "x": [
          7419,
          4593,
          3734,
          3539
         ],
         "xaxis": "x",
         "y": [
          "Main Screen",
          "Offer Screen",
          "Payment Screen",
          "Payment Confirmed"
         ],
         "yaxis": "y"
        },
        {
         "marker": {
          "color": "#000000"
         },
         "textinfo": "value+percent initial",
         "textposition": "inside",
         "type": "funnel",
         "x": [
          6930,
          4121,
          3277,
          3090
         ],
         "xaxis": "x2",
         "y": [
          "Main Screen",
          "Offer Screen",
          "Payment Screen",
          "Payment Confirmed"
         ],
         "yaxis": "y2"
        }
       ],
       "layout": {
        "annotations": [
         {
          "font": {
           "size": 16
          },
          "showarrow": false,
          "text": "All groups",
          "x": 0.225,
          "xanchor": "center",
          "xref": "paper",
          "y": 1,
          "yanchor": "bottom",
          "yref": "paper"
         },
         {
          "font": {
           "size": 16
          },
          "showarrow": false,
          "text": "Filter, less than 80 events",
          "x": 0.775,
          "xanchor": "center",
          "xref": "paper",
          "y": 1,
          "yanchor": "bottom",
          "yref": "paper"
         }
        ],
        "height": 600,
        "showlegend": false,
        "template": {
         "data": {
          "bar": [
           {
            "error_x": {
             "color": "#2a3f5f"
            },
            "error_y": {
             "color": "#2a3f5f"
            },
            "marker": {
             "line": {
              "color": "#E5ECF6",
              "width": 0.5
             },
             "pattern": {
              "fillmode": "overlay",
              "size": 10,
              "solidity": 0.2
             }
            },
            "type": "bar"
           }
          ],
          "barpolar": [
           {
            "marker": {
             "line": {
              "color": "#E5ECF6",
              "width": 0.5
             },
             "pattern": {
              "fillmode": "overlay",
              "size": 10,
              "solidity": 0.2
             }
            },
            "type": "barpolar"
           }
          ],
          "carpet": [
           {
            "aaxis": {
             "endlinecolor": "#2a3f5f",
             "gridcolor": "white",
             "linecolor": "white",
             "minorgridcolor": "white",
             "startlinecolor": "#2a3f5f"
            },
            "baxis": {
             "endlinecolor": "#2a3f5f",
             "gridcolor": "white",
             "linecolor": "white",
             "minorgridcolor": "white",
             "startlinecolor": "#2a3f5f"
            },
            "type": "carpet"
           }
          ],
          "choropleth": [
           {
            "colorbar": {
             "outlinewidth": 0,
             "ticks": ""
            },
            "type": "choropleth"
           }
          ],
          "contour": [
           {
            "colorbar": {
             "outlinewidth": 0,
             "ticks": ""
            },
            "colorscale": [
             [
              0,
              "#0d0887"
             ],
             [
              0.1111111111111111,
              "#46039f"
             ],
             [
              0.2222222222222222,
              "#7201a8"
             ],
             [
              0.3333333333333333,
              "#9c179e"
             ],
             [
              0.4444444444444444,
              "#bd3786"
             ],
             [
              0.5555555555555556,
              "#d8576b"
             ],
             [
              0.6666666666666666,
              "#ed7953"
             ],
             [
              0.7777777777777778,
              "#fb9f3a"
             ],
             [
              0.8888888888888888,
              "#fdca26"
             ],
             [
              1,
              "#f0f921"
             ]
            ],
            "type": "contour"
           }
          ],
          "contourcarpet": [
           {
            "colorbar": {
             "outlinewidth": 0,
             "ticks": ""
            },
            "type": "contourcarpet"
           }
          ],
          "heatmap": [
           {
            "colorbar": {
             "outlinewidth": 0,
             "ticks": ""
            },
            "colorscale": [
             [
              0,
              "#0d0887"
             ],
             [
              0.1111111111111111,
              "#46039f"
             ],
             [
              0.2222222222222222,
              "#7201a8"
             ],
             [
              0.3333333333333333,
              "#9c179e"
             ],
             [
              0.4444444444444444,
              "#bd3786"
             ],
             [
              0.5555555555555556,
              "#d8576b"
             ],
             [
              0.6666666666666666,
              "#ed7953"
             ],
             [
              0.7777777777777778,
              "#fb9f3a"
             ],
             [
              0.8888888888888888,
              "#fdca26"
             ],
             [
              1,
              "#f0f921"
             ]
            ],
            "type": "heatmap"
           }
          ],
          "heatmapgl": [
           {
            "colorbar": {
             "outlinewidth": 0,
             "ticks": ""
            },
            "colorscale": [
             [
              0,
              "#0d0887"
             ],
             [
              0.1111111111111111,
              "#46039f"
             ],
             [
              0.2222222222222222,
              "#7201a8"
             ],
             [
              0.3333333333333333,
              "#9c179e"
             ],
             [
              0.4444444444444444,
              "#bd3786"
             ],
             [
              0.5555555555555556,
              "#d8576b"
             ],
             [
              0.6666666666666666,
              "#ed7953"
             ],
             [
              0.7777777777777778,
              "#fb9f3a"
             ],
             [
              0.8888888888888888,
              "#fdca26"
             ],
             [
              1,
              "#f0f921"
             ]
            ],
            "type": "heatmapgl"
           }
          ],
          "histogram": [
           {
            "marker": {
             "pattern": {
              "fillmode": "overlay",
              "size": 10,
              "solidity": 0.2
             }
            },
            "type": "histogram"
           }
          ],
          "histogram2d": [
           {
            "colorbar": {
             "outlinewidth": 0,
             "ticks": ""
            },
            "colorscale": [
             [
              0,
              "#0d0887"
             ],
             [
              0.1111111111111111,
              "#46039f"
             ],
             [
              0.2222222222222222,
              "#7201a8"
             ],
             [
              0.3333333333333333,
              "#9c179e"
             ],
             [
              0.4444444444444444,
              "#bd3786"
             ],
             [
              0.5555555555555556,
              "#d8576b"
             ],
             [
              0.6666666666666666,
              "#ed7953"
             ],
             [
              0.7777777777777778,
              "#fb9f3a"
             ],
             [
              0.8888888888888888,
              "#fdca26"
             ],
             [
              1,
              "#f0f921"
             ]
            ],
            "type": "histogram2d"
           }
          ],
          "histogram2dcontour": [
           {
            "colorbar": {
             "outlinewidth": 0,
             "ticks": ""
            },
            "colorscale": [
             [
              0,
              "#0d0887"
             ],
             [
              0.1111111111111111,
              "#46039f"
             ],
             [
              0.2222222222222222,
              "#7201a8"
             ],
             [
              0.3333333333333333,
              "#9c179e"
             ],
             [
              0.4444444444444444,
              "#bd3786"
             ],
             [
              0.5555555555555556,
              "#d8576b"
             ],
             [
              0.6666666666666666,
              "#ed7953"
             ],
             [
              0.7777777777777778,
              "#fb9f3a"
             ],
             [
              0.8888888888888888,
              "#fdca26"
             ],
             [
              1,
              "#f0f921"
             ]
            ],
            "type": "histogram2dcontour"
           }
          ],
          "mesh3d": [
           {
            "colorbar": {
             "outlinewidth": 0,
             "ticks": ""
            },
            "type": "mesh3d"
           }
          ],
          "parcoords": [
           {
            "line": {
             "colorbar": {
              "outlinewidth": 0,
              "ticks": ""
             }
            },
            "type": "parcoords"
           }
          ],
          "pie": [
           {
            "automargin": true,
            "type": "pie"
           }
          ],
          "scatter": [
           {
            "marker": {
             "colorbar": {
              "outlinewidth": 0,
              "ticks": ""
             }
            },
            "type": "scatter"
           }
          ],
          "scatter3d": [
           {
            "line": {
             "colorbar": {
              "outlinewidth": 0,
              "ticks": ""
             }
            },
            "marker": {
             "colorbar": {
              "outlinewidth": 0,
              "ticks": ""
             }
            },
            "type": "scatter3d"
           }
          ],
          "scattercarpet": [
           {
            "marker": {
             "colorbar": {
              "outlinewidth": 0,
              "ticks": ""
             }
            },
            "type": "scattercarpet"
           }
          ],
          "scattergeo": [
           {
            "marker": {
             "colorbar": {
              "outlinewidth": 0,
              "ticks": ""
             }
            },
            "type": "scattergeo"
           }
          ],
          "scattergl": [
           {
            "marker": {
             "colorbar": {
              "outlinewidth": 0,
              "ticks": ""
             }
            },
            "type": "scattergl"
           }
          ],
          "scattermapbox": [
           {
            "marker": {
             "colorbar": {
              "outlinewidth": 0,
              "ticks": ""
             }
            },
            "type": "scattermapbox"
           }
          ],
          "scatterpolar": [
           {
            "marker": {
             "colorbar": {
              "outlinewidth": 0,
              "ticks": ""
             }
            },
            "type": "scatterpolar"
           }
          ],
          "scatterpolargl": [
           {
            "marker": {
             "colorbar": {
              "outlinewidth": 0,
              "ticks": ""
             }
            },
            "type": "scatterpolargl"
           }
          ],
          "scatterternary": [
           {
            "marker": {
             "colorbar": {
              "outlinewidth": 0,
              "ticks": ""
             }
            },
            "type": "scatterternary"
           }
          ],
          "surface": [
           {
            "colorbar": {
             "outlinewidth": 0,
             "ticks": ""
            },
            "colorscale": [
             [
              0,
              "#0d0887"
             ],
             [
              0.1111111111111111,
              "#46039f"
             ],
             [
              0.2222222222222222,
              "#7201a8"
             ],
             [
              0.3333333333333333,
              "#9c179e"
             ],
             [
              0.4444444444444444,
              "#bd3786"
             ],
             [
              0.5555555555555556,
              "#d8576b"
             ],
             [
              0.6666666666666666,
              "#ed7953"
             ],
             [
              0.7777777777777778,
              "#fb9f3a"
             ],
             [
              0.8888888888888888,
              "#fdca26"
             ],
             [
              1,
              "#f0f921"
             ]
            ],
            "type": "surface"
           }
          ],
          "table": [
           {
            "cells": {
             "fill": {
              "color": "#EBF0F8"
             },
             "line": {
              "color": "white"
             }
            },
            "header": {
             "fill": {
              "color": "#C8D4E3"
             },
             "line": {
              "color": "white"
             }
            },
            "type": "table"
           }
          ]
         },
         "layout": {
          "annotationdefaults": {
           "arrowcolor": "#2a3f5f",
           "arrowhead": 0,
           "arrowwidth": 1
          },
          "autotypenumbers": "strict",
          "coloraxis": {
           "colorbar": {
            "outlinewidth": 0,
            "ticks": ""
           }
          },
          "colorscale": {
           "diverging": [
            [
             0,
             "#8e0152"
            ],
            [
             0.1,
             "#c51b7d"
            ],
            [
             0.2,
             "#de77ae"
            ],
            [
             0.3,
             "#f1b6da"
            ],
            [
             0.4,
             "#fde0ef"
            ],
            [
             0.5,
             "#f7f7f7"
            ],
            [
             0.6,
             "#e6f5d0"
            ],
            [
             0.7,
             "#b8e186"
            ],
            [
             0.8,
             "#7fbc41"
            ],
            [
             0.9,
             "#4d9221"
            ],
            [
             1,
             "#276419"
            ]
           ],
           "sequential": [
            [
             0,
             "#0d0887"
            ],
            [
             0.1111111111111111,
             "#46039f"
            ],
            [
             0.2222222222222222,
             "#7201a8"
            ],
            [
             0.3333333333333333,
             "#9c179e"
            ],
            [
             0.4444444444444444,
             "#bd3786"
            ],
            [
             0.5555555555555556,
             "#d8576b"
            ],
            [
             0.6666666666666666,
             "#ed7953"
            ],
            [
             0.7777777777777778,
             "#fb9f3a"
            ],
            [
             0.8888888888888888,
             "#fdca26"
            ],
            [
             1,
             "#f0f921"
            ]
           ],
           "sequentialminus": [
            [
             0,
             "#0d0887"
            ],
            [
             0.1111111111111111,
             "#46039f"
            ],
            [
             0.2222222222222222,
             "#7201a8"
            ],
            [
             0.3333333333333333,
             "#9c179e"
            ],
            [
             0.4444444444444444,
             "#bd3786"
            ],
            [
             0.5555555555555556,
             "#d8576b"
            ],
            [
             0.6666666666666666,
             "#ed7953"
            ],
            [
             0.7777777777777778,
             "#fb9f3a"
            ],
            [
             0.8888888888888888,
             "#fdca26"
            ],
            [
             1,
             "#f0f921"
            ]
           ]
          },
          "colorway": [
           "#636efa",
           "#EF553B",
           "#00cc96",
           "#ab63fa",
           "#FFA15A",
           "#19d3f3",
           "#FF6692",
           "#B6E880",
           "#FF97FF",
           "#FECB52"
          ],
          "font": {
           "color": "#2a3f5f"
          },
          "geo": {
           "bgcolor": "white",
           "lakecolor": "white",
           "landcolor": "#E5ECF6",
           "showlakes": true,
           "showland": true,
           "subunitcolor": "white"
          },
          "hoverlabel": {
           "align": "left"
          },
          "hovermode": "closest",
          "mapbox": {
           "style": "light"
          },
          "paper_bgcolor": "white",
          "plot_bgcolor": "#E5ECF6",
          "polar": {
           "angularaxis": {
            "gridcolor": "white",
            "linecolor": "white",
            "ticks": ""
           },
           "bgcolor": "#E5ECF6",
           "radialaxis": {
            "gridcolor": "white",
            "linecolor": "white",
            "ticks": ""
           }
          },
          "scene": {
           "xaxis": {
            "backgroundcolor": "#E5ECF6",
            "gridcolor": "white",
            "gridwidth": 2,
            "linecolor": "white",
            "showbackground": true,
            "ticks": "",
            "zerolinecolor": "white"
           },
           "yaxis": {
            "backgroundcolor": "#E5ECF6",
            "gridcolor": "white",
            "gridwidth": 2,
            "linecolor": "white",
            "showbackground": true,
            "ticks": "",
            "zerolinecolor": "white"
           },
           "zaxis": {
            "backgroundcolor": "#E5ECF6",
            "gridcolor": "white",
            "gridwidth": 2,
            "linecolor": "white",
            "showbackground": true,
            "ticks": "",
            "zerolinecolor": "white"
           }
          },
          "shapedefaults": {
           "line": {
            "color": "#2a3f5f"
           }
          },
          "ternary": {
           "aaxis": {
            "gridcolor": "white",
            "linecolor": "white",
            "ticks": ""
           },
           "baxis": {
            "gridcolor": "white",
            "linecolor": "white",
            "ticks": ""
           },
           "bgcolor": "#E5ECF6",
           "caxis": {
            "gridcolor": "white",
            "linecolor": "white",
            "ticks": ""
           }
          },
          "title": {
           "x": 0.05
          },
          "xaxis": {
           "automargin": true,
           "gridcolor": "white",
           "linecolor": "white",
           "ticks": "",
           "title": {
            "standoff": 15
           },
           "zerolinecolor": "white",
           "zerolinewidth": 2
          },
          "yaxis": {
           "automargin": true,
           "gridcolor": "white",
           "linecolor": "white",
           "ticks": "",
           "title": {
            "standoff": 15
           },
           "zerolinecolor": "white",
           "zerolinewidth": 2
          }
         }
        },
        "width": 900,
        "xaxis": {
         "anchor": "y",
         "domain": [
          0,
          0.45
         ]
        },
        "xaxis2": {
         "anchor": "y2",
         "domain": [
          0.55,
          1
         ]
        },
        "yaxis": {
         "anchor": "x",
         "domain": [
          0,
          1
         ]
        },
        "yaxis2": {
         "anchor": "x2",
         "domain": [
          0,
          1
         ]
        }
       }
      },
      "text/html": [
       "<div>                            <div id=\"84065907-a398-41e7-9883-917bf25be543\" class=\"plotly-graph-div\" style=\"height:600px; width:900px;\"></div>            <script type=\"text/javascript\">                require([\"plotly\"], function(Plotly) {                    window.PLOTLYENV=window.PLOTLYENV || {};                                    if (document.getElementById(\"84065907-a398-41e7-9883-917bf25be543\")) {                    Plotly.newPlot(                        \"84065907-a398-41e7-9883-917bf25be543\",                        [{\"marker\":{\"color\":\"#F20819\"},\"textinfo\":\"value+percent initial\",\"textposition\":\"inside\",\"x\":[7419,4593,3734,3539],\"y\":[\"Main Screen\",\"Offer Screen\",\"Payment Screen\",\"Payment Confirmed\"],\"type\":\"funnel\",\"xaxis\":\"x\",\"yaxis\":\"y\"},{\"marker\":{\"color\":\"#000000\"},\"textinfo\":\"value+percent initial\",\"textposition\":\"inside\",\"x\":[6930,4121,3277,3090],\"y\":[\"Main Screen\",\"Offer Screen\",\"Payment Screen\",\"Payment Confirmed\"],\"type\":\"funnel\",\"xaxis\":\"x2\",\"yaxis\":\"y2\"}],                        {\"template\":{\"data\":{\"bar\":[{\"error_x\":{\"color\":\"#2a3f5f\"},\"error_y\":{\"color\":\"#2a3f5f\"},\"marker\":{\"line\":{\"color\":\"#E5ECF6\",\"width\":0.5},\"pattern\":{\"fillmode\":\"overlay\",\"size\":10,\"solidity\":0.2}},\"type\":\"bar\"}],\"barpolar\":[{\"marker\":{\"line\":{\"color\":\"#E5ECF6\",\"width\":0.5},\"pattern\":{\"fillmode\":\"overlay\",\"size\":10,\"solidity\":0.2}},\"type\":\"barpolar\"}],\"carpet\":[{\"aaxis\":{\"endlinecolor\":\"#2a3f5f\",\"gridcolor\":\"white\",\"linecolor\":\"white\",\"minorgridcolor\":\"white\",\"startlinecolor\":\"#2a3f5f\"},\"baxis\":{\"endlinecolor\":\"#2a3f5f\",\"gridcolor\":\"white\",\"linecolor\":\"white\",\"minorgridcolor\":\"white\",\"startlinecolor\":\"#2a3f5f\"},\"type\":\"carpet\"}],\"choropleth\":[{\"colorbar\":{\"outlinewidth\":0,\"ticks\":\"\"},\"type\":\"choropleth\"}],\"contour\":[{\"colorbar\":{\"outlinewidth\":0,\"ticks\":\"\"},\"colorscale\":[[0.0,\"#0d0887\"],[0.1111111111111111,\"#46039f\"],[0.2222222222222222,\"#7201a8\"],[0.3333333333333333,\"#9c179e\"],[0.4444444444444444,\"#bd3786\"],[0.5555555555555556,\"#d8576b\"],[0.6666666666666666,\"#ed7953\"],[0.7777777777777778,\"#fb9f3a\"],[0.8888888888888888,\"#fdca26\"],[1.0,\"#f0f921\"]],\"type\":\"contour\"}],\"contourcarpet\":[{\"colorbar\":{\"outlinewidth\":0,\"ticks\":\"\"},\"type\":\"contourcarpet\"}],\"heatmap\":[{\"colorbar\":{\"outlinewidth\":0,\"ticks\":\"\"},\"colorscale\":[[0.0,\"#0d0887\"],[0.1111111111111111,\"#46039f\"],[0.2222222222222222,\"#7201a8\"],[0.3333333333333333,\"#9c179e\"],[0.4444444444444444,\"#bd3786\"],[0.5555555555555556,\"#d8576b\"],[0.6666666666666666,\"#ed7953\"],[0.7777777777777778,\"#fb9f3a\"],[0.8888888888888888,\"#fdca26\"],[1.0,\"#f0f921\"]],\"type\":\"heatmap\"}],\"heatmapgl\":[{\"colorbar\":{\"outlinewidth\":0,\"ticks\":\"\"},\"colorscale\":[[0.0,\"#0d0887\"],[0.1111111111111111,\"#46039f\"],[0.2222222222222222,\"#7201a8\"],[0.3333333333333333,\"#9c179e\"],[0.4444444444444444,\"#bd3786\"],[0.5555555555555556,\"#d8576b\"],[0.6666666666666666,\"#ed7953\"],[0.7777777777777778,\"#fb9f3a\"],[0.8888888888888888,\"#fdca26\"],[1.0,\"#f0f921\"]],\"type\":\"heatmapgl\"}],\"histogram\":[{\"marker\":{\"pattern\":{\"fillmode\":\"overlay\",\"size\":10,\"solidity\":0.2}},\"type\":\"histogram\"}],\"histogram2d\":[{\"colorbar\":{\"outlinewidth\":0,\"ticks\":\"\"},\"colorscale\":[[0.0,\"#0d0887\"],[0.1111111111111111,\"#46039f\"],[0.2222222222222222,\"#7201a8\"],[0.3333333333333333,\"#9c179e\"],[0.4444444444444444,\"#bd3786\"],[0.5555555555555556,\"#d8576b\"],[0.6666666666666666,\"#ed7953\"],[0.7777777777777778,\"#fb9f3a\"],[0.8888888888888888,\"#fdca26\"],[1.0,\"#f0f921\"]],\"type\":\"histogram2d\"}],\"histogram2dcontour\":[{\"colorbar\":{\"outlinewidth\":0,\"ticks\":\"\"},\"colorscale\":[[0.0,\"#0d0887\"],[0.1111111111111111,\"#46039f\"],[0.2222222222222222,\"#7201a8\"],[0.3333333333333333,\"#9c179e\"],[0.4444444444444444,\"#bd3786\"],[0.5555555555555556,\"#d8576b\"],[0.6666666666666666,\"#ed7953\"],[0.7777777777777778,\"#fb9f3a\"],[0.8888888888888888,\"#fdca26\"],[1.0,\"#f0f921\"]],\"type\":\"histogram2dcontour\"}],\"mesh3d\":[{\"colorbar\":{\"outlinewidth\":0,\"ticks\":\"\"},\"type\":\"mesh3d\"}],\"parcoords\":[{\"line\":{\"colorbar\":{\"outlinewidth\":0,\"ticks\":\"\"}},\"type\":\"parcoords\"}],\"pie\":[{\"automargin\":true,\"type\":\"pie\"}],\"scatter\":[{\"marker\":{\"colorbar\":{\"outlinewidth\":0,\"ticks\":\"\"}},\"type\":\"scatter\"}],\"scatter3d\":[{\"line\":{\"colorbar\":{\"outlinewidth\":0,\"ticks\":\"\"}},\"marker\":{\"colorbar\":{\"outlinewidth\":0,\"ticks\":\"\"}},\"type\":\"scatter3d\"}],\"scattercarpet\":[{\"marker\":{\"colorbar\":{\"outlinewidth\":0,\"ticks\":\"\"}},\"type\":\"scattercarpet\"}],\"scattergeo\":[{\"marker\":{\"colorbar\":{\"outlinewidth\":0,\"ticks\":\"\"}},\"type\":\"scattergeo\"}],\"scattergl\":[{\"marker\":{\"colorbar\":{\"outlinewidth\":0,\"ticks\":\"\"}},\"type\":\"scattergl\"}],\"scattermapbox\":[{\"marker\":{\"colorbar\":{\"outlinewidth\":0,\"ticks\":\"\"}},\"type\":\"scattermapbox\"}],\"scatterpolar\":[{\"marker\":{\"colorbar\":{\"outlinewidth\":0,\"ticks\":\"\"}},\"type\":\"scatterpolar\"}],\"scatterpolargl\":[{\"marker\":{\"colorbar\":{\"outlinewidth\":0,\"ticks\":\"\"}},\"type\":\"scatterpolargl\"}],\"scatterternary\":[{\"marker\":{\"colorbar\":{\"outlinewidth\":0,\"ticks\":\"\"}},\"type\":\"scatterternary\"}],\"surface\":[{\"colorbar\":{\"outlinewidth\":0,\"ticks\":\"\"},\"colorscale\":[[0.0,\"#0d0887\"],[0.1111111111111111,\"#46039f\"],[0.2222222222222222,\"#7201a8\"],[0.3333333333333333,\"#9c179e\"],[0.4444444444444444,\"#bd3786\"],[0.5555555555555556,\"#d8576b\"],[0.6666666666666666,\"#ed7953\"],[0.7777777777777778,\"#fb9f3a\"],[0.8888888888888888,\"#fdca26\"],[1.0,\"#f0f921\"]],\"type\":\"surface\"}],\"table\":[{\"cells\":{\"fill\":{\"color\":\"#EBF0F8\"},\"line\":{\"color\":\"white\"}},\"header\":{\"fill\":{\"color\":\"#C8D4E3\"},\"line\":{\"color\":\"white\"}},\"type\":\"table\"}]},\"layout\":{\"annotationdefaults\":{\"arrowcolor\":\"#2a3f5f\",\"arrowhead\":0,\"arrowwidth\":1},\"autotypenumbers\":\"strict\",\"coloraxis\":{\"colorbar\":{\"outlinewidth\":0,\"ticks\":\"\"}},\"colorscale\":{\"diverging\":[[0,\"#8e0152\"],[0.1,\"#c51b7d\"],[0.2,\"#de77ae\"],[0.3,\"#f1b6da\"],[0.4,\"#fde0ef\"],[0.5,\"#f7f7f7\"],[0.6,\"#e6f5d0\"],[0.7,\"#b8e186\"],[0.8,\"#7fbc41\"],[0.9,\"#4d9221\"],[1,\"#276419\"]],\"sequential\":[[0.0,\"#0d0887\"],[0.1111111111111111,\"#46039f\"],[0.2222222222222222,\"#7201a8\"],[0.3333333333333333,\"#9c179e\"],[0.4444444444444444,\"#bd3786\"],[0.5555555555555556,\"#d8576b\"],[0.6666666666666666,\"#ed7953\"],[0.7777777777777778,\"#fb9f3a\"],[0.8888888888888888,\"#fdca26\"],[1.0,\"#f0f921\"]],\"sequentialminus\":[[0.0,\"#0d0887\"],[0.1111111111111111,\"#46039f\"],[0.2222222222222222,\"#7201a8\"],[0.3333333333333333,\"#9c179e\"],[0.4444444444444444,\"#bd3786\"],[0.5555555555555556,\"#d8576b\"],[0.6666666666666666,\"#ed7953\"],[0.7777777777777778,\"#fb9f3a\"],[0.8888888888888888,\"#fdca26\"],[1.0,\"#f0f921\"]]},\"colorway\":[\"#636efa\",\"#EF553B\",\"#00cc96\",\"#ab63fa\",\"#FFA15A\",\"#19d3f3\",\"#FF6692\",\"#B6E880\",\"#FF97FF\",\"#FECB52\"],\"font\":{\"color\":\"#2a3f5f\"},\"geo\":{\"bgcolor\":\"white\",\"lakecolor\":\"white\",\"landcolor\":\"#E5ECF6\",\"showlakes\":true,\"showland\":true,\"subunitcolor\":\"white\"},\"hoverlabel\":{\"align\":\"left\"},\"hovermode\":\"closest\",\"mapbox\":{\"style\":\"light\"},\"paper_bgcolor\":\"white\",\"plot_bgcolor\":\"#E5ECF6\",\"polar\":{\"angularaxis\":{\"gridcolor\":\"white\",\"linecolor\":\"white\",\"ticks\":\"\"},\"bgcolor\":\"#E5ECF6\",\"radialaxis\":{\"gridcolor\":\"white\",\"linecolor\":\"white\",\"ticks\":\"\"}},\"scene\":{\"xaxis\":{\"backgroundcolor\":\"#E5ECF6\",\"gridcolor\":\"white\",\"gridwidth\":2,\"linecolor\":\"white\",\"showbackground\":true,\"ticks\":\"\",\"zerolinecolor\":\"white\"},\"yaxis\":{\"backgroundcolor\":\"#E5ECF6\",\"gridcolor\":\"white\",\"gridwidth\":2,\"linecolor\":\"white\",\"showbackground\":true,\"ticks\":\"\",\"zerolinecolor\":\"white\"},\"zaxis\":{\"backgroundcolor\":\"#E5ECF6\",\"gridcolor\":\"white\",\"gridwidth\":2,\"linecolor\":\"white\",\"showbackground\":true,\"ticks\":\"\",\"zerolinecolor\":\"white\"}},\"shapedefaults\":{\"line\":{\"color\":\"#2a3f5f\"}},\"ternary\":{\"aaxis\":{\"gridcolor\":\"white\",\"linecolor\":\"white\",\"ticks\":\"\"},\"baxis\":{\"gridcolor\":\"white\",\"linecolor\":\"white\",\"ticks\":\"\"},\"bgcolor\":\"#E5ECF6\",\"caxis\":{\"gridcolor\":\"white\",\"linecolor\":\"white\",\"ticks\":\"\"}},\"title\":{\"x\":0.05},\"xaxis\":{\"automargin\":true,\"gridcolor\":\"white\",\"linecolor\":\"white\",\"ticks\":\"\",\"title\":{\"standoff\":15},\"zerolinecolor\":\"white\",\"zerolinewidth\":2},\"yaxis\":{\"automargin\":true,\"gridcolor\":\"white\",\"linecolor\":\"white\",\"ticks\":\"\",\"title\":{\"standoff\":15},\"zerolinecolor\":\"white\",\"zerolinewidth\":2}}},\"xaxis\":{\"anchor\":\"y\",\"domain\":[0.0,0.45]},\"yaxis\":{\"anchor\":\"x\",\"domain\":[0.0,1.0]},\"xaxis2\":{\"anchor\":\"y2\",\"domain\":[0.55,1.0]},\"yaxis2\":{\"anchor\":\"x2\",\"domain\":[0.0,1.0]},\"annotations\":[{\"font\":{\"size\":16},\"showarrow\":false,\"text\":\"All groups\",\"x\":0.225,\"xanchor\":\"center\",\"xref\":\"paper\",\"y\":1.0,\"yanchor\":\"bottom\",\"yref\":\"paper\"},{\"font\":{\"size\":16},\"showarrow\":false,\"text\":\"Filter, less than 80 events\",\"x\":0.775,\"xanchor\":\"center\",\"xref\":\"paper\",\"y\":1.0,\"yanchor\":\"bottom\",\"yref\":\"paper\"}],\"showlegend\":false,\"height\":600,\"width\":900},                        {\"responsive\": true}                    ).then(function(){\n",
       "                            \n",
       "var gd = document.getElementById('84065907-a398-41e7-9883-917bf25be543');\n",
       "var x = new MutationObserver(function (mutations, observer) {{\n",
       "        var display = window.getComputedStyle(gd).display;\n",
       "        if (!display || display === 'none') {{\n",
       "            console.log([gd, 'removed!']);\n",
       "            Plotly.purge(gd);\n",
       "            observer.disconnect();\n",
       "        }}\n",
       "}});\n",
       "\n",
       "// Listen for the removal of the full notebook cells\n",
       "var notebookContainer = gd.closest('#notebook-container');\n",
       "if (notebookContainer) {{\n",
       "    x.observe(notebookContainer, {childList: true});\n",
       "}}\n",
       "\n",
       "// Listen for the clearing of the current output cell\n",
       "var outputEl = gd.closest('.output');\n",
       "if (outputEl) {{\n",
       "    x.observe(outputEl, {childList: true});\n",
       "}}\n",
       "\n",
       "                        })                };                });            </script>        </div>"
      ]
     },
     "metadata": {},
     "output_type": "display_data"
    }
   ],
   "source": [
    "import plotly.graph_objects as go\n",
    "from plotly.subplots import make_subplots\n",
    "\n",
    "# set the graph parameters - one line and two columns\n",
    "fig = make_subplots(rows=1, cols=2,subplot_titles=(\"All groups\", \"Filter, less than 80 events\"))\n",
    "fig.add_trace(\n",
    "    go.Funnel(\n",
    "        y=[\n",
    "            'Main Screen',\n",
    "            'Offer Screen',\n",
    "            'Payment Screen',\n",
    "            'Payment Confirmed',\n",
    "        ],\n",
    "        x=event_unique['device_id'],\n",
    "        textposition = \"inside\",\n",
    "        textinfo = \"value+percent initial\",\n",
    "        marker = {\"color\": \"#F20819\"}\n",
    "    ),\n",
    "    row=1, col=1\n",
    ")\n",
    "fig.add_trace(\n",
    "    go.Funnel(\n",
    "        y=[\n",
    "            'Main Screen',\n",
    "            'Offer Screen',\n",
    "            'Payment Screen',\n",
    "            'Payment Confirmed',\n",
    "        ],\n",
    "        x=event_unique_bigger_80['device_id'],\n",
    "        textposition = \"inside\",\n",
    "        textinfo = \"value+percent initial\",\n",
    "        marker = {\"color\": \"#000000\"}\n",
    "    ),\n",
    "    row=1, col=2\n",
    ")\n",
    "fig.update_layout(showlegend=False,height=600, width=900)\n",
    "\n",
    "fig.show()"
   ]
  },
  {
   "cell_type": "markdown",
   "metadata": {},
   "source": [
    "Findings:\n",
    "- the most lost when moving from the main page to the offer page - 38%\n",
    "- the least amount is lost when moving from the card payment page to confirmation of payment - 5.3%\n",
    "- it can be assumed that 5% is payment refusals, this information must be transferred to the technical department."
   ]
  },
  {
   "cell_type": "markdown",
   "metadata": {},
   "source": [
    "### What proportion of users make it from the first event to payment?"
   ]
  },
  {
   "cell_type": "code",
   "execution_count": 48,
   "metadata": {},
   "outputs": [
    {
     "name": "stdout",
     "output_type": "stream",
     "text": [
      "47.70%, the share of users goes from the first event to payment\n"
     ]
    }
   ],
   "source": [
    "percent = event_unique.loc[3, 'device_id'] / event_unique.loc[1, 'device_id']\n",
    "print(f'{percent:.2%}, the share of users goes from the first event to payment')"
   ]
  },
  {
   "cell_type": "markdown",
   "metadata": {},
   "source": [
    "In total, 47.7% of users reach the last event, this is a very high figure."
   ]
  },
  {
   "cell_type": "markdown",
   "metadata": {},
   "source": [
    "### Studying the results of the experiment."
   ]
  },
  {
   "cell_type": "markdown",
   "metadata": {},
   "source": [
    "#### How many users are in each experimental group?\n",
    "According to the conditions of the A / B test, the number of participants must be the same, for a correct comparison"
   ]
  },
  {
   "cell_type": "code",
   "execution_count": 49,
   "metadata": {},
   "outputs": [
    {
     "data": {
      "text/plain": [
       "exp_id\n",
       "246    2484\n",
       "247    2513\n",
       "248    2537\n",
       "Name: device_id, dtype: int64"
      ]
     },
     "execution_count": 49,
     "metadata": {},
     "output_type": "execute_result"
    }
   ],
   "source": [
    "data_after.groupby('exp_id')['device_id'].nunique()"
   ]
  },
  {
   "cell_type": "markdown",
   "metadata": {},
   "source": [
    "### Do statistical tests find a difference between samples 246 and 247\n",
    "To answer this question, let's group the data: group, actions, number of users"
   ]
  },
  {
   "cell_type": "code",
   "execution_count": 50,
   "metadata": {},
   "outputs": [
    {
     "data": {
      "text/html": [
       "<div>\n",
       "<style scoped>\n",
       "    .dataframe tbody tr th:only-of-type {\n",
       "        vertical-align: middle;\n",
       "    }\n",
       "\n",
       "    .dataframe tbody tr th {\n",
       "        vertical-align: top;\n",
       "    }\n",
       "\n",
       "    .dataframe thead th {\n",
       "        text-align: right;\n",
       "    }\n",
       "</style>\n",
       "<table border=\"1\" class=\"dataframe\">\n",
       "  <thead>\n",
       "    <tr style=\"text-align: right;\">\n",
       "      <th>event_name</th>\n",
       "      <th>exp_id</th>\n",
       "      <th>CartScreenAppear</th>\n",
       "      <th>MainScreenAppear</th>\n",
       "      <th>OffersScreenAppear</th>\n",
       "      <th>PaymentScreenSuccessful</th>\n",
       "      <th>Tutorial</th>\n",
       "    </tr>\n",
       "  </thead>\n",
       "  <tbody>\n",
       "    <tr>\n",
       "      <th>0</th>\n",
       "      <td>246</td>\n",
       "      <td>1266</td>\n",
       "      <td>2450</td>\n",
       "      <td>1542</td>\n",
       "      <td>1200</td>\n",
       "      <td>278</td>\n",
       "    </tr>\n",
       "    <tr>\n",
       "      <th>1</th>\n",
       "      <td>247</td>\n",
       "      <td>1238</td>\n",
       "      <td>2476</td>\n",
       "      <td>1520</td>\n",
       "      <td>1158</td>\n",
       "      <td>283</td>\n",
       "    </tr>\n",
       "    <tr>\n",
       "      <th>2</th>\n",
       "      <td>248</td>\n",
       "      <td>1230</td>\n",
       "      <td>2493</td>\n",
       "      <td>1531</td>\n",
       "      <td>1181</td>\n",
       "      <td>279</td>\n",
       "    </tr>\n",
       "  </tbody>\n",
       "</table>\n",
       "</div>"
      ],
      "text/plain": [
       "event_name  exp_id  CartScreenAppear  MainScreenAppear  OffersScreenAppear  \\\n",
       "0              246              1266              2450                1542   \n",
       "1              247              1238              2476                1520   \n",
       "2              248              1230              2493                1531   \n",
       "\n",
       "event_name  PaymentScreenSuccessful  Tutorial  \n",
       "0                              1200       278  \n",
       "1                              1158       283  \n",
       "2                              1181       279  "
      ]
     },
     "execution_count": 50,
     "metadata": {},
     "output_type": "execute_result"
    }
   ],
   "source": [
    "# let's make a grouping into three groups\n",
    "\n",
    "users_by_events = data_after.pivot_table(index = 'exp_id',\n",
    "                                   columns = 'event_name',\n",
    "                                   values = 'device_id',\n",
    "                                   aggfunc = 'nunique').reset_index()\n",
    "\n",
    "users_by_events"
   ]
  },
  {
   "cell_type": "code",
   "execution_count": 51,
   "metadata": {},
   "outputs": [],
   "source": [
    "# add the sum of users\n",
    "# using lambda function\n",
    "\n",
    "users_count = data_after.groupby('exp_id')['device_id'].nunique()\n",
    "users_by_events['users_count'] = users_by_events['exp_id'].apply(lambda x: users_count.loc[x])\n",
    "users_by_events = users_by_events.set_index('exp_id')\n",
    "#users_count\n",
    "#users_by_events\n"
   ]
  },
  {
   "cell_type": "code",
   "execution_count": 52,
   "metadata": {},
   "outputs": [],
   "source": [
    "# two group togever\n",
    "new_row = users_by_events.loc[246] + users_by_events.loc[247]\n",
    "new_row.name = '246_247'"
   ]
  },
  {
   "cell_type": "code",
   "execution_count": 53,
   "metadata": {},
   "outputs": [
    {
     "data": {
      "text/html": [
       "<div>\n",
       "<style scoped>\n",
       "    .dataframe tbody tr th:only-of-type {\n",
       "        vertical-align: middle;\n",
       "    }\n",
       "\n",
       "    .dataframe tbody tr th {\n",
       "        vertical-align: top;\n",
       "    }\n",
       "\n",
       "    .dataframe thead th {\n",
       "        text-align: right;\n",
       "    }\n",
       "</style>\n",
       "<table border=\"1\" class=\"dataframe\">\n",
       "  <thead>\n",
       "    <tr style=\"text-align: right;\">\n",
       "      <th>event_name</th>\n",
       "      <th>MainScreenAppear</th>\n",
       "      <th>OffersScreenAppear</th>\n",
       "      <th>CartScreenAppear</th>\n",
       "      <th>PaymentScreenSuccessful</th>\n",
       "      <th>Tutorial</th>\n",
       "      <th>users_count</th>\n",
       "    </tr>\n",
       "    <tr>\n",
       "      <th>exp_id</th>\n",
       "      <th></th>\n",
       "      <th></th>\n",
       "      <th></th>\n",
       "      <th></th>\n",
       "      <th></th>\n",
       "      <th></th>\n",
       "    </tr>\n",
       "  </thead>\n",
       "  <tbody>\n",
       "    <tr>\n",
       "      <th>246</th>\n",
       "      <td>2450</td>\n",
       "      <td>1542</td>\n",
       "      <td>1266</td>\n",
       "      <td>1200</td>\n",
       "      <td>278</td>\n",
       "      <td>2484</td>\n",
       "    </tr>\n",
       "    <tr>\n",
       "      <th>247</th>\n",
       "      <td>2476</td>\n",
       "      <td>1520</td>\n",
       "      <td>1238</td>\n",
       "      <td>1158</td>\n",
       "      <td>283</td>\n",
       "      <td>2513</td>\n",
       "    </tr>\n",
       "    <tr>\n",
       "      <th>248</th>\n",
       "      <td>2493</td>\n",
       "      <td>1531</td>\n",
       "      <td>1230</td>\n",
       "      <td>1181</td>\n",
       "      <td>279</td>\n",
       "      <td>2537</td>\n",
       "    </tr>\n",
       "    <tr>\n",
       "      <th>246_247</th>\n",
       "      <td>4926</td>\n",
       "      <td>3062</td>\n",
       "      <td>2504</td>\n",
       "      <td>2358</td>\n",
       "      <td>561</td>\n",
       "      <td>4997</td>\n",
       "    </tr>\n",
       "  </tbody>\n",
       "</table>\n",
       "</div>"
      ],
      "text/plain": [
       "event_name  MainScreenAppear  OffersScreenAppear  CartScreenAppear  \\\n",
       "exp_id                                                               \n",
       "246                     2450                1542              1266   \n",
       "247                     2476                1520              1238   \n",
       "248                     2493                1531              1230   \n",
       "246_247                 4926                3062              2504   \n",
       "\n",
       "event_name  PaymentScreenSuccessful  Tutorial  users_count  \n",
       "exp_id                                                      \n",
       "246                            1200       278         2484  \n",
       "247                            1158       283         2513  \n",
       "248                            1181       279         2537  \n",
       "246_247                        2358       561         4997  "
      ]
     },
     "execution_count": 53,
     "metadata": {},
     "output_type": "execute_result"
    }
   ],
   "source": [
    "users_by_events = users_by_events.append([new_row])\n",
    "users_by_events = users_by_events[['MainScreenAppear', 'OffersScreenAppear',\n",
    "                                   'CartScreenAppear', 'PaymentScreenSuccessful', 'Tutorial', 'users_count']]\n",
    "\n",
    "users_by_events"
   ]
  },
  {
   "cell_type": "code",
   "execution_count": 54,
   "metadata": {},
   "outputs": [],
   "source": [
    "# share estimation function\n",
    "\n",
    "def st_test(part0, part1, total0, total1):  \n",
    "    alpha = .05 \n",
    "    p1 = part0 / total0 \n",
    "    p2 = part1 / total1 \n",
    "    p_combined = (part0 + part1) / (total0 + total1) \n",
    "    difference = p1 - p2 \n",
    "    z_value = difference / mth.sqrt(p_combined * (1 - p_combined) * (1/total0 + 1/total1))\n",
    "    distr = stats.norm(0, 1) \n",
    "    p_value = (1 - distr.cdf(abs(z_value))) * 2\n",
    "    return p_value"
   ]
  },
  {
   "cell_type": "markdown",
   "metadata": {},
   "source": [
    "### Let's check the data in the control group A / A test"
   ]
  },
  {
   "cell_type": "markdown",
   "metadata": {},
   "source": [
    "We formulate the null and alternative hypotheses:\n",
    "- **Null Hypothesis:** The shares of unique visitors who visited the funnel stage are the same.\n",
    "- **Alternative hypothesis:** there is a statistically significant difference between the proportion of unique visitors who visited the funnel stage."
   ]
  },
  {
   "cell_type": "code",
   "execution_count": 55,
   "metadata": {},
   "outputs": [
    {
     "data": {
      "text/html": [
       "<div>\n",
       "<style scoped>\n",
       "    .dataframe tbody tr th:only-of-type {\n",
       "        vertical-align: middle;\n",
       "    }\n",
       "\n",
       "    .dataframe tbody tr th {\n",
       "        vertical-align: top;\n",
       "    }\n",
       "\n",
       "    .dataframe thead th {\n",
       "        text-align: right;\n",
       "    }\n",
       "</style>\n",
       "<table border=\"1\" class=\"dataframe\">\n",
       "  <thead>\n",
       "    <tr style=\"text-align: right;\">\n",
       "      <th></th>\n",
       "      <th>A1</th>\n",
       "      <th>A2</th>\n",
       "      <th>event</th>\n",
       "      <th>p_alpha</th>\n",
       "      <th>p_value</th>\n",
       "      <th>result</th>\n",
       "    </tr>\n",
       "  </thead>\n",
       "  <tbody>\n",
       "    <tr>\n",
       "      <th>0</th>\n",
       "      <td>246</td>\n",
       "      <td>247</td>\n",
       "      <td>MainScreenAppear</td>\n",
       "      <td>0.01</td>\n",
       "      <td>0.75706</td>\n",
       "      <td>indicators are equal</td>\n",
       "    </tr>\n",
       "    <tr>\n",
       "      <th>1</th>\n",
       "      <td>246</td>\n",
       "      <td>247</td>\n",
       "      <td>OffersScreenAppear</td>\n",
       "      <td>0.01</td>\n",
       "      <td>0.2481</td>\n",
       "      <td>indicators are equal</td>\n",
       "    </tr>\n",
       "    <tr>\n",
       "      <th>2</th>\n",
       "      <td>246</td>\n",
       "      <td>247</td>\n",
       "      <td>CartScreenAppear</td>\n",
       "      <td>0.01</td>\n",
       "      <td>0.22883</td>\n",
       "      <td>indicators are equal</td>\n",
       "    </tr>\n",
       "    <tr>\n",
       "      <th>3</th>\n",
       "      <td>246</td>\n",
       "      <td>247</td>\n",
       "      <td>PaymentScreenSuccessful</td>\n",
       "      <td>0.01</td>\n",
       "      <td>0.11457</td>\n",
       "      <td>indicators are equal</td>\n",
       "    </tr>\n",
       "  </tbody>\n",
       "</table>\n",
       "</div>"
      ],
      "text/plain": [
       "    A1   A2                    event p_alpha  p_value                result\n",
       "0  246  247         MainScreenAppear    0.01  0.75706  indicators are equal\n",
       "1  246  247       OffersScreenAppear    0.01   0.2481  indicators are equal\n",
       "2  246  247         CartScreenAppear    0.01  0.22883  indicators are equal\n",
       "3  246  247  PaymentScreenSuccessful    0.01  0.11457  indicators are equal"
      ]
     },
     "execution_count": 55,
     "metadata": {},
     "output_type": "execute_result"
    }
   ],
   "source": [
    "AA = pd.DataFrame(columns=['A1', 'A2', 'event', 'p_alpha', 'p_value', 'result'])\n",
    "\n",
    "result_options = [\"indicators differ\",\n",
    "                  \"indicators are equal\"]\n",
    "\n",
    "group_1 = 246\n",
    "current_row = users_by_events.loc[group_1]\n",
    "group_2 = 247\n",
    "for event_number in range(4):\n",
    "    curr_event = users_by_events.columns[event_number]\n",
    "    p_value_result = st_test(current_row[curr_event], \n",
    "                                   users_by_events[curr_event][group_2],\n",
    "                                   current_row['users_count'],\n",
    "                                   users_by_events['users_count'][group_2]\n",
    "                           )\n",
    "    new_row = {'A1': group_1,\n",
    "               'A2': group_2,\n",
    "               'event': users_by_events.columns[event_number],\n",
    "               'p_alpha': 0.01,\n",
    "               'p_value': round(p_value_result, 5),\n",
    "               'result': result_options[p_value_result >= 0.01]}\n",
    "    AA = AA.append([new_row])\n",
    "\n",
    "AA.index = range(len(AA))\n",
    "AA"
   ]
  },
  {
   "cell_type": "markdown",
   "metadata": {},
   "source": [
    "In the control group, at a statistical significance level of 10%, the indicators are equal."
   ]
  },
  {
   "cell_type": "markdown",
   "metadata": {},
   "source": [
    "#### Let's check the data in the working group using A / B test"
   ]
  },
  {
   "cell_type": "markdown",
   "metadata": {},
   "source": [
    "We formulate the null and alternative hypotheses:\n",
    "- Null hypothesis: scores between groups are equal\n",
    "- Alternative hypothesis: indicators differ"
   ]
  },
  {
   "cell_type": "code",
   "execution_count": 57,
   "metadata": {},
   "outputs": [
    {
     "data": {
      "text/html": [
       "<div>\n",
       "<style scoped>\n",
       "    .dataframe tbody tr th:only-of-type {\n",
       "        vertical-align: middle;\n",
       "    }\n",
       "\n",
       "    .dataframe tbody tr th {\n",
       "        vertical-align: top;\n",
       "    }\n",
       "\n",
       "    .dataframe thead th {\n",
       "        text-align: right;\n",
       "    }\n",
       "</style>\n",
       "<table border=\"1\" class=\"dataframe\">\n",
       "  <thead>\n",
       "    <tr style=\"text-align: right;\">\n",
       "      <th></th>\n",
       "      <th>A</th>\n",
       "      <th>B</th>\n",
       "      <th>event</th>\n",
       "      <th>p_alpha</th>\n",
       "      <th>p_value</th>\n",
       "      <th>result</th>\n",
       "    </tr>\n",
       "  </thead>\n",
       "  <tbody>\n",
       "    <tr>\n",
       "      <th>0</th>\n",
       "      <td>246</td>\n",
       "      <td>248</td>\n",
       "      <td>MainScreenAppear</td>\n",
       "      <td>0.05</td>\n",
       "      <td>0.29497</td>\n",
       "      <td>indicators are equal</td>\n",
       "    </tr>\n",
       "    <tr>\n",
       "      <th>1</th>\n",
       "      <td>246</td>\n",
       "      <td>248</td>\n",
       "      <td>OffersScreenAppear</td>\n",
       "      <td>0.05</td>\n",
       "      <td>0.20836</td>\n",
       "      <td>indicators are equal</td>\n",
       "    </tr>\n",
       "    <tr>\n",
       "      <th>2</th>\n",
       "      <td>246</td>\n",
       "      <td>248</td>\n",
       "      <td>CartScreenAppear</td>\n",
       "      <td>0.05</td>\n",
       "      <td>0.07843</td>\n",
       "      <td>indicators are equal</td>\n",
       "    </tr>\n",
       "    <tr>\n",
       "      <th>3</th>\n",
       "      <td>246</td>\n",
       "      <td>248</td>\n",
       "      <td>PaymentScreenSuccessful</td>\n",
       "      <td>0.05</td>\n",
       "      <td>0.21226</td>\n",
       "      <td>indicators are equal</td>\n",
       "    </tr>\n",
       "    <tr>\n",
       "      <th>4</th>\n",
       "      <td>247</td>\n",
       "      <td>248</td>\n",
       "      <td>MainScreenAppear</td>\n",
       "      <td>0.05</td>\n",
       "      <td>0.45871</td>\n",
       "      <td>indicators are equal</td>\n",
       "    </tr>\n",
       "    <tr>\n",
       "      <th>5</th>\n",
       "      <td>247</td>\n",
       "      <td>248</td>\n",
       "      <td>OffersScreenAppear</td>\n",
       "      <td>0.05</td>\n",
       "      <td>0.91978</td>\n",
       "      <td>indicators are equal</td>\n",
       "    </tr>\n",
       "    <tr>\n",
       "      <th>6</th>\n",
       "      <td>247</td>\n",
       "      <td>248</td>\n",
       "      <td>CartScreenAppear</td>\n",
       "      <td>0.05</td>\n",
       "      <td>0.57862</td>\n",
       "      <td>indicators are equal</td>\n",
       "    </tr>\n",
       "    <tr>\n",
       "      <th>7</th>\n",
       "      <td>247</td>\n",
       "      <td>248</td>\n",
       "      <td>PaymentScreenSuccessful</td>\n",
       "      <td>0.05</td>\n",
       "      <td>0.73734</td>\n",
       "      <td>indicators are equal</td>\n",
       "    </tr>\n",
       "    <tr>\n",
       "      <th>8</th>\n",
       "      <td>248</td>\n",
       "      <td>248</td>\n",
       "      <td>MainScreenAppear</td>\n",
       "      <td>0.05</td>\n",
       "      <td>1.0</td>\n",
       "      <td>indicators are equal</td>\n",
       "    </tr>\n",
       "    <tr>\n",
       "      <th>9</th>\n",
       "      <td>248</td>\n",
       "      <td>248</td>\n",
       "      <td>OffersScreenAppear</td>\n",
       "      <td>0.05</td>\n",
       "      <td>1.0</td>\n",
       "      <td>indicators are equal</td>\n",
       "    </tr>\n",
       "    <tr>\n",
       "      <th>10</th>\n",
       "      <td>248</td>\n",
       "      <td>248</td>\n",
       "      <td>CartScreenAppear</td>\n",
       "      <td>0.05</td>\n",
       "      <td>1.0</td>\n",
       "      <td>indicators are equal</td>\n",
       "    </tr>\n",
       "    <tr>\n",
       "      <th>11</th>\n",
       "      <td>248</td>\n",
       "      <td>248</td>\n",
       "      <td>PaymentScreenSuccessful</td>\n",
       "      <td>0.05</td>\n",
       "      <td>1.0</td>\n",
       "      <td>indicators are equal</td>\n",
       "    </tr>\n",
       "    <tr>\n",
       "      <th>12</th>\n",
       "      <td>246_247</td>\n",
       "      <td>248</td>\n",
       "      <td>MainScreenAppear</td>\n",
       "      <td>0.05</td>\n",
       "      <td>0.29425</td>\n",
       "      <td>indicators are equal</td>\n",
       "    </tr>\n",
       "    <tr>\n",
       "      <th>13</th>\n",
       "      <td>246_247</td>\n",
       "      <td>248</td>\n",
       "      <td>OffersScreenAppear</td>\n",
       "      <td>0.05</td>\n",
       "      <td>0.43426</td>\n",
       "      <td>indicators are equal</td>\n",
       "    </tr>\n",
       "    <tr>\n",
       "      <th>14</th>\n",
       "      <td>246_247</td>\n",
       "      <td>248</td>\n",
       "      <td>CartScreenAppear</td>\n",
       "      <td>0.05</td>\n",
       "      <td>0.18176</td>\n",
       "      <td>indicators are equal</td>\n",
       "    </tr>\n",
       "    <tr>\n",
       "      <th>15</th>\n",
       "      <td>246_247</td>\n",
       "      <td>248</td>\n",
       "      <td>PaymentScreenSuccessful</td>\n",
       "      <td>0.05</td>\n",
       "      <td>0.60043</td>\n",
       "      <td>indicators are equal</td>\n",
       "    </tr>\n",
       "  </tbody>\n",
       "</table>\n",
       "</div>"
      ],
      "text/plain": [
       "          A    B                    event p_alpha  p_value  \\\n",
       "0       246  248         MainScreenAppear    0.05  0.29497   \n",
       "1       246  248       OffersScreenAppear    0.05  0.20836   \n",
       "2       246  248         CartScreenAppear    0.05  0.07843   \n",
       "3       246  248  PaymentScreenSuccessful    0.05  0.21226   \n",
       "4       247  248         MainScreenAppear    0.05  0.45871   \n",
       "5       247  248       OffersScreenAppear    0.05  0.91978   \n",
       "6       247  248         CartScreenAppear    0.05  0.57862   \n",
       "7       247  248  PaymentScreenSuccessful    0.05  0.73734   \n",
       "8       248  248         MainScreenAppear    0.05      1.0   \n",
       "9       248  248       OffersScreenAppear    0.05      1.0   \n",
       "10      248  248         CartScreenAppear    0.05      1.0   \n",
       "11      248  248  PaymentScreenSuccessful    0.05      1.0   \n",
       "12  246_247  248         MainScreenAppear    0.05  0.29425   \n",
       "13  246_247  248       OffersScreenAppear    0.05  0.43426   \n",
       "14  246_247  248         CartScreenAppear    0.05  0.18176   \n",
       "15  246_247  248  PaymentScreenSuccessful    0.05  0.60043   \n",
       "\n",
       "                  result  \n",
       "0   indicators are equal  \n",
       "1   indicators are equal  \n",
       "2   indicators are equal  \n",
       "3   indicators are equal  \n",
       "4   indicators are equal  \n",
       "5   indicators are equal  \n",
       "6   indicators are equal  \n",
       "7   indicators are equal  \n",
       "8   indicators are equal  \n",
       "9   indicators are equal  \n",
       "10  indicators are equal  \n",
       "11  indicators are equal  \n",
       "12  indicators are equal  \n",
       "13  indicators are equal  \n",
       "14  indicators are equal  \n",
       "15  indicators are equal  "
      ]
     },
     "execution_count": 57,
     "metadata": {},
     "output_type": "execute_result"
    }
   ],
   "source": [
    "AB = pd.DataFrame(columns=['A', 'B', 'event', 'p_alpha', 'p_value', 'result'])\n",
    "\n",
    "result_options = [\"indicators differ\",\n",
    "                  \"indicators are equal\"]\n",
    "\n",
    "\n",
    "for i in range(4):\n",
    "    group_1 = users_by_events.index[i]\n",
    "    current_row = users_by_events.loc[group_1]\n",
    "    group_2 = 248\n",
    "    for event_number in range(4):\n",
    "        curr_event = users_by_events.columns[event_number]\n",
    "        p_value_result = st_test(current_row[curr_event], \n",
    "                                       users_by_events[curr_event][group_2],\n",
    "                                       current_row['users_count'],\n",
    "                                       users_by_events['users_count'][group_2]\n",
    "                               )\n",
    "        new_row = {'A': group_1,\n",
    "                   'B': group_2,\n",
    "                   'event': users_by_events.columns[event_number],\n",
    "                   'p_alpha': 0.05,\n",
    "                   'p_value': round(p_value_result, 5),\n",
    "                   'result': result_options[p_value_result >= 0.05]}\n",
    "        AB = AB.append([new_row])\n",
    "\n",
    "AB.index = range(len(AB))\n",
    "AB"
   ]
  },
  {
   "cell_type": "markdown",
   "metadata": {},
   "source": [
    "Conclusions: at a statistical significance level of 5% in the compared groups, the indicators are equal, changing the font did not affect user behavior."
   ]
  },
  {
   "cell_type": "markdown",
   "metadata": {},
   "source": [
    "- for the AA test, the level of statistical significance is 1%.\n",
    "\n",
    "- according to the results of A1 / A2 testing for all events, the statistical difference was not significant, these groups are considered to be control groups.\n",
    "- for the A/B test, there are no such high requirements for accuracy, so a standard significance level of 5% is used."
   ]
  },
  {
   "cell_type": "markdown",
   "metadata": {},
   "source": [
    "### General conclusion"
   ]
  },
  {
   "cell_type": "markdown",
   "metadata": {},
   "source": [
    "- at a statistical significance level of 5% in the compared groups, the indicators are equal, changing the font did not affect user’s behavior.\n",
    "- only one week of data was used in the study, so test results may change over a longer period.\n",
    "- in total, 47.7% of users reach the last event, this is a very high figure.\n",
    "- the most of users are lost when going from the main page to the offer page - 38%\n",
    "- the least is lost when switching from the card payment page to confirmation of payment - 5.3% It turns out that 5% are payment refusals, this information must be transferred to the technical department.\n",
    "- additional evaluation criteria could not be identified in this analysis due to the lack of input data."
   ]
  },
  {
   "cell_type": "code",
   "execution_count": null,
   "metadata": {},
   "outputs": [],
   "source": []
  }
 ],
 "metadata": {
  "ExecuteTimeLog": [
   {
    "duration": 1425,
    "start_time": "2022-07-09T18:23:09.902Z"
   },
   {
    "duration": 4,
    "start_time": "2022-07-09T18:23:13.352Z"
   },
   {
    "duration": 463,
    "start_time": "2022-07-09T18:24:39.613Z"
   },
   {
    "duration": 62,
    "start_time": "2022-07-09T18:25:23.673Z"
   },
   {
    "duration": 43,
    "start_time": "2022-07-09T18:26:10.414Z"
   },
   {
    "duration": 10,
    "start_time": "2022-07-09T18:27:52.897Z"
   },
   {
    "duration": 32,
    "start_time": "2022-07-09T18:28:01.544Z"
   },
   {
    "duration": 8,
    "start_time": "2022-07-09T18:30:28.205Z"
   },
   {
    "duration": 4,
    "start_time": "2022-07-09T18:31:35.879Z"
   },
   {
    "duration": 9,
    "start_time": "2022-07-09T18:31:53.912Z"
   },
   {
    "duration": 91,
    "start_time": "2022-07-09T18:32:25.021Z"
   },
   {
    "duration": 56,
    "start_time": "2022-07-09T18:32:31.663Z"
   },
   {
    "duration": 10,
    "start_time": "2022-07-09T18:33:54.672Z"
   },
   {
    "duration": 51,
    "start_time": "2022-07-09T18:34:16.515Z"
   },
   {
    "duration": 35,
    "start_time": "2022-07-09T18:34:47.573Z"
   },
   {
    "duration": 51,
    "start_time": "2022-07-09T18:34:57.064Z"
   },
   {
    "duration": 62,
    "start_time": "2022-07-09T18:38:59.961Z"
   },
   {
    "duration": 87,
    "start_time": "2022-07-09T18:39:10.644Z"
   },
   {
    "duration": 45,
    "start_time": "2022-07-09T18:39:52.082Z"
   },
   {
    "duration": 42,
    "start_time": "2022-07-09T18:39:58.375Z"
   },
   {
    "duration": 78,
    "start_time": "2022-07-09T18:43:11.460Z"
   },
   {
    "duration": 6,
    "start_time": "2022-07-09T18:44:06.241Z"
   },
   {
    "duration": 4,
    "start_time": "2022-07-09T18:44:47.972Z"
   },
   {
    "duration": 3,
    "start_time": "2022-07-09T18:45:45.174Z"
   },
   {
    "duration": 62,
    "start_time": "2022-07-09T18:46:51.256Z"
   },
   {
    "duration": 3,
    "start_time": "2022-07-09T18:47:06.794Z"
   },
   {
    "duration": 47,
    "start_time": "2022-07-09T18:48:03.541Z"
   },
   {
    "duration": 4,
    "start_time": "2022-07-09T18:48:08.611Z"
   },
   {
    "duration": 9,
    "start_time": "2022-07-09T18:49:39.504Z"
   },
   {
    "duration": 61,
    "start_time": "2022-07-09T19:01:35.764Z"
   },
   {
    "duration": 50,
    "start_time": "2022-07-09T19:01:47.155Z"
   },
   {
    "duration": 47,
    "start_time": "2022-07-09T19:02:00.147Z"
   },
   {
    "duration": 46,
    "start_time": "2022-07-09T19:02:07.326Z"
   },
   {
    "duration": 15,
    "start_time": "2022-07-09T19:12:53.328Z"
   },
   {
    "duration": 5,
    "start_time": "2022-07-09T19:14:16.656Z"
   },
   {
    "duration": 6,
    "start_time": "2022-07-09T19:14:51.253Z"
   },
   {
    "duration": 11,
    "start_time": "2022-07-09T19:17:43.044Z"
   },
   {
    "duration": 9,
    "start_time": "2022-07-09T19:17:57.195Z"
   },
   {
    "duration": 17,
    "start_time": "2022-07-09T19:18:04.054Z"
   },
   {
    "duration": 15,
    "start_time": "2022-07-09T19:18:25.449Z"
   },
   {
    "duration": 23,
    "start_time": "2022-07-09T19:20:39.847Z"
   },
   {
    "duration": 34,
    "start_time": "2022-07-09T19:21:00.152Z"
   },
   {
    "duration": 132,
    "start_time": "2022-07-09T19:26:11.826Z"
   },
   {
    "duration": 108,
    "start_time": "2022-07-09T19:26:19.957Z"
   },
   {
    "duration": 97,
    "start_time": "2022-07-09T19:26:33.598Z"
   },
   {
    "duration": 102,
    "start_time": "2022-07-09T19:26:54.267Z"
   },
   {
    "duration": 82,
    "start_time": "2022-07-09T19:27:40.535Z"
   },
   {
    "duration": 92,
    "start_time": "2022-07-09T19:27:51.273Z"
   },
   {
    "duration": 97,
    "start_time": "2022-07-09T19:27:56.804Z"
   },
   {
    "duration": 51,
    "start_time": "2022-07-09T19:28:49.993Z"
   },
   {
    "duration": 9,
    "start_time": "2022-07-09T19:29:30.377Z"
   },
   {
    "duration": 45,
    "start_time": "2022-07-09T19:29:55.204Z"
   },
   {
    "duration": 36,
    "start_time": "2022-07-09T19:30:00.594Z"
   },
   {
    "duration": 26,
    "start_time": "2022-07-09T19:30:05.105Z"
   },
   {
    "duration": 15,
    "start_time": "2022-07-09T19:30:16.827Z"
   },
   {
    "duration": 1604,
    "start_time": "2022-07-09T19:35:33.812Z"
   },
   {
    "duration": 3,
    "start_time": "2022-07-09T19:35:47.827Z"
   },
   {
    "duration": 130,
    "start_time": "2022-07-09T19:35:47.832Z"
   },
   {
    "duration": 50,
    "start_time": "2022-07-09T19:35:47.963Z"
   },
   {
    "duration": 7,
    "start_time": "2022-07-09T19:35:48.015Z"
   },
   {
    "duration": 8,
    "start_time": "2022-07-09T19:35:48.024Z"
   },
   {
    "duration": 5,
    "start_time": "2022-07-09T19:35:48.034Z"
   },
   {
    "duration": 7,
    "start_time": "2022-07-09T19:35:48.041Z"
   },
   {
    "duration": 84,
    "start_time": "2022-07-09T19:35:48.050Z"
   },
   {
    "duration": 66,
    "start_time": "2022-07-09T19:35:48.135Z"
   },
   {
    "duration": 61,
    "start_time": "2022-07-09T19:35:48.203Z"
   },
   {
    "duration": 62,
    "start_time": "2022-07-09T19:35:48.265Z"
   },
   {
    "duration": 15,
    "start_time": "2022-07-09T19:35:48.328Z"
   },
   {
    "duration": 6,
    "start_time": "2022-07-09T19:35:48.345Z"
   },
   {
    "duration": 51,
    "start_time": "2022-07-09T19:35:48.352Z"
   },
   {
    "duration": 15,
    "start_time": "2022-07-09T19:35:48.405Z"
   },
   {
    "duration": 104,
    "start_time": "2022-07-09T19:35:48.421Z"
   },
   {
    "duration": 175,
    "start_time": "2022-07-09T19:35:48.527Z"
   },
   {
    "duration": 8,
    "start_time": "2022-07-09T19:35:48.704Z"
   },
   {
    "duration": 993,
    "start_time": "2022-07-09T19:35:48.713Z"
   },
   {
    "duration": 849,
    "start_time": "2022-07-09T19:37:45.995Z"
   },
   {
    "duration": 847,
    "start_time": "2022-07-09T19:38:05.906Z"
   },
   {
    "duration": 835,
    "start_time": "2022-07-09T19:38:17.824Z"
   },
   {
    "duration": 32,
    "start_time": "2022-07-09T19:38:30.816Z"
   },
   {
    "duration": 257,
    "start_time": "2022-07-09T19:41:29.486Z"
   },
   {
    "duration": 221,
    "start_time": "2022-07-09T19:42:44.674Z"
   },
   {
    "duration": 248,
    "start_time": "2022-07-09T19:42:51.615Z"
   },
   {
    "duration": 47,
    "start_time": "2022-07-10T06:46:39.422Z"
   },
   {
    "duration": 1276,
    "start_time": "2022-07-10T06:46:47.372Z"
   },
   {
    "duration": 445,
    "start_time": "2022-07-10T06:46:48.649Z"
   },
   {
    "duration": 57,
    "start_time": "2022-07-10T06:46:49.096Z"
   },
   {
    "duration": 10,
    "start_time": "2022-07-10T06:46:49.156Z"
   },
   {
    "duration": 9,
    "start_time": "2022-07-10T06:46:49.168Z"
   },
   {
    "duration": 8,
    "start_time": "2022-07-10T06:46:49.178Z"
   },
   {
    "duration": 8,
    "start_time": "2022-07-10T06:46:49.187Z"
   },
   {
    "duration": 958,
    "start_time": "2022-07-10T06:46:49.196Z"
   },
   {
    "duration": 99,
    "start_time": "2022-07-10T06:46:50.156Z"
   },
   {
    "duration": 126,
    "start_time": "2022-07-10T06:46:50.258Z"
   },
   {
    "duration": 113,
    "start_time": "2022-07-10T06:46:50.385Z"
   },
   {
    "duration": 80,
    "start_time": "2022-07-10T06:46:50.500Z"
   },
   {
    "duration": 19,
    "start_time": "2022-07-10T06:46:50.582Z"
   },
   {
    "duration": 25,
    "start_time": "2022-07-10T06:46:50.602Z"
   },
   {
    "duration": 32,
    "start_time": "2022-07-10T06:46:50.629Z"
   },
   {
    "duration": 15,
    "start_time": "2022-07-10T06:46:50.663Z"
   },
   {
    "duration": 157,
    "start_time": "2022-07-10T06:46:50.680Z"
   },
   {
    "duration": 113,
    "start_time": "2022-07-10T06:46:50.839Z"
   },
   {
    "duration": 8,
    "start_time": "2022-07-10T06:46:50.954Z"
   },
   {
    "duration": 61,
    "start_time": "2022-07-10T06:46:50.964Z"
   },
   {
    "duration": 275,
    "start_time": "2022-07-10T06:46:51.027Z"
   },
   {
    "duration": 270,
    "start_time": "2022-07-10T07:23:09.444Z"
   },
   {
    "duration": 20,
    "start_time": "2022-07-10T07:26:55.000Z"
   },
   {
    "duration": 3,
    "start_time": "2022-07-10T07:29:08.510Z"
   },
   {
    "duration": 49,
    "start_time": "2022-07-10T07:29:57.792Z"
   },
   {
    "duration": 5,
    "start_time": "2022-07-10T07:30:03.304Z"
   },
   {
    "duration": 3,
    "start_time": "2022-07-10T07:30:37.399Z"
   },
   {
    "duration": 4,
    "start_time": "2022-07-10T07:31:21.680Z"
   },
   {
    "duration": 75,
    "start_time": "2022-07-10T07:32:37.045Z"
   },
   {
    "duration": 5,
    "start_time": "2022-07-10T07:32:51.670Z"
   },
   {
    "duration": 4,
    "start_time": "2022-07-10T07:33:23.280Z"
   },
   {
    "duration": 19,
    "start_time": "2022-07-10T07:33:31.409Z"
   },
   {
    "duration": 4,
    "start_time": "2022-07-10T07:33:47.417Z"
   },
   {
    "duration": 4,
    "start_time": "2022-07-10T07:33:52.321Z"
   },
   {
    "duration": 28,
    "start_time": "2022-07-10T07:38:06.442Z"
   },
   {
    "duration": 3,
    "start_time": "2022-07-10T07:39:04.143Z"
   },
   {
    "duration": 62,
    "start_time": "2022-07-10T07:39:49.813Z"
   },
   {
    "duration": 9,
    "start_time": "2022-07-10T07:42:48.921Z"
   },
   {
    "duration": 31,
    "start_time": "2022-07-10T07:42:52.084Z"
   },
   {
    "duration": 37,
    "start_time": "2022-07-10T07:42:53.061Z"
   },
   {
    "duration": 52,
    "start_time": "2022-07-10T07:43:13.498Z"
   },
   {
    "duration": 4,
    "start_time": "2022-07-10T07:43:25.164Z"
   },
   {
    "duration": 158,
    "start_time": "2022-07-10T07:43:25.169Z"
   },
   {
    "duration": 45,
    "start_time": "2022-07-10T07:43:25.328Z"
   },
   {
    "duration": 7,
    "start_time": "2022-07-10T07:43:25.374Z"
   },
   {
    "duration": 9,
    "start_time": "2022-07-10T07:43:25.383Z"
   },
   {
    "duration": 27,
    "start_time": "2022-07-10T07:43:25.394Z"
   },
   {
    "duration": 23,
    "start_time": "2022-07-10T07:43:25.423Z"
   },
   {
    "duration": 875,
    "start_time": "2022-07-10T07:43:25.448Z"
   },
   {
    "duration": 68,
    "start_time": "2022-07-10T07:43:26.325Z"
   },
   {
    "duration": 108,
    "start_time": "2022-07-10T07:43:26.395Z"
   },
   {
    "duration": 103,
    "start_time": "2022-07-10T07:43:26.505Z"
   },
   {
    "duration": 72,
    "start_time": "2022-07-10T07:43:26.610Z"
   },
   {
    "duration": 17,
    "start_time": "2022-07-10T07:43:26.685Z"
   },
   {
    "duration": 5,
    "start_time": "2022-07-10T07:43:26.722Z"
   },
   {
    "duration": 37,
    "start_time": "2022-07-10T07:43:26.729Z"
   },
   {
    "duration": 14,
    "start_time": "2022-07-10T07:43:26.768Z"
   },
   {
    "duration": 113,
    "start_time": "2022-07-10T07:43:26.783Z"
   },
   {
    "duration": 105,
    "start_time": "2022-07-10T07:43:26.898Z"
   },
   {
    "duration": 18,
    "start_time": "2022-07-10T07:43:27.005Z"
   },
   {
    "duration": 33,
    "start_time": "2022-07-10T07:43:27.025Z"
   },
   {
    "duration": 264,
    "start_time": "2022-07-10T07:43:27.059Z"
   },
   {
    "duration": 20,
    "start_time": "2022-07-10T07:43:27.324Z"
   },
   {
    "duration": 4,
    "start_time": "2022-07-10T07:43:27.346Z"
   },
   {
    "duration": 11,
    "start_time": "2022-07-10T07:43:27.352Z"
   },
   {
    "duration": 58,
    "start_time": "2022-07-10T07:43:27.365Z"
   },
   {
    "duration": 36,
    "start_time": "2022-07-10T07:43:27.424Z"
   },
   {
    "duration": 70,
    "start_time": "2022-07-10T07:43:27.462Z"
   },
   {
    "duration": 36,
    "start_time": "2022-07-10T07:47:17.720Z"
   },
   {
    "duration": 83,
    "start_time": "2022-07-10T07:48:40.873Z"
   },
   {
    "duration": 51,
    "start_time": "2022-07-10T07:48:51.483Z"
   },
   {
    "duration": 48,
    "start_time": "2022-07-10T07:49:07.141Z"
   },
   {
    "duration": 47,
    "start_time": "2022-07-10T07:49:26.313Z"
   },
   {
    "duration": 4,
    "start_time": "2022-07-10T07:49:32.978Z"
   },
   {
    "duration": 48,
    "start_time": "2022-07-10T07:49:41.297Z"
   },
   {
    "duration": 3,
    "start_time": "2022-07-10T07:49:46.281Z"
   },
   {
    "duration": 65,
    "start_time": "2022-07-10T07:49:54.493Z"
   },
   {
    "duration": 7,
    "start_time": "2022-07-10T07:50:09.086Z"
   },
   {
    "duration": 8,
    "start_time": "2022-07-10T07:50:15.522Z"
   },
   {
    "duration": 936,
    "start_time": "2022-07-10T07:55:00.893Z"
   },
   {
    "duration": 14,
    "start_time": "2022-07-10T07:55:50.623Z"
   },
   {
    "duration": 51,
    "start_time": "2022-07-10T07:56:11.033Z"
   },
   {
    "duration": 15,
    "start_time": "2022-07-10T07:56:40.259Z"
   },
   {
    "duration": 43,
    "start_time": "2022-07-10T08:00:50.851Z"
   },
   {
    "duration": 9,
    "start_time": "2022-07-10T08:01:15.401Z"
   },
   {
    "duration": 47,
    "start_time": "2022-07-10T08:01:54.411Z"
   },
   {
    "duration": 13,
    "start_time": "2022-07-10T08:02:11.953Z"
   },
   {
    "duration": 11,
    "start_time": "2022-07-10T08:02:14.093Z"
   },
   {
    "duration": 89,
    "start_time": "2022-07-10T08:02:26.331Z"
   },
   {
    "duration": 54,
    "start_time": "2022-07-10T08:03:13.135Z"
   },
   {
    "duration": 5,
    "start_time": "2022-07-10T08:09:50.699Z"
   },
   {
    "duration": 229,
    "start_time": "2022-07-10T08:10:28.558Z"
   },
   {
    "duration": 44,
    "start_time": "2022-07-10T08:14:17.230Z"
   },
   {
    "duration": 4,
    "start_time": "2022-07-10T08:15:20.720Z"
   },
   {
    "duration": 206,
    "start_time": "2022-07-10T08:15:30.709Z"
   },
   {
    "duration": 5,
    "start_time": "2022-07-10T08:16:56.151Z"
   },
   {
    "duration": 3,
    "start_time": "2022-07-10T08:17:00.106Z"
   },
   {
    "duration": 9,
    "start_time": "2022-07-10T08:17:14.070Z"
   },
   {
    "duration": 10,
    "start_time": "2022-07-10T08:28:02.480Z"
   },
   {
    "duration": 3,
    "start_time": "2022-07-10T08:28:14.158Z"
   },
   {
    "duration": 228,
    "start_time": "2022-07-10T08:29:35.716Z"
   },
   {
    "duration": 195,
    "start_time": "2022-07-10T08:31:56.299Z"
   },
   {
    "duration": 178,
    "start_time": "2022-07-10T08:32:50.480Z"
   },
   {
    "duration": 4,
    "start_time": "2022-07-10T08:38:19.906Z"
   },
   {
    "duration": 156,
    "start_time": "2022-07-10T08:38:19.916Z"
   },
   {
    "duration": 64,
    "start_time": "2022-07-10T08:38:20.075Z"
   },
   {
    "duration": 9,
    "start_time": "2022-07-10T08:38:20.141Z"
   },
   {
    "duration": 30,
    "start_time": "2022-07-10T08:38:20.152Z"
   },
   {
    "duration": 24,
    "start_time": "2022-07-10T08:38:20.184Z"
   },
   {
    "duration": 21,
    "start_time": "2022-07-10T08:38:20.210Z"
   },
   {
    "duration": 882,
    "start_time": "2022-07-10T08:38:20.232Z"
   },
   {
    "duration": 78,
    "start_time": "2022-07-10T08:38:21.116Z"
   },
   {
    "duration": 113,
    "start_time": "2022-07-10T08:38:21.196Z"
   },
   {
    "duration": 102,
    "start_time": "2022-07-10T08:38:21.310Z"
   },
   {
    "duration": 70,
    "start_time": "2022-07-10T08:38:21.423Z"
   },
   {
    "duration": 48,
    "start_time": "2022-07-10T08:38:21.495Z"
   },
   {
    "duration": 7,
    "start_time": "2022-07-10T08:38:21.545Z"
   },
   {
    "duration": 35,
    "start_time": "2022-07-10T08:38:21.556Z"
   },
   {
    "duration": 46,
    "start_time": "2022-07-10T08:38:21.593Z"
   },
   {
    "duration": 129,
    "start_time": "2022-07-10T08:38:21.641Z"
   },
   {
    "duration": 110,
    "start_time": "2022-07-10T08:38:21.772Z"
   },
   {
    "duration": 10,
    "start_time": "2022-07-10T08:38:21.884Z"
   },
   {
    "duration": 55,
    "start_time": "2022-07-10T08:38:21.896Z"
   },
   {
    "duration": 274,
    "start_time": "2022-07-10T08:38:21.953Z"
   },
   {
    "duration": 21,
    "start_time": "2022-07-10T08:38:22.229Z"
   },
   {
    "duration": 4,
    "start_time": "2022-07-10T08:38:22.253Z"
   },
   {
    "duration": 11,
    "start_time": "2022-07-10T08:38:22.259Z"
   },
   {
    "duration": 64,
    "start_time": "2022-07-10T08:38:22.271Z"
   },
   {
    "duration": 38,
    "start_time": "2022-07-10T08:38:22.337Z"
   },
   {
    "duration": 15,
    "start_time": "2022-07-10T08:38:22.378Z"
   },
   {
    "duration": 68,
    "start_time": "2022-07-10T08:38:22.395Z"
   },
   {
    "duration": 59,
    "start_time": "2022-07-10T08:38:22.465Z"
   },
   {
    "duration": 13,
    "start_time": "2022-07-10T08:38:22.525Z"
   },
   {
    "duration": 201,
    "start_time": "2022-07-10T08:38:22.540Z"
   },
   {
    "duration": 83,
    "start_time": "2022-07-10T08:47:10.144Z"
   },
   {
    "duration": 74,
    "start_time": "2022-07-10T08:47:20.890Z"
   },
   {
    "duration": 70,
    "start_time": "2022-07-10T08:47:44.688Z"
   },
   {
    "duration": 2,
    "start_time": "2022-07-10T08:53:45.360Z"
   },
   {
    "duration": 70,
    "start_time": "2022-07-10T08:54:37.980Z"
   },
   {
    "duration": 12,
    "start_time": "2022-07-10T09:00:59.187Z"
   },
   {
    "duration": 6,
    "start_time": "2022-07-10T09:01:15.929Z"
   },
   {
    "duration": 6,
    "start_time": "2022-07-10T09:01:25.755Z"
   },
   {
    "duration": 5,
    "start_time": "2022-07-10T09:01:33.880Z"
   },
   {
    "duration": 7,
    "start_time": "2022-07-10T09:15:43.129Z"
   },
   {
    "duration": 11,
    "start_time": "2022-07-10T09:16:30.258Z"
   },
   {
    "duration": 4,
    "start_time": "2022-07-10T09:17:22.289Z"
   },
   {
    "duration": 10,
    "start_time": "2022-07-10T09:17:50.510Z"
   },
   {
    "duration": 4,
    "start_time": "2022-07-10T09:18:08.928Z"
   },
   {
    "duration": 174,
    "start_time": "2022-07-10T09:18:08.934Z"
   },
   {
    "duration": 57,
    "start_time": "2022-07-10T09:18:09.110Z"
   },
   {
    "duration": 8,
    "start_time": "2022-07-10T09:18:09.169Z"
   },
   {
    "duration": 9,
    "start_time": "2022-07-10T09:18:09.179Z"
   },
   {
    "duration": 33,
    "start_time": "2022-07-10T09:18:09.189Z"
   },
   {
    "duration": 4,
    "start_time": "2022-07-10T09:18:09.224Z"
   },
   {
    "duration": 1001,
    "start_time": "2022-07-10T09:18:09.230Z"
   },
   {
    "duration": 96,
    "start_time": "2022-07-10T09:18:10.234Z"
   },
   {
    "duration": 119,
    "start_time": "2022-07-10T09:18:10.331Z"
   },
   {
    "duration": 118,
    "start_time": "2022-07-10T09:18:10.452Z"
   },
   {
    "duration": 84,
    "start_time": "2022-07-10T09:18:10.572Z"
   },
   {
    "duration": 21,
    "start_time": "2022-07-10T09:18:10.660Z"
   },
   {
    "duration": 9,
    "start_time": "2022-07-10T09:18:10.683Z"
   },
   {
    "duration": 36,
    "start_time": "2022-07-10T09:18:10.722Z"
   },
   {
    "duration": 19,
    "start_time": "2022-07-10T09:18:10.761Z"
   },
   {
    "duration": 147,
    "start_time": "2022-07-10T09:18:10.782Z"
   },
   {
    "duration": 219,
    "start_time": "2022-07-10T09:18:10.931Z"
   },
   {
    "duration": 9,
    "start_time": "2022-07-10T09:18:11.152Z"
   },
   {
    "duration": 61,
    "start_time": "2022-07-10T09:18:11.162Z"
   },
   {
    "duration": 283,
    "start_time": "2022-07-10T09:18:11.225Z"
   },
   {
    "duration": 42,
    "start_time": "2022-07-10T09:18:11.510Z"
   },
   {
    "duration": 6,
    "start_time": "2022-07-10T09:18:11.554Z"
   },
   {
    "duration": 10,
    "start_time": "2022-07-10T09:18:11.562Z"
   },
   {
    "duration": 80,
    "start_time": "2022-07-10T09:18:11.574Z"
   },
   {
    "duration": 42,
    "start_time": "2022-07-10T09:18:11.656Z"
   },
   {
    "duration": 34,
    "start_time": "2022-07-10T09:18:11.700Z"
   },
   {
    "duration": 49,
    "start_time": "2022-07-10T09:18:11.736Z"
   },
   {
    "duration": 74,
    "start_time": "2022-07-10T09:18:11.787Z"
   },
   {
    "duration": 15,
    "start_time": "2022-07-10T09:18:11.863Z"
   },
   {
    "duration": 303,
    "start_time": "2022-07-10T09:18:11.880Z"
   },
   {
    "duration": 68,
    "start_time": "2022-07-10T09:18:12.185Z"
   },
   {
    "duration": 8,
    "start_time": "2022-07-10T09:18:12.254Z"
   },
   {
    "duration": 13,
    "start_time": "2022-07-10T09:18:12.264Z"
   },
   {
    "duration": 10,
    "start_time": "2022-07-10T09:18:28.969Z"
   },
   {
    "duration": 46,
    "start_time": "2022-07-10T09:26:19.359Z"
   },
   {
    "duration": 10,
    "start_time": "2022-07-10T09:27:35.967Z"
   },
   {
    "duration": 58,
    "start_time": "2022-07-10T09:31:01.324Z"
   },
   {
    "duration": 10,
    "start_time": "2022-07-10T09:31:07.851Z"
   },
   {
    "duration": 44,
    "start_time": "2022-07-10T09:35:46.427Z"
   },
   {
    "duration": 31,
    "start_time": "2022-07-10T09:37:24.879Z"
   },
   {
    "duration": 76,
    "start_time": "2022-07-10T09:42:10.054Z"
   },
   {
    "duration": 38,
    "start_time": "2022-07-10T09:44:08.128Z"
   },
   {
    "duration": 759,
    "start_time": "2022-07-10T09:44:46.878Z"
   },
   {
    "duration": 834,
    "start_time": "2022-07-10T09:45:13.855Z"
   },
   {
    "duration": 4,
    "start_time": "2022-07-10T09:45:19.798Z"
   },
   {
    "duration": 144,
    "start_time": "2022-07-10T09:45:19.813Z"
   },
   {
    "duration": 67,
    "start_time": "2022-07-10T09:45:19.959Z"
   },
   {
    "duration": 9,
    "start_time": "2022-07-10T09:45:20.027Z"
   },
   {
    "duration": 11,
    "start_time": "2022-07-10T09:45:20.037Z"
   },
   {
    "duration": 15,
    "start_time": "2022-07-10T09:45:20.050Z"
   },
   {
    "duration": 15,
    "start_time": "2022-07-10T09:45:20.066Z"
   },
   {
    "duration": 875,
    "start_time": "2022-07-10T09:45:20.083Z"
   },
   {
    "duration": 84,
    "start_time": "2022-07-10T09:45:20.960Z"
   },
   {
    "duration": 101,
    "start_time": "2022-07-10T09:45:21.045Z"
   },
   {
    "duration": 110,
    "start_time": "2022-07-10T09:45:21.148Z"
   },
   {
    "duration": 76,
    "start_time": "2022-07-10T09:45:21.259Z"
   },
   {
    "duration": 17,
    "start_time": "2022-07-10T09:45:21.336Z"
   },
   {
    "duration": 6,
    "start_time": "2022-07-10T09:45:21.354Z"
   },
   {
    "duration": 44,
    "start_time": "2022-07-10T09:45:21.363Z"
   },
   {
    "duration": 25,
    "start_time": "2022-07-10T09:45:21.408Z"
   },
   {
    "duration": 105,
    "start_time": "2022-07-10T09:45:21.435Z"
   },
   {
    "duration": 103,
    "start_time": "2022-07-10T09:45:21.542Z"
   },
   {
    "duration": 9,
    "start_time": "2022-07-10T09:45:21.647Z"
   },
   {
    "duration": 60,
    "start_time": "2022-07-10T09:45:21.658Z"
   },
   {
    "duration": 255,
    "start_time": "2022-07-10T09:45:21.720Z"
   },
   {
    "duration": 20,
    "start_time": "2022-07-10T09:45:21.977Z"
   },
   {
    "duration": 4,
    "start_time": "2022-07-10T09:45:21.998Z"
   },
   {
    "duration": 5,
    "start_time": "2022-07-10T09:45:22.022Z"
   },
   {
    "duration": 35,
    "start_time": "2022-07-10T09:45:22.028Z"
   },
   {
    "duration": 57,
    "start_time": "2022-07-10T09:45:22.065Z"
   },
   {
    "duration": 14,
    "start_time": "2022-07-10T09:45:22.125Z"
   },
   {
    "duration": 41,
    "start_time": "2022-07-10T09:45:22.141Z"
   },
   {
    "duration": 73,
    "start_time": "2022-07-10T09:45:22.184Z"
   },
   {
    "duration": 13,
    "start_time": "2022-07-10T09:45:22.260Z"
   },
   {
    "duration": 191,
    "start_time": "2022-07-10T09:45:22.275Z"
   },
   {
    "duration": 69,
    "start_time": "2022-07-10T09:45:22.468Z"
   },
   {
    "duration": 9,
    "start_time": "2022-07-10T09:45:22.538Z"
   },
   {
    "duration": 32,
    "start_time": "2022-07-10T09:45:22.548Z"
   },
   {
    "duration": 91,
    "start_time": "2022-07-10T09:45:22.582Z"
   },
   {
    "duration": 34,
    "start_time": "2022-07-10T09:45:22.675Z"
   },
   {
    "duration": 869,
    "start_time": "2022-07-10T09:46:42.816Z"
   },
   {
    "duration": 4,
    "start_time": "2022-07-10T09:46:53.968Z"
   },
   {
    "duration": 161,
    "start_time": "2022-07-10T09:46:53.984Z"
   },
   {
    "duration": 53,
    "start_time": "2022-07-10T09:46:54.147Z"
   },
   {
    "duration": 31,
    "start_time": "2022-07-10T09:46:54.201Z"
   },
   {
    "duration": 16,
    "start_time": "2022-07-10T09:46:54.234Z"
   },
   {
    "duration": 7,
    "start_time": "2022-07-10T09:46:54.253Z"
   },
   {
    "duration": 13,
    "start_time": "2022-07-10T09:46:54.261Z"
   },
   {
    "duration": 1014,
    "start_time": "2022-07-10T09:46:54.276Z"
   },
   {
    "duration": 89,
    "start_time": "2022-07-10T09:46:55.292Z"
   },
   {
    "duration": 107,
    "start_time": "2022-07-10T09:46:55.383Z"
   },
   {
    "duration": 111,
    "start_time": "2022-07-10T09:46:55.492Z"
   },
   {
    "duration": 80,
    "start_time": "2022-07-10T09:46:55.604Z"
   },
   {
    "duration": 17,
    "start_time": "2022-07-10T09:46:55.686Z"
   },
   {
    "duration": 7,
    "start_time": "2022-07-10T09:46:55.732Z"
   },
   {
    "duration": 31,
    "start_time": "2022-07-10T09:46:55.742Z"
   },
   {
    "duration": 15,
    "start_time": "2022-07-10T09:46:55.775Z"
   },
   {
    "duration": 133,
    "start_time": "2022-07-10T09:46:55.792Z"
   },
   {
    "duration": 123,
    "start_time": "2022-07-10T09:46:55.927Z"
   },
   {
    "duration": 8,
    "start_time": "2022-07-10T09:46:56.053Z"
   },
   {
    "duration": 44,
    "start_time": "2022-07-10T09:46:56.063Z"
   },
   {
    "duration": 268,
    "start_time": "2022-07-10T09:46:56.124Z"
   },
   {
    "duration": 19,
    "start_time": "2022-07-10T09:46:56.394Z"
   },
   {
    "duration": 15,
    "start_time": "2022-07-10T09:46:56.422Z"
   },
   {
    "duration": 11,
    "start_time": "2022-07-10T09:46:56.439Z"
   },
   {
    "duration": 37,
    "start_time": "2022-07-10T09:46:56.452Z"
   },
   {
    "duration": 51,
    "start_time": "2022-07-10T09:46:56.490Z"
   },
   {
    "duration": 14,
    "start_time": "2022-07-10T09:46:56.543Z"
   },
   {
    "duration": 40,
    "start_time": "2022-07-10T09:46:56.559Z"
   },
   {
    "duration": 60,
    "start_time": "2022-07-10T09:46:56.600Z"
   },
   {
    "duration": 12,
    "start_time": "2022-07-10T09:46:56.662Z"
   },
   {
    "duration": 218,
    "start_time": "2022-07-10T09:46:56.675Z"
   },
   {
    "duration": 68,
    "start_time": "2022-07-10T09:46:56.895Z"
   },
   {
    "duration": 9,
    "start_time": "2022-07-10T09:46:56.965Z"
   },
   {
    "duration": 53,
    "start_time": "2022-07-10T09:46:56.975Z"
   },
   {
    "duration": 76,
    "start_time": "2022-07-10T09:46:57.029Z"
   },
   {
    "duration": 44,
    "start_time": "2022-07-10T09:46:57.107Z"
   },
   {
    "duration": 854,
    "start_time": "2022-07-10T09:47:51.056Z"
   },
   {
    "duration": 888,
    "start_time": "2022-07-10T09:50:18.037Z"
   },
   {
    "duration": 39,
    "start_time": "2022-07-10T09:50:25.968Z"
   },
   {
    "duration": 30,
    "start_time": "2022-07-10T09:50:48.878Z"
   },
   {
    "duration": 858,
    "start_time": "2022-07-10T09:54:39.679Z"
   },
   {
    "duration": 5,
    "start_time": "2022-07-10T09:54:44.570Z"
   },
   {
    "duration": 155,
    "start_time": "2022-07-10T09:54:44.585Z"
   },
   {
    "duration": 51,
    "start_time": "2022-07-10T09:54:44.742Z"
   },
   {
    "duration": 28,
    "start_time": "2022-07-10T09:54:44.795Z"
   },
   {
    "duration": 8,
    "start_time": "2022-07-10T09:54:44.824Z"
   },
   {
    "duration": 24,
    "start_time": "2022-07-10T09:54:44.835Z"
   },
   {
    "duration": 7,
    "start_time": "2022-07-10T09:54:44.861Z"
   },
   {
    "duration": 869,
    "start_time": "2022-07-10T09:54:44.869Z"
   },
   {
    "duration": 85,
    "start_time": "2022-07-10T09:54:45.740Z"
   },
   {
    "duration": 102,
    "start_time": "2022-07-10T09:54:45.827Z"
   },
   {
    "duration": 110,
    "start_time": "2022-07-10T09:54:45.931Z"
   },
   {
    "duration": 171,
    "start_time": "2022-07-10T09:54:46.043Z"
   },
   {
    "duration": 23,
    "start_time": "2022-07-10T09:54:46.215Z"
   },
   {
    "duration": 18,
    "start_time": "2022-07-10T09:54:46.239Z"
   },
   {
    "duration": 35,
    "start_time": "2022-07-10T09:54:46.260Z"
   },
   {
    "duration": 27,
    "start_time": "2022-07-10T09:54:46.296Z"
   },
   {
    "duration": 106,
    "start_time": "2022-07-10T09:54:46.324Z"
   },
   {
    "duration": 101,
    "start_time": "2022-07-10T09:54:46.431Z"
   },
   {
    "duration": 8,
    "start_time": "2022-07-10T09:54:46.533Z"
   },
   {
    "duration": 39,
    "start_time": "2022-07-10T09:54:46.542Z"
   },
   {
    "duration": 263,
    "start_time": "2022-07-10T09:54:46.583Z"
   },
   {
    "duration": 18,
    "start_time": "2022-07-10T09:54:46.848Z"
   },
   {
    "duration": 3,
    "start_time": "2022-07-10T09:54:46.868Z"
   },
   {
    "duration": 15,
    "start_time": "2022-07-10T09:54:46.873Z"
   },
   {
    "duration": 49,
    "start_time": "2022-07-10T09:54:46.889Z"
   },
   {
    "duration": 37,
    "start_time": "2022-07-10T09:54:46.940Z"
   },
   {
    "duration": 14,
    "start_time": "2022-07-10T09:54:46.979Z"
   },
   {
    "duration": 62,
    "start_time": "2022-07-10T09:54:46.995Z"
   },
   {
    "duration": 38,
    "start_time": "2022-07-10T09:54:47.059Z"
   },
   {
    "duration": 32,
    "start_time": "2022-07-10T09:54:47.099Z"
   },
   {
    "duration": 185,
    "start_time": "2022-07-10T09:54:47.133Z"
   },
   {
    "duration": 52,
    "start_time": "2022-07-10T09:54:47.320Z"
   },
   {
    "duration": 9,
    "start_time": "2022-07-10T09:54:47.374Z"
   },
   {
    "duration": 54,
    "start_time": "2022-07-10T09:54:47.385Z"
   },
   {
    "duration": 68,
    "start_time": "2022-07-10T09:54:47.441Z"
   },
   {
    "duration": 43,
    "start_time": "2022-07-10T09:54:47.510Z"
   },
   {
    "duration": 1635,
    "start_time": "2022-07-10T09:55:02.763Z"
   },
   {
    "duration": 4,
    "start_time": "2022-07-10T09:55:07.539Z"
   },
   {
    "duration": 149,
    "start_time": "2022-07-10T09:55:07.545Z"
   },
   {
    "duration": 57,
    "start_time": "2022-07-10T09:55:07.696Z"
   },
   {
    "duration": 9,
    "start_time": "2022-07-10T09:55:07.755Z"
   },
   {
    "duration": 8,
    "start_time": "2022-07-10T09:55:07.766Z"
   },
   {
    "duration": 17,
    "start_time": "2022-07-10T09:55:07.775Z"
   },
   {
    "duration": 10,
    "start_time": "2022-07-10T09:55:07.793Z"
   },
   {
    "duration": 900,
    "start_time": "2022-07-10T09:55:07.805Z"
   },
   {
    "duration": 91,
    "start_time": "2022-07-10T09:55:08.707Z"
   },
   {
    "duration": 124,
    "start_time": "2022-07-10T09:55:08.800Z"
   },
   {
    "duration": 119,
    "start_time": "2022-07-10T09:55:08.926Z"
   },
   {
    "duration": 86,
    "start_time": "2022-07-10T09:55:09.047Z"
   },
   {
    "duration": 19,
    "start_time": "2022-07-10T09:55:09.137Z"
   },
   {
    "duration": 8,
    "start_time": "2022-07-10T09:55:09.158Z"
   },
   {
    "duration": 61,
    "start_time": "2022-07-10T09:55:09.167Z"
   },
   {
    "duration": 15,
    "start_time": "2022-07-10T09:55:09.231Z"
   },
   {
    "duration": 122,
    "start_time": "2022-07-10T09:55:09.248Z"
   },
   {
    "duration": 116,
    "start_time": "2022-07-10T09:55:09.372Z"
   },
   {
    "duration": 9,
    "start_time": "2022-07-10T09:55:09.490Z"
   },
   {
    "duration": 61,
    "start_time": "2022-07-10T09:55:09.500Z"
   },
   {
    "duration": 279,
    "start_time": "2022-07-10T09:55:09.562Z"
   },
   {
    "duration": 21,
    "start_time": "2022-07-10T09:55:09.842Z"
   },
   {
    "duration": 13,
    "start_time": "2022-07-10T09:55:09.865Z"
   },
   {
    "duration": 13,
    "start_time": "2022-07-10T09:55:09.880Z"
   },
   {
    "duration": 55,
    "start_time": "2022-07-10T09:55:09.895Z"
   },
   {
    "duration": 48,
    "start_time": "2022-07-10T09:55:09.951Z"
   },
   {
    "duration": 34,
    "start_time": "2022-07-10T09:55:10.000Z"
   },
   {
    "duration": 47,
    "start_time": "2022-07-10T09:55:10.036Z"
   },
   {
    "duration": 62,
    "start_time": "2022-07-10T09:55:10.085Z"
   },
   {
    "duration": 14,
    "start_time": "2022-07-10T09:55:10.149Z"
   },
   {
    "duration": 210,
    "start_time": "2022-07-10T09:55:10.165Z"
   },
   {
    "duration": 71,
    "start_time": "2022-07-10T09:55:10.376Z"
   },
   {
    "duration": 9,
    "start_time": "2022-07-10T09:55:10.449Z"
   },
   {
    "duration": 35,
    "start_time": "2022-07-10T09:55:10.460Z"
   },
   {
    "duration": 98,
    "start_time": "2022-07-10T09:55:10.498Z"
   },
   {
    "duration": 47,
    "start_time": "2022-07-10T09:55:10.597Z"
   },
   {
    "duration": 5,
    "start_time": "2022-07-10T09:55:23.555Z"
   },
   {
    "duration": 11,
    "start_time": "2022-07-10T09:55:39.299Z"
   },
   {
    "duration": 4,
    "start_time": "2022-07-10T09:56:38.598Z"
   },
   {
    "duration": 33,
    "start_time": "2022-07-10T09:58:59.109Z"
   },
   {
    "duration": 3,
    "start_time": "2022-07-10T10:00:08.458Z"
   },
   {
    "duration": 28,
    "start_time": "2022-07-10T10:01:05.667Z"
   },
   {
    "duration": 30,
    "start_time": "2022-07-10T10:01:30.918Z"
   },
   {
    "duration": 26,
    "start_time": "2022-07-10T10:01:58.189Z"
   },
   {
    "duration": 3,
    "start_time": "2022-07-10T10:03:55.298Z"
   },
   {
    "duration": 70,
    "start_time": "2022-07-10T10:05:54.528Z"
   },
   {
    "duration": 60,
    "start_time": "2022-07-10T10:07:08.941Z"
   },
   {
    "duration": 28,
    "start_time": "2022-07-10T10:07:33.139Z"
   },
   {
    "duration": 54,
    "start_time": "2022-07-10T10:07:36.298Z"
   },
   {
    "duration": 1262,
    "start_time": "2022-07-10T10:14:11.199Z"
   },
   {
    "duration": 157,
    "start_time": "2022-07-10T10:14:12.463Z"
   },
   {
    "duration": 71,
    "start_time": "2022-07-10T10:14:12.622Z"
   },
   {
    "duration": 33,
    "start_time": "2022-07-10T10:14:12.696Z"
   },
   {
    "duration": 10,
    "start_time": "2022-07-10T10:14:12.730Z"
   },
   {
    "duration": 7,
    "start_time": "2022-07-10T10:14:12.741Z"
   },
   {
    "duration": 7,
    "start_time": "2022-07-10T10:14:12.750Z"
   },
   {
    "duration": 950,
    "start_time": "2022-07-10T10:14:12.759Z"
   },
   {
    "duration": 82,
    "start_time": "2022-07-10T10:14:13.711Z"
   },
   {
    "duration": 117,
    "start_time": "2022-07-10T10:14:13.796Z"
   },
   {
    "duration": 111,
    "start_time": "2022-07-10T10:14:13.915Z"
   },
   {
    "duration": 67,
    "start_time": "2022-07-10T10:14:14.027Z"
   },
   {
    "duration": 32,
    "start_time": "2022-07-10T10:14:14.096Z"
   },
   {
    "duration": 7,
    "start_time": "2022-07-10T10:14:14.129Z"
   },
   {
    "duration": 33,
    "start_time": "2022-07-10T10:14:14.138Z"
   },
   {
    "duration": 15,
    "start_time": "2022-07-10T10:14:14.173Z"
   },
   {
    "duration": 117,
    "start_time": "2022-07-10T10:14:14.224Z"
   },
   {
    "duration": 127,
    "start_time": "2022-07-10T10:14:14.343Z"
   },
   {
    "duration": 10,
    "start_time": "2022-07-10T10:14:14.472Z"
   },
   {
    "duration": 62,
    "start_time": "2022-07-10T10:14:14.484Z"
   },
   {
    "duration": 276,
    "start_time": "2022-07-10T10:14:14.548Z"
   },
   {
    "duration": 116,
    "start_time": "2022-07-10T10:14:14.826Z"
   },
   {
    "duration": 0,
    "start_time": "2022-07-10T10:14:14.944Z"
   },
   {
    "duration": 0,
    "start_time": "2022-07-10T10:14:14.946Z"
   },
   {
    "duration": 0,
    "start_time": "2022-07-10T10:14:14.946Z"
   },
   {
    "duration": 0,
    "start_time": "2022-07-10T10:14:14.948Z"
   },
   {
    "duration": 0,
    "start_time": "2022-07-10T10:14:14.949Z"
   },
   {
    "duration": 0,
    "start_time": "2022-07-10T10:14:14.953Z"
   },
   {
    "duration": 0,
    "start_time": "2022-07-10T10:14:14.955Z"
   },
   {
    "duration": 0,
    "start_time": "2022-07-10T10:14:14.956Z"
   },
   {
    "duration": 0,
    "start_time": "2022-07-10T10:14:14.956Z"
   },
   {
    "duration": 0,
    "start_time": "2022-07-10T10:14:14.958Z"
   },
   {
    "duration": 0,
    "start_time": "2022-07-10T10:14:14.959Z"
   },
   {
    "duration": 0,
    "start_time": "2022-07-10T10:14:14.960Z"
   },
   {
    "duration": 0,
    "start_time": "2022-07-10T10:14:14.962Z"
   },
   {
    "duration": 0,
    "start_time": "2022-07-10T10:14:14.963Z"
   },
   {
    "duration": 0,
    "start_time": "2022-07-10T10:14:14.964Z"
   },
   {
    "duration": 0,
    "start_time": "2022-07-10T10:14:14.965Z"
   },
   {
    "duration": 0,
    "start_time": "2022-07-10T10:14:14.966Z"
   },
   {
    "duration": 0,
    "start_time": "2022-07-10T10:14:14.967Z"
   },
   {
    "duration": 0,
    "start_time": "2022-07-10T10:14:14.968Z"
   },
   {
    "duration": 4,
    "start_time": "2022-07-10T10:14:56.666Z"
   },
   {
    "duration": 168,
    "start_time": "2022-07-10T10:14:56.682Z"
   },
   {
    "duration": 50,
    "start_time": "2022-07-10T10:14:56.852Z"
   },
   {
    "duration": 24,
    "start_time": "2022-07-10T10:14:56.904Z"
   },
   {
    "duration": 12,
    "start_time": "2022-07-10T10:14:56.929Z"
   },
   {
    "duration": 13,
    "start_time": "2022-07-10T10:14:56.943Z"
   },
   {
    "duration": 7,
    "start_time": "2022-07-10T10:14:56.957Z"
   },
   {
    "duration": 912,
    "start_time": "2022-07-10T10:14:56.965Z"
   },
   {
    "duration": 87,
    "start_time": "2022-07-10T10:14:57.879Z"
   },
   {
    "duration": 99,
    "start_time": "2022-07-10T10:14:57.977Z"
   },
   {
    "duration": 111,
    "start_time": "2022-07-10T10:14:58.078Z"
   },
   {
    "duration": 73,
    "start_time": "2022-07-10T10:14:58.191Z"
   },
   {
    "duration": 18,
    "start_time": "2022-07-10T10:14:58.266Z"
   },
   {
    "duration": 21,
    "start_time": "2022-07-10T10:14:58.286Z"
   },
   {
    "duration": 27,
    "start_time": "2022-07-10T10:14:58.323Z"
   },
   {
    "duration": 15,
    "start_time": "2022-07-10T10:14:58.351Z"
   },
   {
    "duration": 127,
    "start_time": "2022-07-10T10:14:58.367Z"
   },
   {
    "duration": 108,
    "start_time": "2022-07-10T10:14:58.496Z"
   },
   {
    "duration": 21,
    "start_time": "2022-07-10T10:14:58.606Z"
   },
   {
    "duration": 41,
    "start_time": "2022-07-10T10:14:58.629Z"
   },
   {
    "duration": 289,
    "start_time": "2022-07-10T10:14:58.672Z"
   },
   {
    "duration": 25,
    "start_time": "2022-07-10T10:14:58.963Z"
   },
   {
    "duration": 0,
    "start_time": "2022-07-10T10:14:58.991Z"
   },
   {
    "duration": 0,
    "start_time": "2022-07-10T10:14:58.992Z"
   },
   {
    "duration": 0,
    "start_time": "2022-07-10T10:14:58.994Z"
   },
   {
    "duration": 0,
    "start_time": "2022-07-10T10:14:58.995Z"
   },
   {
    "duration": 0,
    "start_time": "2022-07-10T10:14:59.022Z"
   },
   {
    "duration": 0,
    "start_time": "2022-07-10T10:14:59.024Z"
   },
   {
    "duration": 0,
    "start_time": "2022-07-10T10:14:59.025Z"
   },
   {
    "duration": 0,
    "start_time": "2022-07-10T10:14:59.026Z"
   },
   {
    "duration": 0,
    "start_time": "2022-07-10T10:14:59.028Z"
   },
   {
    "duration": 0,
    "start_time": "2022-07-10T10:14:59.029Z"
   },
   {
    "duration": 0,
    "start_time": "2022-07-10T10:14:59.030Z"
   },
   {
    "duration": 0,
    "start_time": "2022-07-10T10:14:59.031Z"
   },
   {
    "duration": 0,
    "start_time": "2022-07-10T10:14:59.033Z"
   },
   {
    "duration": 0,
    "start_time": "2022-07-10T10:14:59.034Z"
   },
   {
    "duration": 0,
    "start_time": "2022-07-10T10:14:59.035Z"
   },
   {
    "duration": 0,
    "start_time": "2022-07-10T10:14:59.036Z"
   },
   {
    "duration": 0,
    "start_time": "2022-07-10T10:14:59.037Z"
   },
   {
    "duration": 0,
    "start_time": "2022-07-10T10:14:59.038Z"
   },
   {
    "duration": 0,
    "start_time": "2022-07-10T10:14:59.039Z"
   },
   {
    "duration": 4,
    "start_time": "2022-07-10T10:15:32.010Z"
   },
   {
    "duration": 146,
    "start_time": "2022-07-10T10:15:32.017Z"
   },
   {
    "duration": 58,
    "start_time": "2022-07-10T10:15:32.164Z"
   },
   {
    "duration": 8,
    "start_time": "2022-07-10T10:15:32.224Z"
   },
   {
    "duration": 7,
    "start_time": "2022-07-10T10:15:32.234Z"
   },
   {
    "duration": 12,
    "start_time": "2022-07-10T10:15:32.243Z"
   },
   {
    "duration": 9,
    "start_time": "2022-07-10T10:15:32.256Z"
   },
   {
    "duration": 896,
    "start_time": "2022-07-10T10:15:32.266Z"
   },
   {
    "duration": 87,
    "start_time": "2022-07-10T10:15:33.163Z"
   },
   {
    "duration": 109,
    "start_time": "2022-07-10T10:15:33.253Z"
   },
   {
    "duration": 119,
    "start_time": "2022-07-10T10:15:33.363Z"
   },
   {
    "duration": 72,
    "start_time": "2022-07-10T10:15:33.483Z"
   },
   {
    "duration": 17,
    "start_time": "2022-07-10T10:15:33.556Z"
   },
   {
    "duration": 15,
    "start_time": "2022-07-10T10:15:33.576Z"
   },
   {
    "duration": 42,
    "start_time": "2022-07-10T10:15:33.593Z"
   },
   {
    "duration": 14,
    "start_time": "2022-07-10T10:15:33.637Z"
   },
   {
    "duration": 110,
    "start_time": "2022-07-10T10:15:33.653Z"
   },
   {
    "duration": 109,
    "start_time": "2022-07-10T10:15:33.764Z"
   },
   {
    "duration": 8,
    "start_time": "2022-07-10T10:15:33.874Z"
   },
   {
    "duration": 51,
    "start_time": "2022-07-10T10:15:33.883Z"
   },
   {
    "duration": 326,
    "start_time": "2022-07-10T10:15:33.936Z"
   },
   {
    "duration": 22,
    "start_time": "2022-07-10T10:15:34.264Z"
   },
   {
    "duration": 0,
    "start_time": "2022-07-10T10:15:34.287Z"
   },
   {
    "duration": 0,
    "start_time": "2022-07-10T10:15:34.288Z"
   },
   {
    "duration": 0,
    "start_time": "2022-07-10T10:15:34.289Z"
   },
   {
    "duration": 0,
    "start_time": "2022-07-10T10:15:34.290Z"
   },
   {
    "duration": 0,
    "start_time": "2022-07-10T10:15:34.291Z"
   },
   {
    "duration": 0,
    "start_time": "2022-07-10T10:15:34.292Z"
   },
   {
    "duration": 0,
    "start_time": "2022-07-10T10:15:34.293Z"
   },
   {
    "duration": 0,
    "start_time": "2022-07-10T10:15:34.295Z"
   },
   {
    "duration": 0,
    "start_time": "2022-07-10T10:15:34.295Z"
   },
   {
    "duration": 0,
    "start_time": "2022-07-10T10:15:34.296Z"
   },
   {
    "duration": 0,
    "start_time": "2022-07-10T10:15:34.323Z"
   },
   {
    "duration": 0,
    "start_time": "2022-07-10T10:15:34.324Z"
   },
   {
    "duration": 0,
    "start_time": "2022-07-10T10:15:34.325Z"
   },
   {
    "duration": 0,
    "start_time": "2022-07-10T10:15:34.326Z"
   },
   {
    "duration": 0,
    "start_time": "2022-07-10T10:15:34.327Z"
   },
   {
    "duration": 0,
    "start_time": "2022-07-10T10:15:34.328Z"
   },
   {
    "duration": 0,
    "start_time": "2022-07-10T10:15:34.329Z"
   },
   {
    "duration": 0,
    "start_time": "2022-07-10T10:15:34.330Z"
   },
   {
    "duration": 1,
    "start_time": "2022-07-10T10:15:34.331Z"
   },
   {
    "duration": 20,
    "start_time": "2022-07-10T10:16:37.156Z"
   },
   {
    "duration": 5,
    "start_time": "2022-07-10T10:16:42.898Z"
   },
   {
    "duration": 157,
    "start_time": "2022-07-10T10:16:42.905Z"
   },
   {
    "duration": 58,
    "start_time": "2022-07-10T10:16:43.064Z"
   },
   {
    "duration": 7,
    "start_time": "2022-07-10T10:16:43.124Z"
   },
   {
    "duration": 7,
    "start_time": "2022-07-10T10:16:43.134Z"
   },
   {
    "duration": 5,
    "start_time": "2022-07-10T10:16:43.143Z"
   },
   {
    "duration": 9,
    "start_time": "2022-07-10T10:16:43.149Z"
   },
   {
    "duration": 940,
    "start_time": "2022-07-10T10:16:43.159Z"
   },
   {
    "duration": 87,
    "start_time": "2022-07-10T10:16:44.101Z"
   },
   {
    "duration": 104,
    "start_time": "2022-07-10T10:16:44.190Z"
   },
   {
    "duration": 107,
    "start_time": "2022-07-10T10:16:44.295Z"
   },
   {
    "duration": 91,
    "start_time": "2022-07-10T10:16:44.404Z"
   },
   {
    "duration": 35,
    "start_time": "2022-07-10T10:16:44.497Z"
   },
   {
    "duration": 11,
    "start_time": "2022-07-10T10:16:44.538Z"
   },
   {
    "duration": 44,
    "start_time": "2022-07-10T10:16:44.551Z"
   },
   {
    "duration": 15,
    "start_time": "2022-07-10T10:16:44.621Z"
   },
   {
    "duration": 107,
    "start_time": "2022-07-10T10:16:44.638Z"
   },
   {
    "duration": 106,
    "start_time": "2022-07-10T10:16:44.747Z"
   },
   {
    "duration": 8,
    "start_time": "2022-07-10T10:16:44.854Z"
   },
   {
    "duration": 41,
    "start_time": "2022-07-10T10:16:44.863Z"
   },
   {
    "duration": 250,
    "start_time": "2022-07-10T10:16:44.922Z"
   },
   {
    "duration": 22,
    "start_time": "2022-07-10T10:16:45.174Z"
   },
   {
    "duration": 24,
    "start_time": "2022-07-10T10:16:45.198Z"
   },
   {
    "duration": 6,
    "start_time": "2022-07-10T10:16:45.224Z"
   },
   {
    "duration": 27,
    "start_time": "2022-07-10T10:16:45.232Z"
   },
   {
    "duration": 63,
    "start_time": "2022-07-10T10:16:45.261Z"
   },
   {
    "duration": 12,
    "start_time": "2022-07-10T10:16:45.326Z"
   },
   {
    "duration": 50,
    "start_time": "2022-07-10T10:16:45.339Z"
   },
   {
    "duration": 59,
    "start_time": "2022-07-10T10:16:45.391Z"
   },
   {
    "duration": 13,
    "start_time": "2022-07-10T10:16:45.451Z"
   },
   {
    "duration": 188,
    "start_time": "2022-07-10T10:16:45.465Z"
   },
   {
    "duration": 98,
    "start_time": "2022-07-10T10:16:45.654Z"
   },
   {
    "duration": 10,
    "start_time": "2022-07-10T10:16:45.754Z"
   },
   {
    "duration": 41,
    "start_time": "2022-07-10T10:16:45.765Z"
   },
   {
    "duration": 93,
    "start_time": "2022-07-10T10:16:45.808Z"
   },
   {
    "duration": 45,
    "start_time": "2022-07-10T10:16:45.903Z"
   },
   {
    "duration": 4,
    "start_time": "2022-07-10T10:16:45.950Z"
   },
   {
    "duration": 15,
    "start_time": "2022-07-10T10:16:45.955Z"
   },
   {
    "duration": 7,
    "start_time": "2022-07-10T10:16:45.972Z"
   },
   {
    "duration": 58,
    "start_time": "2022-07-10T10:16:45.981Z"
   },
   {
    "duration": 59,
    "start_time": "2022-07-10T10:16:46.044Z"
   },
   {
    "duration": 52,
    "start_time": "2022-07-10T10:17:27.145Z"
   },
   {
    "duration": 1330,
    "start_time": "2022-07-10T16:40:55.717Z"
   },
   {
    "duration": 800,
    "start_time": "2022-07-10T16:40:57.049Z"
   },
   {
    "duration": 66,
    "start_time": "2022-07-10T16:40:57.850Z"
   },
   {
    "duration": 10,
    "start_time": "2022-07-10T16:40:57.918Z"
   },
   {
    "duration": 8,
    "start_time": "2022-07-10T16:40:57.930Z"
   },
   {
    "duration": 6,
    "start_time": "2022-07-10T16:40:57.940Z"
   },
   {
    "duration": 6,
    "start_time": "2022-07-10T16:40:57.947Z"
   },
   {
    "duration": 925,
    "start_time": "2022-07-10T16:40:57.954Z"
   },
   {
    "duration": 93,
    "start_time": "2022-07-10T16:40:58.881Z"
   },
   {
    "duration": 142,
    "start_time": "2022-07-10T16:40:58.978Z"
   },
   {
    "duration": 126,
    "start_time": "2022-07-10T16:40:59.122Z"
   },
   {
    "duration": 93,
    "start_time": "2022-07-10T16:40:59.250Z"
   },
   {
    "duration": 20,
    "start_time": "2022-07-10T16:40:59.345Z"
   },
   {
    "duration": 6,
    "start_time": "2022-07-10T16:40:59.367Z"
   },
   {
    "duration": 49,
    "start_time": "2022-07-10T16:40:59.375Z"
   },
   {
    "duration": 20,
    "start_time": "2022-07-10T16:40:59.426Z"
   },
   {
    "duration": 144,
    "start_time": "2022-07-10T16:40:59.449Z"
   },
   {
    "duration": 116,
    "start_time": "2022-07-10T16:40:59.595Z"
   },
   {
    "duration": 9,
    "start_time": "2022-07-10T16:40:59.713Z"
   },
   {
    "duration": 29,
    "start_time": "2022-07-10T16:40:59.723Z"
   },
   {
    "duration": 257,
    "start_time": "2022-07-10T16:40:59.753Z"
   },
   {
    "duration": 18,
    "start_time": "2022-07-10T16:41:00.012Z"
   },
   {
    "duration": 3,
    "start_time": "2022-07-10T16:41:00.032Z"
   },
   {
    "duration": 9,
    "start_time": "2022-07-10T16:41:00.037Z"
   },
   {
    "duration": 66,
    "start_time": "2022-07-10T16:41:00.048Z"
   },
   {
    "duration": 44,
    "start_time": "2022-07-10T16:41:00.116Z"
   },
   {
    "duration": 24,
    "start_time": "2022-07-10T16:41:00.162Z"
   },
   {
    "duration": 56,
    "start_time": "2022-07-10T16:41:00.190Z"
   },
   {
    "duration": 65,
    "start_time": "2022-07-10T16:41:00.248Z"
   },
   {
    "duration": 16,
    "start_time": "2022-07-10T16:41:00.315Z"
   },
   {
    "duration": 182,
    "start_time": "2022-07-10T16:41:00.332Z"
   },
   {
    "duration": 104,
    "start_time": "2022-07-10T16:41:00.515Z"
   },
   {
    "duration": 9,
    "start_time": "2022-07-10T16:41:00.621Z"
   },
   {
    "duration": 43,
    "start_time": "2022-07-10T16:41:00.632Z"
   },
   {
    "duration": 81,
    "start_time": "2022-07-10T16:41:00.677Z"
   },
   {
    "duration": 33,
    "start_time": "2022-07-10T16:41:00.760Z"
   },
   {
    "duration": 12,
    "start_time": "2022-07-10T16:41:00.794Z"
   },
   {
    "duration": 16,
    "start_time": "2022-07-10T16:41:00.808Z"
   },
   {
    "duration": 16,
    "start_time": "2022-07-10T16:41:00.826Z"
   },
   {
    "duration": 44,
    "start_time": "2022-07-10T16:41:00.844Z"
   },
   {
    "duration": 68,
    "start_time": "2022-07-10T16:41:00.890Z"
   },
   {
    "duration": 4,
    "start_time": "2022-07-10T16:42:37.734Z"
   },
   {
    "duration": 5,
    "start_time": "2022-07-10T16:44:04.487Z"
   },
   {
    "duration": 4,
    "start_time": "2022-07-10T16:44:45.721Z"
   },
   {
    "duration": 98,
    "start_time": "2022-07-10T16:45:15.437Z"
   },
   {
    "duration": 89,
    "start_time": "2022-07-10T16:46:23.379Z"
   },
   {
    "duration": 4,
    "start_time": "2022-07-10T16:47:18.137Z"
   },
   {
    "duration": 6,
    "start_time": "2022-07-10T16:47:40.304Z"
   },
   {
    "duration": 4,
    "start_time": "2022-07-10T16:49:27.376Z"
   },
   {
    "duration": 4,
    "start_time": "2022-07-10T16:49:34.656Z"
   },
   {
    "duration": 1195,
    "start_time": "2022-07-10T16:51:15.444Z"
   },
   {
    "duration": 200,
    "start_time": "2022-07-10T16:51:16.642Z"
   },
   {
    "duration": 100,
    "start_time": "2022-07-10T16:51:16.844Z"
   },
   {
    "duration": 14,
    "start_time": "2022-07-10T16:51:16.947Z"
   },
   {
    "duration": 14,
    "start_time": "2022-07-10T16:51:16.964Z"
   },
   {
    "duration": 37,
    "start_time": "2022-07-10T16:51:16.980Z"
   },
   {
    "duration": 10,
    "start_time": "2022-07-10T16:51:17.020Z"
   },
   {
    "duration": 1045,
    "start_time": "2022-07-10T16:51:17.033Z"
   },
   {
    "duration": 95,
    "start_time": "2022-07-10T16:51:18.080Z"
   },
   {
    "duration": 115,
    "start_time": "2022-07-10T16:51:18.179Z"
   },
   {
    "duration": 114,
    "start_time": "2022-07-10T16:51:18.303Z"
   },
   {
    "duration": 67,
    "start_time": "2022-07-10T16:51:18.419Z"
   },
   {
    "duration": 38,
    "start_time": "2022-07-10T16:51:18.488Z"
   },
   {
    "duration": 6,
    "start_time": "2022-07-10T16:51:18.527Z"
   },
   {
    "duration": 32,
    "start_time": "2022-07-10T16:51:18.535Z"
   },
   {
    "duration": 15,
    "start_time": "2022-07-10T16:51:18.569Z"
   },
   {
    "duration": 131,
    "start_time": "2022-07-10T16:51:18.586Z"
   },
   {
    "duration": 125,
    "start_time": "2022-07-10T16:51:18.718Z"
   },
   {
    "duration": 9,
    "start_time": "2022-07-10T16:51:18.845Z"
   },
   {
    "duration": 63,
    "start_time": "2022-07-10T16:51:18.856Z"
   },
   {
    "duration": 261,
    "start_time": "2022-07-10T16:51:18.923Z"
   },
   {
    "duration": 37,
    "start_time": "2022-07-10T16:51:19.188Z"
   },
   {
    "duration": 3,
    "start_time": "2022-07-10T16:51:19.227Z"
   },
   {
    "duration": 8,
    "start_time": "2022-07-10T16:51:19.232Z"
   },
   {
    "duration": 24,
    "start_time": "2022-07-10T16:51:19.242Z"
   },
   {
    "duration": 46,
    "start_time": "2022-07-10T16:51:19.268Z"
   },
   {
    "duration": 15,
    "start_time": "2022-07-10T16:51:19.317Z"
   },
   {
    "duration": 47,
    "start_time": "2022-07-10T16:51:19.335Z"
   },
   {
    "duration": 62,
    "start_time": "2022-07-10T16:51:19.384Z"
   },
   {
    "duration": 14,
    "start_time": "2022-07-10T16:51:19.448Z"
   },
   {
    "duration": 211,
    "start_time": "2022-07-10T16:51:19.464Z"
   },
   {
    "duration": 109,
    "start_time": "2022-07-10T16:51:19.677Z"
   },
   {
    "duration": 25,
    "start_time": "2022-07-10T16:51:19.788Z"
   },
   {
    "duration": 18,
    "start_time": "2022-07-10T16:51:19.821Z"
   },
   {
    "duration": 37,
    "start_time": "2022-07-10T16:51:19.840Z"
   },
   {
    "duration": 81,
    "start_time": "2022-07-10T16:51:19.878Z"
   },
   {
    "duration": 46,
    "start_time": "2022-07-10T16:51:19.961Z"
   },
   {
    "duration": 10,
    "start_time": "2022-07-10T16:51:20.009Z"
   },
   {
    "duration": 17,
    "start_time": "2022-07-10T16:51:20.021Z"
   },
   {
    "duration": 5,
    "start_time": "2022-07-10T16:51:20.040Z"
   },
   {
    "duration": 36,
    "start_time": "2022-07-10T16:51:20.047Z"
   },
   {
    "duration": 69,
    "start_time": "2022-07-10T16:51:20.105Z"
   },
   {
    "duration": 64,
    "start_time": "2022-07-11T12:09:46.108Z"
   },
   {
    "duration": 1380,
    "start_time": "2022-07-11T12:09:53.755Z"
   },
   {
    "duration": 202,
    "start_time": "2022-07-11T12:09:55.137Z"
   },
   {
    "duration": 88,
    "start_time": "2022-07-11T12:09:55.343Z"
   },
   {
    "duration": 10,
    "start_time": "2022-07-11T12:09:55.433Z"
   },
   {
    "duration": 12,
    "start_time": "2022-07-11T12:09:55.445Z"
   },
   {
    "duration": 27,
    "start_time": "2022-07-11T12:09:55.464Z"
   },
   {
    "duration": 22,
    "start_time": "2022-07-11T12:09:55.493Z"
   },
   {
    "duration": 1214,
    "start_time": "2022-07-11T12:09:55.517Z"
   },
   {
    "duration": 97,
    "start_time": "2022-07-11T12:09:56.734Z"
   },
   {
    "duration": 151,
    "start_time": "2022-07-11T12:09:56.833Z"
   },
   {
    "duration": 127,
    "start_time": "2022-07-11T12:09:56.986Z"
   },
   {
    "duration": 88,
    "start_time": "2022-07-11T12:09:57.114Z"
   },
   {
    "duration": 18,
    "start_time": "2022-07-11T12:09:57.209Z"
   },
   {
    "duration": 6,
    "start_time": "2022-07-11T12:09:57.229Z"
   },
   {
    "duration": 40,
    "start_time": "2022-07-11T12:09:57.236Z"
   },
   {
    "duration": 33,
    "start_time": "2022-07-11T12:09:57.277Z"
   },
   {
    "duration": 125,
    "start_time": "2022-07-11T12:09:57.314Z"
   },
   {
    "duration": 117,
    "start_time": "2022-07-11T12:09:57.441Z"
   },
   {
    "duration": 20,
    "start_time": "2022-07-11T12:09:57.559Z"
   },
   {
    "duration": 60,
    "start_time": "2022-07-11T12:09:57.581Z"
   },
   {
    "duration": 721,
    "start_time": "2022-07-11T12:09:57.643Z"
   },
   {
    "duration": 250,
    "start_time": "2022-07-11T12:09:58.366Z"
   },
   {
    "duration": 0,
    "start_time": "2022-07-11T12:09:58.620Z"
   },
   {
    "duration": 0,
    "start_time": "2022-07-11T12:09:58.621Z"
   },
   {
    "duration": 0,
    "start_time": "2022-07-11T12:09:58.623Z"
   },
   {
    "duration": 0,
    "start_time": "2022-07-11T12:09:58.624Z"
   },
   {
    "duration": 0,
    "start_time": "2022-07-11T12:09:58.664Z"
   },
   {
    "duration": 0,
    "start_time": "2022-07-11T12:09:58.665Z"
   },
   {
    "duration": 0,
    "start_time": "2022-07-11T12:09:58.666Z"
   },
   {
    "duration": 0,
    "start_time": "2022-07-11T12:09:58.667Z"
   },
   {
    "duration": 0,
    "start_time": "2022-07-11T12:09:58.668Z"
   },
   {
    "duration": 0,
    "start_time": "2022-07-11T12:09:58.669Z"
   },
   {
    "duration": 0,
    "start_time": "2022-07-11T12:09:58.670Z"
   },
   {
    "duration": 0,
    "start_time": "2022-07-11T12:09:58.672Z"
   },
   {
    "duration": 0,
    "start_time": "2022-07-11T12:09:58.674Z"
   },
   {
    "duration": 0,
    "start_time": "2022-07-11T12:09:58.675Z"
   },
   {
    "duration": 0,
    "start_time": "2022-07-11T12:09:58.676Z"
   },
   {
    "duration": 0,
    "start_time": "2022-07-11T12:09:58.677Z"
   },
   {
    "duration": 0,
    "start_time": "2022-07-11T12:09:58.678Z"
   },
   {
    "duration": 0,
    "start_time": "2022-07-11T12:09:58.681Z"
   },
   {
    "duration": 0,
    "start_time": "2022-07-11T12:09:58.682Z"
   },
   {
    "duration": 0,
    "start_time": "2022-07-11T12:09:58.682Z"
   },
   {
    "duration": 0,
    "start_time": "2022-07-11T12:09:58.683Z"
   },
   {
    "duration": 0,
    "start_time": "2022-07-11T12:09:58.684Z"
   },
   {
    "duration": 13,
    "start_time": "2022-07-11T12:10:06.064Z"
   },
   {
    "duration": 46,
    "start_time": "2022-07-11T12:10:06.088Z"
   },
   {
    "duration": 22,
    "start_time": "2022-07-11T12:10:06.136Z"
   },
   {
    "duration": 7,
    "start_time": "2022-07-11T12:10:06.160Z"
   },
   {
    "duration": 46,
    "start_time": "2022-07-11T12:10:06.171Z"
   },
   {
    "duration": 27,
    "start_time": "2022-07-11T12:10:06.220Z"
   },
   {
    "duration": 61,
    "start_time": "2022-07-11T12:10:06.249Z"
   },
   {
    "duration": 17,
    "start_time": "2022-07-11T12:10:06.311Z"
   },
   {
    "duration": 58,
    "start_time": "2022-07-11T12:10:06.330Z"
   },
   {
    "duration": 54,
    "start_time": "2022-07-11T12:10:06.389Z"
   },
   {
    "duration": 28,
    "start_time": "2022-07-11T12:10:06.444Z"
   },
   {
    "duration": 234,
    "start_time": "2022-07-11T12:10:06.474Z"
   },
   {
    "duration": 115,
    "start_time": "2022-07-11T12:10:06.709Z"
   },
   {
    "duration": 9,
    "start_time": "2022-07-11T12:10:06.826Z"
   },
   {
    "duration": 5,
    "start_time": "2022-07-11T12:10:06.838Z"
   },
   {
    "duration": 66,
    "start_time": "2022-07-11T12:10:06.844Z"
   },
   {
    "duration": 105,
    "start_time": "2022-07-11T12:10:06.912Z"
   },
   {
    "duration": 29,
    "start_time": "2022-07-11T12:10:07.019Z"
   },
   {
    "duration": 3,
    "start_time": "2022-07-11T12:10:07.050Z"
   },
   {
    "duration": 22,
    "start_time": "2022-07-11T12:10:07.055Z"
   },
   {
    "duration": 42,
    "start_time": "2022-07-11T12:10:07.079Z"
   },
   {
    "duration": 35,
    "start_time": "2022-07-11T12:10:07.124Z"
   },
   {
    "duration": 101,
    "start_time": "2022-07-11T12:10:07.161Z"
   },
   {
    "duration": 624,
    "start_time": "2022-07-11T12:10:17.036Z"
   },
   {
    "duration": 1471,
    "start_time": "2022-07-11T12:17:39.631Z"
   },
   {
    "duration": 200,
    "start_time": "2022-07-11T12:17:41.110Z"
   },
   {
    "duration": 105,
    "start_time": "2022-07-11T12:17:41.317Z"
   },
   {
    "duration": 13,
    "start_time": "2022-07-11T12:17:41.425Z"
   },
   {
    "duration": 11,
    "start_time": "2022-07-11T12:17:41.440Z"
   },
   {
    "duration": 11,
    "start_time": "2022-07-11T12:17:41.453Z"
   },
   {
    "duration": 7,
    "start_time": "2022-07-11T12:17:41.466Z"
   },
   {
    "duration": 1352,
    "start_time": "2022-07-11T12:17:41.475Z"
   },
   {
    "duration": 144,
    "start_time": "2022-07-11T12:17:42.830Z"
   },
   {
    "duration": 176,
    "start_time": "2022-07-11T12:17:42.978Z"
   },
   {
    "duration": 140,
    "start_time": "2022-07-11T12:17:43.156Z"
   },
   {
    "duration": 93,
    "start_time": "2022-07-11T12:17:43.300Z"
   },
   {
    "duration": 38,
    "start_time": "2022-07-11T12:17:43.395Z"
   },
   {
    "duration": 8,
    "start_time": "2022-07-11T12:17:43.436Z"
   },
   {
    "duration": 73,
    "start_time": "2022-07-11T12:17:43.446Z"
   },
   {
    "duration": 23,
    "start_time": "2022-07-11T12:17:43.521Z"
   },
   {
    "duration": 195,
    "start_time": "2022-07-11T12:17:43.547Z"
   },
   {
    "duration": 174,
    "start_time": "2022-07-11T12:17:43.745Z"
   },
   {
    "duration": 11,
    "start_time": "2022-07-11T12:17:43.921Z"
   },
   {
    "duration": 68,
    "start_time": "2022-07-11T12:17:43.934Z"
   },
   {
    "duration": 339,
    "start_time": "2022-07-11T12:17:44.005Z"
   },
   {
    "duration": 590,
    "start_time": "2022-07-11T12:17:44.347Z"
   },
   {
    "duration": 18,
    "start_time": "2022-07-11T12:17:44.939Z"
   },
   {
    "duration": 34,
    "start_time": "2022-07-11T12:17:44.959Z"
   },
   {
    "duration": 9,
    "start_time": "2022-07-11T12:17:44.996Z"
   },
   {
    "duration": 26,
    "start_time": "2022-07-11T12:17:45.007Z"
   },
   {
    "duration": 50,
    "start_time": "2022-07-11T12:17:45.036Z"
   },
   {
    "duration": 19,
    "start_time": "2022-07-11T12:17:45.091Z"
   },
   {
    "duration": 90,
    "start_time": "2022-07-11T12:17:45.112Z"
   },
   {
    "duration": 61,
    "start_time": "2022-07-11T12:17:45.204Z"
   },
   {
    "duration": 26,
    "start_time": "2022-07-11T12:17:45.267Z"
   },
   {
    "duration": 227,
    "start_time": "2022-07-11T12:17:45.295Z"
   },
   {
    "duration": 225,
    "start_time": "2022-07-11T12:17:45.524Z"
   },
   {
    "duration": 10,
    "start_time": "2022-07-11T12:17:45.750Z"
   },
   {
    "duration": 41,
    "start_time": "2022-07-11T12:17:45.762Z"
   },
   {
    "duration": 42,
    "start_time": "2022-07-11T12:17:45.805Z"
   },
   {
    "duration": 99,
    "start_time": "2022-07-11T12:17:45.849Z"
   },
   {
    "duration": 51,
    "start_time": "2022-07-11T12:17:45.950Z"
   },
   {
    "duration": 7,
    "start_time": "2022-07-11T12:17:46.003Z"
   },
   {
    "duration": 17,
    "start_time": "2022-07-11T12:17:46.012Z"
   },
   {
    "duration": 9,
    "start_time": "2022-07-11T12:17:46.031Z"
   },
   {
    "duration": 48,
    "start_time": "2022-07-11T12:17:46.042Z"
   },
   {
    "duration": 81,
    "start_time": "2022-07-11T12:17:46.095Z"
   },
   {
    "duration": 49,
    "start_time": "2022-07-11T12:35:37.950Z"
   },
   {
    "duration": 1357,
    "start_time": "2022-07-11T12:35:44.305Z"
   },
   {
    "duration": 522,
    "start_time": "2022-07-11T12:35:45.664Z"
   },
   {
    "duration": 68,
    "start_time": "2022-07-11T12:35:46.187Z"
   },
   {
    "duration": 9,
    "start_time": "2022-07-11T12:35:46.257Z"
   },
   {
    "duration": 8,
    "start_time": "2022-07-11T12:35:46.267Z"
   },
   {
    "duration": 7,
    "start_time": "2022-07-11T12:35:46.277Z"
   },
   {
    "duration": 8,
    "start_time": "2022-07-11T12:35:46.285Z"
   },
   {
    "duration": 928,
    "start_time": "2022-07-11T12:35:46.309Z"
   },
   {
    "duration": 103,
    "start_time": "2022-07-11T12:35:47.238Z"
   },
   {
    "duration": 111,
    "start_time": "2022-07-11T12:35:47.344Z"
   },
   {
    "duration": 101,
    "start_time": "2022-07-11T12:35:47.456Z"
   },
   {
    "duration": 73,
    "start_time": "2022-07-11T12:35:47.559Z"
   },
   {
    "duration": 18,
    "start_time": "2022-07-11T12:35:47.634Z"
   },
   {
    "duration": 6,
    "start_time": "2022-07-11T12:35:47.653Z"
   },
   {
    "duration": 53,
    "start_time": "2022-07-11T12:35:47.660Z"
   },
   {
    "duration": 15,
    "start_time": "2022-07-11T12:35:47.714Z"
   },
   {
    "duration": 124,
    "start_time": "2022-07-11T12:35:47.730Z"
   },
   {
    "duration": 107,
    "start_time": "2022-07-11T12:35:47.856Z"
   },
   {
    "duration": 8,
    "start_time": "2022-07-11T12:35:47.964Z"
   },
   {
    "duration": 50,
    "start_time": "2022-07-11T12:35:47.974Z"
   },
   {
    "duration": 248,
    "start_time": "2022-07-11T12:35:48.025Z"
   },
   {
    "duration": 478,
    "start_time": "2022-07-11T12:35:48.274Z"
   },
   {
    "duration": 16,
    "start_time": "2022-07-11T12:35:48.754Z"
   },
   {
    "duration": 24,
    "start_time": "2022-07-11T12:35:48.772Z"
   },
   {
    "duration": 7,
    "start_time": "2022-07-11T12:35:48.797Z"
   },
   {
    "duration": 31,
    "start_time": "2022-07-11T12:35:48.805Z"
   },
   {
    "duration": 36,
    "start_time": "2022-07-11T12:35:48.837Z"
   },
   {
    "duration": 12,
    "start_time": "2022-07-11T12:35:48.877Z"
   },
   {
    "duration": 54,
    "start_time": "2022-07-11T12:35:48.909Z"
   },
   {
    "duration": 58,
    "start_time": "2022-07-11T12:35:48.965Z"
   },
   {
    "duration": 12,
    "start_time": "2022-07-11T12:35:49.025Z"
   },
   {
    "duration": 197,
    "start_time": "2022-07-11T12:35:49.039Z"
   },
   {
    "duration": 175,
    "start_time": "2022-07-11T12:35:49.238Z"
   },
   {
    "duration": 10,
    "start_time": "2022-07-11T12:35:49.415Z"
   },
   {
    "duration": 25,
    "start_time": "2022-07-11T12:35:49.427Z"
   },
   {
    "duration": 36,
    "start_time": "2022-07-11T12:35:49.454Z"
   },
   {
    "duration": 86,
    "start_time": "2022-07-11T12:35:49.491Z"
   },
   {
    "duration": 46,
    "start_time": "2022-07-11T12:35:49.579Z"
   },
   {
    "duration": 3,
    "start_time": "2022-07-11T12:35:49.627Z"
   },
   {
    "duration": 13,
    "start_time": "2022-07-11T12:35:49.632Z"
   },
   {
    "duration": 7,
    "start_time": "2022-07-11T12:35:49.647Z"
   },
   {
    "duration": 34,
    "start_time": "2022-07-11T12:35:49.656Z"
   },
   {
    "duration": 64,
    "start_time": "2022-07-11T12:35:49.692Z"
   },
   {
    "duration": 58,
    "start_time": "2022-07-11T12:36:13.805Z"
   },
   {
    "duration": 1335,
    "start_time": "2022-07-11T12:40:28.420Z"
   },
   {
    "duration": 60,
    "start_time": "2022-07-11T12:40:42.511Z"
   },
   {
    "duration": 28,
    "start_time": "2022-07-11T12:48:41.216Z"
   },
   {
    "duration": 81,
    "start_time": "2022-07-11T12:49:31.396Z"
   },
   {
    "duration": 55,
    "start_time": "2022-07-11T12:50:19.868Z"
   },
   {
    "duration": 44,
    "start_time": "2022-07-11T12:52:59.669Z"
   },
   {
    "duration": 96,
    "start_time": "2022-07-11T12:59:48.037Z"
   },
   {
    "duration": 61,
    "start_time": "2022-07-11T13:00:59.245Z"
   },
   {
    "duration": 3,
    "start_time": "2022-07-11T13:01:37.533Z"
   },
   {
    "duration": 10,
    "start_time": "2022-07-11T13:03:03.836Z"
   },
   {
    "duration": 11,
    "start_time": "2022-07-11T13:03:19.518Z"
   },
   {
    "duration": 7,
    "start_time": "2022-07-11T13:08:17.087Z"
   },
   {
    "duration": 16,
    "start_time": "2022-07-11T13:11:19.904Z"
   },
   {
    "duration": 13,
    "start_time": "2022-07-11T13:11:23.064Z"
   },
   {
    "duration": 3,
    "start_time": "2022-07-11T13:11:26.377Z"
   },
   {
    "duration": 151,
    "start_time": "2022-07-11T13:11:26.400Z"
   },
   {
    "duration": 58,
    "start_time": "2022-07-11T13:11:26.552Z"
   },
   {
    "duration": 9,
    "start_time": "2022-07-11T13:11:26.612Z"
   },
   {
    "duration": 21,
    "start_time": "2022-07-11T13:11:26.623Z"
   },
   {
    "duration": 24,
    "start_time": "2022-07-11T13:11:26.647Z"
   },
   {
    "duration": 23,
    "start_time": "2022-07-11T13:11:26.673Z"
   },
   {
    "duration": 948,
    "start_time": "2022-07-11T13:11:26.698Z"
   },
   {
    "duration": 76,
    "start_time": "2022-07-11T13:11:27.647Z"
   },
   {
    "duration": 91,
    "start_time": "2022-07-11T13:11:27.725Z"
   },
   {
    "duration": 103,
    "start_time": "2022-07-11T13:11:27.817Z"
   },
   {
    "duration": 70,
    "start_time": "2022-07-11T13:11:27.923Z"
   },
   {
    "duration": 31,
    "start_time": "2022-07-11T13:11:27.995Z"
   },
   {
    "duration": 21,
    "start_time": "2022-07-11T13:11:28.028Z"
   },
   {
    "duration": 51,
    "start_time": "2022-07-11T13:11:28.052Z"
   },
   {
    "duration": 17,
    "start_time": "2022-07-11T13:11:28.104Z"
   },
   {
    "duration": 119,
    "start_time": "2022-07-11T13:11:28.123Z"
   },
   {
    "duration": 103,
    "start_time": "2022-07-11T13:11:28.243Z"
   },
   {
    "duration": 8,
    "start_time": "2022-07-11T13:11:28.347Z"
   },
   {
    "duration": 55,
    "start_time": "2022-07-11T13:11:28.356Z"
   },
   {
    "duration": 252,
    "start_time": "2022-07-11T13:11:28.412Z"
   },
   {
    "duration": 372,
    "start_time": "2022-07-11T13:11:28.666Z"
   },
   {
    "duration": 18,
    "start_time": "2022-07-11T13:11:29.039Z"
   },
   {
    "duration": 6,
    "start_time": "2022-07-11T13:11:29.059Z"
   },
   {
    "duration": 34,
    "start_time": "2022-07-11T13:11:29.066Z"
   },
   {
    "duration": 47,
    "start_time": "2022-07-11T13:11:29.102Z"
   },
   {
    "duration": 31,
    "start_time": "2022-07-11T13:11:29.151Z"
   },
   {
    "duration": 23,
    "start_time": "2022-07-11T13:11:29.184Z"
   },
   {
    "duration": 54,
    "start_time": "2022-07-11T13:11:29.209Z"
   },
   {
    "duration": 36,
    "start_time": "2022-07-11T13:11:29.264Z"
   },
   {
    "duration": 14,
    "start_time": "2022-07-11T13:11:29.301Z"
   },
   {
    "duration": 181,
    "start_time": "2022-07-11T13:11:29.317Z"
   },
   {
    "duration": 55,
    "start_time": "2022-07-11T13:11:29.500Z"
   },
   {
    "duration": 10,
    "start_time": "2022-07-11T13:11:29.557Z"
   },
   {
    "duration": 15,
    "start_time": "2022-07-11T13:11:29.569Z"
   },
   {
    "duration": 61,
    "start_time": "2022-07-11T13:11:29.587Z"
   },
   {
    "duration": 72,
    "start_time": "2022-07-11T13:11:29.650Z"
   },
   {
    "duration": 30,
    "start_time": "2022-07-11T13:11:29.724Z"
   },
   {
    "duration": 9,
    "start_time": "2022-07-11T13:11:29.755Z"
   },
   {
    "duration": 25,
    "start_time": "2022-07-11T13:11:29.766Z"
   },
   {
    "duration": 24,
    "start_time": "2022-07-11T13:11:29.792Z"
   },
   {
    "duration": 31,
    "start_time": "2022-07-11T13:11:29.819Z"
   },
   {
    "duration": 60,
    "start_time": "2022-07-11T13:11:29.851Z"
   },
   {
    "duration": 177,
    "start_time": "2022-07-11T13:11:38.436Z"
   },
   {
    "duration": 10,
    "start_time": "2022-07-11T13:12:37.116Z"
   },
   {
    "duration": 44,
    "start_time": "2022-07-11T13:13:23.292Z"
   },
   {
    "duration": 51,
    "start_time": "2022-07-11T13:14:40.606Z"
   },
   {
    "duration": 49,
    "start_time": "2022-07-11T13:14:47.966Z"
   },
   {
    "duration": 56,
    "start_time": "2022-07-11T13:15:10.365Z"
   },
   {
    "duration": 55,
    "start_time": "2022-07-11T13:15:50.245Z"
   },
   {
    "duration": 1533,
    "start_time": "2022-07-11T16:05:06.224Z"
   },
   {
    "duration": 553,
    "start_time": "2022-07-11T16:05:07.759Z"
   },
   {
    "duration": 66,
    "start_time": "2022-07-11T16:05:08.314Z"
   },
   {
    "duration": 10,
    "start_time": "2022-07-11T16:05:08.383Z"
   },
   {
    "duration": 8,
    "start_time": "2022-07-11T16:05:08.394Z"
   },
   {
    "duration": 4,
    "start_time": "2022-07-11T16:05:08.425Z"
   },
   {
    "duration": 18,
    "start_time": "2022-07-11T16:05:08.431Z"
   },
   {
    "duration": 1014,
    "start_time": "2022-07-11T16:05:08.450Z"
   },
   {
    "duration": 87,
    "start_time": "2022-07-11T16:05:09.466Z"
   },
   {
    "duration": 117,
    "start_time": "2022-07-11T16:05:09.556Z"
   },
   {
    "duration": 111,
    "start_time": "2022-07-11T16:05:09.674Z"
   },
   {
    "duration": 85,
    "start_time": "2022-07-11T16:05:09.787Z"
   },
   {
    "duration": 20,
    "start_time": "2022-07-11T16:05:09.874Z"
   },
   {
    "duration": 32,
    "start_time": "2022-07-11T16:05:09.896Z"
   },
   {
    "duration": 33,
    "start_time": "2022-07-11T16:05:09.930Z"
   },
   {
    "duration": 16,
    "start_time": "2022-07-11T16:05:09.964Z"
   },
   {
    "duration": 157,
    "start_time": "2022-07-11T16:05:09.982Z"
   },
   {
    "duration": 120,
    "start_time": "2022-07-11T16:05:10.141Z"
   },
   {
    "duration": 8,
    "start_time": "2022-07-11T16:05:10.263Z"
   },
   {
    "duration": 57,
    "start_time": "2022-07-11T16:05:10.272Z"
   },
   {
    "duration": 249,
    "start_time": "2022-07-11T16:05:10.342Z"
   },
   {
    "duration": 456,
    "start_time": "2022-07-11T16:05:10.593Z"
   },
   {
    "duration": 17,
    "start_time": "2022-07-11T16:05:11.051Z"
   },
   {
    "duration": 8,
    "start_time": "2022-07-11T16:05:11.070Z"
   },
   {
    "duration": 6,
    "start_time": "2022-07-11T16:05:11.079Z"
   },
   {
    "duration": 67,
    "start_time": "2022-07-11T16:05:11.087Z"
   },
   {
    "duration": 33,
    "start_time": "2022-07-11T16:05:11.156Z"
   },
   {
    "duration": 12,
    "start_time": "2022-07-11T16:05:11.194Z"
   },
   {
    "duration": 54,
    "start_time": "2022-07-11T16:05:11.225Z"
   },
   {
    "duration": 64,
    "start_time": "2022-07-11T16:05:11.280Z"
   },
   {
    "duration": 13,
    "start_time": "2022-07-11T16:05:11.347Z"
   },
   {
    "duration": 214,
    "start_time": "2022-07-11T16:05:11.362Z"
   },
   {
    "duration": 193,
    "start_time": "2022-07-11T16:05:11.577Z"
   },
   {
    "duration": 10,
    "start_time": "2022-07-11T16:05:11.771Z"
   },
   {
    "duration": 173,
    "start_time": "2022-07-11T16:05:11.783Z"
   },
   {
    "duration": 4,
    "start_time": "2022-07-11T16:05:11.958Z"
   },
   {
    "duration": 83,
    "start_time": "2022-07-11T16:05:11.964Z"
   },
   {
    "duration": 190,
    "start_time": "2022-07-11T16:05:12.049Z"
   },
   {
    "duration": 30,
    "start_time": "2022-07-11T16:05:12.241Z"
   },
   {
    "duration": 54,
    "start_time": "2022-07-11T16:05:12.273Z"
   },
   {
    "duration": 26,
    "start_time": "2022-07-11T16:05:12.329Z"
   },
   {
    "duration": 8,
    "start_time": "2022-07-11T16:05:12.357Z"
   },
   {
    "duration": 83,
    "start_time": "2022-07-11T16:05:12.367Z"
   },
   {
    "duration": 76,
    "start_time": "2022-07-11T16:05:12.452Z"
   },
   {
    "duration": 67,
    "start_time": "2022-07-11T16:20:04.488Z"
   },
   {
    "duration": 4,
    "start_time": "2022-07-11T16:20:09.719Z"
   },
   {
    "duration": 170,
    "start_time": "2022-07-11T16:20:09.726Z"
   },
   {
    "duration": 66,
    "start_time": "2022-07-11T16:20:09.898Z"
   },
   {
    "duration": 7,
    "start_time": "2022-07-11T16:20:09.966Z"
   },
   {
    "duration": 11,
    "start_time": "2022-07-11T16:20:09.975Z"
   },
   {
    "duration": 8,
    "start_time": "2022-07-11T16:20:09.987Z"
   },
   {
    "duration": 32,
    "start_time": "2022-07-11T16:20:09.996Z"
   },
   {
    "duration": 922,
    "start_time": "2022-07-11T16:20:10.031Z"
   },
   {
    "duration": 76,
    "start_time": "2022-07-11T16:20:10.955Z"
   },
   {
    "duration": 99,
    "start_time": "2022-07-11T16:20:11.033Z"
   },
   {
    "duration": 98,
    "start_time": "2022-07-11T16:20:11.134Z"
   },
   {
    "duration": 91,
    "start_time": "2022-07-11T16:20:11.234Z"
   },
   {
    "duration": 17,
    "start_time": "2022-07-11T16:20:11.327Z"
   },
   {
    "duration": 8,
    "start_time": "2022-07-11T16:20:11.345Z"
   },
   {
    "duration": 34,
    "start_time": "2022-07-11T16:20:11.355Z"
   },
   {
    "duration": 49,
    "start_time": "2022-07-11T16:20:11.390Z"
   },
   {
    "duration": 115,
    "start_time": "2022-07-11T16:20:11.441Z"
   },
   {
    "duration": 105,
    "start_time": "2022-07-11T16:20:11.558Z"
   },
   {
    "duration": 10,
    "start_time": "2022-07-11T16:20:11.665Z"
   },
   {
    "duration": 75,
    "start_time": "2022-07-11T16:20:11.677Z"
   },
   {
    "duration": 259,
    "start_time": "2022-07-11T16:20:11.754Z"
   },
   {
    "duration": 419,
    "start_time": "2022-07-11T16:20:12.023Z"
   },
   {
    "duration": 18,
    "start_time": "2022-07-11T16:20:12.444Z"
   },
   {
    "duration": 7,
    "start_time": "2022-07-11T16:20:12.464Z"
   },
   {
    "duration": 15,
    "start_time": "2022-07-11T16:20:12.473Z"
   },
   {
    "duration": 52,
    "start_time": "2022-07-11T16:20:12.490Z"
   },
   {
    "duration": 33,
    "start_time": "2022-07-11T16:20:12.544Z"
   },
   {
    "duration": 13,
    "start_time": "2022-07-11T16:20:12.579Z"
   },
   {
    "duration": 67,
    "start_time": "2022-07-11T16:20:12.594Z"
   },
   {
    "duration": 79,
    "start_time": "2022-07-11T16:20:12.662Z"
   },
   {
    "duration": 20,
    "start_time": "2022-07-11T16:20:12.743Z"
   },
   {
    "duration": 183,
    "start_time": "2022-07-11T16:20:12.765Z"
   },
   {
    "duration": 50,
    "start_time": "2022-07-11T16:20:12.950Z"
   },
   {
    "duration": 0,
    "start_time": "2022-07-11T16:20:13.002Z"
   },
   {
    "duration": 0,
    "start_time": "2022-07-11T16:20:13.004Z"
   },
   {
    "duration": 0,
    "start_time": "2022-07-11T16:20:13.005Z"
   },
   {
    "duration": 0,
    "start_time": "2022-07-11T16:20:13.007Z"
   },
   {
    "duration": 0,
    "start_time": "2022-07-11T16:20:13.009Z"
   },
   {
    "duration": 0,
    "start_time": "2022-07-11T16:20:13.011Z"
   },
   {
    "duration": 0,
    "start_time": "2022-07-11T16:20:13.013Z"
   },
   {
    "duration": 0,
    "start_time": "2022-07-11T16:20:13.015Z"
   },
   {
    "duration": 0,
    "start_time": "2022-07-11T16:20:13.016Z"
   },
   {
    "duration": 0,
    "start_time": "2022-07-11T16:20:13.018Z"
   },
   {
    "duration": 0,
    "start_time": "2022-07-11T16:20:13.020Z"
   },
   {
    "duration": 9,
    "start_time": "2022-07-11T16:20:24.490Z"
   },
   {
    "duration": 49,
    "start_time": "2022-07-11T16:20:38.213Z"
   },
   {
    "duration": 50,
    "start_time": "2022-07-11T16:21:23.491Z"
   },
   {
    "duration": 49,
    "start_time": "2022-07-11T16:21:29.441Z"
   },
   {
    "duration": 56,
    "start_time": "2022-07-11T16:21:34.782Z"
   },
   {
    "duration": 51,
    "start_time": "2022-07-11T16:21:42.459Z"
   },
   {
    "duration": 5,
    "start_time": "2022-07-11T16:21:50.721Z"
   },
   {
    "duration": 7,
    "start_time": "2022-07-11T16:25:27.183Z"
   },
   {
    "duration": 8,
    "start_time": "2022-07-11T16:26:05.297Z"
   },
   {
    "duration": 50,
    "start_time": "2022-07-11T16:27:09.067Z"
   },
   {
    "duration": 4,
    "start_time": "2022-07-11T16:31:41.841Z"
   },
   {
    "duration": 52,
    "start_time": "2022-07-11T16:34:00.491Z"
   },
   {
    "duration": 49,
    "start_time": "2022-07-11T16:34:15.101Z"
   },
   {
    "duration": 59,
    "start_time": "2022-07-11T16:34:22.063Z"
   },
   {
    "duration": 49,
    "start_time": "2022-07-11T16:34:35.932Z"
   },
   {
    "duration": 42,
    "start_time": "2022-07-11T16:41:56.803Z"
   },
   {
    "duration": 36,
    "start_time": "2022-07-11T16:42:05.772Z"
   },
   {
    "duration": 44,
    "start_time": "2022-07-11T16:48:10.782Z"
   },
   {
    "duration": 4,
    "start_time": "2022-07-11T16:48:18.868Z"
   },
   {
    "duration": 24,
    "start_time": "2022-07-11T16:48:25.935Z"
   },
   {
    "duration": 15,
    "start_time": "2022-07-11T16:49:57.835Z"
   },
   {
    "duration": 65,
    "start_time": "2022-07-11T16:51:48.262Z"
   },
   {
    "duration": 92,
    "start_time": "2022-07-11T16:52:00.002Z"
   },
   {
    "duration": 13,
    "start_time": "2022-07-11T16:52:58.064Z"
   },
   {
    "duration": 14,
    "start_time": "2022-07-11T16:53:22.366Z"
   },
   {
    "duration": 21,
    "start_time": "2022-07-11T16:53:42.923Z"
   },
   {
    "duration": 15,
    "start_time": "2022-07-11T16:54:42.393Z"
   },
   {
    "duration": 128,
    "start_time": "2022-07-11T16:56:27.892Z"
   },
   {
    "duration": 15,
    "start_time": "2022-07-11T16:57:26.685Z"
   },
   {
    "duration": 14,
    "start_time": "2022-07-11T16:58:12.191Z"
   },
   {
    "duration": 50,
    "start_time": "2022-07-11T16:59:44.172Z"
   },
   {
    "duration": 49,
    "start_time": "2022-07-11T17:01:08.170Z"
   },
   {
    "duration": 1169,
    "start_time": "2022-07-11T21:16:26.616Z"
   },
   {
    "duration": 174,
    "start_time": "2022-07-11T21:16:27.788Z"
   },
   {
    "duration": 53,
    "start_time": "2022-07-11T21:16:27.968Z"
   },
   {
    "duration": 8,
    "start_time": "2022-07-11T21:16:28.023Z"
   },
   {
    "duration": 39,
    "start_time": "2022-07-11T21:16:28.032Z"
   },
   {
    "duration": 15,
    "start_time": "2022-07-11T21:16:28.073Z"
   },
   {
    "duration": 18,
    "start_time": "2022-07-11T21:16:28.090Z"
   },
   {
    "duration": 919,
    "start_time": "2022-07-11T21:16:28.109Z"
   },
   {
    "duration": 80,
    "start_time": "2022-07-11T21:16:29.030Z"
   },
   {
    "duration": 119,
    "start_time": "2022-07-11T21:16:29.113Z"
   },
   {
    "duration": 99,
    "start_time": "2022-07-11T21:16:29.234Z"
   },
   {
    "duration": 71,
    "start_time": "2022-07-11T21:16:29.334Z"
   },
   {
    "duration": 17,
    "start_time": "2022-07-11T21:16:29.406Z"
   },
   {
    "duration": 37,
    "start_time": "2022-07-11T21:16:29.425Z"
   },
   {
    "duration": 37,
    "start_time": "2022-07-11T21:16:29.464Z"
   },
   {
    "duration": 13,
    "start_time": "2022-07-11T21:16:29.503Z"
   },
   {
    "duration": 124,
    "start_time": "2022-07-11T21:16:29.517Z"
   },
   {
    "duration": 114,
    "start_time": "2022-07-11T21:16:29.645Z"
   },
   {
    "duration": 9,
    "start_time": "2022-07-11T21:16:29.762Z"
   },
   {
    "duration": 49,
    "start_time": "2022-07-11T21:16:29.773Z"
   },
   {
    "duration": 277,
    "start_time": "2022-07-11T21:16:29.824Z"
   },
   {
    "duration": 469,
    "start_time": "2022-07-11T21:16:30.103Z"
   },
   {
    "duration": 16,
    "start_time": "2022-07-11T21:16:30.574Z"
   },
   {
    "duration": 26,
    "start_time": "2022-07-11T21:16:30.593Z"
   },
   {
    "duration": 40,
    "start_time": "2022-07-11T21:16:30.621Z"
   },
   {
    "duration": 40,
    "start_time": "2022-07-11T21:16:30.664Z"
   },
   {
    "duration": 29,
    "start_time": "2022-07-11T21:16:30.706Z"
   },
   {
    "duration": 45,
    "start_time": "2022-07-11T21:16:30.739Z"
   },
   {
    "duration": 64,
    "start_time": "2022-07-11T21:16:30.786Z"
   },
   {
    "duration": 59,
    "start_time": "2022-07-11T21:16:30.852Z"
   },
   {
    "duration": 13,
    "start_time": "2022-07-11T21:16:30.913Z"
   },
   {
    "duration": 236,
    "start_time": "2022-07-11T21:16:30.928Z"
   },
   {
    "duration": 66,
    "start_time": "2022-07-11T21:16:31.167Z"
   },
   {
    "duration": 13,
    "start_time": "2022-07-11T21:16:31.246Z"
   },
   {
    "duration": 133,
    "start_time": "2022-07-11T21:16:31.261Z"
   },
   {
    "duration": 12,
    "start_time": "2022-07-11T21:16:31.396Z"
   },
   {
    "duration": 317,
    "start_time": "2022-07-11T21:16:31.410Z"
   },
   {
    "duration": 5,
    "start_time": "2022-07-11T21:16:31.730Z"
   },
   {
    "duration": 120,
    "start_time": "2022-07-11T21:16:31.736Z"
   },
   {
    "duration": 101,
    "start_time": "2022-07-11T21:16:31.857Z"
   },
   {
    "duration": 31,
    "start_time": "2022-07-11T21:16:31.960Z"
   },
   {
    "duration": 3,
    "start_time": "2022-07-11T21:16:31.993Z"
   },
   {
    "duration": 17,
    "start_time": "2022-07-11T21:16:31.998Z"
   },
   {
    "duration": 22,
    "start_time": "2022-07-11T21:16:32.016Z"
   },
   {
    "duration": 56,
    "start_time": "2022-07-11T21:16:32.040Z"
   },
   {
    "duration": 77,
    "start_time": "2022-07-11T21:16:32.097Z"
   },
   {
    "duration": 57,
    "start_time": "2022-07-12T08:27:43.610Z"
   },
   {
    "duration": 1417,
    "start_time": "2022-07-12T08:27:47.137Z"
   },
   {
    "duration": 670,
    "start_time": "2022-07-12T08:27:48.556Z"
   },
   {
    "duration": 55,
    "start_time": "2022-07-12T08:27:49.228Z"
   },
   {
    "duration": 9,
    "start_time": "2022-07-12T08:27:49.286Z"
   },
   {
    "duration": 14,
    "start_time": "2022-07-12T08:27:49.297Z"
   },
   {
    "duration": 12,
    "start_time": "2022-07-12T08:27:49.313Z"
   },
   {
    "duration": 9,
    "start_time": "2022-07-12T08:27:49.326Z"
   },
   {
    "duration": 997,
    "start_time": "2022-07-12T08:27:49.336Z"
   },
   {
    "duration": 104,
    "start_time": "2022-07-12T08:27:50.335Z"
   },
   {
    "duration": 135,
    "start_time": "2022-07-12T08:27:50.443Z"
   },
   {
    "duration": 114,
    "start_time": "2022-07-12T08:27:50.580Z"
   },
   {
    "duration": 77,
    "start_time": "2022-07-12T08:27:50.703Z"
   },
   {
    "duration": 34,
    "start_time": "2022-07-12T08:27:50.782Z"
   },
   {
    "duration": 7,
    "start_time": "2022-07-12T08:27:50.818Z"
   },
   {
    "duration": 31,
    "start_time": "2022-07-12T08:27:50.827Z"
   },
   {
    "duration": 55,
    "start_time": "2022-07-12T08:27:50.859Z"
   },
   {
    "duration": 132,
    "start_time": "2022-07-12T08:27:50.916Z"
   },
   {
    "duration": 127,
    "start_time": "2022-07-12T08:27:51.050Z"
   },
   {
    "duration": 10,
    "start_time": "2022-07-12T08:27:51.179Z"
   },
   {
    "duration": 43,
    "start_time": "2022-07-12T08:27:51.191Z"
   },
   {
    "duration": 304,
    "start_time": "2022-07-12T08:27:51.236Z"
   },
   {
    "duration": 479,
    "start_time": "2022-07-12T08:27:51.543Z"
   },
   {
    "duration": 18,
    "start_time": "2022-07-12T08:27:52.024Z"
   },
   {
    "duration": 5,
    "start_time": "2022-07-12T08:27:52.043Z"
   },
   {
    "duration": 10,
    "start_time": "2022-07-12T08:27:52.049Z"
   },
   {
    "duration": 56,
    "start_time": "2022-07-12T08:27:52.061Z"
   },
   {
    "duration": 35,
    "start_time": "2022-07-12T08:27:52.120Z"
   },
   {
    "duration": 16,
    "start_time": "2022-07-12T08:27:52.158Z"
   },
   {
    "duration": 69,
    "start_time": "2022-07-12T08:27:52.176Z"
   },
   {
    "duration": 62,
    "start_time": "2022-07-12T08:27:52.247Z"
   },
   {
    "duration": 15,
    "start_time": "2022-07-12T08:27:52.310Z"
   },
   {
    "duration": 221,
    "start_time": "2022-07-12T08:27:52.326Z"
   },
   {
    "duration": 81,
    "start_time": "2022-07-12T08:27:52.549Z"
   },
   {
    "duration": 7,
    "start_time": "2022-07-12T08:27:52.631Z"
   },
   {
    "duration": 142,
    "start_time": "2022-07-12T08:27:52.640Z"
   },
   {
    "duration": 11,
    "start_time": "2022-07-12T08:27:52.784Z"
   },
   {
    "duration": 127,
    "start_time": "2022-07-12T08:27:52.804Z"
   },
   {
    "duration": 4,
    "start_time": "2022-07-12T08:27:52.933Z"
   },
   {
    "duration": 77,
    "start_time": "2022-07-12T08:27:52.939Z"
   },
   {
    "duration": 125,
    "start_time": "2022-07-12T08:27:53.018Z"
   },
   {
    "duration": 75,
    "start_time": "2022-07-12T08:27:53.145Z"
   },
   {
    "duration": 4,
    "start_time": "2022-07-12T08:27:53.222Z"
   },
   {
    "duration": 16,
    "start_time": "2022-07-12T08:27:53.227Z"
   },
   {
    "duration": 6,
    "start_time": "2022-07-12T08:27:53.245Z"
   },
   {
    "duration": 56,
    "start_time": "2022-07-12T08:27:53.252Z"
   },
   {
    "duration": 1550,
    "start_time": "2022-07-12T08:27:53.310Z"
   },
   {
    "duration": 0,
    "start_time": "2022-07-12T08:27:54.862Z"
   },
   {
    "duration": 27,
    "start_time": "2022-07-12T08:28:33.778Z"
   },
   {
    "duration": 33,
    "start_time": "2022-07-12T08:28:44.818Z"
   },
   {
    "duration": 1334,
    "start_time": "2022-07-12T08:28:54.809Z"
   },
   {
    "duration": 32,
    "start_time": "2022-07-12T08:42:46.035Z"
   },
   {
    "duration": 1265,
    "start_time": "2022-07-12T08:43:16.857Z"
   },
   {
    "duration": 3,
    "start_time": "2022-07-12T08:44:19.857Z"
   },
   {
    "duration": 13,
    "start_time": "2022-07-12T08:44:22.182Z"
   },
   {
    "duration": 4,
    "start_time": "2022-07-12T08:44:33.835Z"
   },
   {
    "duration": 1360,
    "start_time": "2022-07-12T08:44:51.342Z"
   },
   {
    "duration": 5,
    "start_time": "2022-07-12T08:44:56.164Z"
   },
   {
    "duration": 156,
    "start_time": "2022-07-12T08:44:56.191Z"
   },
   {
    "duration": 70,
    "start_time": "2022-07-12T08:44:56.349Z"
   },
   {
    "duration": 8,
    "start_time": "2022-07-12T08:44:56.421Z"
   },
   {
    "duration": 17,
    "start_time": "2022-07-12T08:44:56.431Z"
   },
   {
    "duration": 8,
    "start_time": "2022-07-12T08:44:56.451Z"
   },
   {
    "duration": 6,
    "start_time": "2022-07-12T08:44:56.461Z"
   },
   {
    "duration": 1052,
    "start_time": "2022-07-12T08:44:56.469Z"
   },
   {
    "duration": 86,
    "start_time": "2022-07-12T08:44:57.523Z"
   },
   {
    "duration": 111,
    "start_time": "2022-07-12T08:44:57.611Z"
   },
   {
    "duration": 109,
    "start_time": "2022-07-12T08:44:57.724Z"
   },
   {
    "duration": 81,
    "start_time": "2022-07-12T08:44:57.835Z"
   },
   {
    "duration": 21,
    "start_time": "2022-07-12T08:44:57.917Z"
   },
   {
    "duration": 6,
    "start_time": "2022-07-12T08:44:57.940Z"
   },
   {
    "duration": 56,
    "start_time": "2022-07-12T08:44:57.949Z"
   },
   {
    "duration": 18,
    "start_time": "2022-07-12T08:44:58.007Z"
   },
   {
    "duration": 130,
    "start_time": "2022-07-12T08:44:58.026Z"
   },
   {
    "duration": 119,
    "start_time": "2022-07-12T08:44:58.158Z"
   },
   {
    "duration": 27,
    "start_time": "2022-07-12T08:44:58.280Z"
   },
   {
    "duration": 33,
    "start_time": "2022-07-12T08:44:58.309Z"
   },
   {
    "duration": 279,
    "start_time": "2022-07-12T08:44:58.344Z"
   },
   {
    "duration": 414,
    "start_time": "2022-07-12T08:44:58.625Z"
   },
   {
    "duration": 21,
    "start_time": "2022-07-12T08:44:59.041Z"
   },
   {
    "duration": 29,
    "start_time": "2022-07-12T08:44:59.065Z"
   },
   {
    "duration": 30,
    "start_time": "2022-07-12T08:44:59.096Z"
   },
   {
    "duration": 34,
    "start_time": "2022-07-12T08:44:59.128Z"
   },
   {
    "duration": 31,
    "start_time": "2022-07-12T08:44:59.165Z"
   },
   {
    "duration": 18,
    "start_time": "2022-07-12T08:44:59.199Z"
   },
   {
    "duration": 45,
    "start_time": "2022-07-12T08:44:59.219Z"
   },
   {
    "duration": 72,
    "start_time": "2022-07-12T08:44:59.266Z"
   },
   {
    "duration": 17,
    "start_time": "2022-07-12T08:44:59.340Z"
   },
   {
    "duration": 223,
    "start_time": "2022-07-12T08:44:59.359Z"
   },
   {
    "duration": 71,
    "start_time": "2022-07-12T08:44:59.584Z"
   },
   {
    "duration": 5,
    "start_time": "2022-07-12T08:44:59.657Z"
   },
   {
    "duration": 12,
    "start_time": "2022-07-12T08:44:59.664Z"
   },
   {
    "duration": 34,
    "start_time": "2022-07-12T08:44:59.677Z"
   },
   {
    "duration": 13,
    "start_time": "2022-07-12T08:44:59.712Z"
   },
   {
    "duration": 4,
    "start_time": "2022-07-12T08:44:59.727Z"
   },
   {
    "duration": 72,
    "start_time": "2022-07-12T08:44:59.733Z"
   },
   {
    "duration": 80,
    "start_time": "2022-07-12T08:44:59.807Z"
   },
   {
    "duration": 51,
    "start_time": "2022-07-12T08:44:59.888Z"
   },
   {
    "duration": 4,
    "start_time": "2022-07-12T08:44:59.943Z"
   },
   {
    "duration": 22,
    "start_time": "2022-07-12T08:44:59.949Z"
   },
   {
    "duration": 8,
    "start_time": "2022-07-12T08:44:59.972Z"
   },
   {
    "duration": 54,
    "start_time": "2022-07-12T08:44:59.982Z"
   },
   {
    "duration": 59,
    "start_time": "2022-07-12T08:45:00.038Z"
   },
   {
    "duration": 68,
    "start_time": "2022-07-12T08:45:00.105Z"
   },
   {
    "duration": 1689,
    "start_time": "2022-07-12T08:45:00.176Z"
   },
   {
    "duration": 1747,
    "start_time": "2022-07-12T08:46:05.513Z"
   },
   {
    "duration": 30,
    "start_time": "2022-07-12T08:46:14.090Z"
   },
   {
    "duration": 30,
    "start_time": "2022-07-12T08:46:27.155Z"
   },
   {
    "duration": 26,
    "start_time": "2022-07-12T08:46:37.819Z"
   },
   {
    "duration": 1316,
    "start_time": "2022-07-12T08:47:15.114Z"
   },
   {
    "duration": 1167,
    "start_time": "2022-07-12T08:49:22.940Z"
   },
   {
    "duration": 161,
    "start_time": "2022-07-12T08:49:24.109Z"
   },
   {
    "duration": 77,
    "start_time": "2022-07-12T08:49:24.272Z"
   },
   {
    "duration": 10,
    "start_time": "2022-07-12T08:49:24.351Z"
   },
   {
    "duration": 9,
    "start_time": "2022-07-12T08:49:24.362Z"
   },
   {
    "duration": 6,
    "start_time": "2022-07-12T08:49:24.372Z"
   },
   {
    "duration": 25,
    "start_time": "2022-07-12T08:49:24.380Z"
   },
   {
    "duration": 1008,
    "start_time": "2022-07-12T08:49:24.406Z"
   },
   {
    "duration": 90,
    "start_time": "2022-07-12T08:49:25.416Z"
   },
   {
    "duration": 120,
    "start_time": "2022-07-12T08:49:25.509Z"
   },
   {
    "duration": 100,
    "start_time": "2022-07-12T08:49:25.631Z"
   },
   {
    "duration": 79,
    "start_time": "2022-07-12T08:49:25.733Z"
   },
   {
    "duration": 18,
    "start_time": "2022-07-12T08:49:25.814Z"
   },
   {
    "duration": 38,
    "start_time": "2022-07-12T08:49:25.834Z"
   },
   {
    "duration": 56,
    "start_time": "2022-07-12T08:49:25.874Z"
   },
   {
    "duration": 23,
    "start_time": "2022-07-12T08:49:25.932Z"
   },
   {
    "duration": 124,
    "start_time": "2022-07-12T08:49:25.957Z"
   },
   {
    "duration": 131,
    "start_time": "2022-07-12T08:49:26.083Z"
   },
   {
    "duration": 8,
    "start_time": "2022-07-12T08:49:26.216Z"
   },
   {
    "duration": 40,
    "start_time": "2022-07-12T08:49:26.226Z"
   },
   {
    "duration": 277,
    "start_time": "2022-07-12T08:49:26.268Z"
   },
   {
    "duration": 534,
    "start_time": "2022-07-12T08:49:26.553Z"
   },
   {
    "duration": 25,
    "start_time": "2022-07-12T08:49:27.089Z"
   },
   {
    "duration": 7,
    "start_time": "2022-07-12T08:49:27.116Z"
   },
   {
    "duration": 7,
    "start_time": "2022-07-12T08:49:27.126Z"
   },
   {
    "duration": 26,
    "start_time": "2022-07-12T08:49:27.136Z"
   },
   {
    "duration": 58,
    "start_time": "2022-07-12T08:49:27.165Z"
   },
   {
    "duration": 18,
    "start_time": "2022-07-12T08:49:27.226Z"
   },
   {
    "duration": 85,
    "start_time": "2022-07-12T08:49:27.246Z"
   },
   {
    "duration": 54,
    "start_time": "2022-07-12T08:49:27.334Z"
   },
   {
    "duration": 28,
    "start_time": "2022-07-12T08:49:27.390Z"
   },
   {
    "duration": 229,
    "start_time": "2022-07-12T08:49:27.420Z"
   },
   {
    "duration": 77,
    "start_time": "2022-07-12T08:49:27.651Z"
   },
   {
    "duration": 7,
    "start_time": "2022-07-12T08:49:27.730Z"
   },
   {
    "duration": 153,
    "start_time": "2022-07-12T08:49:27.739Z"
   },
   {
    "duration": 21,
    "start_time": "2022-07-12T08:49:27.893Z"
   },
   {
    "duration": 140,
    "start_time": "2022-07-12T08:49:27.917Z"
   },
   {
    "duration": 4,
    "start_time": "2022-07-12T08:49:28.061Z"
   },
   {
    "duration": 73,
    "start_time": "2022-07-12T08:49:28.067Z"
   },
   {
    "duration": 193,
    "start_time": "2022-07-12T08:49:28.142Z"
   },
   {
    "duration": 38,
    "start_time": "2022-07-12T08:49:28.337Z"
   },
   {
    "duration": 5,
    "start_time": "2022-07-12T08:49:28.403Z"
   },
   {
    "duration": 20,
    "start_time": "2022-07-12T08:49:28.410Z"
   },
   {
    "duration": 12,
    "start_time": "2022-07-12T08:49:28.432Z"
   },
   {
    "duration": 62,
    "start_time": "2022-07-12T08:49:28.445Z"
   },
   {
    "duration": 1391,
    "start_time": "2022-07-12T08:49:28.509Z"
   },
   {
    "duration": 1,
    "start_time": "2022-07-12T08:49:29.901Z"
   },
   {
    "duration": 0,
    "start_time": "2022-07-12T08:49:29.903Z"
   },
   {
    "duration": 4,
    "start_time": "2022-07-12T08:50:35.878Z"
   },
   {
    "duration": 176,
    "start_time": "2022-07-12T08:50:35.885Z"
   },
   {
    "duration": 71,
    "start_time": "2022-07-12T08:50:36.063Z"
   },
   {
    "duration": 9,
    "start_time": "2022-07-12T08:50:36.138Z"
   },
   {
    "duration": 10,
    "start_time": "2022-07-12T08:50:36.149Z"
   },
   {
    "duration": 7,
    "start_time": "2022-07-12T08:50:36.161Z"
   },
   {
    "duration": 36,
    "start_time": "2022-07-12T08:50:36.170Z"
   },
   {
    "duration": 1125,
    "start_time": "2022-07-12T08:50:36.208Z"
   },
   {
    "duration": 95,
    "start_time": "2022-07-12T08:50:37.335Z"
   },
   {
    "duration": 116,
    "start_time": "2022-07-12T08:50:37.435Z"
   },
   {
    "duration": 116,
    "start_time": "2022-07-12T08:50:37.553Z"
   },
   {
    "duration": 84,
    "start_time": "2022-07-12T08:50:37.671Z"
   },
   {
    "duration": 21,
    "start_time": "2022-07-12T08:50:37.758Z"
   },
   {
    "duration": 28,
    "start_time": "2022-07-12T08:50:37.781Z"
   },
   {
    "duration": 37,
    "start_time": "2022-07-12T08:50:37.812Z"
   },
   {
    "duration": 19,
    "start_time": "2022-07-12T08:50:37.851Z"
   },
   {
    "duration": 152,
    "start_time": "2022-07-12T08:50:37.872Z"
   },
   {
    "duration": 129,
    "start_time": "2022-07-12T08:50:38.025Z"
   },
   {
    "duration": 11,
    "start_time": "2022-07-12T08:50:38.156Z"
   },
   {
    "duration": 55,
    "start_time": "2022-07-12T08:50:38.170Z"
   },
   {
    "duration": 292,
    "start_time": "2022-07-12T08:50:38.227Z"
   },
   {
    "duration": 422,
    "start_time": "2022-07-12T08:50:38.522Z"
   },
   {
    "duration": 17,
    "start_time": "2022-07-12T08:50:38.946Z"
   },
   {
    "duration": 4,
    "start_time": "2022-07-12T08:50:38.965Z"
   },
   {
    "duration": 8,
    "start_time": "2022-07-12T08:50:38.971Z"
   },
   {
    "duration": 26,
    "start_time": "2022-07-12T08:50:39.005Z"
   },
   {
    "duration": 29,
    "start_time": "2022-07-12T08:50:39.032Z"
   },
   {
    "duration": 43,
    "start_time": "2022-07-12T08:50:39.064Z"
   },
   {
    "duration": 40,
    "start_time": "2022-07-12T08:50:39.109Z"
   },
   {
    "duration": 59,
    "start_time": "2022-07-12T08:50:39.150Z"
   },
   {
    "duration": 13,
    "start_time": "2022-07-12T08:50:39.211Z"
   },
   {
    "duration": 209,
    "start_time": "2022-07-12T08:50:39.226Z"
   },
   {
    "duration": 68,
    "start_time": "2022-07-12T08:50:39.437Z"
   },
   {
    "duration": 5,
    "start_time": "2022-07-12T08:50:39.507Z"
   },
   {
    "duration": 8,
    "start_time": "2022-07-12T08:50:39.513Z"
   },
   {
    "duration": 14,
    "start_time": "2022-07-12T08:50:39.522Z"
   },
   {
    "duration": 10,
    "start_time": "2022-07-12T08:50:39.537Z"
   },
   {
    "duration": 4,
    "start_time": "2022-07-12T08:50:39.549Z"
   },
   {
    "duration": 74,
    "start_time": "2022-07-12T08:50:39.554Z"
   },
   {
    "duration": 89,
    "start_time": "2022-07-12T08:50:39.629Z"
   },
   {
    "duration": 33,
    "start_time": "2022-07-12T08:50:39.720Z"
   },
   {
    "duration": 11,
    "start_time": "2022-07-12T08:50:39.754Z"
   },
   {
    "duration": 59,
    "start_time": "2022-07-12T08:50:39.767Z"
   },
   {
    "duration": 33,
    "start_time": "2022-07-12T08:50:39.828Z"
   },
   {
    "duration": 40,
    "start_time": "2022-07-12T08:50:39.863Z"
   },
   {
    "duration": 1404,
    "start_time": "2022-07-12T08:50:39.906Z"
   },
   {
    "duration": 0,
    "start_time": "2022-07-12T08:50:41.312Z"
   },
   {
    "duration": 0,
    "start_time": "2022-07-12T08:50:41.313Z"
   },
   {
    "duration": 31,
    "start_time": "2022-07-12T08:51:40.667Z"
   },
   {
    "duration": 40,
    "start_time": "2022-07-12T08:51:46.601Z"
   },
   {
    "duration": 36,
    "start_time": "2022-07-12T08:51:53.966Z"
   },
   {
    "duration": 1391,
    "start_time": "2022-07-12T08:52:03.719Z"
   },
   {
    "duration": 76,
    "start_time": "2022-07-12T08:54:00.013Z"
   },
   {
    "duration": 16,
    "start_time": "2022-07-12T08:55:01.244Z"
   },
   {
    "duration": 3,
    "start_time": "2022-07-12T08:55:11.340Z"
   },
   {
    "duration": 5,
    "start_time": "2022-07-12T08:55:28.498Z"
   },
   {
    "duration": 163,
    "start_time": "2022-07-12T08:55:28.508Z"
   },
   {
    "duration": 76,
    "start_time": "2022-07-12T08:55:28.674Z"
   },
   {
    "duration": 9,
    "start_time": "2022-07-12T08:55:28.752Z"
   },
   {
    "duration": 12,
    "start_time": "2022-07-12T08:55:28.763Z"
   },
   {
    "duration": 29,
    "start_time": "2022-07-12T08:55:28.778Z"
   },
   {
    "duration": 9,
    "start_time": "2022-07-12T08:55:28.808Z"
   },
   {
    "duration": 1023,
    "start_time": "2022-07-12T08:55:28.819Z"
   },
   {
    "duration": 92,
    "start_time": "2022-07-12T08:55:29.844Z"
   },
   {
    "duration": 115,
    "start_time": "2022-07-12T08:55:29.938Z"
   },
   {
    "duration": 120,
    "start_time": "2022-07-12T08:55:30.056Z"
   },
   {
    "duration": 81,
    "start_time": "2022-07-12T08:55:30.178Z"
   },
   {
    "duration": 17,
    "start_time": "2022-07-12T08:55:30.261Z"
   },
   {
    "duration": 28,
    "start_time": "2022-07-12T08:55:30.280Z"
   },
   {
    "duration": 33,
    "start_time": "2022-07-12T08:55:30.311Z"
   },
   {
    "duration": 16,
    "start_time": "2022-07-12T08:55:30.346Z"
   },
   {
    "duration": 138,
    "start_time": "2022-07-12T08:55:30.364Z"
   },
   {
    "duration": 208,
    "start_time": "2022-07-12T08:55:30.504Z"
   },
   {
    "duration": 8,
    "start_time": "2022-07-12T08:55:30.714Z"
   },
   {
    "duration": 61,
    "start_time": "2022-07-12T08:55:30.724Z"
   },
   {
    "duration": 270,
    "start_time": "2022-07-12T08:55:30.786Z"
   },
   {
    "duration": 385,
    "start_time": "2022-07-12T08:55:31.058Z"
   },
   {
    "duration": 18,
    "start_time": "2022-07-12T08:55:31.444Z"
   },
   {
    "duration": 4,
    "start_time": "2022-07-12T08:55:31.463Z"
   },
   {
    "duration": 15,
    "start_time": "2022-07-12T08:55:31.469Z"
   },
   {
    "duration": 43,
    "start_time": "2022-07-12T08:55:31.486Z"
   },
   {
    "duration": 32,
    "start_time": "2022-07-12T08:55:31.530Z"
   },
   {
    "duration": 43,
    "start_time": "2022-07-12T08:55:31.564Z"
   },
   {
    "duration": 40,
    "start_time": "2022-07-12T08:55:31.609Z"
   },
   {
    "duration": 63,
    "start_time": "2022-07-12T08:55:31.651Z"
   },
   {
    "duration": 14,
    "start_time": "2022-07-12T08:55:31.715Z"
   },
   {
    "duration": 209,
    "start_time": "2022-07-12T08:55:31.730Z"
   },
   {
    "duration": 66,
    "start_time": "2022-07-12T08:55:31.941Z"
   },
   {
    "duration": 5,
    "start_time": "2022-07-12T08:55:32.009Z"
   },
   {
    "duration": 9,
    "start_time": "2022-07-12T08:55:32.016Z"
   },
   {
    "duration": 15,
    "start_time": "2022-07-12T08:55:32.027Z"
   },
   {
    "duration": 13,
    "start_time": "2022-07-12T08:55:32.044Z"
   },
   {
    "duration": 6,
    "start_time": "2022-07-12T08:55:32.059Z"
   },
   {
    "duration": 64,
    "start_time": "2022-07-12T08:55:32.066Z"
   },
   {
    "duration": 90,
    "start_time": "2022-07-12T08:55:32.132Z"
   },
   {
    "duration": 31,
    "start_time": "2022-07-12T08:55:32.224Z"
   },
   {
    "duration": 3,
    "start_time": "2022-07-12T08:55:32.259Z"
   },
   {
    "duration": 13,
    "start_time": "2022-07-12T08:55:32.264Z"
   },
   {
    "duration": 26,
    "start_time": "2022-07-12T08:55:32.279Z"
   },
   {
    "duration": 31,
    "start_time": "2022-07-12T08:55:32.308Z"
   },
   {
    "duration": 97,
    "start_time": "2022-07-12T08:55:32.341Z"
   },
   {
    "duration": 82,
    "start_time": "2022-07-12T08:58:04.499Z"
   },
   {
    "duration": 86,
    "start_time": "2022-07-12T08:58:11.457Z"
   }
  ],
  "kernelspec": {
   "display_name": "Python 3 (ipykernel)",
   "language": "python",
   "name": "python3"
  },
  "language_info": {
   "codemirror_mode": {
    "name": "ipython",
    "version": 3
   },
   "file_extension": ".py",
   "mimetype": "text/x-python",
   "name": "python",
   "nbconvert_exporter": "python",
   "pygments_lexer": "ipython3",
   "version": "3.9.12"
  },
  "toc": {
   "base_numbering": 1,
   "nav_menu": {},
   "number_sections": true,
   "sideBar": true,
   "skip_h1_title": true,
   "title_cell": "Table of Contents",
   "title_sidebar": "Contents",
   "toc_cell": false,
   "toc_position": {
    "height": "calc(100% - 180px)",
    "left": "10px",
    "top": "150px",
    "width": "278.395px"
   },
   "toc_section_display": true,
   "toc_window_display": true
  }
 },
 "nbformat": 4,
 "nbformat_minor": 2
}
