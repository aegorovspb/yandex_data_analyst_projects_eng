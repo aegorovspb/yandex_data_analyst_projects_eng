{
 "cells": [
  {
   "cell_type": "markdown",
   "id": "3f3e3ced",
   "metadata": {},
   "source": [
    "# Project: a study of the reliability of borrowers.\n",
    "\n",
    "Project description:\n",
    "The customer is the credit department of the bank. It is necessary to understand whether the marital status and the number of children of the client affect the fact of repayment of the loan on time. Input data from the bank — statistics on the solvency of customers.\n",
    "The results of the study will be taken into account when building a credit scoring model — a special system that evaluates the ability of a potential borrower to repay a loan to a bank.\n",
    "\n",
    "**The main goal of the project:** find the factors that affect the repayment of bank loans on time. During the implementation of the project, it is necessary to find out whether such factors as: marital status, number of children, income level have an impact on the repayment of the loan.\n"
   ]
  },
  {
   "cell_type": "markdown",
   "id": "c044d36d",
   "metadata": {},
   "source": [
    "**Project structure:**\n",
    "    \n",
    "1. Data overview\n",
    "2. Filling in the gaps\n",
    "3. Checking data for anomalies and correcting them\n",
    "4. Formation of additional dictionary dataframes, decomposition of the original dataframe\n",
    "5. Income categorization\n",
    "6. Categorization of loan objectives\n",
    "7. Conclusions. Answers to questions"
   ]
  },
  {
   "cell_type": "markdown",
   "id": "1372dae6",
   "metadata": {},
   "source": [
    "**Data description**\n",
    "\n",
    "children — the number of children in the family\n",
    "\n",
    "days_employed — total work experience in days\n",
    "\n",
    "dob_years — client's age in years\n",
    "\n",
    "education — the level of education of the client\n",
    "\n",
    "education_id — identifier of the level of education\n",
    "\n",
    "family_status — marital status\n",
    "\n",
    "family_status_id — id of marital status\n",
    "\n",
    "gender — the gender of the client\n",
    "\n",
    "income_type — type of employment\n",
    "\n",
    "debt — whether there was a debt on repayment of loans\n",
    "\n",
    "total_income — monthly income\n",
    "\n",
    "purpose — the purpose of obtaining a loan"
   ]
  },
  {
   "cell_type": "markdown",
   "id": "3a54c552",
   "metadata": {},
   "source": [
    "### 1. Data overview"
   ]
  },
  {
   "cell_type": "code",
   "execution_count": 1,
   "id": "c1341e0f",
   "metadata": {},
   "outputs": [],
   "source": [
    "# loading libraries\n",
    "#\n",
    "# working with tables and tabular data\n",
    "import pandas as pd\n",
    "\n",
    "# getting the name of the file\n",
    "import os"
   ]
  },
  {
   "cell_type": "code",
   "execution_count": 2,
   "id": "73ce2c7b",
   "metadata": {},
   "outputs": [
    {
     "name": "stdout",
     "output_type": "stream",
     "text": [
      "File name: data.csv\n",
      "data.csv has been downloaded from the server\n",
      "data.csv has been downloaded from local host\n"
     ]
    }
   ],
   "source": [
    "# loading the database from the server or PC\n",
    "# attempt_1 - path and name of the file to download from the server\n",
    "# attempt_2 - path and name of the file to download from the PC\n",
    "\n",
    "attempt_1 ='https://code.s3.yandex.net/datasets/data.csv'\n",
    "attempt_2 ='C://yandex_data_sets/01_data.csv'\n",
    "\n",
    "# take the file name from the specified path\n",
    "name_os_data = os.path.basename(attempt_1)\n",
    "print('File name:',name_os_data)\n",
    "\n",
    "# handling loading errors\n",
    "try:\n",
    "    df = pd.read_csv(attempt_1)\n",
    "    print(name_os_data, 'has been downloaded from the server')\n",
    "except:\n",
    "    print('Server error')\n",
    "try:\n",
    "    df = pd.read_csv(attempt_2)\n",
    "    print(name_os_data, 'has been downloaded from local host')\n",
    "except:\n",
    "    print('Local Error')"
   ]
  },
  {
   "cell_type": "code",
   "execution_count": 3,
   "id": "b7489594",
   "metadata": {},
   "outputs": [
    {
     "data": {
      "text/html": [
       "<div>\n",
       "<style scoped>\n",
       "    .dataframe tbody tr th:only-of-type {\n",
       "        vertical-align: middle;\n",
       "    }\n",
       "\n",
       "    .dataframe tbody tr th {\n",
       "        vertical-align: top;\n",
       "    }\n",
       "\n",
       "    .dataframe thead th {\n",
       "        text-align: right;\n",
       "    }\n",
       "</style>\n",
       "<table border=\"1\" class=\"dataframe\">\n",
       "  <thead>\n",
       "    <tr style=\"text-align: right;\">\n",
       "      <th></th>\n",
       "      <th>children</th>\n",
       "      <th>days_employed</th>\n",
       "      <th>dob_years</th>\n",
       "      <th>education</th>\n",
       "      <th>education_id</th>\n",
       "      <th>family_status</th>\n",
       "      <th>family_status_id</th>\n",
       "      <th>gender</th>\n",
       "      <th>income_type</th>\n",
       "      <th>debt</th>\n",
       "      <th>total_income</th>\n",
       "      <th>purpose</th>\n",
       "    </tr>\n",
       "  </thead>\n",
       "  <tbody>\n",
       "    <tr>\n",
       "      <th>0</th>\n",
       "      <td>1</td>\n",
       "      <td>-8437.673028</td>\n",
       "      <td>42</td>\n",
       "      <td>высшее</td>\n",
       "      <td>0</td>\n",
       "      <td>женат / замужем</td>\n",
       "      <td>0</td>\n",
       "      <td>F</td>\n",
       "      <td>сотрудник</td>\n",
       "      <td>0</td>\n",
       "      <td>253875.639453</td>\n",
       "      <td>покупка жилья</td>\n",
       "    </tr>\n",
       "    <tr>\n",
       "      <th>1</th>\n",
       "      <td>1</td>\n",
       "      <td>-4024.803754</td>\n",
       "      <td>36</td>\n",
       "      <td>среднее</td>\n",
       "      <td>1</td>\n",
       "      <td>женат / замужем</td>\n",
       "      <td>0</td>\n",
       "      <td>F</td>\n",
       "      <td>сотрудник</td>\n",
       "      <td>0</td>\n",
       "      <td>112080.014102</td>\n",
       "      <td>приобретение автомобиля</td>\n",
       "    </tr>\n",
       "    <tr>\n",
       "      <th>2</th>\n",
       "      <td>0</td>\n",
       "      <td>-5623.422610</td>\n",
       "      <td>33</td>\n",
       "      <td>Среднее</td>\n",
       "      <td>1</td>\n",
       "      <td>женат / замужем</td>\n",
       "      <td>0</td>\n",
       "      <td>M</td>\n",
       "      <td>сотрудник</td>\n",
       "      <td>0</td>\n",
       "      <td>145885.952297</td>\n",
       "      <td>покупка жилья</td>\n",
       "    </tr>\n",
       "  </tbody>\n",
       "</table>\n",
       "</div>"
      ],
      "text/plain": [
       "   children  days_employed  dob_years education  education_id  \\\n",
       "0         1   -8437.673028         42    высшее             0   \n",
       "1         1   -4024.803754         36   среднее             1   \n",
       "2         0   -5623.422610         33   Среднее             1   \n",
       "\n",
       "     family_status  family_status_id gender income_type  debt   total_income  \\\n",
       "0  женат / замужем                 0      F   сотрудник     0  253875.639453   \n",
       "1  женат / замужем                 0      F   сотрудник     0  112080.014102   \n",
       "2  женат / замужем                 0      M   сотрудник     0  145885.952297   \n",
       "\n",
       "                   purpose  \n",
       "0            покупка жилья  \n",
       "1  приобретение автомобиля  \n",
       "2            покупка жилья  "
      ]
     },
     "metadata": {},
     "output_type": "display_data"
    },
    {
     "name": "stdout",
     "output_type": "stream",
     "text": [
      "<class 'pandas.core.frame.DataFrame'>\n",
      "RangeIndex: 21525 entries, 0 to 21524\n",
      "Data columns (total 12 columns):\n",
      " #   Column            Non-Null Count  Dtype  \n",
      "---  ------            --------------  -----  \n",
      " 0   children          21525 non-null  int64  \n",
      " 1   days_employed     19351 non-null  float64\n",
      " 2   dob_years         21525 non-null  int64  \n",
      " 3   education         21525 non-null  object \n",
      " 4   education_id      21525 non-null  int64  \n",
      " 5   family_status     21525 non-null  object \n",
      " 6   family_status_id  21525 non-null  int64  \n",
      " 7   gender            21525 non-null  object \n",
      " 8   income_type       21525 non-null  object \n",
      " 9   debt              21525 non-null  int64  \n",
      " 10  total_income      19351 non-null  float64\n",
      " 11  purpose           21525 non-null  object \n",
      "dtypes: float64(2), int64(5), object(5)\n",
      "memory usage: 2.0+ MB\n"
     ]
    }
   ],
   "source": [
    "# output the title\n",
    "display(df.head(3))\n",
    "\n",
    " # general information about the table\n",
    "df.info()"
   ]
  },
  {
   "cell_type": "markdown",
   "id": "50f430cf",
   "metadata": {},
   "source": [
    "From the general information, it can be seen that in the columns days_employed (work experience) and total_income (total income) there are rows with missing data.\n",
    "It is immediately clear that the values in the days_employed line are incorrect:\n",
    "- firstly, there are negative values.\n",
    "- secondly, the value in line 4 is 340266. Based on the description of the data, this is the total work experience in days, which means that the work experience of 932 years is indicated here, which cannot correspond to reality."
   ]
  },
  {
   "cell_type": "markdown",
   "id": "13a6dc56",
   "metadata": {},
   "source": [
    "### 2.1 Fill in the undefined values"
   ]
  },
  {
   "cell_type": "code",
   "execution_count": 4,
   "id": "c0235dd3",
   "metadata": {},
   "outputs": [
    {
     "data": {
      "text/html": [
       "<div>\n",
       "<style scoped>\n",
       "    .dataframe tbody tr th:only-of-type {\n",
       "        vertical-align: middle;\n",
       "    }\n",
       "\n",
       "    .dataframe tbody tr th {\n",
       "        vertical-align: top;\n",
       "    }\n",
       "\n",
       "    .dataframe thead th {\n",
       "        text-align: right;\n",
       "    }\n",
       "</style>\n",
       "<table border=\"1\" class=\"dataframe\">\n",
       "  <thead>\n",
       "    <tr style=\"text-align: right;\">\n",
       "      <th></th>\n",
       "      <th>children</th>\n",
       "      <th>days_employed</th>\n",
       "      <th>dob_years</th>\n",
       "      <th>education</th>\n",
       "      <th>education_id</th>\n",
       "      <th>family_status</th>\n",
       "      <th>family_status_id</th>\n",
       "      <th>gender</th>\n",
       "      <th>income_type</th>\n",
       "      <th>debt</th>\n",
       "      <th>total_income</th>\n",
       "      <th>purpose</th>\n",
       "    </tr>\n",
       "  </thead>\n",
       "  <tbody>\n",
       "    <tr>\n",
       "      <th>12</th>\n",
       "      <td>0</td>\n",
       "      <td>NaN</td>\n",
       "      <td>65</td>\n",
       "      <td>среднее</td>\n",
       "      <td>1</td>\n",
       "      <td>гражданский брак</td>\n",
       "      <td>1</td>\n",
       "      <td>M</td>\n",
       "      <td>пенсионер</td>\n",
       "      <td>0</td>\n",
       "      <td>NaN</td>\n",
       "      <td>сыграть свадьбу</td>\n",
       "    </tr>\n",
       "    <tr>\n",
       "      <th>26</th>\n",
       "      <td>0</td>\n",
       "      <td>NaN</td>\n",
       "      <td>41</td>\n",
       "      <td>среднее</td>\n",
       "      <td>1</td>\n",
       "      <td>женат / замужем</td>\n",
       "      <td>0</td>\n",
       "      <td>M</td>\n",
       "      <td>госслужащий</td>\n",
       "      <td>0</td>\n",
       "      <td>NaN</td>\n",
       "      <td>образование</td>\n",
       "    </tr>\n",
       "    <tr>\n",
       "      <th>29</th>\n",
       "      <td>0</td>\n",
       "      <td>NaN</td>\n",
       "      <td>63</td>\n",
       "      <td>среднее</td>\n",
       "      <td>1</td>\n",
       "      <td>Не женат / не замужем</td>\n",
       "      <td>4</td>\n",
       "      <td>F</td>\n",
       "      <td>пенсионер</td>\n",
       "      <td>0</td>\n",
       "      <td>NaN</td>\n",
       "      <td>строительство жилой недвижимости</td>\n",
       "    </tr>\n",
       "  </tbody>\n",
       "</table>\n",
       "</div>"
      ],
      "text/plain": [
       "    children  days_employed  dob_years education  education_id  \\\n",
       "12         0            NaN         65   среднее             1   \n",
       "26         0            NaN         41   среднее             1   \n",
       "29         0            NaN         63   среднее             1   \n",
       "\n",
       "            family_status  family_status_id gender  income_type  debt  \\\n",
       "12       гражданский брак                 1      M    пенсионер     0   \n",
       "26        женат / замужем                 0      M  госслужащий     0   \n",
       "29  Не женат / не замужем                 4      F    пенсионер     0   \n",
       "\n",
       "    total_income                           purpose  \n",
       "12           NaN                   сыграть свадьбу  \n",
       "26           NaN                       образование  \n",
       "29           NaN  строительство жилой недвижимости  "
      ]
     },
     "metadata": {},
     "output_type": "display_data"
    },
    {
     "name": "stdout",
     "output_type": "stream",
     "text": [
      "Number of passes in total_income 2174\n",
      "Number of passes in days_employed 2174\n",
      "The ratio of missing data to the total number of rows 10.10%\n"
     ]
    }
   ],
   "source": [
    "# to get acquainted with the data, we will output columns with rows Nan\n",
    "display(df[df['total_income'].isna()].head(3))\n",
    "\n",
    "# let's count the number of passes in total_income\n",
    "print('Number of passes in total_income', len(df[df['total_income'].isna()]))\n",
    "\n",
    "# let's count the number of passes in days_employed\n",
    "print('Number of passes in days_employed', len(df[df['days_employed'].isna()]))\n",
    "\n",
    "# let's calculate the ratio of missing data to the total number of rows\n",
    "days_empty = len(df[df['days_employed'].isna()])\n",
    "print(f'The ratio of missing data to the total number of rows {(days_empty / df.shape[0]):.2%}')\n"
   ]
  },
  {
   "cell_type": "markdown",
   "id": "6f8a2822",
   "metadata": {},
   "source": [
    "### 2.2 conclusions on missing data"
   ]
  },
  {
   "cell_type": "markdown",
   "id": "ff2508aa",
   "metadata": {},
   "source": [
    "From the given data it can be seen:\n",
    "- in the columns days_employed and total_income there are rows with missing data.\n",
    "- rows with missing data make up 10%.\n",
    "- since the missing values occur in two columns at the same time, it can be assumed that these data were not intentionally specified, and all other data are specified correctly.\n",
    "- during further data processing, you can delete rows with missing data or fill them with median values. If we simply delete the data, then we may lose information about 10% of users, which can significantly affect the results of the study, in this situation it is better to fill in the gaps with medinal values. At the same time, considering that the data days_employed (work experience) have rows with incorrect data and at the same time greatly overestimated, taking an average statistical indicator would be the wrong decision, because incorrect data will greatly shift the average indicator in a big way."
   ]
  },
  {
   "cell_type": "markdown",
   "id": "5af264fe",
   "metadata": {},
   "source": [
    "Fill in the empty values for total_income (monthly income).\n",
    "Data days_employed (work experience) will be filled in later."
   ]
  },
  {
   "cell_type": "code",
   "execution_count": 5,
   "id": "1c7bc6cf",
   "metadata": {},
   "outputs": [
    {
     "name": "stdout",
     "output_type": "stream",
     "text": [
      "Median value for total_income (monthly income) 145017.93753253992\n"
     ]
    }
   ],
   "source": [
    "# calculation of the median value for for total_income — monthly income\n",
    "median_total_income = df['total_income'].median()\n",
    "print('Median value for total_income (monthly income)', median_total_income)\n",
    "\n",
    "# replacing the nan value with 'mediant_total_income'\n",
    "df['total_income'] = df['total_income'].fillna(value=median_total_income)"
   ]
  },
  {
   "cell_type": "markdown",
   "id": "835875c4",
   "metadata": {},
   "source": [
    "### 3. Checking data for anomalies and correcting them."
   ]
  },
  {
   "cell_type": "markdown",
   "id": "1689bef4",
   "metadata": {},
   "source": [
    "Due to the fact that incorrect work experience was found in line 4, to check the rest of the days_employed data for too large values, we take the conditional value of 85 years - the average maximum life expectancy in Japan. Let's add the age of entry into work of 18 years, we get, the life expectancy at such an indicator should be 103 years, we can assume that such data should not be more than 1 %"
   ]
  },
  {
   "cell_type": "code",
   "execution_count": 6,
   "id": "c1ab48a5",
   "metadata": {},
   "outputs": [
    {
     "name": "stdout",
     "output_type": "stream",
     "text": [
      "Lines with negative work experience 15906\n",
      "The ratio of negative values of days_employed (work experience) to the total number of rows 73.90%\n",
      "The number of rows with the clients age equal to zero 101\n",
      "The ratio of rows equal to zero dob_years (clients age) to the total number of rows 0.47%\n",
      "Rows with negative number of children 47\n",
      "The ratio of negative values of children (number of children) to the total number of rows 0.22%\n",
      "Lines with more than 85 years of work experience 2908\n",
      "The ratio of values greater than 85 years to the total number of rows 13.51%\n"
     ]
    }
   ],
   "source": [
    "# let's count the number of negative values of days_employed - work experience\n",
    "days_negative = len(df[df['days_employed'] < 0])\n",
    "print('Lines with negative work experience', days_negative)\n",
    "\n",
    "# let's calculate the ratio of negative values of days_employed (work experience) to the total number of rows\n",
    "# divide the number of rows with a negative value by the total number of rows\n",
    "print(f'The ratio of negative values of days_employed (work experience) to the total number of rows {(days_negative / df.shape[0]):.2%}')\n",
    "\n",
    "# let's count the number of values of dob_years - the age of the client is equal to 0\n",
    "dob_negative =  len(df[df['dob_years'] == 0]) #max(df['dob_years'])\n",
    "print('The number of rows with the clients age equal to zero', dob_negative)\n",
    "\n",
    "# calculate the ratio of negative values of dob_years (client's age) to the total number of rows\n",
    "# divide the number of rows with a negative age of the client by the total number of rows\n",
    "print(f'The ratio of rows equal to zero dob_years (clients age) to the total number of rows {(dob_negative / df.shape[0]):.2%}')\n",
    "\n",
    "# let's count the number of negative values of children - the number of children\n",
    "children_negative = len(df[df['children'] < 0])\n",
    "print('Rows with negative number of children', children_negative)\n",
    "\n",
    "# calculate the ratio of negative values of children (number of children) to the total number of rows\n",
    "# divide the number of rows with a negative number of children by the total number of rows\n",
    "print(f'The ratio of negative values of children (number of children) to the total number of rows {(children_negative / df.shape[0]):.2%}')\n",
    "\n",
    "# let's count the number of lines with more than 85 years of work experience\n",
    "print ('Lines with more than 85 years of work experience', len(df[df['days_employed'] > 340025])) # 85 лет * 365 дней = 340025 дней\n",
    "\n",
    "# let's calculate the ratio of values greater than 85 years to the total number of rows\n",
    "days_too_big = len(df[df['days_employed'] > 340025])\n",
    "print(f'The ratio of values greater than 85 years to the total number of rows {(days_too_big / df.shape[0]):.2%}')"
   ]
  },
  {
   "cell_type": "markdown",
   "id": "fcae24ec",
   "metadata": {},
   "source": [
    "### Conclusions:"
   ]
  },
  {
   "cell_type": "markdown",
   "id": "aad38113",
   "metadata": {},
   "source": [
    "- At this stage of the study, it is necessary to seek clarification in the data, because more than 73% of data with negative values, more than 13% of rows with incorrect values, more than 10% of rows with missing values\n",
    "- Data with the age of the client 0 in this work will have to be neglected, because 0.47% of such data, it can be assumed that this is incorrect data entry, or situations when the client refused to call his age.\n",
    "- It can be assumed that the data was entered incorrectly or an incorrect format was used, however, based on the fact that the task condition says that the data may have negative values, we will continue to conduct research.\n",
    "\n",
    "For further calculations, replace the negative values in the columns seniority and children (days_employed, children). Before clarifying the data, we will proceed from the assumption that there is an error in the source data."
   ]
  },
  {
   "cell_type": "code",
   "execution_count": 7,
   "id": "120cf422",
   "metadata": {},
   "outputs": [
    {
     "name": "stdout",
     "output_type": "stream",
     "text": [
      "Number of lines with negative seniority after adjustment 0\n",
      "Number of rows with negative \"children\" after adjustment 0\n"
     ]
    }
   ],
   "source": [
    "# let's replace negative values days_employed\n",
    "df['days_employed'] = abs(df['days_employed'])\n",
    "\n",
    "# let's replace negative values children\n",
    "df['children'] = abs(df['children'])\n",
    "\n",
    "# check the number of negative values days_employed\n",
    "print('Number of lines with negative seniority after adjustment', len(df[df['days_employed'] < 0]))\n",
    "\n",
    "# check the number of negative values children\n",
    "print('Number of rows with negative \"children\" after adjustment', len(df[df['days_employed'] < 0]))\n"
   ]
  },
  {
   "cell_type": "markdown",
   "id": "12757858",
   "metadata": {},
   "source": [
    "### 3.1.Changing data types."
   ]
  },
  {
   "cell_type": "code",
   "execution_count": 8,
   "id": "2270befb",
   "metadata": {},
   "outputs": [
    {
     "name": "stdout",
     "output_type": "stream",
     "text": [
      "Median value for days employed 2194.220566878695\n",
      "\n",
      "<class 'pandas.core.frame.DataFrame'>\n",
      "RangeIndex: 21525 entries, 0 to 21524\n",
      "Data columns (total 12 columns):\n",
      " #   Column            Non-Null Count  Dtype  \n",
      "---  ------            --------------  -----  \n",
      " 0   children          21525 non-null  int64  \n",
      " 1   days_employed     21525 non-null  float64\n",
      " 2   dob_years         21525 non-null  int64  \n",
      " 3   education         21525 non-null  object \n",
      " 4   education_id      21525 non-null  int64  \n",
      " 5   family_status     21525 non-null  object \n",
      " 6   family_status_id  21525 non-null  int64  \n",
      " 7   gender            21525 non-null  object \n",
      " 8   income_type       21525 non-null  object \n",
      " 9   debt              21525 non-null  int64  \n",
      " 10  total_income      21525 non-null  float64\n",
      " 11  purpose           21525 non-null  object \n",
      "dtypes: float64(2), int64(5), object(5)\n",
      "memory usage: 2.0+ MB\n"
     ]
    }
   ],
   "source": [
    "# calculation of the median value for days_employed\n",
    "median_days_employed = df['days_employed'].median()\n",
    "print('Median value for days employed', median_days_employed)\n",
    "print()\n",
    "\n",
    "# replace the nan values with 'median_days_employed'\n",
    "df['days_employed'] = df['days_employed'].fillna(value=median_days_employed)\n",
    "\n",
    "#  check the days_employed and total_income columns for empty values     \n",
    "df.info()\n"
   ]
  },
  {
   "cell_type": "code",
   "execution_count": 9,
   "id": "24dd49ca",
   "metadata": {},
   "outputs": [
    {
     "name": "stdout",
     "output_type": "stream",
     "text": [
      "<class 'pandas.core.frame.DataFrame'>\n",
      "RangeIndex: 21525 entries, 0 to 21524\n",
      "Data columns (total 12 columns):\n",
      " #   Column            Non-Null Count  Dtype  \n",
      "---  ------            --------------  -----  \n",
      " 0   children          21525 non-null  int64  \n",
      " 1   days_employed     21525 non-null  float64\n",
      " 2   dob_years         21525 non-null  int64  \n",
      " 3   education         21525 non-null  object \n",
      " 4   education_id      21525 non-null  int64  \n",
      " 5   family_status     21525 non-null  object \n",
      " 6   family_status_id  21525 non-null  int64  \n",
      " 7   gender            21525 non-null  object \n",
      " 8   income_type       21525 non-null  object \n",
      " 9   debt              21525 non-null  int64  \n",
      " 10  total_income      21525 non-null  int32  \n",
      " 11  purpose           21525 non-null  object \n",
      "dtypes: float64(1), int32(1), int64(5), object(5)\n",
      "memory usage: 1.9+ MB\n"
     ]
    }
   ],
   "source": [
    "# change the real data type for total_income - monthly income, to integer\n",
    "# using the astype() method\n",
    "\n",
    "df['total_income'] = df['total_income'].astype('int')\n",
    "\n",
    "# check total_income datatype after adjustment\n",
    "df.info()"
   ]
  },
  {
   "cell_type": "markdown",
   "id": "18a41c76",
   "metadata": {},
   "source": [
    "### 3.2. Removing duplicates."
   ]
  },
  {
   "cell_type": "markdown",
   "id": "1a02ed95",
   "metadata": {},
   "source": [
    "Before removing duplicates, we will convert all data to lowercase."
   ]
  },
  {
   "cell_type": "code",
   "execution_count": 10,
   "id": "ef8651f1",
   "metadata": {},
   "outputs": [
    {
     "name": "stdout",
     "output_type": "stream",
     "text": [
      "Table size before removing duplicates (21525, 12)\n",
      "Table size after removing duplicates (21454, 12)\n"
     ]
    }
   ],
   "source": [
    "# before removing duplicates, we convert the data to lower case\n",
    "# use method str.lower() \n",
    "df['education'] = df['education'].str.lower()\n",
    "df['family_status'] = df['family_status'].str.lower()\n",
    "df['gender'] = df['gender'].str.lower()\n",
    "df['income_type'] = df['income_type'].str.lower()\n",
    "df['purpose'] = df['purpose'].str.lower()\n",
    "\n",
    "# checking table sizes before removing duplicates\n",
    "print('Table size before removing duplicates', df.shape)\n",
    "\n",
    "# removing duplicates and updating indexes\n",
    "df = df.drop_duplicates().reset_index(drop=True)\n",
    "\n",
    "# checking table sizes after removing duplicates\n",
    "print('Table size after removing duplicates', df.shape) \n"
   ]
  },
  {
   "cell_type": "markdown",
   "id": "08cdcd06",
   "metadata": {},
   "source": [
    "71 apparent duplicates were removed as duplicates, which is 0.3% It can be assumed that these data were duplicated as a result of technical errors.\n",
    "\n",
    "Let's display a unique list of loan purposes. To do this, we will use the groupby () and count () methods. Their use in this case is preferable to the value_counts () method. the list will be formed grouped by the name of the purpose of the loan."
   ]
  },
  {
   "cell_type": "code",
   "execution_count": 11,
   "id": "3b07f97b",
   "metadata": {
    "scrolled": true
   },
   "outputs": [
    {
     "name": "stdout",
     "output_type": "stream",
     "text": [
      "purpose\n",
      "автомобили                                478\n",
      "автомобиль                                494\n",
      "высшее образование                        452\n",
      "дополнительное образование                460\n",
      "жилье                                     646\n",
      "заняться высшим образованием              496\n",
      "заняться образованием                     408\n",
      "на покупку автомобиля                     471\n",
      "на покупку подержанного автомобиля        478\n",
      "на покупку своего автомобиля              505\n",
      "на проведение свадьбы                     768\n",
      "недвижимость                              633\n",
      "образование                               447\n",
      "операции с жильем                         652\n",
      "операции с коммерческой недвижимостью     650\n",
      "операции с недвижимостью                  675\n",
      "операции со своей недвижимостью           627\n",
      "покупка жилой недвижимости                606\n",
      "покупка жилья                             646\n",
      "покупка жилья для сдачи                   651\n",
      "покупка жилья для семьи                   638\n",
      "покупка коммерческой недвижимости         661\n",
      "покупка недвижимости                      621\n",
      "покупка своего жилья                      620\n",
      "получение высшего образования             426\n",
      "получение дополнительного образования     446\n",
      "получение образования                     442\n",
      "приобретение автомобиля                   461\n",
      "профильное образование                    436\n",
      "ремонт жилью                              607\n",
      "свадьба                                   791\n",
      "свой автомобиль                           478\n",
      "сделка с автомобилем                      455\n",
      "сделка с подержанным автомобилем          486\n",
      "строительство жилой недвижимости          624\n",
      "строительство недвижимости                619\n",
      "строительство собственной недвижимости    635\n",
      "сыграть свадьбу                           765\n",
      "Name: purpose, dtype: int64\n"
     ]
    }
   ],
   "source": [
    "# for output, you can also use the count () method:\n",
    "# purpose_unic = df['purpose'].value_counts()\n",
    "# print(purpose_unic)\n",
    "\n",
    "# display a list of unique values using the groupby() and count() methods:\n",
    "purpose_unic = df.groupby('purpose')['purpose'].count()\n",
    "print(purpose_unic)\n"
   ]
  },
  {
   "cell_type": "markdown",
   "id": "5948e082",
   "metadata": {},
   "source": [
    "From the above list, it is immediately clear that the goals of the loan too often duplicate each other, this is a reason to pay attention to the input of the initial data by the manager or operator."
   ]
  },
  {
   "cell_type": "markdown",
   "id": "52673b5d",
   "metadata": {},
   "source": [
    "### 4. Formation of additional dataframes of dictionaries, decomposition of the original dataframe."
   ]
  },
  {
   "cell_type": "code",
   "execution_count": 12,
   "id": "163b1aa7",
   "metadata": {},
   "outputs": [
    {
     "data": {
      "text/plain": [
       "0                 высшее\n",
       "1                среднее\n",
       "2    неоконченное высшее\n",
       "3              начальное\n",
       "4         ученая степень\n",
       "Name: education, dtype: object"
      ]
     },
     "metadata": {},
     "output_type": "display_data"
    },
    {
     "data": {
      "text/plain": [
       "0          женат / замужем\n",
       "1         гражданский брак\n",
       "2           вдовец / вдова\n",
       "3                в разводе\n",
       "4    не женат / не замужем\n",
       "Name: family_status, dtype: object"
      ]
     },
     "metadata": {},
     "output_type": "display_data"
    },
    {
     "data": {
      "text/html": [
       "<div>\n",
       "<style scoped>\n",
       "    .dataframe tbody tr th:only-of-type {\n",
       "        vertical-align: middle;\n",
       "    }\n",
       "\n",
       "    .dataframe tbody tr th {\n",
       "        vertical-align: top;\n",
       "    }\n",
       "\n",
       "    .dataframe thead th {\n",
       "        text-align: right;\n",
       "    }\n",
       "</style>\n",
       "<table border=\"1\" class=\"dataframe\">\n",
       "  <thead>\n",
       "    <tr style=\"text-align: right;\">\n",
       "      <th></th>\n",
       "      <th>children</th>\n",
       "      <th>days_employed</th>\n",
       "      <th>dob_years</th>\n",
       "      <th>education</th>\n",
       "      <th>education_id</th>\n",
       "      <th>family_status</th>\n",
       "      <th>family_status_id</th>\n",
       "      <th>gender</th>\n",
       "      <th>income_type</th>\n",
       "      <th>debt</th>\n",
       "      <th>total_income</th>\n",
       "      <th>purpose</th>\n",
       "    </tr>\n",
       "  </thead>\n",
       "  <tbody>\n",
       "    <tr>\n",
       "      <th>0</th>\n",
       "      <td>1</td>\n",
       "      <td>8437.673028</td>\n",
       "      <td>42</td>\n",
       "      <td>высшее</td>\n",
       "      <td>0</td>\n",
       "      <td>женат / замужем</td>\n",
       "      <td>0</td>\n",
       "      <td>f</td>\n",
       "      <td>сотрудник</td>\n",
       "      <td>0</td>\n",
       "      <td>253875</td>\n",
       "      <td>покупка жилья</td>\n",
       "    </tr>\n",
       "    <tr>\n",
       "      <th>1</th>\n",
       "      <td>1</td>\n",
       "      <td>4024.803754</td>\n",
       "      <td>36</td>\n",
       "      <td>среднее</td>\n",
       "      <td>1</td>\n",
       "      <td>женат / замужем</td>\n",
       "      <td>0</td>\n",
       "      <td>f</td>\n",
       "      <td>сотрудник</td>\n",
       "      <td>0</td>\n",
       "      <td>112080</td>\n",
       "      <td>приобретение автомобиля</td>\n",
       "    </tr>\n",
       "    <tr>\n",
       "      <th>2</th>\n",
       "      <td>0</td>\n",
       "      <td>5623.422610</td>\n",
       "      <td>33</td>\n",
       "      <td>среднее</td>\n",
       "      <td>1</td>\n",
       "      <td>женат / замужем</td>\n",
       "      <td>0</td>\n",
       "      <td>m</td>\n",
       "      <td>сотрудник</td>\n",
       "      <td>0</td>\n",
       "      <td>145885</td>\n",
       "      <td>покупка жилья</td>\n",
       "    </tr>\n",
       "    <tr>\n",
       "      <th>3</th>\n",
       "      <td>3</td>\n",
       "      <td>4124.747207</td>\n",
       "      <td>32</td>\n",
       "      <td>среднее</td>\n",
       "      <td>1</td>\n",
       "      <td>женат / замужем</td>\n",
       "      <td>0</td>\n",
       "      <td>m</td>\n",
       "      <td>сотрудник</td>\n",
       "      <td>0</td>\n",
       "      <td>267628</td>\n",
       "      <td>дополнительное образование</td>\n",
       "    </tr>\n",
       "    <tr>\n",
       "      <th>4</th>\n",
       "      <td>0</td>\n",
       "      <td>340266.072047</td>\n",
       "      <td>53</td>\n",
       "      <td>среднее</td>\n",
       "      <td>1</td>\n",
       "      <td>гражданский брак</td>\n",
       "      <td>1</td>\n",
       "      <td>f</td>\n",
       "      <td>пенсионер</td>\n",
       "      <td>0</td>\n",
       "      <td>158616</td>\n",
       "      <td>сыграть свадьбу</td>\n",
       "    </tr>\n",
       "  </tbody>\n",
       "</table>\n",
       "</div>"
      ],
      "text/plain": [
       "   children  days_employed  dob_years education  education_id  \\\n",
       "0         1    8437.673028         42    высшее             0   \n",
       "1         1    4024.803754         36   среднее             1   \n",
       "2         0    5623.422610         33   среднее             1   \n",
       "3         3    4124.747207         32   среднее             1   \n",
       "4         0  340266.072047         53   среднее             1   \n",
       "\n",
       "      family_status  family_status_id gender income_type  debt  total_income  \\\n",
       "0   женат / замужем                 0      f   сотрудник     0        253875   \n",
       "1   женат / замужем                 0      f   сотрудник     0        112080   \n",
       "2   женат / замужем                 0      m   сотрудник     0        145885   \n",
       "3   женат / замужем                 0      m   сотрудник     0        267628   \n",
       "4  гражданский брак                 1      f   пенсионер     0        158616   \n",
       "\n",
       "                      purpose  \n",
       "0               покупка жилья  \n",
       "1     приобретение автомобиля  \n",
       "2               покупка жилья  \n",
       "3  дополнительное образование  \n",
       "4             сыграть свадьбу  "
      ]
     },
     "metadata": {},
     "output_type": "display_data"
    }
   ],
   "source": [
    "# create two new dataframes with columns to unify education and family_status\n",
    "\n",
    "# df_education = education_id and education are in the first dataframe;\n",
    "# df_family_status = family_status_id and family_status are in the second dataframe.\n",
    "\n",
    "df_education = df[['education_id', 'education']]\n",
    "df_education = df_education['education'].drop_duplicates().reset_index(drop=True)\n",
    "\n",
    "df_family_status = df[['family_status_id', 'family_status']]\n",
    "df_family_status = df_family_status['family_status'].drop_duplicates().reset_index(drop=True)\n",
    "\n",
    "# display headers for checking\n",
    "display(df_education.head())\n",
    "display(df_family_status.head())\n",
    "\n",
    "# remove the education and family_status columns from the original dataframe\n",
    "# df = df.drop(['education', 'family_status'], axis = 1)\n",
    "\n",
    "# display header for verification\n",
    "display(df.head())"
   ]
  },
  {
   "cell_type": "markdown",
   "id": "375a52d5",
   "metadata": {},
   "source": [
    "### 5. Income categorization."
   ]
  },
  {
   "cell_type": "code",
   "execution_count": 13,
   "id": "98bc9803",
   "metadata": {},
   "outputs": [
    {
     "data": {
      "text/html": [
       "<div>\n",
       "<style scoped>\n",
       "    .dataframe tbody tr th:only-of-type {\n",
       "        vertical-align: middle;\n",
       "    }\n",
       "\n",
       "    .dataframe tbody tr th {\n",
       "        vertical-align: top;\n",
       "    }\n",
       "\n",
       "    .dataframe thead th {\n",
       "        text-align: right;\n",
       "    }\n",
       "</style>\n",
       "<table border=\"1\" class=\"dataframe\">\n",
       "  <thead>\n",
       "    <tr style=\"text-align: right;\">\n",
       "      <th></th>\n",
       "      <th>children</th>\n",
       "      <th>days_employed</th>\n",
       "      <th>dob_years</th>\n",
       "      <th>education</th>\n",
       "      <th>education_id</th>\n",
       "      <th>family_status</th>\n",
       "      <th>family_status_id</th>\n",
       "      <th>gender</th>\n",
       "      <th>income_type</th>\n",
       "      <th>debt</th>\n",
       "      <th>total_income</th>\n",
       "      <th>purpose</th>\n",
       "      <th>total_income_category</th>\n",
       "    </tr>\n",
       "  </thead>\n",
       "  <tbody>\n",
       "    <tr>\n",
       "      <th>0</th>\n",
       "      <td>1</td>\n",
       "      <td>8437.673028</td>\n",
       "      <td>42</td>\n",
       "      <td>высшее</td>\n",
       "      <td>0</td>\n",
       "      <td>женат / замужем</td>\n",
       "      <td>0</td>\n",
       "      <td>f</td>\n",
       "      <td>сотрудник</td>\n",
       "      <td>0</td>\n",
       "      <td>253875</td>\n",
       "      <td>покупка жилья</td>\n",
       "      <td>B</td>\n",
       "    </tr>\n",
       "    <tr>\n",
       "      <th>1</th>\n",
       "      <td>1</td>\n",
       "      <td>4024.803754</td>\n",
       "      <td>36</td>\n",
       "      <td>среднее</td>\n",
       "      <td>1</td>\n",
       "      <td>женат / замужем</td>\n",
       "      <td>0</td>\n",
       "      <td>f</td>\n",
       "      <td>сотрудник</td>\n",
       "      <td>0</td>\n",
       "      <td>112080</td>\n",
       "      <td>приобретение автомобиля</td>\n",
       "      <td>C</td>\n",
       "    </tr>\n",
       "    <tr>\n",
       "      <th>2</th>\n",
       "      <td>0</td>\n",
       "      <td>5623.422610</td>\n",
       "      <td>33</td>\n",
       "      <td>среднее</td>\n",
       "      <td>1</td>\n",
       "      <td>женат / замужем</td>\n",
       "      <td>0</td>\n",
       "      <td>m</td>\n",
       "      <td>сотрудник</td>\n",
       "      <td>0</td>\n",
       "      <td>145885</td>\n",
       "      <td>покупка жилья</td>\n",
       "      <td>C</td>\n",
       "    </tr>\n",
       "  </tbody>\n",
       "</table>\n",
       "</div>"
      ],
      "text/plain": [
       "   children  days_employed  dob_years education  education_id  \\\n",
       "0         1    8437.673028         42    высшее             0   \n",
       "1         1    4024.803754         36   среднее             1   \n",
       "2         0    5623.422610         33   среднее             1   \n",
       "\n",
       "     family_status  family_status_id gender income_type  debt  total_income  \\\n",
       "0  женат / замужем                 0      f   сотрудник     0        253875   \n",
       "1  женат / замужем                 0      f   сотрудник     0        112080   \n",
       "2  женат / замужем                 0      m   сотрудник     0        145885   \n",
       "\n",
       "                   purpose total_income_category  \n",
       "0            покупка жилья                     B  \n",
       "1  приобретение автомобиля                     C  \n",
       "2            покупка жилья                     C  "
      ]
     },
     "metadata": {},
     "output_type": "display_data"
    },
    {
     "data": {
      "text/plain": [
       "C    16016\n",
       "B     5041\n",
       "D      350\n",
       "А       25\n",
       "E       22\n",
       "Name: total_income_category, dtype: int64"
      ]
     },
     "metadata": {},
     "output_type": "display_data"
    }
   ],
   "source": [
    "# create a function income_group that will take a new value based on the input\n",
    "# new value - group, incoming data - income\n",
    "\n",
    "def income_group(income_index):\n",
    "    \n",
    "    if income_index < 30001:\n",
    "        return 'E'\n",
    "    if income_index >= 30001 and income_index < 50000:\n",
    "        return 'D'\n",
    "    if income_index >= 50001 and income_index < 200000:\n",
    "        return 'C'\n",
    "    if income_index >= 200001 and income_index < 1000000:\n",
    "        return 'B'\n",
    "    return 'А' \n",
    "\n",
    "# create a new column in which we will place the result of the function\n",
    "# function iterate over the value of the 'total_income' column\n",
    "df['total_income_category'] = df['total_income'].apply(income_group)\n",
    "\n",
    "# for verification, display the title of the modified table\n",
    "display(df.head(3))\n",
    "# to check, count the number of lines for each category of income\n",
    "display(df['total_income_category'].value_counts())"
   ]
  },
  {
   "cell_type": "markdown",
   "id": "62e8ba1c",
   "metadata": {},
   "source": [
    "### 6. Categorization of loan purposes."
   ]
  },
  {
   "cell_type": "code",
   "execution_count": 14,
   "id": "f0bffc8a",
   "metadata": {
    "scrolled": true
   },
   "outputs": [
    {
     "data": {
      "text/html": [
       "<div>\n",
       "<style scoped>\n",
       "    .dataframe tbody tr th:only-of-type {\n",
       "        vertical-align: middle;\n",
       "    }\n",
       "\n",
       "    .dataframe tbody tr th {\n",
       "        vertical-align: top;\n",
       "    }\n",
       "\n",
       "    .dataframe thead th {\n",
       "        text-align: right;\n",
       "    }\n",
       "</style>\n",
       "<table border=\"1\" class=\"dataframe\">\n",
       "  <thead>\n",
       "    <tr style=\"text-align: right;\">\n",
       "      <th></th>\n",
       "      <th>children</th>\n",
       "      <th>days_employed</th>\n",
       "      <th>dob_years</th>\n",
       "      <th>education</th>\n",
       "      <th>education_id</th>\n",
       "      <th>family_status</th>\n",
       "      <th>family_status_id</th>\n",
       "      <th>gender</th>\n",
       "      <th>income_type</th>\n",
       "      <th>debt</th>\n",
       "      <th>total_income</th>\n",
       "      <th>purpose</th>\n",
       "      <th>total_income_category</th>\n",
       "      <th>purpose_category</th>\n",
       "    </tr>\n",
       "  </thead>\n",
       "  <tbody>\n",
       "    <tr>\n",
       "      <th>0</th>\n",
       "      <td>1</td>\n",
       "      <td>8437.673028</td>\n",
       "      <td>42</td>\n",
       "      <td>высшее</td>\n",
       "      <td>0</td>\n",
       "      <td>женат / замужем</td>\n",
       "      <td>0</td>\n",
       "      <td>f</td>\n",
       "      <td>сотрудник</td>\n",
       "      <td>0</td>\n",
       "      <td>253875</td>\n",
       "      <td>покупка жилья</td>\n",
       "      <td>B</td>\n",
       "      <td>покупка жилья</td>\n",
       "    </tr>\n",
       "    <tr>\n",
       "      <th>1</th>\n",
       "      <td>1</td>\n",
       "      <td>4024.803754</td>\n",
       "      <td>36</td>\n",
       "      <td>среднее</td>\n",
       "      <td>1</td>\n",
       "      <td>женат / замужем</td>\n",
       "      <td>0</td>\n",
       "      <td>f</td>\n",
       "      <td>сотрудник</td>\n",
       "      <td>0</td>\n",
       "      <td>112080</td>\n",
       "      <td>приобретение автомобиля</td>\n",
       "      <td>C</td>\n",
       "      <td>приобретение автомобиля</td>\n",
       "    </tr>\n",
       "  </tbody>\n",
       "</table>\n",
       "</div>"
      ],
      "text/plain": [
       "   children  days_employed  dob_years education  education_id  \\\n",
       "0         1    8437.673028         42    высшее             0   \n",
       "1         1    4024.803754         36   среднее             1   \n",
       "\n",
       "     family_status  family_status_id gender income_type  debt  total_income  \\\n",
       "0  женат / замужем                 0      f   сотрудник     0        253875   \n",
       "1  женат / замужем                 0      f   сотрудник     0        112080   \n",
       "\n",
       "                   purpose total_income_category         purpose_category  \n",
       "0            покупка жилья                     B            покупка жилья  \n",
       "1  приобретение автомобиля                     C  приобретение автомобиля  "
      ]
     },
     "metadata": {},
     "output_type": "display_data"
    }
   ],
   "source": [
    "# create a new column, copy data from purpose and check its content\n",
    "df['purpose_category'] = df['purpose']\n",
    "display(df.head(2))"
   ]
  },
  {
   "cell_type": "markdown",
   "id": "a92782d2",
   "metadata": {},
   "source": [
    "According to the terms of the assignment, we will create 4 groups \"Purpose of the loan\" based on the existing 32.\n",
    "To do this, first manually sort the existing groups and divide them into 4 groups:\n",
    "- 'car operations'\n",
    "- 'real estate transactions'\n",
    "- 'holding a wedding'\n",
    "- 'getting an education'\n",
    "\n",
    "Next, we will create a function that will go through the available data and based on manual selection and replace the names of the existing groups with new ones."
   ]
  },
  {
   "cell_type": "code",
   "execution_count": 15,
   "id": "7b458ac2",
   "metadata": {},
   "outputs": [
    {
     "data": {
      "text/plain": [
       "real estate transactions    10811\n",
       "car operations               4306\n",
       "getting an education         4013\n",
       "holding a wedding            2324\n",
       "Name: purpose_category, dtype: int64"
      ]
     },
     "metadata": {},
     "output_type": "display_data"
    }
   ],
   "source": [
    "# a list of invalid values and a string with a value are passed to the function input\n",
    "# the disadvantage of using this function in case of use is a large manual selection\n",
    "\n",
    "def replace_wrong_purpose(wrong_values, correct_value):\n",
    "# iterate over invalid names\n",
    "    for wrong_value in wrong_values:\n",
    "        # and for each incorrect name we call method the replace()                 \n",
    "        df['purpose_category'] = df['purpose_category'].replace(wrong_value, correct_value)\n",
    "\n",
    "# list of incorrect names 'car operations'\n",
    "duplicates_avto = ['автомобили', 'автомобиль', 'на покупку автомобиля', 'на покупку подержанного автомобиля', 'на покупку своего автомобиля', 'приобретение автомобиля', 'свой автомобиль', 'сделка с автомобилем', 'сделка с подержанным автомобилем']                 \n",
    "# correct name\n",
    "name_avto = 'car operations'\n",
    "# call method, replace()                                         \n",
    "replace_wrong_purpose (duplicates_avto, name_avto)                 \n",
    "\n",
    "# real estate transactions\n",
    "duplicates_realty = ['операции с недвижимостью', 'операции со своей недвижимостью', 'недвижимость', 'жилье', 'операции с жильем', 'операции с коммерческой недвижимостью', 'покупка жилой недвижимости', 'покупка жилья', 'покупка жилья для сдачи', 'покупка жилья для семьи', 'покупка коммерческой недвижимости', 'покупка недвижимости', 'покупка своего жилья', 'ремонт жилью', 'строительство жилой недвижимости', 'строительство недвижимости', 'строительство собственной недвижимости']                 \n",
    "name_realty = 'real estate transactions'\n",
    "replace_wrong_purpose (duplicates_realty, name_realty) \n",
    "\n",
    "# holding a wedding\n",
    "duplicates_marry = ['свадьба', 'сыграть свадьбу', 'на проведение свадьбы']                 \n",
    "name_marry = 'holding a wedding'\n",
    "replace_wrong_purpose (duplicates_marry, name_marry)\n",
    "\n",
    "# getting an education\n",
    "duplicates_education = ['получение образования', 'образование', 'высшее образование', 'получение высшего образования', 'получение дополнительного образования', 'дополнительное образование', 'заняться высшим образованием', 'заняться образованием', 'профильное образование']                 \n",
    "name_education = 'getting an education'\n",
    "replace_wrong_purpose (duplicates_education, name_education)\n",
    "\n",
    "# check the data, group the data by a new category\n",
    "display(df['purpose_category'].value_counts())"
   ]
  },
  {
   "cell_type": "markdown",
   "id": "bf0b0eb1",
   "metadata": {},
   "source": [
    "Сonclusions on Data preprocessing:\n",
    "\n",
    "- for the correct conduct of the study, it is necessary to seek clarification in the data, because more than 73% of data with negative values, more than 13% of rows with invalid values, more than 10% of rows with missing values. The data with client age 0 will be neglected in this work, because such data is 0.47%, it can be assumed that this is incorrect data entry, or situations when the client refused to indicate his age.\n",
    "- after adjusting the initial data, the final values have changed, which can critically affect the final conclusions of the study.\n",
    "    "
   ]
  },
  {
   "cell_type": "markdown",
   "id": "8742fde5",
   "metadata": {},
   "source": [
    "### 7.Comclusions. Answers on questions."
   ]
  },
  {
   "cell_type": "markdown",
   "id": "ed22b978",
   "metadata": {},
   "source": [
    "##### Question 1: Is there a relationship between the number of children and loan repayment on time?"
   ]
  },
  {
   "cell_type": "code",
   "execution_count": 16,
   "id": "ed0fae22",
   "metadata": {
    "scrolled": true
   },
   "outputs": [
    {
     "data": {
      "text/html": [
       "<div>\n",
       "<style scoped>\n",
       "    .dataframe tbody tr th:only-of-type {\n",
       "        vertical-align: middle;\n",
       "    }\n",
       "\n",
       "    .dataframe tbody tr th {\n",
       "        vertical-align: top;\n",
       "    }\n",
       "\n",
       "    .dataframe thead th {\n",
       "        text-align: right;\n",
       "    }\n",
       "</style>\n",
       "<table border=\"1\" class=\"dataframe\">\n",
       "  <thead>\n",
       "    <tr style=\"text-align: right;\">\n",
       "      <th></th>\n",
       "      <th>Debtor</th>\n",
       "      <th>Total</th>\n",
       "      <th>Percent</th>\n",
       "    </tr>\n",
       "    <tr>\n",
       "      <th>children</th>\n",
       "      <th></th>\n",
       "      <th></th>\n",
       "      <th></th>\n",
       "    </tr>\n",
       "  </thead>\n",
       "  <tbody>\n",
       "    <tr>\n",
       "      <th>0</th>\n",
       "      <td>1063</td>\n",
       "      <td>14091</td>\n",
       "      <td>7.543822</td>\n",
       "    </tr>\n",
       "    <tr>\n",
       "      <th>1</th>\n",
       "      <td>445</td>\n",
       "      <td>4855</td>\n",
       "      <td>9.165808</td>\n",
       "    </tr>\n",
       "    <tr>\n",
       "      <th>2</th>\n",
       "      <td>194</td>\n",
       "      <td>2052</td>\n",
       "      <td>9.454191</td>\n",
       "    </tr>\n",
       "    <tr>\n",
       "      <th>3</th>\n",
       "      <td>27</td>\n",
       "      <td>330</td>\n",
       "      <td>8.181818</td>\n",
       "    </tr>\n",
       "    <tr>\n",
       "      <th>4</th>\n",
       "      <td>4</td>\n",
       "      <td>41</td>\n",
       "      <td>9.756098</td>\n",
       "    </tr>\n",
       "    <tr>\n",
       "      <th>5</th>\n",
       "      <td>0</td>\n",
       "      <td>9</td>\n",
       "      <td>0.000000</td>\n",
       "    </tr>\n",
       "    <tr>\n",
       "      <th>20</th>\n",
       "      <td>8</td>\n",
       "      <td>76</td>\n",
       "      <td>10.526316</td>\n",
       "    </tr>\n",
       "  </tbody>\n",
       "</table>\n",
       "</div>"
      ],
      "text/plain": [
       "          Debtor  Total    Percent\n",
       "children                          \n",
       "0           1063  14091   7.543822\n",
       "1            445   4855   9.165808\n",
       "2            194   2052   9.454191\n",
       "3             27    330   8.181818\n",
       "4              4     41   9.756098\n",
       "5              0      9   0.000000\n",
       "20             8     76  10.526316"
      ]
     },
     "metadata": {},
     "output_type": "display_data"
    }
   ],
   "source": [
    "# find out the number of debtors\n",
    "# group the data by the children column and sum the values by the debt column (its value is 0 or 1)\n",
    "# set a variable for each value and put a new df there\n",
    "children_debt = df.groupby('children')['debt'].sum()\n",
    "\n",
    "# calculate the total number of debtors in each group\n",
    "children_count = df.groupby('children')['children'].count()\n",
    "\n",
    "# calculate the percentage of non-returns by dividing the number of non-returns\n",
    "# by the total number of people and multiplying by 100\n",
    "children_percent = ((df.groupby('children')['debt'].sum() / df.groupby('children')['children'].count()))*100\n",
    "# print(children_debt, children_count, children_percent)\n",
    "\n",
    "# create a new df\n",
    "display(pd.concat([children_debt, children_count, children_percent], keys=['Debtor', 'Total', 'Percent'], axis=1))\n"
   ]
  },
  {
   "cell_type": "markdown",
   "id": "3d20389e",
   "metadata": {},
   "source": [
    "##### Сonclusion 1:\n",
    "The table above clearly shows that, in general, the number of debtors without children is much higher than the number of debtors with children, but this is due to the fact that the total number of loans issued to people without children is higher.\n",
    "In general, it can be seen that the default rate for borrowers without children is 2% lower.\n",
    "It should be noted that these data are reliable, because the results of the studies were not affected by the changes made to the data during the analysis.\n",
    "It should be noted that there are incorrect data in the table - the number of children is -1, there are 47 such rows. less than 1% of these data, they were not taken into account, also the line with the number of children 20 most likely implies the number of children more than 5."
   ]
  },
  {
   "cell_type": "markdown",
   "id": "d7ed4567",
   "metadata": {},
   "source": [
    "##### Question 2: Is there a relationship between marital status and loan repayment on time?"
   ]
  },
  {
   "cell_type": "code",
   "execution_count": 17,
   "id": "e9e37339",
   "metadata": {},
   "outputs": [],
   "source": [
    "# replace data marital status from Russian to English\n",
    "# using lambda function\n",
    "df['family_status'] = df['family_status'].apply(lambda x: x.replace('женат / замужем', 'married').replace('гражданский брак', 'civil marriage').replace('вдовец / вдова', 'widower').replace('в разводе', 'divorced').replace('не женат / не замужем', 'not married'))"
   ]
  },
  {
   "cell_type": "code",
   "execution_count": 18,
   "id": "7cb4b7e0",
   "metadata": {},
   "outputs": [],
   "source": [
    "#0          женат / замужем - married\n",
    "#1         гражданский брак - civil marriage\n",
    "#2           вдовец / вдова - widower\n",
    "#3                в разводе - divorced\n",
    "#4    не женат / не замужем - not married\n"
   ]
  },
  {
   "cell_type": "code",
   "execution_count": 19,
   "id": "36287519",
   "metadata": {
    "scrolled": true
   },
   "outputs": [],
   "source": [
    "# family status\n",
    "family_status = df.groupby('family_status')['family_status'].unique()\n",
    "\n",
    "# calculate the number of debtors by the number of children\n",
    "# group the data by the family_status column and sum the values by the debt column (its value is 0 or 1)\n",
    "family_debt = df.groupby('family_status')['debt'].sum()\n",
    "\n",
    "# family count\n",
    "family_count = df.groupby('family_status')['family_status'].count()\n",
    "\n",
    "# family percent\n",
    "family_percent = ((family_debt / family_count)*100).round(2)\n",
    "\n",
    "#display(family_status)\n",
    "#display(family_debt)\n",
    "#display(family_count)\n",
    "#display(family_percent)"
   ]
  },
  {
   "cell_type": "code",
   "execution_count": 20,
   "id": "fa87c699",
   "metadata": {},
   "outputs": [
    {
     "data": {
      "text/html": [
       "<div>\n",
       "<style scoped>\n",
       "    .dataframe tbody tr th:only-of-type {\n",
       "        vertical-align: middle;\n",
       "    }\n",
       "\n",
       "    .dataframe tbody tr th {\n",
       "        vertical-align: top;\n",
       "    }\n",
       "\n",
       "    .dataframe thead th {\n",
       "        text-align: right;\n",
       "    }\n",
       "</style>\n",
       "<table border=\"1\" class=\"dataframe\">\n",
       "  <thead>\n",
       "    <tr style=\"text-align: right;\">\n",
       "      <th></th>\n",
       "      <th>family_status</th>\n",
       "      <th>Debtor</th>\n",
       "      <th>Total</th>\n",
       "      <th>Percent %</th>\n",
       "    </tr>\n",
       "  </thead>\n",
       "  <tbody>\n",
       "    <tr>\n",
       "      <th>0</th>\n",
       "      <td>civil marriage</td>\n",
       "      <td>388</td>\n",
       "      <td>4151</td>\n",
       "      <td>9.35</td>\n",
       "    </tr>\n",
       "    <tr>\n",
       "      <th>1</th>\n",
       "      <td>divorced</td>\n",
       "      <td>85</td>\n",
       "      <td>1195</td>\n",
       "      <td>7.11</td>\n",
       "    </tr>\n",
       "    <tr>\n",
       "      <th>2</th>\n",
       "      <td>married</td>\n",
       "      <td>931</td>\n",
       "      <td>12339</td>\n",
       "      <td>7.55</td>\n",
       "    </tr>\n",
       "    <tr>\n",
       "      <th>3</th>\n",
       "      <td>not married</td>\n",
       "      <td>274</td>\n",
       "      <td>2810</td>\n",
       "      <td>9.75</td>\n",
       "    </tr>\n",
       "    <tr>\n",
       "      <th>4</th>\n",
       "      <td>widower</td>\n",
       "      <td>63</td>\n",
       "      <td>959</td>\n",
       "      <td>6.57</td>\n",
       "    </tr>\n",
       "  </tbody>\n",
       "</table>\n",
       "</div>"
      ],
      "text/plain": [
       "    family_status  Debtor  Total  Percent %\n",
       "0  civil marriage     388   4151       9.35\n",
       "1        divorced      85   1195       7.11\n",
       "2         married     931  12339       7.55\n",
       "3     not married     274   2810       9.75\n",
       "4         widower      63    959       6.57"
      ]
     },
     "metadata": {},
     "output_type": "display_data"
    }
   ],
   "source": [
    "# create a new df\n",
    "display(pd.concat([family_debt, family_count, family_percent], keys=['Debtor', 'Total', 'Percent %'], axis=1).reset_index())"
   ]
  },
  {
   "cell_type": "markdown",
   "id": "15eb0875",
   "metadata": {},
   "source": [
    "##### Conclusion 2.\n",
    "From the above table it is clearly seen that there is a slight correlation in the results: the lowest percentage of non-return for widowers, and the highest percentage of non-return for those who were not married.\n",
    "\n",
    "It should be noted that these data are reliable, because no changes were made to these indicators in the original data."
   ]
  },
  {
   "cell_type": "markdown",
   "id": "6c76d4d9",
   "metadata": {},
   "source": [
    "##### Question 3: Is there a relationship between income and loan repayment on time?"
   ]
  },
  {
   "cell_type": "code",
   "execution_count": 21,
   "id": "5141e4de",
   "metadata": {
    "scrolled": false
   },
   "outputs": [
    {
     "data": {
      "text/html": [
       "<div>\n",
       "<style scoped>\n",
       "    .dataframe tbody tr th:only-of-type {\n",
       "        vertical-align: middle;\n",
       "    }\n",
       "\n",
       "    .dataframe tbody tr th {\n",
       "        vertical-align: top;\n",
       "    }\n",
       "\n",
       "    .dataframe thead th {\n",
       "        text-align: right;\n",
       "    }\n",
       "</style>\n",
       "<table border=\"1\" class=\"dataframe\">\n",
       "  <thead>\n",
       "    <tr style=\"text-align: right;\">\n",
       "      <th></th>\n",
       "      <th>Group</th>\n",
       "      <th>Number of debtors</th>\n",
       "      <th>Total person</th>\n",
       "      <th>% of debtors</th>\n",
       "    </tr>\n",
       "  </thead>\n",
       "  <tbody>\n",
       "    <tr>\n",
       "      <th>0</th>\n",
       "      <td>B: 200 000 - 1 000 000</td>\n",
       "      <td>356</td>\n",
       "      <td>5040</td>\n",
       "      <td>7.06</td>\n",
       "    </tr>\n",
       "    <tr>\n",
       "      <th>1</th>\n",
       "      <td>С: 50 000 - 200 000</td>\n",
       "      <td>1360</td>\n",
       "      <td>16016</td>\n",
       "      <td>8.49</td>\n",
       "    </tr>\n",
       "    <tr>\n",
       "      <th>2</th>\n",
       "      <td>D: 30 000 - 50 000</td>\n",
       "      <td>21</td>\n",
       "      <td>350</td>\n",
       "      <td>6.00</td>\n",
       "    </tr>\n",
       "    <tr>\n",
       "      <th>3</th>\n",
       "      <td>E: from 0   - 30 000</td>\n",
       "      <td>2</td>\n",
       "      <td>22</td>\n",
       "      <td>9.09</td>\n",
       "    </tr>\n",
       "    <tr>\n",
       "      <th>4</th>\n",
       "      <td>А: higher 1 000 000</td>\n",
       "      <td>2</td>\n",
       "      <td>26</td>\n",
       "      <td>7.69</td>\n",
       "    </tr>\n",
       "  </tbody>\n",
       "</table>\n",
       "</div>"
      ],
      "text/plain": [
       "                    Group  Number of debtors  Total person  % of debtors\n",
       "0  B: 200 000 - 1 000 000                356          5040          7.06\n",
       "1     С: 50 000 - 200 000               1360         16016          8.49\n",
       "2      D: 30 000 - 50 000                 21           350          6.00\n",
       "3    E: from 0   - 30 000                  2            22          9.09\n",
       "4     А: higher 1 000 000                  2            26          7.69"
      ]
     },
     "metadata": {},
     "output_type": "display_data"
    }
   ],
   "source": [
    "# find out the number of debtors for each income group\n",
    "# group the data by the family_status column and sum the values by the debt column (its value is 0 or 1)\n",
    "income_debt = df.groupby('total_income_category')['debt'].sum()\n",
    "\n",
    "# find out how many debtors are in each group\n",
    "income_count = df.groupby('total_income_category')['total_income_category'].count()\n",
    "\n",
    "# calculate the percentage of non-return by dividing the number\n",
    "# of non-return by the total number of people and multiplying by 100\n",
    "income_percent = ((df.groupby('total_income_category')['debt'].sum() / df.groupby('total_income_category')['total_income_category'].count()))*100\n",
    "#print(income_debt, income_count, income_percent)\n",
    "\n",
    "# create a pivot table with the received data\n",
    "data = [['B: 200 000 - 1 000 000', 356, 5040, 7.06],\n",
    "       ['С: 50 000 - 200 000', 1360, 16016, 8.49],\n",
    "       ['D: 30 000 - 50 000', 21, 350, 6.00],\n",
    "       ['E: from 0   - 30 000', 2, 22, 9.09],\n",
    "        ['А: higher 1 000 000', 2, 26, 7.69]]\n",
    "        \n",
    "columns = ['Group','Number of debtors', 'Total person', '% of debtors']\n",
    "\n",
    "research_income_result = pd.DataFrame(data=data,columns=columns)\n",
    "display(research_income_result)\n"
   ]
  },
  {
   "cell_type": "markdown",
   "id": "8186ec8a",
   "metadata": {},
   "source": [
    "##### Conclusion 3.\n",
    "For different income groups, it can be seen that the lowest percentage of non-return for group D: and the highest percentage for group E:\n",
    "\n",
    "It should be noted that these data may not be reliable, because. before grouping, 10.10% were filled with medial values, which could significantly affect the result."
   ]
  },
  {
   "cell_type": "markdown",
   "id": "71af6fc0",
   "metadata": {},
   "source": [
    "### Question 4: Is there a relationship between goal of the loan and loan repayment on time?"
   ]
  },
  {
   "cell_type": "code",
   "execution_count": 22,
   "id": "ff274efa",
   "metadata": {
    "scrolled": true
   },
   "outputs": [
    {
     "data": {
      "text/html": [
       "<div>\n",
       "<style scoped>\n",
       "    .dataframe tbody tr th:only-of-type {\n",
       "        vertical-align: middle;\n",
       "    }\n",
       "\n",
       "    .dataframe tbody tr th {\n",
       "        vertical-align: top;\n",
       "    }\n",
       "\n",
       "    .dataframe thead th {\n",
       "        text-align: right;\n",
       "    }\n",
       "</style>\n",
       "<table border=\"1\" class=\"dataframe\">\n",
       "  <thead>\n",
       "    <tr style=\"text-align: right;\">\n",
       "      <th></th>\n",
       "      <th>purpose_category</th>\n",
       "      <th>Debt</th>\n",
       "      <th>Total</th>\n",
       "      <th>Percent %</th>\n",
       "    </tr>\n",
       "  </thead>\n",
       "  <tbody>\n",
       "    <tr>\n",
       "      <th>0</th>\n",
       "      <td>car operations</td>\n",
       "      <td>403</td>\n",
       "      <td>4306</td>\n",
       "      <td>9.4</td>\n",
       "    </tr>\n",
       "    <tr>\n",
       "      <th>1</th>\n",
       "      <td>getting an education</td>\n",
       "      <td>370</td>\n",
       "      <td>4013</td>\n",
       "      <td>9.2</td>\n",
       "    </tr>\n",
       "    <tr>\n",
       "      <th>2</th>\n",
       "      <td>holding a wedding</td>\n",
       "      <td>186</td>\n",
       "      <td>2324</td>\n",
       "      <td>8.0</td>\n",
       "    </tr>\n",
       "    <tr>\n",
       "      <th>3</th>\n",
       "      <td>real estate transactions</td>\n",
       "      <td>782</td>\n",
       "      <td>10811</td>\n",
       "      <td>7.2</td>\n",
       "    </tr>\n",
       "  </tbody>\n",
       "</table>\n",
       "</div>"
      ],
      "text/plain": [
       "           purpose_category  Debt  Total  Percent %\n",
       "0            car operations   403   4306        9.4\n",
       "1      getting an education   370   4013        9.2\n",
       "2         holding a wedding   186   2324        8.0\n",
       "3  real estate transactions   782  10811        7.2"
      ]
     },
     "metadata": {},
     "output_type": "display_data"
    }
   ],
   "source": [
    "# find out the number of debtors for each group of loan purposes\n",
    "# group the data by the purpose_category column and sum the values by the debt column (its value is 0 or 1)\n",
    "purpose_debt = df.groupby('purpose_category')['debt'].sum()\n",
    "\n",
    "# find out how many debtors are in each group\n",
    "purpose_count = df.groupby('purpose_category')['purpose_category'].count()\n",
    "\n",
    "# calculate the percentage of non-return by dividing the number \n",
    "# of non-return by the total number of people and multiplying by 100\n",
    "purpose_percent = ((df.groupby('purpose_category')['debt'].sum() / df.groupby('purpose_category')['purpose_category'].count()).round(3))*100\n",
    "\n",
    "\n",
    "#print(purpose_debt, purpose_count, purpose_percent)\n",
    "\n",
    "display(pd.concat([purpose_debt, purpose_count, purpose_percent], keys=['Debt', 'Total', 'Percent %'], axis=1).reset_index())\n"
   ]
  },
  {
   "cell_type": "markdown",
   "id": "1ade7d2f",
   "metadata": {},
   "source": [
    "### Conclusion 4.\n",
    "There is a slight correlation by the purpose of the loan: the lowest % of debtors for real estate transactions, the highest % of debtors for car transactions.\n",
    "\n",
    "It should be noted that these data are reliable, because no changes were made to the original data for the analysis."
   ]
  },
  {
   "cell_type": "markdown",
   "id": "a5464bdc",
   "metadata": {},
   "source": [
    "## General conclusion.\n",
    "Let's make a pivot table to justify the general conclusion."
   ]
  },
  {
   "cell_type": "markdown",
   "id": "afc7dc24",
   "metadata": {},
   "source": [
    "From the data obtained as a result of the analysis, it can be concluded that there is indeed a relationship between the number of children, marital status, and the percentage of loan payments.\n",
    "- Minimum arrears rate for widowers 6.56%\n",
    "- The maximum arrears rate for creditors with more than 6 children is 10.52%\n",
    "- The difference between the maximum and minimum percentage of debtors 3.96%\n"
   ]
  },
  {
   "cell_type": "code",
   "execution_count": 23,
   "id": "54fd1ff1",
   "metadata": {
    "scrolled": true
   },
   "outputs": [
    {
     "data": {
      "text/html": [
       "<div>\n",
       "<style scoped>\n",
       "    .dataframe tbody tr th:only-of-type {\n",
       "        vertical-align: middle;\n",
       "    }\n",
       "\n",
       "    .dataframe tbody tr th {\n",
       "        vertical-align: top;\n",
       "    }\n",
       "\n",
       "    .dataframe thead th {\n",
       "        text-align: right;\n",
       "    }\n",
       "</style>\n",
       "<table border=\"1\" class=\"dataframe\">\n",
       "  <thead>\n",
       "    <tr style=\"text-align: right;\">\n",
       "      <th></th>\n",
       "      <th>Mark of group</th>\n",
       "      <th>Count of children</th>\n",
       "      <th>Family status</th>\n",
       "      <th>Group of income</th>\n",
       "      <th>Goal of loan</th>\n",
       "    </tr>\n",
       "  </thead>\n",
       "  <tbody>\n",
       "    <tr>\n",
       "      <th>0</th>\n",
       "      <td>Min</td>\n",
       "      <td>7.51 - no children</td>\n",
       "      <td>6.56 - widower</td>\n",
       "      <td>7.06 - from 200k to 1mln</td>\n",
       "      <td>7.23 - real estate</td>\n",
       "    </tr>\n",
       "    <tr>\n",
       "      <th>1</th>\n",
       "      <td>Max</td>\n",
       "      <td>10.52 - 20 children</td>\n",
       "      <td>7.75 - not married</td>\n",
       "      <td>9.09 - from 0 to 30k</td>\n",
       "      <td>9.35 - car operations</td>\n",
       "    </tr>\n",
       "  </tbody>\n",
       "</table>\n",
       "</div>"
      ],
      "text/plain": [
       "  Mark of group    Count of children       Family status  \\\n",
       "0           Min   7.51 - no children      6.56 - widower   \n",
       "1           Max  10.52 - 20 children  7.75 - not married   \n",
       "\n",
       "            Group of income           Goal of loan  \n",
       "0  7.06 - from 200k to 1mln     7.23 - real estate  \n",
       "1      9.09 - from 0 to 30k  9.35 - car operations  "
      ]
     },
     "metadata": {},
     "output_type": "display_data"
    }
   ],
   "source": [
    "# create a pivot table with the received data\n",
    "data = [['Min', '7.51 - no children', '6.56 - widower','7.06 - from 200k to 1mln', '7.23 - real estate'],\n",
    "       ['Max', '10.52 - 20 children', '7.75 - not married', '9.09 - from 0 to 30k', '9.35 - car operations']]\n",
    "\n",
    "columns = ['Mark of group', 'Count of children','Family status', 'Group of income', 'Goal of loan']\n",
    "\n",
    "research_genres_result = pd.DataFrame(data=data,columns=columns)\n",
    "display(research_genres_result)\n"
   ]
  },
  {
   "cell_type": "markdown",
   "id": "91ff1ecb",
   "metadata": {},
   "source": [
    "From the data obtained as a result of the analysis, the following conclusions can be drawn:\n",
    "- the minimum percentage of non-repayment of 6.56 and 7.06 for widowers, as well as creditors with an income of 200 thousand to 1 million rubles.\n",
    "- the maximum default rate is 10.52 and 9.35 for persons with 6 or more children, as well as the purpose of the loan is \"Car Operations\".\n",
    "- the maximum spread in indicators of loan repayment is 3.96 percent.\n",
    "\n",
    "The maximum variation in loan default was found to be 3.96% between different indicators.\n",
    "\n",
    "The following data were not used in the analysis: work experience, age, education, gender, type of income.\n",
    "Analysis carried out after clarification of the initial data, as well as using the above data, can reveal more significant patterns."
   ]
  },
  {
   "cell_type": "code",
   "execution_count": null,
   "id": "53a932a5",
   "metadata": {},
   "outputs": [],
   "source": []
  }
 ],
 "metadata": {
  "ExecuteTimeLog": [
   {
    "duration": 648,
    "start_time": "2022-02-18T15:05:30.606Z"
   },
   {
    "duration": 46,
    "start_time": "2022-02-18T15:06:01.035Z"
   },
   {
    "duration": 55,
    "start_time": "2022-02-18T15:08:56.227Z"
   },
   {
    "duration": 64,
    "start_time": "2022-02-18T15:10:16.558Z"
   },
   {
    "duration": 298,
    "start_time": "2022-02-18T15:21:11.384Z"
   },
   {
    "duration": -3359,
    "start_time": "2022-02-18T15:21:32.133Z"
   },
   {
    "duration": 5633,
    "start_time": "2022-02-18T15:21:35.445Z"
   },
   {
    "duration": 4,
    "start_time": "2022-02-18T15:22:17.532Z"
   },
   {
    "duration": 4,
    "start_time": "2022-02-18T15:23:17.369Z"
   },
   {
    "duration": 3,
    "start_time": "2022-02-18T15:23:32.345Z"
   },
   {
    "duration": 5,
    "start_time": "2022-02-18T15:24:01.192Z"
   },
   {
    "duration": 68,
    "start_time": "2022-02-18T15:30:35.801Z"
   },
   {
    "duration": 63,
    "start_time": "2022-02-18T15:30:46.161Z"
   },
   {
    "duration": 11,
    "start_time": "2022-02-18T15:48:33.793Z"
   },
   {
    "duration": 18,
    "start_time": "2022-02-18T15:49:00.889Z"
   },
   {
    "duration": 18,
    "start_time": "2022-02-18T15:49:57.289Z"
   },
   {
    "duration": 15,
    "start_time": "2022-02-18T15:52:01.801Z"
   },
   {
    "duration": 5608,
    "start_time": "2022-02-18T15:58:55.648Z"
   },
   {
    "duration": 16,
    "start_time": "2022-02-18T16:00:38.708Z"
   },
   {
    "duration": 59,
    "start_time": "2022-02-18T16:01:15.308Z"
   },
   {
    "duration": 104,
    "start_time": "2022-02-19T05:28:50.094Z"
   },
   {
    "duration": 379,
    "start_time": "2022-02-19T05:29:11.799Z"
   },
   {
    "duration": 834,
    "start_time": "2022-02-19T05:29:26.860Z"
   },
   {
    "duration": 29,
    "start_time": "2022-02-19T05:29:31.081Z"
   },
   {
    "duration": 107,
    "start_time": "2022-02-19T05:35:29.364Z"
   },
   {
    "duration": 118,
    "start_time": "2022-02-19T05:36:38.198Z"
   },
   {
    "duration": 109,
    "start_time": "2022-02-19T05:40:23.958Z"
   },
   {
    "duration": 102,
    "start_time": "2022-02-19T05:42:28.668Z"
   },
   {
    "duration": 27,
    "start_time": "2022-02-19T05:45:43.222Z"
   },
   {
    "duration": 27,
    "start_time": "2022-02-19T05:46:24.514Z"
   },
   {
    "duration": 27,
    "start_time": "2022-02-19T06:09:58.934Z"
   },
   {
    "duration": 27,
    "start_time": "2022-02-19T06:10:12.475Z"
   },
   {
    "duration": 27,
    "start_time": "2022-02-19T06:12:40.890Z"
   },
   {
    "duration": 31,
    "start_time": "2022-02-19T06:13:46.956Z"
   },
   {
    "duration": 123,
    "start_time": "2022-02-19T06:17:54.823Z"
   },
   {
    "duration": 138,
    "start_time": "2022-02-19T06:18:25.676Z"
   },
   {
    "duration": 27,
    "start_time": "2022-02-19T06:18:33.229Z"
   },
   {
    "duration": 106,
    "start_time": "2022-02-19T06:18:37.695Z"
   },
   {
    "duration": 108,
    "start_time": "2022-02-19T06:20:22.195Z"
   },
   {
    "duration": 379,
    "start_time": "2022-02-19T06:21:54.895Z"
   },
   {
    "duration": 365,
    "start_time": "2022-02-19T06:23:14.954Z"
   },
   {
    "duration": 323,
    "start_time": "2022-02-19T06:24:03.570Z"
   },
   {
    "duration": 29,
    "start_time": "2022-02-19T06:24:31.196Z"
   },
   {
    "duration": 151,
    "start_time": "2022-02-19T07:00:46.571Z"
   },
   {
    "duration": 29,
    "start_time": "2022-02-19T07:00:56.383Z"
   },
   {
    "duration": 113,
    "start_time": "2022-02-19T07:03:13.925Z"
   },
   {
    "duration": 27,
    "start_time": "2022-02-19T07:05:30.599Z"
   },
   {
    "duration": 28,
    "start_time": "2022-02-19T07:05:48.843Z"
   },
   {
    "duration": 32,
    "start_time": "2022-02-19T07:06:02.703Z"
   },
   {
    "duration": 29,
    "start_time": "2022-02-19T07:06:07.451Z"
   },
   {
    "duration": 30,
    "start_time": "2022-02-19T07:10:26.942Z"
   },
   {
    "duration": 28,
    "start_time": "2022-02-19T07:44:20.375Z"
   },
   {
    "duration": 36,
    "start_time": "2022-02-19T07:44:39.737Z"
   },
   {
    "duration": 21,
    "start_time": "2022-02-19T07:47:26.676Z"
   },
   {
    "duration": 72,
    "start_time": "2022-02-19T07:57:57.266Z"
   },
   {
    "duration": 37,
    "start_time": "2022-02-19T07:58:15.275Z"
   },
   {
    "duration": 38,
    "start_time": "2022-02-19T07:58:46.365Z"
   },
   {
    "duration": 38,
    "start_time": "2022-02-19T08:00:08.235Z"
   },
   {
    "duration": 14,
    "start_time": "2022-02-19T08:26:02.516Z"
   },
   {
    "duration": 14,
    "start_time": "2022-02-19T09:04:48.867Z"
   },
   {
    "duration": 13,
    "start_time": "2022-02-19T09:05:17.321Z"
   },
   {
    "duration": 14,
    "start_time": "2022-02-19T09:05:31.896Z"
   },
   {
    "duration": 18,
    "start_time": "2022-02-19T09:05:39.429Z"
   },
   {
    "duration": 13,
    "start_time": "2022-02-19T09:05:52.863Z"
   },
   {
    "duration": 12,
    "start_time": "2022-02-19T09:06:02.204Z"
   },
   {
    "duration": 13,
    "start_time": "2022-02-19T09:06:35.784Z"
   },
   {
    "duration": 364,
    "start_time": "2022-02-19T09:08:21.984Z"
   },
   {
    "duration": 331,
    "start_time": "2022-02-19T09:08:28.615Z"
   },
   {
    "duration": 1397,
    "start_time": "2022-02-19T09:09:16.504Z"
   },
   {
    "duration": 103,
    "start_time": "2022-02-19T09:11:26.887Z"
   },
   {
    "duration": 16,
    "start_time": "2022-02-19T09:11:37.224Z"
   },
   {
    "duration": 28,
    "start_time": "2022-02-19T09:13:00.823Z"
   },
   {
    "duration": 37,
    "start_time": "2022-02-19T09:13:10.820Z"
   },
   {
    "duration": 23,
    "start_time": "2022-02-19T09:13:40.163Z"
   },
   {
    "duration": 588,
    "start_time": "2022-02-19T12:09:56.620Z"
   },
   {
    "duration": 61,
    "start_time": "2022-02-19T12:10:45.840Z"
   },
   {
    "duration": 10,
    "start_time": "2022-02-19T12:16:57.908Z"
   },
   {
    "duration": 13,
    "start_time": "2022-02-19T12:22:45.260Z"
   },
   {
    "duration": 13,
    "start_time": "2022-02-19T12:23:56.768Z"
   },
   {
    "duration": 73,
    "start_time": "2022-02-19T12:24:17.454Z"
   },
   {
    "duration": 46,
    "start_time": "2022-02-19T12:24:25.721Z"
   },
   {
    "duration": 16,
    "start_time": "2022-02-19T12:24:29.994Z"
   },
   {
    "duration": 13,
    "start_time": "2022-02-19T12:24:38.041Z"
   },
   {
    "duration": 10,
    "start_time": "2022-02-19T12:25:39.880Z"
   },
   {
    "duration": 202,
    "start_time": "2022-02-19T12:44:41.806Z"
   },
   {
    "duration": 71,
    "start_time": "2022-02-19T12:47:40.135Z"
   },
   {
    "duration": 68,
    "start_time": "2022-02-19T12:47:49.905Z"
   },
   {
    "duration": 60,
    "start_time": "2022-02-19T12:50:40.784Z"
   },
   {
    "duration": 150,
    "start_time": "2022-02-19T12:51:03.185Z"
   },
   {
    "duration": 180,
    "start_time": "2022-02-19T12:56:02.246Z"
   },
   {
    "duration": 139,
    "start_time": "2022-02-19T13:54:24.560Z"
   },
   {
    "duration": 2566,
    "start_time": "2022-02-19T13:54:39.941Z"
   },
   {
    "duration": 2897,
    "start_time": "2022-02-19T14:05:01.803Z"
   },
   {
    "duration": 1837,
    "start_time": "2022-02-19T14:05:38.578Z"
   },
   {
    "duration": 2817,
    "start_time": "2022-02-19T14:06:08.003Z"
   },
   {
    "duration": 5,
    "start_time": "2022-02-19T14:09:48.960Z"
   },
   {
    "duration": -1203,
    "start_time": "2022-02-19T14:10:11.964Z"
   },
   {
    "duration": 4,
    "start_time": "2022-02-19T14:10:27.411Z"
   },
   {
    "duration": 147,
    "start_time": "2022-02-19T14:11:28.913Z"
   },
   {
    "duration": 2555,
    "start_time": "2022-02-19T14:11:42.033Z"
   },
   {
    "duration": 144,
    "start_time": "2022-02-19T14:12:17.572Z"
   },
   {
    "duration": 144,
    "start_time": "2022-02-19T14:15:57.480Z"
   },
   {
    "duration": 183,
    "start_time": "2022-02-19T14:16:08.097Z"
   },
   {
    "duration": 53,
    "start_time": "2022-02-19T14:17:02.842Z"
   },
   {
    "duration": 172,
    "start_time": "2022-02-19T14:17:15.181Z"
   },
   {
    "duration": 11,
    "start_time": "2022-02-19T14:17:40.521Z"
   },
   {
    "duration": 9,
    "start_time": "2022-02-19T14:17:49.286Z"
   },
   {
    "duration": 5,
    "start_time": "2022-02-19T14:18:20.861Z"
   },
   {
    "duration": 149,
    "start_time": "2022-02-19T14:18:34.601Z"
   },
   {
    "duration": 160,
    "start_time": "2022-02-19T14:18:40.763Z"
   },
   {
    "duration": 5,
    "start_time": "2022-02-19T14:20:07.169Z"
   },
   {
    "duration": 4,
    "start_time": "2022-02-19T14:21:26.043Z"
   },
   {
    "duration": 927,
    "start_time": "2022-02-19T14:22:58.763Z"
   },
   {
    "duration": 8,
    "start_time": "2022-02-19T14:23:12.162Z"
   },
   {
    "duration": 54,
    "start_time": "2022-02-19T14:23:37.624Z"
   },
   {
    "duration": 11,
    "start_time": "2022-02-19T14:23:59.862Z"
   },
   {
    "duration": 2671,
    "start_time": "2022-02-19T14:46:50.923Z"
   },
   {
    "duration": 49,
    "start_time": "2022-02-19T14:56:49.129Z"
   },
   {
    "duration": 2593,
    "start_time": "2022-02-19T14:59:26.787Z"
   },
   {
    "duration": 2656,
    "start_time": "2022-02-19T15:03:16.329Z"
   },
   {
    "duration": 2600,
    "start_time": "2022-02-19T15:04:17.417Z"
   },
   {
    "duration": 2601,
    "start_time": "2022-02-19T15:05:20.472Z"
   },
   {
    "duration": 2610,
    "start_time": "2022-02-19T15:07:02.450Z"
   },
   {
    "duration": 2646,
    "start_time": "2022-02-19T15:10:05.313Z"
   },
   {
    "duration": 2671,
    "start_time": "2022-02-19T15:10:29.034Z"
   },
   {
    "duration": 2735,
    "start_time": "2022-02-19T15:10:54.230Z"
   },
   {
    "duration": 6,
    "start_time": "2022-02-19T15:12:16.114Z"
   },
   {
    "duration": 2603,
    "start_time": "2022-02-19T15:13:12.480Z"
   },
   {
    "duration": 136,
    "start_time": "2022-02-19T15:15:37.625Z"
   },
   {
    "duration": 47,
    "start_time": "2022-02-19T15:18:35.423Z"
   },
   {
    "duration": 2659,
    "start_time": "2022-02-19T15:18:44.559Z"
   },
   {
    "duration": 2643,
    "start_time": "2022-02-19T15:20:16.663Z"
   },
   {
    "duration": 49,
    "start_time": "2022-02-19T15:20:47.963Z"
   },
   {
    "duration": 380,
    "start_time": "2022-02-19T15:21:15.917Z"
   },
   {
    "duration": 2725,
    "start_time": "2022-02-19T15:21:40.161Z"
   },
   {
    "duration": 261,
    "start_time": "2022-02-19T15:22:23.881Z"
   },
   {
    "duration": 50,
    "start_time": "2022-02-19T15:23:22.305Z"
   },
   {
    "duration": 362,
    "start_time": "2022-02-19T15:23:37.168Z"
   },
   {
    "duration": 2585,
    "start_time": "2022-02-19T15:23:49.321Z"
   },
   {
    "duration": 2670,
    "start_time": "2022-02-19T15:24:07.315Z"
   },
   {
    "duration": 293,
    "start_time": "2022-02-19T15:26:47.540Z"
   },
   {
    "duration": 16,
    "start_time": "2022-02-19T15:30:26.098Z"
   },
   {
    "duration": 2701,
    "start_time": "2022-02-19T15:31:06.110Z"
   },
   {
    "duration": 2614,
    "start_time": "2022-02-19T16:47:38.092Z"
   },
   {
    "duration": 5373,
    "start_time": "2022-02-19T16:48:47.653Z"
   },
   {
    "duration": 2293,
    "start_time": "2022-02-19T17:03:46.516Z"
   },
   {
    "duration": 137,
    "start_time": "2022-02-19T17:05:22.746Z"
   },
   {
    "duration": 138,
    "start_time": "2022-02-19T17:06:55.906Z"
   },
   {
    "duration": 142,
    "start_time": "2022-02-19T17:07:43.773Z"
   },
   {
    "duration": 151,
    "start_time": "2022-02-19T18:25:44.777Z"
   },
   {
    "duration": 182,
    "start_time": "2022-02-19T18:25:59.262Z"
   },
   {
    "duration": 133,
    "start_time": "2022-02-19T18:26:46.783Z"
   },
   {
    "duration": 137,
    "start_time": "2022-02-19T18:28:59.571Z"
   },
   {
    "duration": 143,
    "start_time": "2022-02-19T18:29:23.295Z"
   },
   {
    "duration": 134,
    "start_time": "2022-02-19T18:29:37.001Z"
   },
   {
    "duration": 58,
    "start_time": "2022-02-19T18:29:49.481Z"
   },
   {
    "duration": 17,
    "start_time": "2022-02-19T18:29:49.541Z"
   },
   {
    "duration": 9,
    "start_time": "2022-02-19T18:29:49.560Z"
   },
   {
    "duration": 11,
    "start_time": "2022-02-19T18:29:54.841Z"
   },
   {
    "duration": 2,
    "start_time": "2022-02-19T18:30:00.201Z"
   },
   {
    "duration": 6,
    "start_time": "2022-02-19T18:30:10.507Z"
   },
   {
    "duration": 8,
    "start_time": "2022-02-19T18:30:13.831Z"
   },
   {
    "duration": 2412,
    "start_time": "2022-02-19T18:30:32.959Z"
   },
   {
    "duration": 10,
    "start_time": "2022-02-19T18:32:30.158Z"
   },
   {
    "duration": 2308,
    "start_time": "2022-02-19T18:32:37.979Z"
   },
   {
    "duration": 73,
    "start_time": "2022-02-19T18:38:53.309Z"
   },
   {
    "duration": 136,
    "start_time": "2022-02-19T18:43:27.036Z"
   },
   {
    "duration": 12,
    "start_time": "2022-02-19T18:43:32.650Z"
   },
   {
    "duration": 8,
    "start_time": "2022-02-19T18:43:37.909Z"
   },
   {
    "duration": 58,
    "start_time": "2022-02-19T18:43:43.520Z"
   },
   {
    "duration": 18,
    "start_time": "2022-02-19T18:43:43.580Z"
   },
   {
    "duration": 9,
    "start_time": "2022-02-19T18:43:43.600Z"
   },
   {
    "duration": 4,
    "start_time": "2022-02-19T18:43:43.611Z"
   },
   {
    "duration": 9,
    "start_time": "2022-02-19T18:43:48.809Z"
   },
   {
    "duration": 151,
    "start_time": "2022-02-19T18:43:50.780Z"
   },
   {
    "duration": 2341,
    "start_time": "2022-02-19T18:53:03.054Z"
   },
   {
    "duration": 1690,
    "start_time": "2022-02-19T18:53:49.703Z"
   },
   {
    "duration": 1752,
    "start_time": "2022-02-19T18:54:05.907Z"
   },
   {
    "duration": 1795,
    "start_time": "2022-02-19T18:54:08.583Z"
   },
   {
    "duration": 149,
    "start_time": "2022-02-19T18:54:17.042Z"
   },
   {
    "duration": 1821,
    "start_time": "2022-02-19T18:54:19.713Z"
   },
   {
    "duration": 65,
    "start_time": "2022-02-19T18:54:27.272Z"
   },
   {
    "duration": 19,
    "start_time": "2022-02-19T18:54:27.339Z"
   },
   {
    "duration": 10,
    "start_time": "2022-02-19T18:54:27.361Z"
   },
   {
    "duration": 5,
    "start_time": "2022-02-19T18:54:27.372Z"
   },
   {
    "duration": 9,
    "start_time": "2022-02-19T18:54:31.552Z"
   },
   {
    "duration": 2372,
    "start_time": "2022-02-19T18:54:35.387Z"
   },
   {
    "duration": 2396,
    "start_time": "2022-02-19T18:58:33.014Z"
   },
   {
    "duration": 2486,
    "start_time": "2022-02-19T19:02:11.777Z"
   },
   {
    "duration": 2427,
    "start_time": "2022-02-19T19:03:06.492Z"
   },
   {
    "duration": 2457,
    "start_time": "2022-02-19T19:06:28.146Z"
   },
   {
    "duration": 2443,
    "start_time": "2022-02-19T19:09:31.515Z"
   },
   {
    "duration": 2439,
    "start_time": "2022-02-19T19:11:55.774Z"
   },
   {
    "duration": 23,
    "start_time": "2022-02-19T19:21:33.799Z"
   },
   {
    "duration": 15,
    "start_time": "2022-02-19T19:24:28.979Z"
   },
   {
    "duration": 16,
    "start_time": "2022-02-19T19:25:15.353Z"
   },
   {
    "duration": 2442,
    "start_time": "2022-02-19T19:25:22.478Z"
   },
   {
    "duration": 12,
    "start_time": "2022-02-19T19:25:32.512Z"
   },
   {
    "duration": 6,
    "start_time": "2022-02-19T19:25:56.072Z"
   },
   {
    "duration": 7,
    "start_time": "2022-02-19T19:25:58.039Z"
   },
   {
    "duration": 2422,
    "start_time": "2022-02-19T19:26:07.337Z"
   },
   {
    "duration": 12,
    "start_time": "2022-02-19T19:27:04.927Z"
   },
   {
    "duration": 5,
    "start_time": "2022-02-19T19:27:12.895Z"
   },
   {
    "duration": 20,
    "start_time": "2022-02-19T19:27:41.427Z"
   },
   {
    "duration": 20,
    "start_time": "2022-02-19T19:28:26.727Z"
   },
   {
    "duration": 20,
    "start_time": "2022-02-19T19:29:41.532Z"
   },
   {
    "duration": 61,
    "start_time": "2022-02-19T19:29:48.152Z"
   },
   {
    "duration": 25,
    "start_time": "2022-02-19T19:29:48.215Z"
   },
   {
    "duration": 22,
    "start_time": "2022-02-19T19:30:10.128Z"
   },
   {
    "duration": 21,
    "start_time": "2022-02-19T19:30:31.906Z"
   },
   {
    "duration": 11,
    "start_time": "2022-02-19T19:30:42.678Z"
   },
   {
    "duration": 13,
    "start_time": "2022-02-19T19:30:52.281Z"
   },
   {
    "duration": 6,
    "start_time": "2022-02-19T19:30:58.216Z"
   },
   {
    "duration": 598,
    "start_time": "2022-02-19T19:31:08.027Z"
   },
   {
    "duration": 142,
    "start_time": "2022-02-19T19:31:20.186Z"
   },
   {
    "duration": 189,
    "start_time": "2022-02-19T19:31:46.356Z"
   },
   {
    "duration": 157,
    "start_time": "2022-02-19T19:32:01.007Z"
   },
   {
    "duration": 160,
    "start_time": "2022-02-19T19:32:21.476Z"
   },
   {
    "duration": 2799,
    "start_time": "2022-02-19T19:33:22.496Z"
   },
   {
    "duration": 61,
    "start_time": "2022-02-19T19:33:55.411Z"
   },
   {
    "duration": 21,
    "start_time": "2022-02-19T19:33:55.474Z"
   },
   {
    "duration": 11,
    "start_time": "2022-02-19T19:33:55.497Z"
   },
   {
    "duration": 6,
    "start_time": "2022-02-19T19:33:55.510Z"
   },
   {
    "duration": 14,
    "start_time": "2022-02-19T19:34:01.656Z"
   },
   {
    "duration": 2785,
    "start_time": "2022-02-19T19:34:06.912Z"
   },
   {
    "duration": 16,
    "start_time": "2022-02-19T19:34:36.860Z"
   },
   {
    "duration": 2769,
    "start_time": "2022-02-19T19:35:07.511Z"
   },
   {
    "duration": 61,
    "start_time": "2022-02-19T19:35:18.011Z"
   },
   {
    "duration": 18,
    "start_time": "2022-02-19T19:35:18.074Z"
   },
   {
    "duration": 8,
    "start_time": "2022-02-19T19:35:18.094Z"
   },
   {
    "duration": 5,
    "start_time": "2022-02-19T19:35:18.104Z"
   },
   {
    "duration": 15,
    "start_time": "2022-02-19T19:35:18.110Z"
   },
   {
    "duration": 163,
    "start_time": "2022-02-19T19:35:41.131Z"
   },
   {
    "duration": 164,
    "start_time": "2022-02-19T19:35:49.360Z"
   },
   {
    "duration": 63,
    "start_time": "2022-02-19T19:35:57.511Z"
   },
   {
    "duration": 19,
    "start_time": "2022-02-19T19:35:57.576Z"
   },
   {
    "duration": 12,
    "start_time": "2022-02-19T19:35:57.597Z"
   },
   {
    "duration": 63,
    "start_time": "2022-02-19T19:36:03.121Z"
   },
   {
    "duration": 20,
    "start_time": "2022-02-19T19:36:03.186Z"
   },
   {
    "duration": 10,
    "start_time": "2022-02-19T19:36:03.208Z"
   },
   {
    "duration": 5,
    "start_time": "2022-02-19T19:36:03.219Z"
   },
   {
    "duration": 2659,
    "start_time": "2022-02-19T19:36:25.361Z"
   },
   {
    "duration": 166,
    "start_time": "2022-02-19T19:40:29.856Z"
   },
   {
    "duration": 60,
    "start_time": "2022-02-19T19:40:40.732Z"
   },
   {
    "duration": 18,
    "start_time": "2022-02-19T19:40:40.794Z"
   },
   {
    "duration": 9,
    "start_time": "2022-02-19T19:40:40.814Z"
   },
   {
    "duration": 4,
    "start_time": "2022-02-19T19:40:40.825Z"
   },
   {
    "duration": 2754,
    "start_time": "2022-02-19T19:40:46.009Z"
   },
   {
    "duration": 214,
    "start_time": "2022-02-19T19:41:06.975Z"
   },
   {
    "duration": 339,
    "start_time": "2022-02-19T19:41:13.335Z"
   },
   {
    "duration": 17,
    "start_time": "2022-02-19T19:41:31.535Z"
   },
   {
    "duration": 18,
    "start_time": "2022-02-19T19:42:13.435Z"
   },
   {
    "duration": 2857,
    "start_time": "2022-02-19T19:42:20.555Z"
   },
   {
    "duration": 67,
    "start_time": "2022-02-19T19:42:30.940Z"
   },
   {
    "duration": 22,
    "start_time": "2022-02-19T19:42:31.010Z"
   },
   {
    "duration": 32,
    "start_time": "2022-02-19T19:42:31.035Z"
   },
   {
    "duration": 6,
    "start_time": "2022-02-19T19:42:31.069Z"
   },
   {
    "duration": 40,
    "start_time": "2022-02-19T19:42:31.076Z"
   },
   {
    "duration": 20,
    "start_time": "2022-02-19T19:42:42.575Z"
   },
   {
    "duration": 28,
    "start_time": "2022-02-19T19:43:16.696Z"
   },
   {
    "duration": 63,
    "start_time": "2022-02-19T19:43:22.650Z"
   },
   {
    "duration": 19,
    "start_time": "2022-02-19T19:43:22.715Z"
   },
   {
    "duration": 31,
    "start_time": "2022-02-19T19:43:22.736Z"
   },
   {
    "duration": 7,
    "start_time": "2022-02-19T19:43:22.769Z"
   },
   {
    "duration": 60,
    "start_time": "2022-02-19T19:43:26.469Z"
   },
   {
    "duration": 18,
    "start_time": "2022-02-19T19:43:26.531Z"
   },
   {
    "duration": 14,
    "start_time": "2022-02-19T19:43:26.551Z"
   },
   {
    "duration": 5,
    "start_time": "2022-02-19T19:43:26.567Z"
   },
   {
    "duration": 20,
    "start_time": "2022-02-19T19:43:26.573Z"
   },
   {
    "duration": 2778,
    "start_time": "2022-02-19T19:43:26.595Z"
   },
   {
    "duration": 22,
    "start_time": "2022-02-19T19:44:55.324Z"
   },
   {
    "duration": 208,
    "start_time": "2022-02-19T19:45:03.894Z"
   },
   {
    "duration": 21,
    "start_time": "2022-02-19T19:45:46.215Z"
   },
   {
    "duration": 2699,
    "start_time": "2022-02-19T19:46:05.909Z"
   },
   {
    "duration": 20,
    "start_time": "2022-02-19T19:46:12.134Z"
   },
   {
    "duration": 2575,
    "start_time": "2022-02-19T19:46:16.789Z"
   },
   {
    "duration": 2700,
    "start_time": "2022-02-19T19:46:25.294Z"
   },
   {
    "duration": 20,
    "start_time": "2022-02-19T20:18:46.937Z"
   },
   {
    "duration": 2674,
    "start_time": "2022-02-19T20:18:57.505Z"
   },
   {
    "duration": 16,
    "start_time": "2022-02-19T20:19:19.177Z"
   },
   {
    "duration": 2657,
    "start_time": "2022-02-19T20:19:23.936Z"
   },
   {
    "duration": 14,
    "start_time": "2022-02-19T20:24:17.443Z"
   },
   {
    "duration": 2724,
    "start_time": "2022-02-19T20:24:22.498Z"
   },
   {
    "duration": 15,
    "start_time": "2022-02-19T20:25:01.809Z"
   },
   {
    "duration": 689,
    "start_time": "2022-02-20T06:52:30.799Z"
   },
   {
    "duration": 5,
    "start_time": "2022-02-20T06:58:40.534Z"
   },
   {
    "duration": 309,
    "start_time": "2022-02-20T07:07:38.662Z"
   },
   {
    "duration": 62,
    "start_time": "2022-02-20T07:07:46.793Z"
   },
   {
    "duration": 16,
    "start_time": "2022-02-20T07:07:46.856Z"
   },
   {
    "duration": 22,
    "start_time": "2022-02-20T07:07:46.874Z"
   },
   {
    "duration": 24,
    "start_time": "2022-02-20T07:07:46.898Z"
   },
   {
    "duration": 9,
    "start_time": "2022-02-20T07:07:46.924Z"
   },
   {
    "duration": 12,
    "start_time": "2022-02-20T07:09:52.681Z"
   },
   {
    "duration": 2495,
    "start_time": "2022-02-20T07:10:07.742Z"
   },
   {
    "duration": 14,
    "start_time": "2022-02-20T07:10:23.642Z"
   },
   {
    "duration": 13,
    "start_time": "2022-02-20T07:12:51.038Z"
   },
   {
    "duration": 12,
    "start_time": "2022-02-20T07:13:59.321Z"
   },
   {
    "duration": 3,
    "start_time": "2022-02-20T07:14:38.203Z"
   },
   {
    "duration": 2392,
    "start_time": "2022-02-20T07:14:56.089Z"
   },
   {
    "duration": 2422,
    "start_time": "2022-02-20T07:16:10.776Z"
   },
   {
    "duration": 55,
    "start_time": "2022-02-20T07:16:19.923Z"
   },
   {
    "duration": 43,
    "start_time": "2022-02-20T07:17:10.742Z"
   },
   {
    "duration": 11,
    "start_time": "2022-02-20T08:01:34.981Z"
   },
   {
    "duration": 3,
    "start_time": "2022-02-20T08:08:48.133Z"
   },
   {
    "duration": 3,
    "start_time": "2022-02-20T08:09:38.126Z"
   },
   {
    "duration": 3,
    "start_time": "2022-02-20T08:09:57.721Z"
   },
   {
    "duration": 5,
    "start_time": "2022-02-20T08:11:27.825Z"
   },
   {
    "duration": 4,
    "start_time": "2022-02-20T08:11:40.061Z"
   },
   {
    "duration": 7,
    "start_time": "2022-02-20T08:45:24.031Z"
   },
   {
    "duration": 18,
    "start_time": "2022-02-20T08:47:12.014Z"
   },
   {
    "duration": 6,
    "start_time": "2022-02-20T08:49:09.604Z"
   },
   {
    "duration": 11,
    "start_time": "2022-02-20T08:49:29.024Z"
   },
   {
    "duration": 11,
    "start_time": "2022-02-20T08:52:46.904Z"
   },
   {
    "duration": 246,
    "start_time": "2022-02-20T08:52:56.343Z"
   },
   {
    "duration": 7,
    "start_time": "2022-02-20T08:53:08.264Z"
   },
   {
    "duration": 275,
    "start_time": "2022-02-20T08:54:14.343Z"
   },
   {
    "duration": 40,
    "start_time": "2022-02-20T08:58:07.993Z"
   },
   {
    "duration": 11,
    "start_time": "2022-02-20T08:59:00.671Z"
   },
   {
    "duration": 5,
    "start_time": "2022-02-20T08:59:26.353Z"
   },
   {
    "duration": 9,
    "start_time": "2022-02-20T08:59:31.773Z"
   },
   {
    "duration": 61,
    "start_time": "2022-02-20T08:59:49.005Z"
   },
   {
    "duration": 17,
    "start_time": "2022-02-20T08:59:49.067Z"
   },
   {
    "duration": 5,
    "start_time": "2022-02-20T08:59:49.086Z"
   },
   {
    "duration": 9,
    "start_time": "2022-02-20T08:59:49.093Z"
   },
   {
    "duration": 4,
    "start_time": "2022-02-20T08:59:49.103Z"
   },
   {
    "duration": 11,
    "start_time": "2022-02-20T08:59:49.132Z"
   },
   {
    "duration": 10,
    "start_time": "2022-02-20T08:59:49.145Z"
   },
   {
    "duration": 35,
    "start_time": "2022-02-20T08:59:49.157Z"
   },
   {
    "duration": 272,
    "start_time": "2022-02-20T08:59:49.193Z"
   },
   {
    "duration": 8,
    "start_time": "2022-02-20T09:00:18.593Z"
   },
   {
    "duration": 258,
    "start_time": "2022-02-20T09:00:41.853Z"
   },
   {
    "duration": 8,
    "start_time": "2022-02-20T09:06:13.250Z"
   },
   {
    "duration": 19,
    "start_time": "2022-02-20T09:07:41.268Z"
   },
   {
    "duration": 8,
    "start_time": "2022-02-20T09:08:04.008Z"
   },
   {
    "duration": 8,
    "start_time": "2022-02-20T09:10:58.581Z"
   },
   {
    "duration": 262,
    "start_time": "2022-02-20T09:11:14.468Z"
   },
   {
    "duration": 245,
    "start_time": "2022-02-20T09:11:26.176Z"
   },
   {
    "duration": 58,
    "start_time": "2022-02-20T09:11:49.429Z"
   },
   {
    "duration": 15,
    "start_time": "2022-02-20T09:11:49.489Z"
   },
   {
    "duration": 4,
    "start_time": "2022-02-20T09:11:49.506Z"
   },
   {
    "duration": 8,
    "start_time": "2022-02-20T09:11:49.512Z"
   },
   {
    "duration": 4,
    "start_time": "2022-02-20T09:11:49.532Z"
   },
   {
    "duration": 13,
    "start_time": "2022-02-20T09:11:49.537Z"
   },
   {
    "duration": 10,
    "start_time": "2022-02-20T09:11:49.552Z"
   },
   {
    "duration": 34,
    "start_time": "2022-02-20T09:11:49.564Z"
   },
   {
    "duration": 245,
    "start_time": "2022-02-20T09:11:49.601Z"
   },
   {
    "duration": 255,
    "start_time": "2022-02-20T09:11:57.068Z"
   },
   {
    "duration": 7,
    "start_time": "2022-02-20T09:12:24.708Z"
   },
   {
    "duration": 248,
    "start_time": "2022-02-20T09:12:54.231Z"
   },
   {
    "duration": 81,
    "start_time": "2022-02-20T09:14:01.872Z"
   },
   {
    "duration": 6,
    "start_time": "2022-02-20T09:14:17.400Z"
   },
   {
    "duration": 13,
    "start_time": "2022-02-20T09:15:11.966Z"
   },
   {
    "duration": 83,
    "start_time": "2022-02-20T09:15:23.226Z"
   },
   {
    "duration": 16,
    "start_time": "2022-02-20T09:15:23.310Z"
   },
   {
    "duration": 17,
    "start_time": "2022-02-20T09:15:23.328Z"
   },
   {
    "duration": 20,
    "start_time": "2022-02-20T09:15:23.347Z"
   },
   {
    "duration": 19,
    "start_time": "2022-02-20T09:15:23.369Z"
   },
   {
    "duration": 25,
    "start_time": "2022-02-20T09:15:23.390Z"
   },
   {
    "duration": 25,
    "start_time": "2022-02-20T09:15:23.417Z"
   },
   {
    "duration": 39,
    "start_time": "2022-02-20T09:15:23.444Z"
   },
   {
    "duration": 11,
    "start_time": "2022-02-20T09:15:23.486Z"
   },
   {
    "duration": 43,
    "start_time": "2022-02-20T09:15:51.180Z"
   },
   {
    "duration": 44,
    "start_time": "2022-02-20T09:17:37.900Z"
   },
   {
    "duration": 61,
    "start_time": "2022-02-20T09:17:45.934Z"
   },
   {
    "duration": 24,
    "start_time": "2022-02-20T09:17:45.997Z"
   },
   {
    "duration": 11,
    "start_time": "2022-02-20T09:17:46.022Z"
   },
   {
    "duration": 17,
    "start_time": "2022-02-20T09:17:46.034Z"
   },
   {
    "duration": 19,
    "start_time": "2022-02-20T09:17:46.052Z"
   },
   {
    "duration": 20,
    "start_time": "2022-02-20T09:17:46.073Z"
   },
   {
    "duration": 12,
    "start_time": "2022-02-20T09:17:46.095Z"
   },
   {
    "duration": 49,
    "start_time": "2022-02-20T09:17:46.109Z"
   },
   {
    "duration": 15,
    "start_time": "2022-02-20T09:17:46.160Z"
   },
   {
    "duration": 70,
    "start_time": "2022-02-20T09:18:11.900Z"
   },
   {
    "duration": 76,
    "start_time": "2022-02-20T09:19:13.501Z"
   },
   {
    "duration": 76,
    "start_time": "2022-02-20T09:19:41.081Z"
   },
   {
    "duration": 12,
    "start_time": "2022-02-20T09:20:34.682Z"
   },
   {
    "duration": 77,
    "start_time": "2022-02-20T09:21:36.841Z"
   },
   {
    "duration": 12,
    "start_time": "2022-02-20T09:21:57.812Z"
   },
   {
    "duration": 66,
    "start_time": "2022-02-20T09:42:55.211Z"
   },
   {
    "duration": 62,
    "start_time": "2022-02-20T09:43:04.048Z"
   },
   {
    "duration": 16,
    "start_time": "2022-02-20T09:43:04.112Z"
   },
   {
    "duration": 5,
    "start_time": "2022-02-20T09:43:04.129Z"
   },
   {
    "duration": 8,
    "start_time": "2022-02-20T09:43:04.135Z"
   },
   {
    "duration": 4,
    "start_time": "2022-02-20T09:43:04.145Z"
   },
   {
    "duration": 11,
    "start_time": "2022-02-20T09:43:04.150Z"
   },
   {
    "duration": 9,
    "start_time": "2022-02-20T09:43:04.162Z"
   },
   {
    "duration": 87,
    "start_time": "2022-02-20T09:43:04.172Z"
   },
   {
    "duration": 12,
    "start_time": "2022-02-20T09:43:04.261Z"
   },
   {
    "duration": 8,
    "start_time": "2022-02-20T09:49:06.523Z"
   },
   {
    "duration": 462,
    "start_time": "2022-02-20T13:54:18.508Z"
   },
   {
    "duration": 924,
    "start_time": "2022-02-20T13:54:27.356Z"
   },
   {
    "duration": 51,
    "start_time": "2022-02-20T13:54:28.284Z"
   },
   {
    "duration": 9,
    "start_time": "2022-02-20T13:54:28.339Z"
   },
   {
    "duration": 22,
    "start_time": "2022-02-20T13:54:28.352Z"
   },
   {
    "duration": 54,
    "start_time": "2022-02-20T13:54:28.378Z"
   },
   {
    "duration": 21,
    "start_time": "2022-02-20T13:54:28.435Z"
   },
   {
    "duration": 67,
    "start_time": "2022-02-20T13:54:28.459Z"
   },
   {
    "duration": 162,
    "start_time": "2022-02-20T13:54:28.529Z"
   },
   {
    "duration": 34,
    "start_time": "2022-02-20T13:54:28.695Z"
   },
   {
    "duration": 365,
    "start_time": "2022-02-20T13:54:34.906Z"
   },
   {
    "duration": 329,
    "start_time": "2022-02-20T13:55:06.086Z"
   },
   {
    "duration": 6,
    "start_time": "2022-02-20T13:55:23.527Z"
   },
   {
    "duration": 130,
    "start_time": "2022-02-20T13:55:43.929Z"
   },
   {
    "duration": 20,
    "start_time": "2022-02-20T13:55:52.068Z"
   },
   {
    "duration": 23,
    "start_time": "2022-02-20T13:56:32.686Z"
   },
   {
    "duration": 14,
    "start_time": "2022-02-20T13:58:08.386Z"
   },
   {
    "duration": 23,
    "start_time": "2022-02-20T14:07:40.922Z"
   },
   {
    "duration": 355,
    "start_time": "2022-02-20T14:07:52.882Z"
   },
   {
    "duration": 317,
    "start_time": "2022-02-20T14:08:23.482Z"
   },
   {
    "duration": 93,
    "start_time": "2022-02-20T14:08:37.141Z"
   },
   {
    "duration": 32,
    "start_time": "2022-02-20T14:08:37.237Z"
   },
   {
    "duration": 8,
    "start_time": "2022-02-20T14:08:37.272Z"
   },
   {
    "duration": 16,
    "start_time": "2022-02-20T14:08:37.328Z"
   },
   {
    "duration": 19,
    "start_time": "2022-02-20T14:08:37.347Z"
   },
   {
    "duration": 75,
    "start_time": "2022-02-20T14:08:37.369Z"
   },
   {
    "duration": 21,
    "start_time": "2022-02-20T14:08:37.446Z"
   },
   {
    "duration": 167,
    "start_time": "2022-02-20T14:08:37.471Z"
   },
   {
    "duration": 16,
    "start_time": "2022-02-20T14:08:37.641Z"
   },
   {
    "duration": 68,
    "start_time": "2022-02-20T14:08:37.661Z"
   },
   {
    "duration": 318,
    "start_time": "2022-02-20T14:09:04.886Z"
   },
   {
    "duration": 91,
    "start_time": "2022-02-20T14:09:10.098Z"
   },
   {
    "duration": 48,
    "start_time": "2022-02-20T14:09:10.192Z"
   },
   {
    "duration": 8,
    "start_time": "2022-02-20T14:09:10.243Z"
   },
   {
    "duration": 16,
    "start_time": "2022-02-20T14:09:10.255Z"
   },
   {
    "duration": 58,
    "start_time": "2022-02-20T14:09:10.274Z"
   },
   {
    "duration": 24,
    "start_time": "2022-02-20T14:09:10.334Z"
   },
   {
    "duration": 73,
    "start_time": "2022-02-20T14:09:10.361Z"
   },
   {
    "duration": 155,
    "start_time": "2022-02-20T14:09:10.436Z"
   },
   {
    "duration": 34,
    "start_time": "2022-02-20T14:09:10.595Z"
   },
   {
    "duration": 28,
    "start_time": "2022-02-20T14:09:10.632Z"
   },
   {
    "duration": 355,
    "start_time": "2022-02-20T14:09:14.914Z"
   },
   {
    "duration": 13,
    "start_time": "2022-02-20T14:09:20.562Z"
   },
   {
    "duration": 357,
    "start_time": "2022-02-20T14:09:23.934Z"
   },
   {
    "duration": 353,
    "start_time": "2022-02-20T14:09:48.209Z"
   },
   {
    "duration": 1066,
    "start_time": "2022-02-20T14:09:50.381Z"
   },
   {
    "duration": 91,
    "start_time": "2022-02-20T14:09:55.713Z"
   },
   {
    "duration": 36,
    "start_time": "2022-02-20T14:09:55.828Z"
   },
   {
    "duration": 7,
    "start_time": "2022-02-20T14:09:55.867Z"
   },
   {
    "duration": 73,
    "start_time": "2022-02-20T14:09:55.877Z"
   },
   {
    "duration": 9,
    "start_time": "2022-02-20T14:09:55.953Z"
   },
   {
    "duration": 26,
    "start_time": "2022-02-20T14:09:55.966Z"
   },
   {
    "duration": 44,
    "start_time": "2022-02-20T14:09:55.995Z"
   },
   {
    "duration": 147,
    "start_time": "2022-02-20T14:09:56.041Z"
   },
   {
    "duration": 38,
    "start_time": "2022-02-20T14:09:56.193Z"
   },
   {
    "duration": 11,
    "start_time": "2022-02-20T14:09:56.235Z"
   },
   {
    "duration": 100,
    "start_time": "2022-02-20T14:10:03.856Z"
   },
   {
    "duration": 33,
    "start_time": "2022-02-20T14:10:03.960Z"
   },
   {
    "duration": 8,
    "start_time": "2022-02-20T14:10:04.026Z"
   },
   {
    "duration": 46,
    "start_time": "2022-02-20T14:10:04.038Z"
   },
   {
    "duration": 29,
    "start_time": "2022-02-20T14:10:04.087Z"
   },
   {
    "duration": 66,
    "start_time": "2022-02-20T14:10:04.119Z"
   },
   {
    "duration": 24,
    "start_time": "2022-02-20T14:10:04.188Z"
   },
   {
    "duration": 130,
    "start_time": "2022-02-20T14:10:04.215Z"
   },
   {
    "duration": 16,
    "start_time": "2022-02-20T14:10:04.349Z"
   },
   {
    "duration": 11,
    "start_time": "2022-02-20T14:10:07.321Z"
   },
   {
    "duration": 22,
    "start_time": "2022-02-20T14:10:14.245Z"
   },
   {
    "duration": 44,
    "start_time": "2022-02-20T14:10:26.542Z"
   },
   {
    "duration": 332,
    "start_time": "2022-02-20T14:15:29.080Z"
   },
   {
    "duration": 133,
    "start_time": "2022-02-20T14:15:38.123Z"
   },
   {
    "duration": 37,
    "start_time": "2022-02-20T14:15:38.259Z"
   },
   {
    "duration": 10,
    "start_time": "2022-02-20T14:15:38.326Z"
   },
   {
    "duration": 25,
    "start_time": "2022-02-20T14:15:38.340Z"
   },
   {
    "duration": 11,
    "start_time": "2022-02-20T14:15:38.368Z"
   },
   {
    "duration": 79,
    "start_time": "2022-02-20T14:15:38.382Z"
   },
   {
    "duration": 33,
    "start_time": "2022-02-20T14:15:38.463Z"
   },
   {
    "duration": 132,
    "start_time": "2022-02-20T14:15:38.525Z"
   },
   {
    "duration": 18,
    "start_time": "2022-02-20T14:15:38.661Z"
   },
   {
    "duration": 50,
    "start_time": "2022-02-20T14:15:40.321Z"
   },
   {
    "duration": -83,
    "start_time": "2022-02-20T14:32:20.646Z"
   },
   {
    "duration": 114,
    "start_time": "2022-02-20T14:32:23.024Z"
   },
   {
    "duration": 34,
    "start_time": "2022-02-20T14:32:23.142Z"
   },
   {
    "duration": 46,
    "start_time": "2022-02-20T14:32:23.180Z"
   },
   {
    "duration": 20,
    "start_time": "2022-02-20T14:32:23.230Z"
   },
   {
    "duration": 11,
    "start_time": "2022-02-20T14:32:23.253Z"
   },
   {
    "duration": 78,
    "start_time": "2022-02-20T14:32:23.268Z"
   },
   {
    "duration": 25,
    "start_time": "2022-02-20T14:32:23.349Z"
   },
   {
    "duration": 222,
    "start_time": "2022-02-20T14:32:23.377Z"
   },
   {
    "duration": 31,
    "start_time": "2022-02-20T14:32:23.603Z"
   },
   {
    "duration": 92,
    "start_time": "2022-02-20T14:32:23.637Z"
   },
   {
    "duration": 8329,
    "start_time": "2022-02-20T14:32:23.733Z"
   },
   {
    "duration": 310,
    "start_time": "2022-02-20T14:33:16.561Z"
   },
   {
    "duration": 10214,
    "start_time": "2022-02-20T14:33:51.242Z"
   },
   {
    "duration": 9238,
    "start_time": "2022-02-20T14:34:13.521Z"
   },
   {
    "duration": 7937,
    "start_time": "2022-02-20T14:34:24.043Z"
   },
   {
    "duration": 14,
    "start_time": "2022-02-20T14:35:15.090Z"
   },
   {
    "duration": 19,
    "start_time": "2022-02-20T14:43:10.919Z"
   },
   {
    "duration": 9,
    "start_time": "2022-02-20T14:43:21.572Z"
   },
   {
    "duration": 102,
    "start_time": "2022-02-20T14:43:26.160Z"
   },
   {
    "duration": 67,
    "start_time": "2022-02-20T14:43:26.265Z"
   },
   {
    "duration": 10,
    "start_time": "2022-02-20T14:43:26.336Z"
   },
   {
    "duration": 21,
    "start_time": "2022-02-20T14:43:26.350Z"
   },
   {
    "duration": 56,
    "start_time": "2022-02-20T14:43:26.375Z"
   },
   {
    "duration": 25,
    "start_time": "2022-02-20T14:43:26.434Z"
   },
   {
    "duration": 68,
    "start_time": "2022-02-20T14:43:26.462Z"
   },
   {
    "duration": 204,
    "start_time": "2022-02-20T14:43:26.533Z"
   },
   {
    "duration": 12,
    "start_time": "2022-02-20T14:43:26.740Z"
   },
   {
    "duration": 86,
    "start_time": "2022-02-20T14:43:26.755Z"
   },
   {
    "duration": 367,
    "start_time": "2022-02-20T14:43:26.843Z"
   },
   {
    "duration": 110,
    "start_time": "2022-02-20T14:45:05.751Z"
   },
   {
    "duration": 314,
    "start_time": "2022-02-20T14:46:39.960Z"
   },
   {
    "duration": 448,
    "start_time": "2022-02-20T14:47:05.700Z"
   },
   {
    "duration": 365,
    "start_time": "2022-02-20T14:47:10.547Z"
   },
   {
    "duration": 393,
    "start_time": "2022-02-20T14:47:33.466Z"
   },
   {
    "duration": 345,
    "start_time": "2022-02-20T14:48:32.260Z"
   },
   {
    "duration": 92,
    "start_time": "2022-02-20T14:48:36.561Z"
   },
   {
    "duration": 34,
    "start_time": "2022-02-20T14:48:36.656Z"
   },
   {
    "duration": 9,
    "start_time": "2022-02-20T14:48:36.726Z"
   },
   {
    "duration": 18,
    "start_time": "2022-02-20T14:48:36.738Z"
   },
   {
    "duration": 14,
    "start_time": "2022-02-20T14:48:36.758Z"
   },
   {
    "duration": 60,
    "start_time": "2022-02-20T14:48:36.775Z"
   },
   {
    "duration": 21,
    "start_time": "2022-02-20T14:48:36.837Z"
   },
   {
    "duration": 145,
    "start_time": "2022-02-20T14:48:36.861Z"
   },
   {
    "duration": 25,
    "start_time": "2022-02-20T14:48:37.010Z"
   },
   {
    "duration": 56,
    "start_time": "2022-02-20T14:48:37.039Z"
   },
   {
    "duration": 386,
    "start_time": "2022-02-20T14:48:37.098Z"
   },
   {
    "duration": 32,
    "start_time": "2022-02-20T14:49:14.780Z"
   },
   {
    "duration": 1385,
    "start_time": "2022-02-20T15:01:27.059Z"
   },
   {
    "duration": 1292,
    "start_time": "2022-02-20T15:01:42.120Z"
   },
   {
    "duration": 1172,
    "start_time": "2022-02-20T15:04:26.999Z"
   },
   {
    "duration": 3194,
    "start_time": "2022-02-20T15:04:43.104Z"
   },
   {
    "duration": 525,
    "start_time": "2022-02-20T15:15:10.840Z"
   },
   {
    "duration": 9,
    "start_time": "2022-02-20T15:15:54.462Z"
   },
   {
    "duration": 1401,
    "start_time": "2022-02-20T15:20:44.078Z"
   },
   {
    "duration": 2271,
    "start_time": "2022-02-20T15:40:08.771Z"
   },
   {
    "duration": 23,
    "start_time": "2022-02-20T15:40:24.498Z"
   },
   {
    "duration": 26,
    "start_time": "2022-02-20T15:40:53.994Z"
   },
   {
    "duration": 2585,
    "start_time": "2022-02-20T15:42:09.209Z"
   },
   {
    "duration": 376,
    "start_time": "2022-02-20T15:42:27.091Z"
   },
   {
    "duration": 28,
    "start_time": "2022-02-20T15:42:47.310Z"
   },
   {
    "duration": 329,
    "start_time": "2022-02-20T15:43:02.218Z"
   },
   {
    "duration": 40,
    "start_time": "2022-02-20T15:43:09.130Z"
   },
   {
    "duration": 14792,
    "start_time": "2022-02-20T15:44:31.978Z"
   },
   {
    "duration": 43,
    "start_time": "2022-02-20T15:45:01.058Z"
   },
   {
    "duration": 43,
    "start_time": "2022-02-20T15:45:27.652Z"
   },
   {
    "duration": 21,
    "start_time": "2022-02-20T15:53:56.160Z"
   },
   {
    "duration": 40,
    "start_time": "2022-02-20T15:54:13.721Z"
   },
   {
    "duration": 40,
    "start_time": "2022-02-20T15:59:04.141Z"
   },
   {
    "duration": 60,
    "start_time": "2022-02-20T16:09:45.590Z"
   },
   {
    "duration": 106,
    "start_time": "2022-02-20T16:19:34.068Z"
   },
   {
    "duration": 100,
    "start_time": "2022-02-20T16:20:17.282Z"
   },
   {
    "duration": 77,
    "start_time": "2022-02-20T16:20:43.818Z"
   },
   {
    "duration": 21,
    "start_time": "2022-02-20T16:45:24.400Z"
   },
   {
    "duration": 8,
    "start_time": "2022-02-20T16:46:11.767Z"
   },
   {
    "duration": 7,
    "start_time": "2022-02-20T16:46:45.620Z"
   },
   {
    "duration": 11,
    "start_time": "2022-02-20T16:47:21.599Z"
   },
   {
    "duration": 9,
    "start_time": "2022-02-20T16:47:30.920Z"
   },
   {
    "duration": 11,
    "start_time": "2022-02-20T16:47:53.939Z"
   },
   {
    "duration": 26,
    "start_time": "2022-02-20T16:53:05.812Z"
   },
   {
    "duration": 490,
    "start_time": "2022-02-20T16:53:34.399Z"
   },
   {
    "duration": 442,
    "start_time": "2022-02-20T16:53:43.420Z"
   },
   {
    "duration": 299,
    "start_time": "2022-02-20T16:53:51.261Z"
   },
   {
    "duration": 4,
    "start_time": "2022-02-20T16:53:58.805Z"
   },
   {
    "duration": 24,
    "start_time": "2022-02-20T16:54:08.227Z"
   },
   {
    "duration": 10,
    "start_time": "2022-02-20T16:54:20.540Z"
   },
   {
    "duration": 13,
    "start_time": "2022-02-20T16:55:24.940Z"
   },
   {
    "duration": 13,
    "start_time": "2022-02-20T16:57:47.704Z"
   },
   {
    "duration": 15,
    "start_time": "2022-02-20T16:59:15.884Z"
   },
   {
    "duration": 19,
    "start_time": "2022-02-20T17:00:37.284Z"
   },
   {
    "duration": 151,
    "start_time": "2022-02-20T17:02:23.884Z"
   },
   {
    "duration": 661,
    "start_time": "2022-02-22T13:28:48.818Z"
   },
   {
    "duration": 17,
    "start_time": "2022-02-22T13:28:49.480Z"
   },
   {
    "duration": 5,
    "start_time": "2022-02-22T13:28:49.499Z"
   },
   {
    "duration": 32,
    "start_time": "2022-02-22T13:28:49.506Z"
   },
   {
    "duration": 21,
    "start_time": "2022-02-22T13:28:49.539Z"
   },
   {
    "duration": 34,
    "start_time": "2022-02-22T13:28:49.562Z"
   },
   {
    "duration": 12,
    "start_time": "2022-02-22T13:28:49.598Z"
   },
   {
    "duration": 68,
    "start_time": "2022-02-22T13:28:49.612Z"
   },
   {
    "duration": 7,
    "start_time": "2022-02-22T13:28:49.682Z"
   },
   {
    "duration": 41,
    "start_time": "2022-02-22T13:28:49.691Z"
   },
   {
    "duration": 22,
    "start_time": "2022-02-22T13:28:49.734Z"
   },
   {
    "duration": 11,
    "start_time": "2022-02-22T13:28:49.757Z"
   },
   {
    "duration": 80,
    "start_time": "2022-02-22T13:28:49.770Z"
   },
   {
    "duration": 11,
    "start_time": "2022-02-22T13:28:49.851Z"
   },
   {
    "duration": 88,
    "start_time": "2022-02-22T16:02:25.931Z"
   },
   {
    "duration": 5,
    "start_time": "2022-02-22T16:08:50.451Z"
   },
   {
    "duration": 1000,
    "start_time": "2022-02-22T16:13:32.262Z"
   },
   {
    "duration": 88,
    "start_time": "2022-02-22T16:16:04.275Z"
   },
   {
    "duration": 10,
    "start_time": "2022-02-22T16:16:15.211Z"
   },
   {
    "duration": 73,
    "start_time": "2022-02-22T16:16:29.511Z"
   },
   {
    "duration": 16,
    "start_time": "2022-02-22T16:16:29.586Z"
   },
   {
    "duration": 28,
    "start_time": "2022-02-22T16:16:29.604Z"
   },
   {
    "duration": 15,
    "start_time": "2022-02-22T16:16:29.634Z"
   },
   {
    "duration": 5,
    "start_time": "2022-02-22T16:16:29.651Z"
   },
   {
    "duration": 12,
    "start_time": "2022-02-22T16:16:29.657Z"
   },
   {
    "duration": 11,
    "start_time": "2022-02-22T16:16:29.671Z"
   },
   {
    "duration": 111,
    "start_time": "2022-02-22T16:16:29.683Z"
   },
   {
    "duration": 7,
    "start_time": "2022-02-22T16:16:29.796Z"
   },
   {
    "duration": 50,
    "start_time": "2022-02-22T16:16:29.805Z"
   },
   {
    "duration": 20,
    "start_time": "2022-02-22T16:16:29.857Z"
   },
   {
    "duration": 10,
    "start_time": "2022-02-22T16:16:29.879Z"
   },
   {
    "duration": 96,
    "start_time": "2022-02-22T16:16:29.891Z"
   },
   {
    "duration": 12,
    "start_time": "2022-02-22T16:16:29.988Z"
   },
   {
    "duration": 13,
    "start_time": "2022-02-22T16:17:06.830Z"
   },
   {
    "duration": 78,
    "start_time": "2022-02-22T16:17:12.810Z"
   },
   {
    "duration": 16,
    "start_time": "2022-02-22T16:17:12.890Z"
   },
   {
    "duration": 7,
    "start_time": "2022-02-22T16:17:12.932Z"
   },
   {
    "duration": 12,
    "start_time": "2022-02-22T16:17:12.942Z"
   },
   {
    "duration": 5,
    "start_time": "2022-02-22T16:17:12.955Z"
   },
   {
    "duration": 15,
    "start_time": "2022-02-22T16:17:12.962Z"
   },
   {
    "duration": 10,
    "start_time": "2022-02-22T16:17:12.979Z"
   },
   {
    "duration": 70,
    "start_time": "2022-02-22T16:17:13.031Z"
   },
   {
    "duration": 7,
    "start_time": "2022-02-22T16:17:13.104Z"
   },
   {
    "duration": 29,
    "start_time": "2022-02-22T16:17:13.132Z"
   },
   {
    "duration": 21,
    "start_time": "2022-02-22T16:17:13.163Z"
   },
   {
    "duration": 48,
    "start_time": "2022-02-22T16:17:13.185Z"
   },
   {
    "duration": 61,
    "start_time": "2022-02-22T16:17:13.235Z"
   },
   {
    "duration": 37,
    "start_time": "2022-02-22T16:17:13.298Z"
   },
   {
    "duration": 12,
    "start_time": "2022-02-22T16:20:02.816Z"
   },
   {
    "duration": 11,
    "start_time": "2022-02-22T16:20:25.619Z"
   },
   {
    "duration": 6,
    "start_time": "2022-02-22T16:23:35.630Z"
   },
   {
    "duration": 9,
    "start_time": "2022-02-22T16:23:45.611Z"
   },
   {
    "duration": 63,
    "start_time": "2022-02-22T16:24:07.398Z"
   },
   {
    "duration": 22,
    "start_time": "2022-02-22T16:24:07.463Z"
   },
   {
    "duration": 6,
    "start_time": "2022-02-22T16:24:07.487Z"
   },
   {
    "duration": 63,
    "start_time": "2022-02-22T16:24:13.779Z"
   },
   {
    "duration": 16,
    "start_time": "2022-02-22T16:24:13.844Z"
   },
   {
    "duration": 32,
    "start_time": "2022-02-22T16:24:13.862Z"
   },
   {
    "duration": 10,
    "start_time": "2022-02-22T16:24:17.351Z"
   },
   {
    "duration": 6,
    "start_time": "2022-02-22T16:24:22.230Z"
   },
   {
    "duration": 9,
    "start_time": "2022-02-22T16:24:24.769Z"
   },
   {
    "duration": 7,
    "start_time": "2022-02-22T16:24:31.611Z"
   },
   {
    "duration": 66,
    "start_time": "2022-02-22T16:24:45.070Z"
   },
   {
    "duration": 17,
    "start_time": "2022-02-22T16:24:45.151Z"
   },
   {
    "duration": 5,
    "start_time": "2022-02-22T16:24:45.170Z"
   },
   {
    "duration": 10,
    "start_time": "2022-02-22T16:24:47.591Z"
   },
   {
    "duration": 7,
    "start_time": "2022-02-22T16:25:34.890Z"
   },
   {
    "duration": 13,
    "start_time": "2022-02-22T16:25:39.412Z"
   },
   {
    "duration": 71,
    "start_time": "2022-02-22T16:25:46.109Z"
   },
   {
    "duration": 18,
    "start_time": "2022-02-22T16:25:46.182Z"
   },
   {
    "duration": 4,
    "start_time": "2022-02-22T16:25:46.202Z"
   },
   {
    "duration": 6,
    "start_time": "2022-02-22T16:26:03.790Z"
   },
   {
    "duration": 5,
    "start_time": "2022-02-22T16:26:24.930Z"
   },
   {
    "duration": 11,
    "start_time": "2022-02-22T16:27:12.070Z"
   },
   {
    "duration": 13,
    "start_time": "2022-02-22T16:27:27.630Z"
   },
   {
    "duration": 13,
    "start_time": "2022-02-22T16:28:02.370Z"
   },
   {
    "duration": 12,
    "start_time": "2022-02-22T16:28:57.590Z"
   },
   {
    "duration": 8,
    "start_time": "2022-02-22T16:31:25.990Z"
   },
   {
    "duration": 22,
    "start_time": "2022-02-22T16:34:58.550Z"
   },
   {
    "duration": 23,
    "start_time": "2022-02-22T16:41:09.544Z"
   },
   {
    "duration": 12,
    "start_time": "2022-02-22T16:43:37.409Z"
   },
   {
    "duration": 44,
    "start_time": "2022-02-22T16:55:10.169Z"
   },
   {
    "duration": 40,
    "start_time": "2022-02-22T16:59:48.284Z"
   },
   {
    "duration": 44,
    "start_time": "2022-02-22T17:00:27.140Z"
   },
   {
    "duration": 14,
    "start_time": "2022-02-22T17:48:37.016Z"
   },
   {
    "duration": 16,
    "start_time": "2022-02-22T17:50:14.448Z"
   },
   {
    "duration": 346,
    "start_time": "2022-02-22T17:51:29.695Z"
   },
   {
    "duration": 86,
    "start_time": "2022-02-22T17:51:37.813Z"
   },
   {
    "duration": 11,
    "start_time": "2022-02-22T17:51:58.410Z"
   },
   {
    "duration": 14,
    "start_time": "2022-02-22T17:52:14.747Z"
   },
   {
    "duration": 303,
    "start_time": "2022-02-22T17:53:10.588Z"
   },
   {
    "duration": 14,
    "start_time": "2022-02-22T17:53:23.915Z"
   },
   {
    "duration": 15,
    "start_time": "2022-02-22T17:54:25.963Z"
   },
   {
    "duration": 16,
    "start_time": "2022-02-22T17:59:33.975Z"
   },
   {
    "duration": 17,
    "start_time": "2022-02-22T17:59:57.978Z"
   },
   {
    "duration": 24,
    "start_time": "2022-02-22T18:03:22.837Z"
   },
   {
    "duration": 26,
    "start_time": "2022-02-22T18:03:43.936Z"
   },
   {
    "duration": 23,
    "start_time": "2022-02-22T18:05:20.797Z"
   },
   {
    "duration": 28,
    "start_time": "2022-02-22T18:05:42.064Z"
   },
   {
    "duration": 29,
    "start_time": "2022-02-22T18:06:12.773Z"
   },
   {
    "duration": 29,
    "start_time": "2022-02-22T18:06:48.157Z"
   },
   {
    "duration": 30,
    "start_time": "2022-02-22T18:08:07.844Z"
   },
   {
    "duration": 304,
    "start_time": "2022-02-22T18:11:09.222Z"
   },
   {
    "duration": 21,
    "start_time": "2022-02-22T18:11:34.049Z"
   },
   {
    "duration": 20,
    "start_time": "2022-02-22T18:12:03.664Z"
   },
   {
    "duration": 19,
    "start_time": "2022-02-22T18:15:52.252Z"
   },
   {
    "duration": 18,
    "start_time": "2022-02-22T18:17:58.095Z"
   },
   {
    "duration": 19,
    "start_time": "2022-02-22T18:22:15.596Z"
   },
   {
    "duration": 27,
    "start_time": "2022-02-22T18:22:34.016Z"
   },
   {
    "duration": 18,
    "start_time": "2022-02-22T18:22:53.086Z"
   },
   {
    "duration": 19,
    "start_time": "2022-02-22T18:23:42.277Z"
   },
   {
    "duration": 27,
    "start_time": "2022-02-22T18:24:35.017Z"
   },
   {
    "duration": 17,
    "start_time": "2022-02-22T18:24:45.938Z"
   },
   {
    "duration": 18,
    "start_time": "2022-02-22T18:27:35.644Z"
   },
   {
    "duration": 17,
    "start_time": "2022-02-22T18:29:00.777Z"
   },
   {
    "duration": 18,
    "start_time": "2022-02-22T18:31:46.576Z"
   },
   {
    "duration": 283,
    "start_time": "2022-02-23T07:30:10.706Z"
   },
   {
    "duration": 632,
    "start_time": "2022-02-23T07:30:17.446Z"
   },
   {
    "duration": 16,
    "start_time": "2022-02-23T07:30:18.079Z"
   },
   {
    "duration": 6,
    "start_time": "2022-02-23T07:30:18.097Z"
   },
   {
    "duration": 31,
    "start_time": "2022-02-23T07:30:18.105Z"
   },
   {
    "duration": 4,
    "start_time": "2022-02-23T07:30:18.138Z"
   },
   {
    "duration": 12,
    "start_time": "2022-02-23T07:30:18.144Z"
   },
   {
    "duration": 11,
    "start_time": "2022-02-23T07:30:18.157Z"
   },
   {
    "duration": 102,
    "start_time": "2022-02-23T07:30:18.169Z"
   },
   {
    "duration": 8,
    "start_time": "2022-02-23T07:30:18.273Z"
   },
   {
    "duration": 23,
    "start_time": "2022-02-23T07:30:18.282Z"
   },
   {
    "duration": 42,
    "start_time": "2022-02-23T07:30:18.307Z"
   },
   {
    "duration": 11,
    "start_time": "2022-02-23T07:30:18.350Z"
   },
   {
    "duration": 77,
    "start_time": "2022-02-23T07:30:18.362Z"
   },
   {
    "duration": 21,
    "start_time": "2022-02-23T07:30:18.440Z"
   },
   {
    "duration": 15,
    "start_time": "2022-02-23T07:30:18.463Z"
   },
   {
    "duration": 26,
    "start_time": "2022-02-23T07:32:23.497Z"
   },
   {
    "duration": 17,
    "start_time": "2022-02-23T07:40:18.134Z"
   },
   {
    "duration": 17,
    "start_time": "2022-02-23T07:40:41.244Z"
   },
   {
    "duration": 262,
    "start_time": "2022-02-23T07:46:55.830Z"
   },
   {
    "duration": 63,
    "start_time": "2022-02-23T07:47:00.511Z"
   },
   {
    "duration": 18,
    "start_time": "2022-02-23T07:47:00.576Z"
   },
   {
    "duration": 21,
    "start_time": "2022-02-23T07:47:00.595Z"
   },
   {
    "duration": 18,
    "start_time": "2022-02-23T07:47:00.618Z"
   },
   {
    "duration": 12,
    "start_time": "2022-02-23T07:47:00.637Z"
   },
   {
    "duration": 31,
    "start_time": "2022-02-23T07:47:00.650Z"
   },
   {
    "duration": 25,
    "start_time": "2022-02-23T07:47:00.683Z"
   },
   {
    "duration": 75,
    "start_time": "2022-02-23T07:47:00.710Z"
   },
   {
    "duration": 7,
    "start_time": "2022-02-23T07:47:00.787Z"
   },
   {
    "duration": 47,
    "start_time": "2022-02-23T07:47:00.795Z"
   },
   {
    "duration": 24,
    "start_time": "2022-02-23T07:47:00.844Z"
   },
   {
    "duration": 16,
    "start_time": "2022-02-23T07:47:00.870Z"
   },
   {
    "duration": 98,
    "start_time": "2022-02-23T07:47:00.888Z"
   },
   {
    "duration": 22,
    "start_time": "2022-02-23T07:47:00.988Z"
   },
   {
    "duration": 251,
    "start_time": "2022-02-23T07:47:01.031Z"
   },
   {
    "duration": 262,
    "start_time": "2022-02-23T07:48:00.147Z"
   },
   {
    "duration": 60,
    "start_time": "2022-02-23T07:48:04.543Z"
   },
   {
    "duration": 18,
    "start_time": "2022-02-23T07:48:04.605Z"
   },
   {
    "duration": 21,
    "start_time": "2022-02-23T07:48:04.625Z"
   },
   {
    "duration": 11,
    "start_time": "2022-02-23T07:48:04.648Z"
   },
   {
    "duration": 9,
    "start_time": "2022-02-23T07:48:04.661Z"
   },
   {
    "duration": 18,
    "start_time": "2022-02-23T07:48:04.671Z"
   },
   {
    "duration": 26,
    "start_time": "2022-02-23T07:48:04.690Z"
   },
   {
    "duration": 76,
    "start_time": "2022-02-23T07:48:04.718Z"
   },
   {
    "duration": 7,
    "start_time": "2022-02-23T07:48:04.797Z"
   },
   {
    "duration": 51,
    "start_time": "2022-02-23T07:48:04.806Z"
   },
   {
    "duration": 24,
    "start_time": "2022-02-23T07:48:04.859Z"
   },
   {
    "duration": 12,
    "start_time": "2022-02-23T07:48:04.885Z"
   },
   {
    "duration": 72,
    "start_time": "2022-02-23T07:48:04.899Z"
   },
   {
    "duration": 19,
    "start_time": "2022-02-23T07:48:04.973Z"
   },
   {
    "duration": 293,
    "start_time": "2022-02-23T07:48:04.993Z"
   },
   {
    "duration": 247,
    "start_time": "2022-02-23T07:49:54.662Z"
   },
   {
    "duration": 63,
    "start_time": "2022-02-23T07:50:01.726Z"
   },
   {
    "duration": 20,
    "start_time": "2022-02-23T07:50:01.792Z"
   },
   {
    "duration": 23,
    "start_time": "2022-02-23T07:50:01.814Z"
   },
   {
    "duration": 12,
    "start_time": "2022-02-23T07:50:01.840Z"
   },
   {
    "duration": 5,
    "start_time": "2022-02-23T07:50:01.853Z"
   },
   {
    "duration": 17,
    "start_time": "2022-02-23T07:50:01.859Z"
   },
   {
    "duration": 54,
    "start_time": "2022-02-23T07:50:01.878Z"
   },
   {
    "duration": 70,
    "start_time": "2022-02-23T07:50:01.934Z"
   },
   {
    "duration": 26,
    "start_time": "2022-02-23T07:50:02.006Z"
   },
   {
    "duration": 24,
    "start_time": "2022-02-23T07:50:02.034Z"
   },
   {
    "duration": 24,
    "start_time": "2022-02-23T07:50:02.060Z"
   },
   {
    "duration": 47,
    "start_time": "2022-02-23T07:50:02.086Z"
   },
   {
    "duration": 57,
    "start_time": "2022-02-23T07:50:02.205Z"
   },
   {
    "duration": 22,
    "start_time": "2022-02-23T07:50:02.264Z"
   },
   {
    "duration": 20,
    "start_time": "2022-02-23T07:50:02.288Z"
   },
   {
    "duration": 23,
    "start_time": "2022-02-23T07:51:55.945Z"
   },
   {
    "duration": 26,
    "start_time": "2022-02-23T07:54:35.676Z"
   },
   {
    "duration": 26,
    "start_time": "2022-02-23T07:56:18.557Z"
   },
   {
    "duration": 25,
    "start_time": "2022-02-23T07:58:16.895Z"
   },
   {
    "duration": 21,
    "start_time": "2022-02-23T08:20:04.621Z"
   },
   {
    "duration": 19,
    "start_time": "2022-02-23T08:20:41.708Z"
   },
   {
    "duration": 19,
    "start_time": "2022-02-23T08:24:44.301Z"
   },
   {
    "duration": 21,
    "start_time": "2022-02-23T08:27:31.173Z"
   },
   {
    "duration": 20,
    "start_time": "2022-02-23T08:30:52.488Z"
   },
   {
    "duration": 24,
    "start_time": "2022-02-23T08:34:31.360Z"
   },
   {
    "duration": 19,
    "start_time": "2022-02-23T08:34:45.921Z"
   },
   {
    "duration": 23,
    "start_time": "2022-02-23T09:06:44.684Z"
   },
   {
    "duration": 23,
    "start_time": "2022-02-23T09:08:49.248Z"
   },
   {
    "duration": 24,
    "start_time": "2022-02-23T09:10:05.014Z"
   },
   {
    "duration": 25,
    "start_time": "2022-02-23T09:11:52.636Z"
   },
   {
    "duration": 8,
    "start_time": "2022-02-23T09:32:17.004Z"
   },
   {
    "duration": 9,
    "start_time": "2022-02-23T09:33:30.602Z"
   },
   {
    "duration": 9,
    "start_time": "2022-02-23T09:34:32.021Z"
   },
   {
    "duration": 1207,
    "start_time": "2022-02-23T09:35:35.770Z"
   },
   {
    "duration": 9,
    "start_time": "2022-02-23T09:35:58.845Z"
   },
   {
    "duration": 9,
    "start_time": "2022-02-23T09:40:31.662Z"
   },
   {
    "duration": 11,
    "start_time": "2022-02-23T09:41:12.325Z"
   },
   {
    "duration": 432,
    "start_time": "2022-02-23T09:42:22.330Z"
   },
   {
    "duration": 10,
    "start_time": "2022-02-23T09:42:52.829Z"
   },
   {
    "duration": 9,
    "start_time": "2022-02-23T09:43:10.906Z"
   },
   {
    "duration": 62,
    "start_time": "2022-02-23T09:59:04.250Z"
   },
   {
    "duration": 22,
    "start_time": "2022-02-23T09:59:04.314Z"
   },
   {
    "duration": 5,
    "start_time": "2022-02-23T09:59:04.338Z"
   },
   {
    "duration": 11,
    "start_time": "2022-02-23T09:59:04.344Z"
   },
   {
    "duration": 4,
    "start_time": "2022-02-23T09:59:04.356Z"
   },
   {
    "duration": 17,
    "start_time": "2022-02-23T09:59:04.362Z"
   },
   {
    "duration": 12,
    "start_time": "2022-02-23T09:59:04.380Z"
   },
   {
    "duration": 63,
    "start_time": "2022-02-23T09:59:04.433Z"
   },
   {
    "duration": 33,
    "start_time": "2022-02-23T09:59:04.499Z"
   },
   {
    "duration": 24,
    "start_time": "2022-02-23T09:59:04.534Z"
   },
   {
    "duration": 19,
    "start_time": "2022-02-23T09:59:04.560Z"
   },
   {
    "duration": 11,
    "start_time": "2022-02-23T09:59:04.581Z"
   },
   {
    "duration": 92,
    "start_time": "2022-02-23T09:59:04.594Z"
   },
   {
    "duration": 21,
    "start_time": "2022-02-23T09:59:04.688Z"
   },
   {
    "duration": 23,
    "start_time": "2022-02-23T09:59:04.731Z"
   },
   {
    "duration": 19,
    "start_time": "2022-02-23T09:59:04.755Z"
   },
   {
    "duration": 21,
    "start_time": "2022-02-23T09:59:04.776Z"
   },
   {
    "duration": 40,
    "start_time": "2022-02-23T09:59:04.799Z"
   },
   {
    "duration": 23,
    "start_time": "2022-02-23T10:02:37.080Z"
   },
   {
    "duration": 9,
    "start_time": "2022-02-23T10:10:29.265Z"
   },
   {
    "duration": 9,
    "start_time": "2022-02-23T10:11:50.945Z"
   },
   {
    "duration": 17,
    "start_time": "2022-02-23T10:15:48.889Z"
   },
   {
    "duration": 24,
    "start_time": "2022-02-23T10:16:48.168Z"
   },
   {
    "duration": 20,
    "start_time": "2022-02-23T10:17:06.567Z"
   },
   {
    "duration": 22,
    "start_time": "2022-02-23T10:17:40.288Z"
   },
   {
    "duration": 15,
    "start_time": "2022-02-23T10:19:33.006Z"
   },
   {
    "duration": 11,
    "start_time": "2022-02-23T10:19:54.564Z"
   },
   {
    "duration": 67,
    "start_time": "2022-02-23T10:36:10.627Z"
   },
   {
    "duration": 19,
    "start_time": "2022-02-23T10:36:10.697Z"
   },
   {
    "duration": 6,
    "start_time": "2022-02-23T10:36:10.733Z"
   },
   {
    "duration": 10,
    "start_time": "2022-02-23T10:36:10.750Z"
   },
   {
    "duration": 6,
    "start_time": "2022-02-23T10:36:10.762Z"
   },
   {
    "duration": 13,
    "start_time": "2022-02-23T10:36:10.770Z"
   },
   {
    "duration": 53,
    "start_time": "2022-02-23T10:36:10.785Z"
   },
   {
    "duration": 60,
    "start_time": "2022-02-23T10:36:10.840Z"
   },
   {
    "duration": 37,
    "start_time": "2022-02-23T10:36:10.901Z"
   },
   {
    "duration": 21,
    "start_time": "2022-02-23T10:36:10.939Z"
   },
   {
    "duration": 21,
    "start_time": "2022-02-23T10:36:10.962Z"
   },
   {
    "duration": 49,
    "start_time": "2022-02-23T10:36:10.984Z"
   },
   {
    "duration": 55,
    "start_time": "2022-02-23T10:36:11.034Z"
   },
   {
    "duration": 19,
    "start_time": "2022-02-23T10:36:11.090Z"
   },
   {
    "duration": 44,
    "start_time": "2022-02-23T10:36:11.110Z"
   },
   {
    "duration": 17,
    "start_time": "2022-02-23T10:36:11.156Z"
   },
   {
    "duration": 20,
    "start_time": "2022-02-23T10:36:11.175Z"
   },
   {
    "duration": 10,
    "start_time": "2022-02-23T10:36:11.232Z"
   },
   {
    "duration": 8,
    "start_time": "2022-02-23T10:36:11.243Z"
   },
   {
    "duration": 9,
    "start_time": "2022-02-23T10:37:41.315Z"
   },
   {
    "duration": 892,
    "start_time": "2022-03-05T21:19:10.207Z"
   },
   {
    "duration": 39,
    "start_time": "2022-03-05T21:19:11.105Z"
   },
   {
    "duration": 37,
    "start_time": "2022-03-05T21:19:11.148Z"
   },
   {
    "duration": 15,
    "start_time": "2022-03-05T21:19:11.196Z"
   },
   {
    "duration": 10,
    "start_time": "2022-03-05T21:19:11.214Z"
   },
   {
    "duration": 27,
    "start_time": "2022-03-05T21:19:11.226Z"
   },
   {
    "duration": 45,
    "start_time": "2022-03-05T21:19:11.256Z"
   },
   {
    "duration": 138,
    "start_time": "2022-03-05T21:19:11.305Z"
   },
   {
    "duration": 13,
    "start_time": "2022-03-05T21:19:11.446Z"
   },
   {
    "duration": 42,
    "start_time": "2022-03-05T21:19:11.482Z"
   },
   {
    "duration": 68,
    "start_time": "2022-03-05T21:19:11.527Z"
   },
   {
    "duration": 27,
    "start_time": "2022-03-05T21:19:11.598Z"
   },
   {
    "duration": 111,
    "start_time": "2022-03-05T21:19:11.627Z"
   },
   {
    "duration": 50,
    "start_time": "2022-03-05T21:19:11.740Z"
   },
   {
    "duration": 50,
    "start_time": "2022-03-05T21:19:11.793Z"
   },
   {
    "duration": 80,
    "start_time": "2022-03-05T21:19:11.846Z"
   },
   {
    "duration": 63,
    "start_time": "2022-03-05T21:19:11.929Z"
   },
   {
    "duration": 17,
    "start_time": "2022-03-05T21:19:11.995Z"
   },
   {
    "duration": 27,
    "start_time": "2022-03-05T21:19:12.015Z"
   },
   {
    "duration": 13,
    "start_time": "2022-03-05T21:24:07.538Z"
   },
   {
    "duration": 14,
    "start_time": "2022-03-05T21:24:54.407Z"
   },
   {
    "duration": 48,
    "start_time": "2022-03-05T21:25:12.488Z"
   },
   {
    "duration": 19,
    "start_time": "2022-03-05T21:26:06.308Z"
   },
   {
    "duration": 68,
    "start_time": "2022-03-16T14:11:42.790Z"
   },
   {
    "duration": 182,
    "start_time": "2022-03-16T15:29:28.563Z"
   },
   {
    "duration": 565,
    "start_time": "2022-03-16T15:29:35.012Z"
   },
   {
    "duration": 71,
    "start_time": "2022-03-16T15:29:35.579Z"
   },
   {
    "duration": 20,
    "start_time": "2022-03-16T15:29:35.652Z"
   },
   {
    "duration": 5,
    "start_time": "2022-03-16T15:29:35.674Z"
   },
   {
    "duration": 10,
    "start_time": "2022-03-16T15:29:35.681Z"
   },
   {
    "duration": 5,
    "start_time": "2022-03-16T15:29:35.693Z"
   },
   {
    "duration": 60,
    "start_time": "2022-03-16T15:29:35.699Z"
   },
   {
    "duration": 14,
    "start_time": "2022-03-16T15:29:35.761Z"
   },
   {
    "duration": 104,
    "start_time": "2022-03-16T15:29:35.778Z"
   },
   {
    "duration": 12,
    "start_time": "2022-03-16T15:29:35.885Z"
   },
   {
    "duration": 34,
    "start_time": "2022-03-16T15:29:35.899Z"
   },
   {
    "duration": 27,
    "start_time": "2022-03-16T15:29:35.960Z"
   },
   {
    "duration": 51,
    "start_time": "2022-03-16T15:29:35.989Z"
   },
   {
    "duration": 17,
    "start_time": "2022-03-16T15:29:36.042Z"
   },
   {
    "duration": 59,
    "start_time": "2022-03-16T15:29:36.061Z"
   },
   {
    "duration": 47,
    "start_time": "2022-03-16T15:29:36.122Z"
   },
   {
    "duration": 26,
    "start_time": "2022-03-16T15:29:36.171Z"
   },
   {
    "duration": 23,
    "start_time": "2022-03-16T15:29:36.199Z"
   },
   {
    "duration": 59,
    "start_time": "2022-03-16T15:29:36.223Z"
   },
   {
    "duration": 14,
    "start_time": "2022-03-16T15:29:36.283Z"
   },
   {
    "duration": 14,
    "start_time": "2022-03-16T15:29:36.299Z"
   },
   {
    "duration": 15,
    "start_time": "2022-03-16T16:06:17.565Z"
   },
   {
    "duration": 3,
    "start_time": "2022-03-16T16:06:36.424Z"
   },
   {
    "duration": 88,
    "start_time": "2022-03-16T16:06:36.430Z"
   },
   {
    "duration": 20,
    "start_time": "2022-03-16T16:06:36.520Z"
   },
   {
    "duration": 34,
    "start_time": "2022-03-16T16:06:36.542Z"
   },
   {
    "duration": 18,
    "start_time": "2022-03-16T16:06:39.624Z"
   },
   {
    "duration": 21,
    "start_time": "2022-03-16T16:07:36.378Z"
   },
   {
    "duration": 22,
    "start_time": "2022-03-16T16:08:10.383Z"
   },
   {
    "duration": 17,
    "start_time": "2022-03-16T16:08:30.539Z"
   },
   {
    "duration": 14,
    "start_time": "2022-03-16T16:08:42.397Z"
   },
   {
    "duration": 15,
    "start_time": "2022-03-16T16:08:49.663Z"
   },
   {
    "duration": 15,
    "start_time": "2022-03-16T16:09:00.144Z"
   },
   {
    "duration": 14,
    "start_time": "2022-03-16T16:09:03.783Z"
   },
   {
    "duration": 18,
    "start_time": "2022-03-16T16:09:08.447Z"
   },
   {
    "duration": 19,
    "start_time": "2022-03-16T16:09:14.737Z"
   },
   {
    "duration": 18,
    "start_time": "2022-03-16T16:09:19.932Z"
   },
   {
    "duration": 217,
    "start_time": "2022-03-16T16:10:08.803Z"
   },
   {
    "duration": 17,
    "start_time": "2022-03-16T16:10:27.004Z"
   },
   {
    "duration": 23,
    "start_time": "2022-03-16T17:05:10.703Z"
   },
   {
    "duration": 19,
    "start_time": "2022-03-16T17:06:37.553Z"
   },
   {
    "duration": 16,
    "start_time": "2022-03-16T17:06:52.540Z"
   },
   {
    "duration": 19,
    "start_time": "2022-03-16T17:06:59.020Z"
   },
   {
    "duration": 16,
    "start_time": "2022-03-16T17:07:03.611Z"
   },
   {
    "duration": 16,
    "start_time": "2022-03-16T17:07:09.141Z"
   },
   {
    "duration": 17,
    "start_time": "2022-03-16T17:07:13.619Z"
   },
   {
    "duration": 16,
    "start_time": "2022-03-16T17:07:18.018Z"
   },
   {
    "duration": 16,
    "start_time": "2022-03-16T17:07:22.591Z"
   },
   {
    "duration": 17,
    "start_time": "2022-03-16T17:07:31.036Z"
   },
   {
    "duration": 16,
    "start_time": "2022-03-16T17:07:36.301Z"
   },
   {
    "duration": 19,
    "start_time": "2022-03-16T17:07:40.999Z"
   },
   {
    "duration": 20,
    "start_time": "2022-03-16T17:07:45.036Z"
   },
   {
    "duration": 17,
    "start_time": "2022-03-16T17:07:48.734Z"
   },
   {
    "duration": 18,
    "start_time": "2022-03-16T17:07:53.519Z"
   },
   {
    "duration": 16,
    "start_time": "2022-03-16T17:07:59.040Z"
   },
   {
    "duration": 16,
    "start_time": "2022-03-16T17:08:04.712Z"
   },
   {
    "duration": 16,
    "start_time": "2022-03-16T17:08:09.959Z"
   },
   {
    "duration": 16,
    "start_time": "2022-03-16T17:08:13.820Z"
   },
   {
    "duration": 16,
    "start_time": "2022-03-16T17:08:18.599Z"
   },
   {
    "duration": 18,
    "start_time": "2022-03-16T17:08:23.239Z"
   },
   {
    "duration": 50,
    "start_time": "2022-03-16T17:08:31.403Z"
   },
   {
    "duration": 15,
    "start_time": "2022-03-16T17:08:39.058Z"
   },
   {
    "duration": 16,
    "start_time": "2022-03-16T17:08:57.978Z"
   },
   {
    "duration": 17,
    "start_time": "2022-03-16T17:09:03.698Z"
   },
   {
    "duration": 16,
    "start_time": "2022-03-16T17:09:11.195Z"
   },
   {
    "duration": 16,
    "start_time": "2022-03-16T17:10:48.740Z"
   },
   {
    "duration": 17,
    "start_time": "2022-03-16T17:11:37.910Z"
   },
   {
    "duration": 7,
    "start_time": "2022-03-16T17:16:42.470Z"
   },
   {
    "duration": 10,
    "start_time": "2022-03-16T17:17:07.629Z"
   },
   {
    "duration": 62,
    "start_time": "2022-03-16T17:17:38.710Z"
   },
   {
    "duration": 77,
    "start_time": "2022-03-17T08:58:45.890Z"
   },
   {
    "duration": 507,
    "start_time": "2022-03-17T08:58:52.629Z"
   },
   {
    "duration": 128,
    "start_time": "2022-03-17T08:58:53.139Z"
   },
   {
    "duration": 35,
    "start_time": "2022-03-17T08:58:53.269Z"
   },
   {
    "duration": 8,
    "start_time": "2022-03-17T08:58:53.307Z"
   },
   {
    "duration": 31,
    "start_time": "2022-03-17T08:58:53.318Z"
   },
   {
    "duration": 10,
    "start_time": "2022-03-17T08:58:55.845Z"
   },
   {
    "duration": 107,
    "start_time": "2022-03-17T09:04:06.714Z"
   },
   {
    "duration": 3,
    "start_time": "2022-03-17T09:04:12.773Z"
   },
   {
    "duration": 116,
    "start_time": "2022-03-17T09:04:12.788Z"
   },
   {
    "duration": 36,
    "start_time": "2022-03-17T09:04:12.907Z"
   },
   {
    "duration": 42,
    "start_time": "2022-03-17T09:04:12.945Z"
   },
   {
    "duration": 21,
    "start_time": "2022-03-17T09:04:12.989Z"
   },
   {
    "duration": 20,
    "start_time": "2022-03-17T09:04:13.013Z"
   },
   {
    "duration": 56,
    "start_time": "2022-03-17T09:04:13.035Z"
   },
   {
    "duration": 21,
    "start_time": "2022-03-17T09:04:13.093Z"
   },
   {
    "duration": 105,
    "start_time": "2022-03-17T09:04:15.320Z"
   },
   {
    "duration": 41,
    "start_time": "2022-03-17T09:08:09.687Z"
   },
   {
    "duration": 52,
    "start_time": "2022-03-17T09:21:31.568Z"
   },
   {
    "duration": 4,
    "start_time": "2022-03-17T09:21:49.061Z"
   },
   {
    "duration": 105,
    "start_time": "2022-03-17T09:21:49.067Z"
   },
   {
    "duration": 39,
    "start_time": "2022-03-17T09:21:49.174Z"
   },
   {
    "duration": 7,
    "start_time": "2022-03-17T09:21:49.215Z"
   },
   {
    "duration": 65,
    "start_time": "2022-03-17T09:21:49.225Z"
   },
   {
    "duration": 9,
    "start_time": "2022-03-17T09:21:49.292Z"
   },
   {
    "duration": 24,
    "start_time": "2022-03-17T09:21:49.304Z"
   },
   {
    "duration": 57,
    "start_time": "2022-03-17T09:21:49.331Z"
   },
   {
    "duration": 127,
    "start_time": "2022-03-17T09:21:49.390Z"
   },
   {
    "duration": 12,
    "start_time": "2022-03-17T09:21:49.519Z"
   },
   {
    "duration": 16,
    "start_time": "2022-03-17T09:21:51.050Z"
   },
   {
    "duration": 35,
    "start_time": "2022-03-17T09:22:37.269Z"
   },
   {
    "duration": 36,
    "start_time": "2022-03-17T09:24:10.627Z"
   },
   {
    "duration": 29,
    "start_time": "2022-03-17T09:24:46.012Z"
   },
   {
    "duration": 10,
    "start_time": "2022-03-17T09:25:07.340Z"
   },
   {
    "duration": 31,
    "start_time": "2022-03-17T09:25:34.011Z"
   },
   {
    "duration": 28,
    "start_time": "2022-03-17T09:28:16.602Z"
   },
   {
    "duration": 3,
    "start_time": "2022-03-17T09:28:30.068Z"
   },
   {
    "duration": 118,
    "start_time": "2022-03-17T09:28:30.073Z"
   },
   {
    "duration": 32,
    "start_time": "2022-03-17T09:28:30.194Z"
   },
   {
    "duration": 9,
    "start_time": "2022-03-17T09:28:30.229Z"
   },
   {
    "duration": 60,
    "start_time": "2022-03-17T09:28:30.242Z"
   },
   {
    "duration": 11,
    "start_time": "2022-03-17T09:28:30.305Z"
   },
   {
    "duration": 29,
    "start_time": "2022-03-17T09:28:30.318Z"
   },
   {
    "duration": 60,
    "start_time": "2022-03-17T09:28:30.350Z"
   },
   {
    "duration": 148,
    "start_time": "2022-03-17T09:28:30.413Z"
   },
   {
    "duration": 28,
    "start_time": "2022-03-17T09:28:30.564Z"
   },
   {
    "duration": 24,
    "start_time": "2022-03-17T09:28:34.154Z"
   },
   {
    "duration": 31,
    "start_time": "2022-03-17T09:30:10.023Z"
   },
   {
    "duration": 13,
    "start_time": "2022-03-17T09:30:28.643Z"
   },
   {
    "duration": 27,
    "start_time": "2022-03-17T09:30:40.695Z"
   },
   {
    "duration": 16,
    "start_time": "2022-03-17T09:35:53.168Z"
   },
   {
    "duration": 38,
    "start_time": "2022-03-17T09:35:58.478Z"
   },
   {
    "duration": 2152,
    "start_time": "2022-03-17T09:36:08.697Z"
   },
   {
    "duration": 38,
    "start_time": "2022-03-17T09:36:23.717Z"
   },
   {
    "duration": 41,
    "start_time": "2022-03-17T09:37:11.978Z"
   },
   {
    "duration": 36,
    "start_time": "2022-03-17T09:37:26.178Z"
   },
   {
    "duration": 48,
    "start_time": "2022-03-17T09:38:58.012Z"
   },
   {
    "duration": 45,
    "start_time": "2022-03-17T09:41:11.423Z"
   },
   {
    "duration": 39,
    "start_time": "2022-03-17T09:41:24.502Z"
   },
   {
    "duration": 34,
    "start_time": "2022-03-17T09:42:20.875Z"
   },
   {
    "duration": 34,
    "start_time": "2022-03-17T09:42:27.103Z"
   },
   {
    "duration": 39,
    "start_time": "2022-03-17T09:42:36.203Z"
   },
   {
    "duration": 17,
    "start_time": "2022-03-17T09:45:43.091Z"
   },
   {
    "duration": 12,
    "start_time": "2022-03-17T09:48:21.045Z"
   },
   {
    "duration": 37,
    "start_time": "2022-03-17T09:48:36.013Z"
   },
   {
    "duration": 46,
    "start_time": "2022-03-17T09:49:19.711Z"
   },
   {
    "duration": 51,
    "start_time": "2022-03-17T09:51:42.232Z"
   },
   {
    "duration": 43,
    "start_time": "2022-03-17T09:52:13.992Z"
   },
   {
    "duration": 36,
    "start_time": "2022-03-17T09:53:03.326Z"
   },
   {
    "duration": 39,
    "start_time": "2022-03-17T09:53:34.565Z"
   },
   {
    "duration": 40,
    "start_time": "2022-03-17T09:53:46.647Z"
   },
   {
    "duration": 37,
    "start_time": "2022-03-17T09:54:15.962Z"
   },
   {
    "duration": 35,
    "start_time": "2022-03-17T09:54:55.992Z"
   },
   {
    "duration": 40,
    "start_time": "2022-03-17T09:55:11.393Z"
   },
   {
    "duration": 34,
    "start_time": "2022-03-17T09:55:38.593Z"
   },
   {
    "duration": 38,
    "start_time": "2022-03-17T09:56:47.332Z"
   },
   {
    "duration": 155,
    "start_time": "2022-03-17T09:58:58.686Z"
   },
   {
    "duration": 119,
    "start_time": "2022-03-17T09:59:01.946Z"
   },
   {
    "duration": 53,
    "start_time": "2022-03-17T10:00:44.965Z"
   },
   {
    "duration": 41,
    "start_time": "2022-03-17T10:04:53.429Z"
   },
   {
    "duration": 21,
    "start_time": "2022-03-17T10:04:59.937Z"
   },
   {
    "duration": 4,
    "start_time": "2022-03-17T10:05:27.538Z"
   },
   {
    "duration": 107,
    "start_time": "2022-03-17T10:05:27.549Z"
   },
   {
    "duration": 30,
    "start_time": "2022-03-17T10:05:27.675Z"
   },
   {
    "duration": 8,
    "start_time": "2022-03-17T10:05:27.707Z"
   },
   {
    "duration": 64,
    "start_time": "2022-03-17T10:05:27.718Z"
   },
   {
    "duration": 12,
    "start_time": "2022-03-17T10:05:27.784Z"
   },
   {
    "duration": 24,
    "start_time": "2022-03-17T10:05:27.798Z"
   },
   {
    "duration": 63,
    "start_time": "2022-03-17T10:05:27.824Z"
   },
   {
    "duration": 131,
    "start_time": "2022-03-17T10:05:27.890Z"
   },
   {
    "duration": 11,
    "start_time": "2022-03-17T10:05:28.023Z"
   },
   {
    "duration": 68,
    "start_time": "2022-03-17T10:05:28.040Z"
   },
   {
    "duration": 52,
    "start_time": "2022-03-17T10:05:37.229Z"
   },
   {
    "duration": 23,
    "start_time": "2022-03-17T10:06:21.386Z"
   },
   {
    "duration": 36,
    "start_time": "2022-03-17T10:07:14.525Z"
   },
   {
    "duration": 20,
    "start_time": "2022-03-17T10:07:19.787Z"
   },
   {
    "duration": 15,
    "start_time": "2022-03-17T10:07:33.030Z"
   },
   {
    "duration": 24,
    "start_time": "2022-03-17T10:07:41.266Z"
   },
   {
    "duration": 18,
    "start_time": "2022-03-17T10:08:08.548Z"
   },
   {
    "duration": 18,
    "start_time": "2022-03-17T10:08:30.699Z"
   },
   {
    "duration": 37,
    "start_time": "2022-03-17T10:09:52.048Z"
   },
   {
    "duration": 19,
    "start_time": "2022-03-17T10:09:57.719Z"
   },
   {
    "duration": 184,
    "start_time": "2022-03-17T10:20:29.978Z"
   },
   {
    "duration": 37,
    "start_time": "2022-03-17T10:28:03.760Z"
   },
   {
    "duration": 582,
    "start_time": "2022-03-19T07:37:47.813Z"
   },
   {
    "duration": 121,
    "start_time": "2022-03-19T07:37:48.398Z"
   },
   {
    "duration": 27,
    "start_time": "2022-03-19T07:37:48.522Z"
   },
   {
    "duration": 35,
    "start_time": "2022-03-19T07:37:48.552Z"
   },
   {
    "duration": 23,
    "start_time": "2022-03-19T07:37:48.590Z"
   },
   {
    "duration": 11,
    "start_time": "2022-03-19T07:37:50.194Z"
   },
   {
    "duration": 3,
    "start_time": "2022-03-19T07:44:59.362Z"
   },
   {
    "duration": 115,
    "start_time": "2022-03-19T07:44:59.368Z"
   },
   {
    "duration": 33,
    "start_time": "2022-03-19T07:44:59.487Z"
   },
   {
    "duration": 9,
    "start_time": "2022-03-19T07:44:59.523Z"
   },
   {
    "duration": 64,
    "start_time": "2022-03-19T07:44:59.537Z"
   },
   {
    "duration": 12,
    "start_time": "2022-03-19T07:44:59.604Z"
   },
   {
    "duration": 75,
    "start_time": "2022-03-19T07:44:59.619Z"
   },
   {
    "duration": 22,
    "start_time": "2022-03-19T07:44:59.697Z"
   },
   {
    "duration": 139,
    "start_time": "2022-03-19T07:44:59.721Z"
   },
   {
    "duration": 28,
    "start_time": "2022-03-19T07:44:59.862Z"
   },
   {
    "duration": 37,
    "start_time": "2022-03-19T07:44:59.893Z"
   },
   {
    "duration": 85,
    "start_time": "2022-03-19T07:44:59.933Z"
   },
   {
    "duration": 24,
    "start_time": "2022-03-19T07:45:03.206Z"
   },
   {
    "duration": 508,
    "start_time": "2022-03-19T10:55:54.550Z"
   },
   {
    "duration": 123,
    "start_time": "2022-03-19T10:55:55.060Z"
   },
   {
    "duration": 27,
    "start_time": "2022-03-19T10:55:55.185Z"
   },
   {
    "duration": 14,
    "start_time": "2022-03-19T10:55:55.214Z"
   },
   {
    "duration": 50,
    "start_time": "2022-03-19T10:55:55.232Z"
   },
   {
    "duration": 9,
    "start_time": "2022-03-19T10:55:55.285Z"
   },
   {
    "duration": 27,
    "start_time": "2022-03-19T10:55:55.296Z"
   },
   {
    "duration": 22,
    "start_time": "2022-03-19T10:55:55.325Z"
   },
   {
    "duration": 139,
    "start_time": "2022-03-19T10:55:55.349Z"
   },
   {
    "duration": 11,
    "start_time": "2022-03-19T10:55:55.491Z"
   },
   {
    "duration": 46,
    "start_time": "2022-03-19T10:55:55.504Z"
   },
   {
    "duration": 62,
    "start_time": "2022-03-19T10:55:55.552Z"
   },
   {
    "duration": 32,
    "start_time": "2022-03-19T10:55:55.617Z"
   },
   {
    "duration": 32,
    "start_time": "2022-03-19T10:55:55.653Z"
   },
   {
    "duration": 73,
    "start_time": "2022-03-19T10:55:55.687Z"
   },
   {
    "duration": 28,
    "start_time": "2022-03-19T10:55:55.783Z"
   },
   {
    "duration": 38,
    "start_time": "2022-03-19T10:55:55.813Z"
   },
   {
    "duration": 59,
    "start_time": "2022-03-19T10:55:55.853Z"
   },
   {
    "duration": 44,
    "start_time": "2022-03-19T10:55:57.608Z"
   },
   {
    "duration": 2564,
    "start_time": "2022-03-19T12:07:02.329Z"
   },
   {
    "duration": 35,
    "start_time": "2022-03-19T12:07:19.406Z"
   },
   {
    "duration": 2052,
    "start_time": "2022-03-19T12:13:54.408Z"
   },
   {
    "duration": 2120,
    "start_time": "2022-03-19T12:14:20.889Z"
   },
   {
    "duration": 39,
    "start_time": "2022-03-19T12:14:37.776Z"
   },
   {
    "duration": 42,
    "start_time": "2022-03-19T12:17:53.776Z"
   },
   {
    "duration": 40,
    "start_time": "2022-03-19T12:33:21.297Z"
   },
   {
    "duration": 36,
    "start_time": "2022-03-19T12:35:26.836Z"
   },
   {
    "duration": 2109,
    "start_time": "2022-03-19T12:35:41.697Z"
   },
   {
    "duration": 52,
    "start_time": "2022-03-19T12:36:20.614Z"
   },
   {
    "duration": 4,
    "start_time": "2022-03-19T12:54:36.705Z"
   },
   {
    "duration": 123,
    "start_time": "2022-03-19T12:54:36.712Z"
   },
   {
    "duration": 60,
    "start_time": "2022-03-19T12:54:36.838Z"
   },
   {
    "duration": 23,
    "start_time": "2022-03-19T12:54:36.900Z"
   },
   {
    "duration": 38,
    "start_time": "2022-03-19T12:54:36.927Z"
   },
   {
    "duration": 13,
    "start_time": "2022-03-19T12:54:36.983Z"
   },
   {
    "duration": 34,
    "start_time": "2022-03-19T12:54:36.999Z"
   },
   {
    "duration": 52,
    "start_time": "2022-03-19T12:54:37.035Z"
   },
   {
    "duration": 173,
    "start_time": "2022-03-19T12:54:37.090Z"
   },
   {
    "duration": 28,
    "start_time": "2022-03-19T12:54:37.266Z"
   },
   {
    "duration": 82,
    "start_time": "2022-03-19T12:54:37.297Z"
   },
   {
    "duration": 40,
    "start_time": "2022-03-19T12:54:37.382Z"
   },
   {
    "duration": 27,
    "start_time": "2022-03-19T12:54:37.428Z"
   },
   {
    "duration": 20,
    "start_time": "2022-03-19T12:54:37.483Z"
   },
   {
    "duration": 114,
    "start_time": "2022-03-19T12:54:37.506Z"
   },
   {
    "duration": 30,
    "start_time": "2022-03-19T12:54:37.623Z"
   },
   {
    "duration": 42,
    "start_time": "2022-03-19T12:54:37.655Z"
   },
   {
    "duration": 0,
    "start_time": "2022-03-19T12:54:37.700Z"
   },
   {
    "duration": 0,
    "start_time": "2022-03-19T12:54:37.703Z"
   },
   {
    "duration": 0,
    "start_time": "2022-03-19T12:54:37.705Z"
   },
   {
    "duration": 0,
    "start_time": "2022-03-19T12:54:37.707Z"
   },
   {
    "duration": 28,
    "start_time": "2022-03-19T12:57:42.083Z"
   },
   {
    "duration": 27,
    "start_time": "2022-03-19T12:57:59.217Z"
   },
   {
    "duration": 27,
    "start_time": "2022-03-19T13:06:02.696Z"
   },
   {
    "duration": 75,
    "start_time": "2022-04-21T12:06:22.048Z"
   },
   {
    "duration": 524,
    "start_time": "2022-04-21T12:06:30.352Z"
   },
   {
    "duration": 115,
    "start_time": "2022-04-21T12:06:30.879Z"
   },
   {
    "duration": 26,
    "start_time": "2022-04-21T12:06:30.997Z"
   },
   {
    "duration": 9,
    "start_time": "2022-04-21T12:06:31.026Z"
   },
   {
    "duration": 53,
    "start_time": "2022-04-21T12:06:31.038Z"
   },
   {
    "duration": 10,
    "start_time": "2022-04-21T12:06:31.093Z"
   },
   {
    "duration": 30,
    "start_time": "2022-04-21T12:06:31.105Z"
   },
   {
    "duration": 46,
    "start_time": "2022-04-21T12:06:31.137Z"
   },
   {
    "duration": 124,
    "start_time": "2022-04-21T12:06:31.185Z"
   },
   {
    "duration": 11,
    "start_time": "2022-04-21T12:06:31.313Z"
   },
   {
    "duration": 83,
    "start_time": "2022-04-21T12:06:31.326Z"
   },
   {
    "duration": 38,
    "start_time": "2022-04-21T12:06:31.411Z"
   },
   {
    "duration": 45,
    "start_time": "2022-04-21T12:06:31.451Z"
   },
   {
    "duration": 18,
    "start_time": "2022-04-21T12:06:31.499Z"
   },
   {
    "duration": 98,
    "start_time": "2022-04-21T12:06:31.519Z"
   },
   {
    "duration": 25,
    "start_time": "2022-04-21T12:06:39.129Z"
   },
   {
    "duration": 465,
    "start_time": "2022-07-09T12:49:10.444Z"
   },
   {
    "duration": 315,
    "start_time": "2022-07-09T12:49:10.911Z"
   },
   {
    "duration": 19,
    "start_time": "2022-07-09T12:49:11.228Z"
   },
   {
    "duration": 6,
    "start_time": "2022-07-09T12:49:11.249Z"
   },
   {
    "duration": 67,
    "start_time": "2022-07-09T12:49:11.258Z"
   },
   {
    "duration": 9,
    "start_time": "2022-07-09T12:49:11.326Z"
   },
   {
    "duration": 32,
    "start_time": "2022-07-09T12:49:11.337Z"
   },
   {
    "duration": 28,
    "start_time": "2022-07-09T12:49:11.375Z"
   },
   {
    "duration": 89,
    "start_time": "2022-07-09T12:49:11.405Z"
   },
   {
    "duration": 10,
    "start_time": "2022-07-09T12:49:11.495Z"
   },
   {
    "duration": 30,
    "start_time": "2022-07-09T12:49:11.507Z"
   },
   {
    "duration": 52,
    "start_time": "2022-07-09T12:49:11.538Z"
   },
   {
    "duration": 14,
    "start_time": "2022-07-09T12:49:11.598Z"
   },
   {
    "duration": 13,
    "start_time": "2022-07-09T12:49:11.615Z"
   },
   {
    "duration": 96,
    "start_time": "2022-07-09T12:49:11.630Z"
   },
   {
    "duration": 17,
    "start_time": "2022-07-09T12:49:11.728Z"
   },
   {
    "duration": 27,
    "start_time": "2022-07-09T12:49:11.767Z"
   },
   {
    "duration": 33,
    "start_time": "2022-07-09T12:49:11.796Z"
   },
   {
    "duration": 45,
    "start_time": "2022-07-09T12:49:11.831Z"
   },
   {
    "duration": 21,
    "start_time": "2022-07-09T12:49:11.881Z"
   },
   {
    "duration": 18,
    "start_time": "2022-07-09T12:49:11.905Z"
   }
  ],
  "kernelspec": {
   "display_name": "Python 3 (ipykernel)",
   "language": "python",
   "name": "python3"
  },
  "language_info": {
   "codemirror_mode": {
    "name": "ipython",
    "version": 3
   },
   "file_extension": ".py",
   "mimetype": "text/x-python",
   "name": "python",
   "nbconvert_exporter": "python",
   "pygments_lexer": "ipython3",
   "version": "3.9.12"
  },
  "toc": {
   "base_numbering": 1,
   "nav_menu": {},
   "number_sections": false,
   "sideBar": true,
   "skip_h1_title": false,
   "title_cell": "Table of Contents",
   "title_sidebar": "Contents",
   "toc_cell": false,
   "toc_position": {
    "height": "calc(100% - 180px)",
    "left": "10px",
    "top": "150px",
    "width": "341.6px"
   },
   "toc_section_display": true,
   "toc_window_display": false
  }
 },
 "nbformat": 4,
 "nbformat_minor": 5
}
